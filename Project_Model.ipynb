{
  "cells": [
    {
      "cell_type": "code",
      "execution_count": null,
      "metadata": {
        "colab": {
          "base_uri": "https://localhost:8080/"
        },
        "id": "Ebs1VVi0dp24",
        "outputId": "0d0cba0d-4aaf-4001-bd5e-c1a0c0a0b099"
      },
      "outputs": [
        {
          "output_type": "stream",
          "name": "stdout",
          "text": [
            "Drive already mounted at /content/drive; to attempt to forcibly remount, call drive.mount(\"/content/drive\", force_remount=True).\n"
          ]
        }
      ],
      "source": [
        "from google.colab import drive\n",
        "drive.mount('/content/drive')"
      ]
    },
    {
      "cell_type": "code",
      "execution_count": null,
      "metadata": {
        "id": "CBA9Oq_z1Xma"
      },
      "outputs": [],
      "source": [
        "!pip install -q ta tqdm"
      ]
    },
    {
      "cell_type": "markdown",
      "metadata": {
        "id": "3XdtLBOJ2xIm"
      },
      "source": [
        "***FOR STOCKS***"
      ]
    },
    {
      "cell_type": "code",
      "execution_count": null,
      "metadata": {
        "colab": {
          "background_save": true,
          "base_uri": "https://localhost:8080/",
          "height": 84,
          "referenced_widgets": [
            "b8c03367235045b395c3f5ca6bcc747f",
            "7b285b358b4c42b1aeacb39bc1889a3a",
            "1eb8bdade59e46fbbfbb6447cf46352b",
            "2013b9cdfab14344a181b62acaa8d144",
            "51d4df17547c4fda97337337b383774f",
            "eeba003744ac4f43bac1f591c2a8614b",
            "5c6f8f39cd4b4b0d9479b302a16b92f8",
            "1ae797306733401896a7112176fd963d",
            "459351162a3d4f64adec80ed0c477e61",
            "473feced5cc541aca731271706e6eee8",
            "87b62131d8f0431e99207e82ff938318"
          ]
        },
        "id": "dSs95xoEKMag",
        "outputId": "78fb8ec7-e7ca-47a6-ae56-e02e98acfa83"
      },
      "outputs": [
        {
          "name": "stdout",
          "output_type": "stream",
          "text": [
            "🔍 Total files: 2092\n",
            "Starting stock analysis (XGBoost Only)...\n"
          ]
        },
        {
          "data": {
            "application/vnd.jupyter.widget-view+json": {
              "model_id": "b8c03367235045b395c3f5ca6bcc747f",
              "version_major": 2,
              "version_minor": 0
            },
            "text/plain": [
              "⏳ Processing files:   0%|          | 0/2092 [00:00<?, ?it/s]"
            ]
          },
          "metadata": {},
          "output_type": "display_data"
        },
        {
          "name": "stdout",
          "output_type": "stream",
          "text": [
            "\n",
            "🗑️ Filtered out 396 stocks with Predicted CAGR >= 50%.\n",
            "\n",
            "✅ Total Processed (after filtering): 1057 / 2092\n",
            "\n",
            "📄 All stock predictions saved to stock_predictions_xgboost_r2_composite_risk.csv\n"
          ]
        },
        {
          "data": {
            "text/html": [
              "<style type=\"text/css\">\n",
              "</style>\n",
              "<table id=\"T_3c1a3\" class=\"dataframe\">\n",
              "  <caption>Top 10 Stocks with Predicted Returns and Confidence Bands (Horizon: 1 Year(s), As Of: 2025-06-18)</caption>\n",
              "  <thead>\n",
              "    <tr>\n",
              "      <th class=\"blank level0\" >&nbsp;</th>\n",
              "      <th id=\"T_3c1a3_level0_col0\" class=\"col_heading level0 col0\" >Symbol</th>\n",
              "      <th id=\"T_3c1a3_level0_col1\" class=\"col_heading level0 col1\" >Company Name</th>\n",
              "      <th id=\"T_3c1a3_level0_col2\" class=\"col_heading level0 col2\" >Prediction Horizon (Years)</th>\n",
              "      <th id=\"T_3c1a3_level0_col3\" class=\"col_heading level0 col3\" >As Of Date</th>\n",
              "      <th id=\"T_3c1a3_level0_col4\" class=\"col_heading level0 col4\" >Predicted Total Return (%)</th>\n",
              "      <th id=\"T_3c1a3_level0_col5\" class=\"col_heading level0 col5\" >Predicted CAGR (%)</th>\n",
              "      <th id=\"T_3c1a3_level0_col6\" class=\"col_heading level0 col6\" >Annualized Volatility (%)</th>\n",
              "      <th id=\"T_3c1a3_level0_col7\" class=\"col_heading level0 col7\" >Latest P/E Ratio</th>\n",
              "      <th id=\"T_3c1a3_level0_col8\" class=\"col_heading level0 col8\" >Latest Beta</th>\n",
              "      <th id=\"T_3c1a3_level0_col9\" class=\"col_heading level0 col9\" >Composite Risk Score</th>\n",
              "      <th id=\"T_3c1a3_level0_col10\" class=\"col_heading level0 col10\" >Risk Band (Composite)</th>\n",
              "      <th id=\"T_3c1a3_level0_col11\" class=\"col_heading level0 col11\" >Risk Band (Volatility Only)</th>\n",
              "      <th id=\"T_3c1a3_level0_col12\" class=\"col_heading level0 col12\" >Conservative Band</th>\n",
              "      <th id=\"T_3c1a3_level0_col13\" class=\"col_heading level0 col13\" >Expected Band</th>\n",
              "      <th id=\"T_3c1a3_level0_col14\" class=\"col_heading level0 col14\" >Optimistic Band</th>\n",
              "    </tr>\n",
              "  </thead>\n",
              "  <tbody>\n",
              "    <tr>\n",
              "      <th id=\"T_3c1a3_level0_row0\" class=\"row_heading level0 row0\" >0</th>\n",
              "      <td id=\"T_3c1a3_row0_col0\" class=\"data row0 col0\" >GNA.NS</td>\n",
              "      <td id=\"T_3c1a3_row0_col1\" class=\"data row0 col1\" >G N A Axles Limited</td>\n",
              "      <td id=\"T_3c1a3_row0_col2\" class=\"data row0 col2\" >1</td>\n",
              "      <td id=\"T_3c1a3_row0_col3\" class=\"data row0 col3\" >2025-06-18</td>\n",
              "      <td id=\"T_3c1a3_row0_col4\" class=\"data row0 col4\" >49.330000</td>\n",
              "      <td id=\"T_3c1a3_row0_col5\" class=\"data row0 col5\" >49.330000</td>\n",
              "      <td id=\"T_3c1a3_row0_col6\" class=\"data row0 col6\" >37.750000</td>\n",
              "      <td id=\"T_3c1a3_row0_col7\" class=\"data row0 col7\" >12.640000</td>\n",
              "      <td id=\"T_3c1a3_row0_col8\" class=\"data row0 col8\" >0.210000</td>\n",
              "      <td id=\"T_3c1a3_row0_col9\" class=\"data row0 col9\" >0.277500</td>\n",
              "      <td id=\"T_3c1a3_row0_col10\" class=\"data row0 col10\" >Low</td>\n",
              "      <td id=\"T_3c1a3_row0_col11\" class=\"data row0 col11\" >High</td>\n",
              "      <td id=\"T_3c1a3_row0_col12\" class=\"data row0 col12\" >48.33% – 49.33%</td>\n",
              "      <td id=\"T_3c1a3_row0_col13\" class=\"data row0 col13\" >50.33% – 52.33%</td>\n",
              "      <td id=\"T_3c1a3_row0_col14\" class=\"data row0 col14\" >53.33% – 57.33%</td>\n",
              "    </tr>\n",
              "    <tr>\n",
              "      <th id=\"T_3c1a3_level0_row1\" class=\"row_heading level0 row1\" >1</th>\n",
              "      <td id=\"T_3c1a3_row1_col0\" class=\"data row1 col0\" >CTE.NS</td>\n",
              "      <td id=\"T_3c1a3_row1_col1\" class=\"data row1 col1\" >Cambridge Technology Enterprises Limited</td>\n",
              "      <td id=\"T_3c1a3_row1_col2\" class=\"data row1 col2\" >1</td>\n",
              "      <td id=\"T_3c1a3_row1_col3\" class=\"data row1 col3\" >2025-06-18</td>\n",
              "      <td id=\"T_3c1a3_row1_col4\" class=\"data row1 col4\" >49.320000</td>\n",
              "      <td id=\"T_3c1a3_row1_col5\" class=\"data row1 col5\" >49.320000</td>\n",
              "      <td id=\"T_3c1a3_row1_col6\" class=\"data row1 col6\" >55.110000</td>\n",
              "      <td id=\"T_3c1a3_row1_col7\" class=\"data row1 col7\" >nan</td>\n",
              "      <td id=\"T_3c1a3_row1_col8\" class=\"data row1 col8\" >-0.420000</td>\n",
              "      <td id=\"T_3c1a3_row1_col9\" class=\"data row1 col9\" >nan</td>\n",
              "      <td id=\"T_3c1a3_row1_col10\" class=\"data row1 col10\" >Unknown</td>\n",
              "      <td id=\"T_3c1a3_row1_col11\" class=\"data row1 col11\" >High</td>\n",
              "      <td id=\"T_3c1a3_row1_col12\" class=\"data row1 col12\" >48.32% – 49.32%</td>\n",
              "      <td id=\"T_3c1a3_row1_col13\" class=\"data row1 col13\" >50.32% – 52.32%</td>\n",
              "      <td id=\"T_3c1a3_row1_col14\" class=\"data row1 col14\" >53.32% – 57.32%</td>\n",
              "    </tr>\n",
              "    <tr>\n",
              "      <th id=\"T_3c1a3_level0_row2\" class=\"row_heading level0 row2\" >2</th>\n",
              "      <td id=\"T_3c1a3_row2_col0\" class=\"data row2 col0\" >AGRITECH.NS</td>\n",
              "      <td id=\"T_3c1a3_row2_col1\" class=\"data row2 col1\" >Agri-tech (India) Limited</td>\n",
              "      <td id=\"T_3c1a3_row2_col2\" class=\"data row2 col2\" >1</td>\n",
              "      <td id=\"T_3c1a3_row2_col3\" class=\"data row2 col3\" >2025-06-18</td>\n",
              "      <td id=\"T_3c1a3_row2_col4\" class=\"data row2 col4\" >49.170000</td>\n",
              "      <td id=\"T_3c1a3_row2_col5\" class=\"data row2 col5\" >49.170000</td>\n",
              "      <td id=\"T_3c1a3_row2_col6\" class=\"data row2 col6\" >58.230000</td>\n",
              "      <td id=\"T_3c1a3_row2_col7\" class=\"data row2 col7\" >nan</td>\n",
              "      <td id=\"T_3c1a3_row2_col8\" class=\"data row2 col8\" >nan</td>\n",
              "      <td id=\"T_3c1a3_row2_col9\" class=\"data row2 col9\" >nan</td>\n",
              "      <td id=\"T_3c1a3_row2_col10\" class=\"data row2 col10\" >Unknown</td>\n",
              "      <td id=\"T_3c1a3_row2_col11\" class=\"data row2 col11\" >High</td>\n",
              "      <td id=\"T_3c1a3_row2_col12\" class=\"data row2 col12\" >48.17% – 49.17%</td>\n",
              "      <td id=\"T_3c1a3_row2_col13\" class=\"data row2 col13\" >50.17% – 52.17%</td>\n",
              "      <td id=\"T_3c1a3_row2_col14\" class=\"data row2 col14\" >53.17% – 57.17%</td>\n",
              "    </tr>\n",
              "    <tr>\n",
              "      <th id=\"T_3c1a3_level0_row3\" class=\"row_heading level0 row3\" >3</th>\n",
              "      <td id=\"T_3c1a3_row3_col0\" class=\"data row3 col0\" >HINDWAREAP.NS</td>\n",
              "      <td id=\"T_3c1a3_row3_col1\" class=\"data row3 col1\" >Hindware Home Innovation Limited</td>\n",
              "      <td id=\"T_3c1a3_row3_col2\" class=\"data row3 col2\" >1</td>\n",
              "      <td id=\"T_3c1a3_row3_col3\" class=\"data row3 col3\" >2025-06-18</td>\n",
              "      <td id=\"T_3c1a3_row3_col4\" class=\"data row3 col4\" >49.160000</td>\n",
              "      <td id=\"T_3c1a3_row3_col5\" class=\"data row3 col5\" >49.160000</td>\n",
              "      <td id=\"T_3c1a3_row3_col6\" class=\"data row3 col6\" >46.880000</td>\n",
              "      <td id=\"T_3c1a3_row3_col7\" class=\"data row3 col7\" >nan</td>\n",
              "      <td id=\"T_3c1a3_row3_col8\" class=\"data row3 col8\" >0.580000</td>\n",
              "      <td id=\"T_3c1a3_row3_col9\" class=\"data row3 col9\" >nan</td>\n",
              "      <td id=\"T_3c1a3_row3_col10\" class=\"data row3 col10\" >Unknown</td>\n",
              "      <td id=\"T_3c1a3_row3_col11\" class=\"data row3 col11\" >High</td>\n",
              "      <td id=\"T_3c1a3_row3_col12\" class=\"data row3 col12\" >48.16% – 49.16%</td>\n",
              "      <td id=\"T_3c1a3_row3_col13\" class=\"data row3 col13\" >50.16% – 52.16%</td>\n",
              "      <td id=\"T_3c1a3_row3_col14\" class=\"data row3 col14\" >53.16% – 57.16%</td>\n",
              "    </tr>\n",
              "    <tr>\n",
              "      <th id=\"T_3c1a3_level0_row4\" class=\"row_heading level0 row4\" >4</th>\n",
              "      <td id=\"T_3c1a3_row4_col0\" class=\"data row4 col0\" >KREBSBIO.NS</td>\n",
              "      <td id=\"T_3c1a3_row4_col1\" class=\"data row4 col1\" >Krebs Biochemicals & Industries Limited</td>\n",
              "      <td id=\"T_3c1a3_row4_col2\" class=\"data row4 col2\" >1</td>\n",
              "      <td id=\"T_3c1a3_row4_col3\" class=\"data row4 col3\" >2025-06-18</td>\n",
              "      <td id=\"T_3c1a3_row4_col4\" class=\"data row4 col4\" >49.150000</td>\n",
              "      <td id=\"T_3c1a3_row4_col5\" class=\"data row4 col5\" >49.150000</td>\n",
              "      <td id=\"T_3c1a3_row4_col6\" class=\"data row4 col6\" >67.030000</td>\n",
              "      <td id=\"T_3c1a3_row4_col7\" class=\"data row4 col7\" >nan</td>\n",
              "      <td id=\"T_3c1a3_row4_col8\" class=\"data row4 col8\" >0.620000</td>\n",
              "      <td id=\"T_3c1a3_row4_col9\" class=\"data row4 col9\" >nan</td>\n",
              "      <td id=\"T_3c1a3_row4_col10\" class=\"data row4 col10\" >Unknown</td>\n",
              "      <td id=\"T_3c1a3_row4_col11\" class=\"data row4 col11\" >High</td>\n",
              "      <td id=\"T_3c1a3_row4_col12\" class=\"data row4 col12\" >48.15% – 49.15%</td>\n",
              "      <td id=\"T_3c1a3_row4_col13\" class=\"data row4 col13\" >50.15% – 52.15%</td>\n",
              "      <td id=\"T_3c1a3_row4_col14\" class=\"data row4 col14\" >53.15% – 57.15%</td>\n",
              "    </tr>\n",
              "    <tr>\n",
              "      <th id=\"T_3c1a3_level0_row5\" class=\"row_heading level0 row5\" >5</th>\n",
              "      <td id=\"T_3c1a3_row5_col0\" class=\"data row5 col0\" >LIKHITHA.NS</td>\n",
              "      <td id=\"T_3c1a3_row5_col1\" class=\"data row5 col1\" >Likhitha Infrastructure Limited</td>\n",
              "      <td id=\"T_3c1a3_row5_col2\" class=\"data row5 col2\" >1</td>\n",
              "      <td id=\"T_3c1a3_row5_col3\" class=\"data row5 col3\" >2025-06-18</td>\n",
              "      <td id=\"T_3c1a3_row5_col4\" class=\"data row5 col4\" >48.800000</td>\n",
              "      <td id=\"T_3c1a3_row5_col5\" class=\"data row5 col5\" >48.800000</td>\n",
              "      <td id=\"T_3c1a3_row5_col6\" class=\"data row5 col6\" >43.960000</td>\n",
              "      <td id=\"T_3c1a3_row5_col7\" class=\"data row5 col7\" >16.590000</td>\n",
              "      <td id=\"T_3c1a3_row5_col8\" class=\"data row5 col8\" >0.500000</td>\n",
              "      <td id=\"T_3c1a3_row5_col9\" class=\"data row5 col9\" >0.353200</td>\n",
              "      <td id=\"T_3c1a3_row5_col10\" class=\"data row5 col10\" >Medium</td>\n",
              "      <td id=\"T_3c1a3_row5_col11\" class=\"data row5 col11\" >High</td>\n",
              "      <td id=\"T_3c1a3_row5_col12\" class=\"data row5 col12\" >47.8% – 48.8%</td>\n",
              "      <td id=\"T_3c1a3_row5_col13\" class=\"data row5 col13\" >49.8% – 51.8%</td>\n",
              "      <td id=\"T_3c1a3_row5_col14\" class=\"data row5 col14\" >52.8% – 56.8%</td>\n",
              "    </tr>\n",
              "    <tr>\n",
              "      <th id=\"T_3c1a3_level0_row6\" class=\"row_heading level0 row6\" >6</th>\n",
              "      <td id=\"T_3c1a3_row6_col0\" class=\"data row6 col0\" >SHEKHAWATI.NS</td>\n",
              "      <td id=\"T_3c1a3_row6_col1\" class=\"data row6 col1\" >Shekhawati Industries Limited</td>\n",
              "      <td id=\"T_3c1a3_row6_col2\" class=\"data row6 col2\" >1</td>\n",
              "      <td id=\"T_3c1a3_row6_col3\" class=\"data row6 col3\" >2025-06-18</td>\n",
              "      <td id=\"T_3c1a3_row6_col4\" class=\"data row6 col4\" >48.670000</td>\n",
              "      <td id=\"T_3c1a3_row6_col5\" class=\"data row6 col5\" >48.670000</td>\n",
              "      <td id=\"T_3c1a3_row6_col6\" class=\"data row6 col6\" >861.670000</td>\n",
              "      <td id=\"T_3c1a3_row6_col7\" class=\"data row6 col7\" >132.830000</td>\n",
              "      <td id=\"T_3c1a3_row6_col8\" class=\"data row6 col8\" >1.260000</td>\n",
              "      <td id=\"T_3c1a3_row6_col9\" class=\"data row6 col9\" >0.852000</td>\n",
              "      <td id=\"T_3c1a3_row6_col10\" class=\"data row6 col10\" >High</td>\n",
              "      <td id=\"T_3c1a3_row6_col11\" class=\"data row6 col11\" >High</td>\n",
              "      <td id=\"T_3c1a3_row6_col12\" class=\"data row6 col12\" >47.67% – 48.67%</td>\n",
              "      <td id=\"T_3c1a3_row6_col13\" class=\"data row6 col13\" >49.67% – 51.67%</td>\n",
              "      <td id=\"T_3c1a3_row6_col14\" class=\"data row6 col14\" >52.67% – 56.67%</td>\n",
              "    </tr>\n",
              "    <tr>\n",
              "      <th id=\"T_3c1a3_level0_row7\" class=\"row_heading level0 row7\" >7</th>\n",
              "      <td id=\"T_3c1a3_row7_col0\" class=\"data row7 col0\" >CHEMBOND.NS</td>\n",
              "      <td id=\"T_3c1a3_row7_col1\" class=\"data row7 col1\" >Chembond Material Technologies Limited</td>\n",
              "      <td id=\"T_3c1a3_row7_col2\" class=\"data row7 col2\" >1</td>\n",
              "      <td id=\"T_3c1a3_row7_col3\" class=\"data row7 col3\" >2025-06-18</td>\n",
              "      <td id=\"T_3c1a3_row7_col4\" class=\"data row7 col4\" >48.500000</td>\n",
              "      <td id=\"T_3c1a3_row7_col5\" class=\"data row7 col5\" >48.500000</td>\n",
              "      <td id=\"T_3c1a3_row7_col6\" class=\"data row7 col6\" >53.700000</td>\n",
              "      <td id=\"T_3c1a3_row7_col7\" class=\"data row7 col7\" >17.910000</td>\n",
              "      <td id=\"T_3c1a3_row7_col8\" class=\"data row7 col8\" >0.610000</td>\n",
              "      <td id=\"T_3c1a3_row7_col9\" class=\"data row7 col9\" >0.447100</td>\n",
              "      <td id=\"T_3c1a3_row7_col10\" class=\"data row7 col10\" >Medium</td>\n",
              "      <td id=\"T_3c1a3_row7_col11\" class=\"data row7 col11\" >High</td>\n",
              "      <td id=\"T_3c1a3_row7_col12\" class=\"data row7 col12\" >47.5% – 48.5%</td>\n",
              "      <td id=\"T_3c1a3_row7_col13\" class=\"data row7 col13\" >49.5% – 51.5%</td>\n",
              "      <td id=\"T_3c1a3_row7_col14\" class=\"data row7 col14\" >52.5% – 56.5%</td>\n",
              "    </tr>\n",
              "    <tr>\n",
              "      <th id=\"T_3c1a3_level0_row8\" class=\"row_heading level0 row8\" >8</th>\n",
              "      <td id=\"T_3c1a3_row8_col0\" class=\"data row8 col0\" >MIRCELECTR.NS</td>\n",
              "      <td id=\"T_3c1a3_row8_col1\" class=\"data row8 col1\" >MIRC Electronics Limited</td>\n",
              "      <td id=\"T_3c1a3_row8_col2\" class=\"data row8 col2\" >1</td>\n",
              "      <td id=\"T_3c1a3_row8_col3\" class=\"data row8 col3\" >2025-06-18</td>\n",
              "      <td id=\"T_3c1a3_row8_col4\" class=\"data row8 col4\" >48.410000</td>\n",
              "      <td id=\"T_3c1a3_row8_col5\" class=\"data row8 col5\" >48.410000</td>\n",
              "      <td id=\"T_3c1a3_row8_col6\" class=\"data row8 col6\" >55.390000</td>\n",
              "      <td id=\"T_3c1a3_row8_col7\" class=\"data row8 col7\" >nan</td>\n",
              "      <td id=\"T_3c1a3_row8_col8\" class=\"data row8 col8\" >0.200000</td>\n",
              "      <td id=\"T_3c1a3_row8_col9\" class=\"data row8 col9\" >nan</td>\n",
              "      <td id=\"T_3c1a3_row8_col10\" class=\"data row8 col10\" >Unknown</td>\n",
              "      <td id=\"T_3c1a3_row8_col11\" class=\"data row8 col11\" >High</td>\n",
              "      <td id=\"T_3c1a3_row8_col12\" class=\"data row8 col12\" >47.41% – 48.41%</td>\n",
              "      <td id=\"T_3c1a3_row8_col13\" class=\"data row8 col13\" >49.41% – 51.41%</td>\n",
              "      <td id=\"T_3c1a3_row8_col14\" class=\"data row8 col14\" >52.41% – 56.41%</td>\n",
              "    </tr>\n",
              "    <tr>\n",
              "      <th id=\"T_3c1a3_level0_row9\" class=\"row_heading level0 row9\" >9</th>\n",
              "      <td id=\"T_3c1a3_row9_col0\" class=\"data row9 col0\" >DCMSHRIRAM.NS</td>\n",
              "      <td id=\"T_3c1a3_row9_col1\" class=\"data row9 col1\" >DCM Shriram Limited</td>\n",
              "      <td id=\"T_3c1a3_row9_col2\" class=\"data row9 col2\" >1</td>\n",
              "      <td id=\"T_3c1a3_row9_col3\" class=\"data row9 col3\" >2025-06-18</td>\n",
              "      <td id=\"T_3c1a3_row9_col4\" class=\"data row9 col4\" >48.240000</td>\n",
              "      <td id=\"T_3c1a3_row9_col5\" class=\"data row9 col5\" >48.240000</td>\n",
              "      <td id=\"T_3c1a3_row9_col6\" class=\"data row9 col6\" >38.520000</td>\n",
              "      <td id=\"T_3c1a3_row9_col7\" class=\"data row9 col7\" >29.870000</td>\n",
              "      <td id=\"T_3c1a3_row9_col8\" class=\"data row9 col8\" >-0.220000</td>\n",
              "      <td id=\"T_3c1a3_row9_col9\" class=\"data row9 col9\" >0.412600</td>\n",
              "      <td id=\"T_3c1a3_row9_col10\" class=\"data row9 col10\" >Medium</td>\n",
              "      <td id=\"T_3c1a3_row9_col11\" class=\"data row9 col11\" >High</td>\n",
              "      <td id=\"T_3c1a3_row9_col12\" class=\"data row9 col12\" >47.24% – 48.24%</td>\n",
              "      <td id=\"T_3c1a3_row9_col13\" class=\"data row9 col13\" >49.24% – 51.24%</td>\n",
              "      <td id=\"T_3c1a3_row9_col14\" class=\"data row9 col14\" >52.24% – 56.24%</td>\n",
              "    </tr>\n",
              "  </tbody>\n",
              "</table>\n"
            ],
            "text/plain": [
              "<pandas.io.formats.style.Styler at 0x7a82ccbf9d50>"
            ]
          },
          "metadata": {},
          "output_type": "display_data"
        },
        {
          "name": "stdout",
          "output_type": "stream",
          "text": [
            "\n",
            "❌ Preprocessing Stage Failures (sample):\n",
            "LAXMIDENTL → Insufficient initial data after date filtering (102 rows, 756 required) up to 2025-06-18.\n",
            "NAVKARURB → Insufficient initial data after date filtering (103 rows, 756 required) up to 2025-06-18.\n",
            "DDEVPLSTIK → Insufficient initial data after date filtering (105 rows, 756 required) up to 2025-06-18.\n",
            "QUADFUTURE → Insufficient initial data after date filtering (106 rows, 756 required) up to 2025-06-18.\n",
            "SGLTL → Insufficient initial data after date filtering (107 rows, 756 required) up to 2025-06-18.\n",
            "ALIVUS → Insufficient initial data after date filtering (107 rows, 756 required) up to 2025-06-18.\n",
            "SCODATUBES → Insufficient initial data after date filtering (11 rows, 756 required) up to 2025-06-18.\n",
            "INDOFARM → Insufficient initial data after date filtering (111 rows, 756 required) up to 2025-06-18.\n",
            "UNIMECH → Insufficient initial data after date filtering (116 rows, 756 required) up to 2025-06-18.\n",
            "SENORES → Insufficient initial data after date filtering (117 rows, 756 required) up to 2025-06-18.\n",
            "VENTIVE → Insufficient initial data after date filtering (117 rows, 756 required) up to 2025-06-18.\n",
            "CARRARO → Insufficient initial data after date filtering (117 rows, 756 required) up to 2025-06-18.\n",
            "MAMATA → Insufficient initial data after date filtering (118 rows, 756 required) up to 2025-06-18.\n",
            "SANATHAN → Insufficient initial data after date filtering (118 rows, 756 required) up to 2025-06-18.\n",
            "TRANSRAILL → Insufficient initial data after date filtering (118 rows, 756 required) up to 2025-06-18.\n",
            "CEWATER → Insufficient initial data after date filtering (118 rows, 756 required) up to 2025-06-18.\n",
            "DAMCAPITAL → Insufficient initial data after date filtering (118 rows, 756 required) up to 2025-06-18.\n",
            "PROSTARM → Insufficient initial data after date filtering (12 rows, 756 required) up to 2025-06-18.\n",
            "ANUHPHR → Insufficient initial data after date filtering (122 rows, 756 required) up to 2025-06-18.\n",
            "IGIL → Insufficient initial data after date filtering (122 rows, 756 required) up to 2025-06-18.\n",
            "... and 619 more preprocessing failures (total 639)\n"
          ]
        }
      ],
      "source": [
        "from pyspark.sql import SparkSession\n",
        "import pandas as pd\n",
        "import numpy as np\n",
        "import os, glob\n",
        "from tqdm.notebook import tqdm\n",
        "from ta.trend import EMAIndicator, MACD\n",
        "from ta.volume import OnBalanceVolumeIndicator\n",
        "from ta.momentum import RSIIndicator, StochasticOscillator\n",
        "from ta.volatility import BollingerBands\n",
        "from ta.trend import ADXIndicator\n",
        "from xgboost import XGBRegressor\n",
        "from sklearn.model_selection import train_test_split\n",
        "from pytz import timezone\n",
        "from datetime import datetime\n",
        "from sklearn.metrics import mean_squared_error, r2_score\n",
        "\n",
        "# 🚀 Initialize Spark (optional, for distributed future processing)\n",
        "try:\n",
        "    spark = SparkSession.builder.master(\"local[*]\").appName(\"StockReturns\").getOrCreate()\n",
        "except Exception as e:\n",
        "    print(f\"Could not initialize Spark Session: {e}. Proceeding without Spark.\")\n",
        "    spark = None\n",
        "\n",
        "# 🔧 Parameters\n",
        "DATA_END_DATE = pd.to_datetime(\"2025-06-18\").tz_localize(\"Asia/Kolkata\")\n",
        "TODAY = DATA_END_DATE\n",
        "\n",
        "TOP_N = 10\n",
        "MIN_YEARS_REQUIRED = 3\n",
        "PREDICTION_HORIZON_YEARS = 1\n",
        "DAYS_FORWARD = 252 * PREDICTION_HORIZON_YEARS\n",
        "\n",
        "MIN_OBS_INITIAL = 252 * MIN_YEARS_REQUIRED\n",
        "MIN_OBS_FOR_MODEL = 252 * 2.5\n",
        "\n",
        "DATA_PATH = r\"/content/drive/MyDrive/nse_stock_data/*.csv\"\n",
        "OUTPUT_CSV_PATH = \"stock_predictions_xgboost_r2_composite_risk.csv\"\n",
        "\n",
        "files = glob.glob(DATA_PATH)\n",
        "\n",
        "results, failures = [], []\n",
        "preprocessing_failures = []\n",
        "\n",
        "print(f\"🔍 Total files: {len(files)}\")\n",
        "\n",
        "# --- Helper Functions ---\n",
        "\n",
        "def assign_volatility_risk_band(annualized_volatility_pct):\n",
        "    if pd.isna(annualized_volatility_pct):\n",
        "        return \"Unknown\"\n",
        "    elif annualized_volatility_pct < 15:\n",
        "        return \"Low\"\n",
        "    elif annualized_volatility_pct < 30:\n",
        "        return \"Medium\"\n",
        "    else:\n",
        "        return \"High\"\n",
        "\n",
        "def calculate_composite_risk_score(vol_pct, pe_ratio, beta):\n",
        "    if pd.isna(vol_pct) or pd.isna(pe_ratio) or pd.isna(beta):\n",
        "        return np.nan\n",
        "\n",
        "    norm_vol = min(1, max(0, (vol_pct - 10) / 40))\n",
        "    norm_pe = min(1, max(0, (pe_ratio - 15) / 35))\n",
        "    if pe_ratio < 10: norm_pe = 0.5\n",
        "\n",
        "    norm_beta = min(1, max(0, (beta - 0.5) / 1.5))\n",
        "\n",
        "    weight_vol = 0.40\n",
        "    weight_pe = 0.30\n",
        "    weight_beta = 0.30\n",
        "\n",
        "    composite_score = (weight_vol * norm_vol) + (weight_pe * norm_pe) + (weight_beta * norm_beta)\n",
        "    return composite_score\n",
        "\n",
        "def assign_composite_risk_band(composite_score):\n",
        "    if pd.isna(composite_score): return \"Unknown\"\n",
        "    if composite_score < 0.3:\n",
        "        return \"Low\"\n",
        "    elif composite_score < 0.6:\n",
        "        return \"Medium\"\n",
        "    else:\n",
        "        return \"High\"\n",
        "\n",
        "def generate_features(df_input):\n",
        "    df = df_input.copy()\n",
        "\n",
        "    cols_to_numeric = ['Open', 'High', 'Low', 'Close', 'Volume']\n",
        "    if 'P/E Ratio' in df.columns: cols_to_numeric.append('P/E Ratio')\n",
        "    if 'Beta' in df.columns: cols_to_numeric.append('Beta')\n",
        "\n",
        "    for col in cols_to_numeric:\n",
        "        if col in df.columns:\n",
        "            df[col] = pd.to_numeric(df[col], errors='coerce')\n",
        "\n",
        "    required_cols_for_ta_indicators = ['Close', 'Volume']\n",
        "    ohlc_cols = ['High', 'Low', 'Close']\n",
        "\n",
        "    if not all(col in df.columns and not df[col].isnull().all() for col in required_cols_for_ta_indicators):\n",
        "        return None\n",
        "\n",
        "    df['Return_1d'] = df['Close'].pct_change(1, fill_method=None)\n",
        "\n",
        "    df['Return_1w'] = df['Close'].pct_change(5, fill_method=None)\n",
        "    df['Return_1m'] = df['Close'].pct_change(21, fill_method=None)\n",
        "    df['Return_6m'] = df['Close'].pct_change(126, fill_method=None)\n",
        "    df['Volatility_21d'] = df['Close'].rolling(21).std()\n",
        "\n",
        "    if not df['Return_1d'].isnull().all():\n",
        "        df['Annualized_Volatility'] = df['Return_1d'].rolling(window=252).std() * np.sqrt(252)\n",
        "    else:\n",
        "        df['Annualized_Volatility'] = np.nan\n",
        "\n",
        "    has_ohlc_for_indicators = all(col in df.columns and not df[col].isnull().all() for col in ohlc_cols)\n",
        "\n",
        "    if not df['Close'].isnull().all():\n",
        "        df['EMA_20'] = EMAIndicator(df['Close'], window=20).ema_indicator()\n",
        "        df['MACD'] = MACD(df['Close']).macd()\n",
        "    else:\n",
        "        df['EMA_20'] = np.nan\n",
        "        df['MACD'] = np.nan\n",
        "\n",
        "    if has_ohlc_for_indicators:\n",
        "        df['ADX_14'] = ADXIndicator(df['High'], df['Low'], df['Close'], window=14).adx()\n",
        "    else:\n",
        "        df['ADX_14'] = np.nan\n",
        "\n",
        "    if not df['Close'].isnull().all() and not df['Volume'].isnull().all():\n",
        "        df['OBV'] = OnBalanceVolumeIndicator(df['Close'], df['Volume']).on_balance_volume()\n",
        "    else:\n",
        "        df['OBV'] = np.nan\n",
        "\n",
        "    if not df['Close'].isnull().all():\n",
        "        df['RSI_14'] = RSIIndicator(df['Close'], window=14).rsi()\n",
        "    else:\n",
        "        df['RSI_14'] = np.nan\n",
        "\n",
        "    if has_ohlc_for_indicators:\n",
        "        df['Stoch_K'] = StochasticOscillator(df['High'], df['Low'], df['Close'], window=14).stoch()\n",
        "    else:\n",
        "        df['Stoch_K'] = np.nan\n",
        "\n",
        "    if not df['Close'].isnull().all():\n",
        "        bb = BollingerBands(df['Close'], window=20)\n",
        "        df['BB_width'] = bb.bollinger_wband()\n",
        "    else:\n",
        "        df['BB_width'] = np.nan\n",
        "\n",
        "    df['Momentum_21'] = df['Close'] - df['Close'].shift(21)\n",
        "    df['Vol_Change_1w'] = df['Volume'].pct_change(5)\n",
        "\n",
        "    return df\n",
        "\n",
        "# --- Preprocessing Stage Function ---\n",
        "def preprocess_stock_data(file_path, DATA_END_DATE, MIN_OBS_INITIAL, MIN_OBS_FOR_MODEL, DAYS_FORWARD):\n",
        "    stock_symbol = os.path.basename(file_path).split(\"_\")[0]\n",
        "\n",
        "    try:\n",
        "        df_full = pd.read_csv(file_path, parse_dates=['Date'])\n",
        "        df_full = df_full.sort_values(\"Date\").reset_index(drop=True)\n",
        "\n",
        "        df = df_full[df_full['Date'] <= DATA_END_DATE].copy()\n",
        "\n",
        "        if df.shape[0] < MIN_OBS_INITIAL:\n",
        "            return None, None, f\"Insufficient initial data after date filtering ({df.shape[0]} rows, {MIN_OBS_INITIAL} required) up to {DATA_END_DATE.date()}.\"\n",
        "\n",
        "        required_fundamental_cols = ['Open', 'High', 'Low', 'Close', 'Volume']\n",
        "        cols_for_numeric_conversion = required_fundamental_cols.copy()\n",
        "        if 'P/E Ratio' in df.columns: cols_for_numeric_conversion.append('P/E Ratio')\n",
        "        if 'Beta' in df.columns: cols_for_numeric_conversion.append('Beta')\n",
        "\n",
        "        for col in cols_for_numeric_conversion:\n",
        "            if col not in df.columns:\n",
        "                if col in required_fundamental_cols:\n",
        "                    return None, None, f\"Missing essential column: '{col}'.\"\n",
        "                else:\n",
        "                    df[col] = np.nan\n",
        "            else:\n",
        "                df[col] = pd.to_numeric(df[col], errors='coerce')\n",
        "                if col in required_fundamental_cols and df[col].isnull().all():\n",
        "                    return None, None, f\"Essential column '{col}' is entirely NaN after numeric conversion.\"\n",
        "\n",
        "        df.dropna(subset=required_fundamental_cols, inplace=True)\n",
        "        if df.empty:\n",
        "            return None, None, \"DataFrame became empty after dropping NaNs from essential columns.\"\n",
        "\n",
        "        if df.shape[0] < MIN_OBS_INITIAL:\n",
        "            return None, None, f\"Insufficient data after dropping NaNs from essential columns ({df.shape[0]} rows, {MIN_OBS_INITIAL} required).\"\n",
        "\n",
        "        df_features = generate_features(df)\n",
        "        if df_features is None:\n",
        "            return None, None, \"Failed to generate features due to missing essential data for indicator calculation.\"\n",
        "\n",
        "        df_features['Target_Return'] = df_features['Close'].shift(-DAYS_FORWARD) / df_features['Close'] - 1\n",
        "\n",
        "        if df_features['Volume'].mean() < 10000:\n",
        "            return None, None, f\"Low average volume ({df_features['Volume'].mean():.0f} < 10000).\"\n",
        "\n",
        "        features_for_model = ['Return_1w', 'Return_1m', 'Return_6m', 'Volatility_21d',\n",
        "                              'EMA_20', 'MACD', 'OBV', 'RSI_14', 'BB_width',\n",
        "                              'Momentum_21', 'Vol_Change_1w', 'ADX_14', 'Stoch_K',\n",
        "                              'Annualized_Volatility']\n",
        "\n",
        "        for feature in features_for_model:\n",
        "            if feature not in df_features.columns:\n",
        "                df_features[feature] = np.nan\n",
        "            df_features[feature] = pd.to_numeric(df_features[feature], errors='coerce')\n",
        "\n",
        "        df_model_ready = df_features[features_for_model + ['Target_Return']].replace([np.inf, -np.inf], np.nan).dropna()\n",
        "\n",
        "        if df_model_ready.shape[0] < MIN_OBS_FOR_MODEL:\n",
        "            return None, None, f\"Insufficient observations for model training after feature generation and NaN drop ({df_model_ready.shape[0]} < {MIN_OBS_FOR_MODEL} required).\"\n",
        "\n",
        "        return df_model_ready, df_features, stock_symbol\n",
        "\n",
        "    except Exception as e:\n",
        "        return None, None, str(e)\n",
        "\n",
        "\n",
        "# --- Main Processing Loop ---\n",
        "print(\"Starting stock analysis (XGBoost Only)...\")\n",
        "for file in tqdm(files, desc=\"⏳ Processing files\"):\n",
        "    stock_symbol_current = os.path.basename(file).split(\"_\")[0]\n",
        "\n",
        "    # --- Preprocessing Stage ---\n",
        "    processed_data_for_model, df_for_latest_features, preprocessing_error_msg = \\\n",
        "        preprocess_stock_data(file, DATA_END_DATE, MIN_OBS_INITIAL, MIN_OBS_FOR_MODEL, DAYS_FORWARD)\n",
        "\n",
        "    if processed_data_for_model is None:\n",
        "        preprocessing_failures.append((stock_symbol_current, preprocessing_error_msg))\n",
        "        continue\n",
        "\n",
        "    # Extract X_all and y_all from the successfully processed data\n",
        "    features_for_model = ['Return_1w', 'Return_1m', 'Return_6m', 'Volatility_21d',\n",
        "                          'EMA_20', 'MACD', 'OBV', 'RSI_14', 'BB_width',\n",
        "                          'Momentum_21', 'Vol_Change_1w', 'ADX_14', 'Stoch_K',\n",
        "                          'Annualized_Volatility']\n",
        "\n",
        "    X_all = processed_data_for_model[features_for_model]\n",
        "    y_all = processed_data_for_model['Target_Return'] * 100\n",
        "\n",
        "    # --- Model Training Stage (XGBoost Only) ---\n",
        "    try:\n",
        "        if X_all.shape[0] < 5:\n",
        "            raise ValueError(f\"Not enough data points ({X_all.shape[0]}) for XGBoost train-test split (min 5).\")\n",
        "\n",
        "        X_train_xgb, X_test_xgb, y_train_xgb, y_test_xgb = train_test_split(X_all, y_all, shuffle=False, test_size=0.2)\n",
        "\n",
        "        if X_train_xgb.empty or y_train_xgb.empty:\n",
        "            raise ValueError(\"XGBoost Training set is empty after train-test split.\")\n",
        "\n",
        "        xgb_model = XGBRegressor(\n",
        "            n_estimators=300, max_depth=6, learning_rate=0.1,\n",
        "            subsample=0.9, colsample_bytree=0.9, random_state=42, n_jobs=-1\n",
        "        )\n",
        "        xgb_model.fit(X_train_xgb, y_train_xgb)\n",
        "\n",
        "        # --- Handle Error Group C: Predict from last available date ---\n",
        "        latest_features_df_raw = df_for_latest_features[df_for_latest_features['Date'] <= DATA_END_DATE].tail(1)\n",
        "\n",
        "        if latest_features_df_raw.empty:\n",
        "            raise ValueError(f\"No data available on or before prediction date {DATA_END_DATE.date()} for final feature extraction (XGBoost results).\")\n",
        "\n",
        "        # --- Handle Error Group B: Impute NaNs in latest_features_xgb with median from X_train_xgb ---\n",
        "        latest_features_xgb = latest_features_df_raw[features_for_model].replace([np.inf, -np.inf], np.nan)\n",
        "\n",
        "        cols_with_nan = latest_features_xgb.columns[latest_features_xgb.isnull().any()].tolist()\n",
        "\n",
        "        for col in cols_with_nan:\n",
        "            if col in X_train_xgb.columns:\n",
        "                median_val = X_train_xgb[col].median()\n",
        "                latest_features_xgb[col] = latest_features_xgb[col].fillna(median_val)\n",
        "            else:\n",
        "                latest_features_xgb[col] = latest_features_xgb[col].fillna(0) # Fallback\n",
        "\n",
        "        if latest_features_xgb.isnull().any().any() or latest_features_xgb.empty:\n",
        "             raise ValueError(f\"Latest features for XGBoost prediction (on {DATA_END_DATE.date()}) are incomplete or contain unhandled NaNs after imputation.\")\n",
        "\n",
        "        pred_return_xgb = xgb_model.predict(latest_features_xgb)[0]\n",
        "        cagr_xgb = ((pred_return_xgb / 100 + 1) ** (1 / PREDICTION_HORIZON_YEARS)) - 1\n",
        "        cagr_pct_xgb = cagr_xgb * 100\n",
        "\n",
        "        y_pred_xgb = xgb_model.predict(X_test_xgb)\n",
        "\n",
        "        # Calculate R2 Score instead of RMSE and RMSE (%)\n",
        "        r2_xgb = r2_score(y_test_xgb, y_pred_xgb)\n",
        "\n",
        "        # --- Extract values for risk calculation ---\n",
        "        actual_as_of_date = latest_features_df_raw['Date'].iloc[0]\n",
        "\n",
        "        latest_pe_ratio = None\n",
        "        if 'P/E Ratio' in latest_features_df_raw.columns:\n",
        "            latest_pe_ratio = pd.to_numeric(latest_features_df_raw['P/E Ratio'].iloc[0], errors='coerce')\n",
        "\n",
        "        latest_beta = None\n",
        "        if 'Beta' in latest_features_df_raw.columns:\n",
        "            latest_beta = pd.to_numeric(latest_features_df_raw['Beta'].iloc[0], errors='coerce')\n",
        "\n",
        "        latest_annualized_volatility_val = None\n",
        "        if 'Annualized_Volatility' in latest_features_xgb.columns and not latest_features_xgb.empty:\n",
        "            latest_annualized_volatility_val = latest_features_xgb['Annualized_Volatility'].iloc[0] * 100\n",
        "\n",
        "        composite_risk_score = calculate_composite_risk_score(\n",
        "            vol_pct=latest_annualized_volatility_val,\n",
        "            pe_ratio=latest_pe_ratio,\n",
        "            beta=latest_beta\n",
        "        )\n",
        "\n",
        "        results.append({\n",
        "            'Symbol': df_for_latest_features['Symbol'].iloc[0] if 'Symbol' in df_for_latest_features.columns else stock_symbol_current,\n",
        "            'Company Name': df_for_latest_features['Company Name'].iloc[0] if 'Company Name' in df_for_latest_features.columns else \"Unknown\",\n",
        "            'Prediction Horizon (Years)': PREDICTION_HORIZON_YEARS,\n",
        "            'As Of Date': actual_as_of_date.strftime(\"%Y-%m-%d\"),\n",
        "            'Predicted Total Return (%)': round(float(pred_return_xgb), 2) if pd.notnull(pred_return_xgb) else None,\n",
        "            'Predicted CAGR (%)': round(float(cagr_pct_xgb), 2) if pd.notnull(cagr_pct_xgb) else None,\n",
        "            'Annualized Volatility (%)': round(float(latest_annualized_volatility_val), 2) if pd.notnull(latest_annualized_volatility_val) else None,\n",
        "            'Latest P/E Ratio': round(float(latest_pe_ratio), 2) if pd.notnull(latest_pe_ratio) else None,\n",
        "            'Latest Beta': round(float(latest_beta), 2) if pd.notnull(latest_beta) else None,\n",
        "            'Composite Risk Score': round(float(composite_risk_score), 4) if pd.notnull(composite_risk_score) else None,\n",
        "            'Risk Band (Composite)': assign_composite_risk_band(composite_risk_score),\n",
        "            'Risk Band (Volatility Only)': assign_volatility_risk_band(latest_annualized_volatility_val),\n",
        "            'Conservative Band': f\"{round(float(cagr_pct_xgb - 1), 2)}% – {round(float(cagr_pct_xgb), 2)}%\" if pd.notnull(cagr_pct_xgb) else \"N/A\",\n",
        "            'Expected Band': f\"{round(float(cagr_pct_xgb + 1), 2)}% – {round(float(cagr_pct_xgb + 3), 2)}%\" if pd.notnull(cagr_pct_xgb) else \"N/A\",\n",
        "            'Optimistic Band': f\"{round(float(cagr_pct_xgb + 4), 2)}% – {round(float(cagr_pct_xgb + 8), 2)}%\" if pd.notnull(cagr_pct_xgb) else \"N/A\",\n",
        "        })\n",
        "\n",
        "    except Exception as e:\n",
        "        failures.append((stock_symbol_current, f\"Model Stage Error (XGBoost): {str(e)}\"))\n",
        "\n",
        "# ✅ Final Output\n",
        "results_df = pd.DataFrame(results)\n",
        "\n",
        "# --- NEW: Filter out stocks with Predicted CAGR >= 50% ---\n",
        "initial_processed_count = len(results_df)\n",
        "results_df_filtered = results_df[results_df['Predicted CAGR (%)'] < 50].copy()\n",
        "filtered_out_count = initial_processed_count - len(results_df_filtered)\n",
        "if filtered_out_count > 0:\n",
        "    print(f\"\\n🗑️ Filtered out {filtered_out_count} stocks with Predicted CAGR >= 50%.\")\n",
        "# --- END NEW FILTER ---\n",
        "\n",
        "\n",
        "print(f\"\\n✅ Total Processed (after filtering): {len(results_df_filtered)} / {len(files)}\")\n",
        "\n",
        "\n",
        "if not results_df_filtered.empty: # Use filtered DataFrame here\n",
        "    results_df_filtered.to_csv(OUTPUT_CSV_PATH, index=False)\n",
        "    print(f\"\\n📄 All stock predictions saved to {OUTPUT_CSV_PATH}\")\n",
        "else:\n",
        "    print(\"\\n⚠️ No valid stock processed (or all filtered out) to save to CSV.\")\n",
        "\n",
        "if len(results_df_filtered): # Use filtered DataFrame here\n",
        "    from IPython.display import display\n",
        "    top_stocks_df = results_df_filtered.sort_values(by='Predicted Total Return (%)', ascending=False).head(TOP_N).reset_index(drop=True)\n",
        "    display(top_stocks_df.style.set_caption(f\"Top {TOP_N} Stocks with Predicted Returns and Confidence Bands (Horizon: {PREDICTION_HORIZON_YEARS} Year(s), As Of: {DATA_END_DATE.strftime('%Y-%m-%d')})\"))\n",
        "else:\n",
        "    print(\"❌ No valid stock processed (or all filtered out) to display top stocks.\")\n",
        "\n",
        "# 🚨 Failed Files Log - Separated for clearer debugging\n",
        "if preprocessing_failures:\n",
        "    print(\"\\n❌ Preprocessing Stage Failures (sample):\")\n",
        "    preprocessing_failures.sort(key=lambda x: x[1])\n",
        "    for f, e in preprocessing_failures[:20]:\n",
        "        print(f\"{f} → {e}\")\n",
        "    if len(preprocessing_failures) > 20:\n",
        "        print(f\"... and {len(preprocessing_failures) - 20} more preprocessing failures (total {len(preprocessing_failures)})\")\n",
        "\n",
        "if failures: # Model stage failures\n",
        "    print(\"\\n❌ Model Stage Failures (sample):\")\n",
        "    failures.sort(key=lambda x: x[1])\n",
        "    for f, e in failures[:20]:\n",
        "        print(f\"{f} → {e}\")\n",
        "    if len(failures) > 20:\n",
        "        print(f\"... and {len(failures) - 20} more model stage failures (total {len(failures)})\")"
      ]
    },
    {
      "cell_type": "markdown",
      "metadata": {
        "id": "CeYzGvFq2orI"
      },
      "source": [
        "***For Mutual Fund***"
      ]
    },
    {
      "cell_type": "code",
      "execution_count": null,
      "metadata": {
        "colab": {
          "base_uri": "https://localhost:8080/"
        },
        "id": "5QLnRppD2q2Q",
        "outputId": "703a97c3-8e6d-4e10-f852-463ce732de90"
      },
      "outputs": [
        {
          "output_type": "stream",
          "name": "stderr",
          "text": [
            "  0%|          | 2/4144 [00:00<30:09,  2.29it/s]"
          ]
        },
        {
          "output_type": "stream",
          "name": "stdout",
          "text": [
            "❌ Error processing QuantPSUIDCWReinvestDirectPlan_INF966L01DV0.xlsx (Unknown): Insufficient NAV history (<3 years)\n",
            "❌ Error processing SamcoMultiAssetAllocationGrowthDirectPlan_INF0K1H01230.xlsx (Unknown): Insufficient NAV history (<3 years)\n"
          ]
        },
        {
          "output_type": "stream",
          "name": "stderr",
          "text": [
            "  0%|          | 11/4144 [00:02<10:33,  6.52it/s]"
          ]
        },
        {
          "output_type": "stream",
          "name": "stdout",
          "text": [
            "❌ Error processing QuantConsumptionGrowthDirectPlan_INF966L01DN7.xlsx (Unknown): Insufficient NAV history (<3 years)\n"
          ]
        },
        {
          "output_type": "stream",
          "name": "stderr",
          "text": [
            "  0%|          | 17/4144 [00:05<27:47,  2.47it/s]"
          ]
        },
        {
          "output_type": "stream",
          "name": "stdout",
          "text": [
            "❌ Error processing SamcoELSSTaxSaverGrowthDirectPlan_INF0K1H01065.xlsx (Unknown): Insufficient NAV history (<3 years)\n",
            "❌ Error processing PGIMIndiaMultiCapIDCWPayoutDirectPlan_INF663L01Z11.xlsx (Unknown): Insufficient NAV history (<3 years)\n"
          ]
        },
        {
          "output_type": "stream",
          "name": "stderr",
          "text": [
            "  1%|          | 26/4144 [00:06<08:22,  8.20it/s]"
          ]
        },
        {
          "output_type": "stream",
          "name": "stdout",
          "text": [
            "❌ Error processing QuantBfsiGrowthDirectPlan_INF966L01BX0.xlsx (Unknown): Insufficient NAV history (<3 years)\n",
            "❌ Error processing QuantPSUGrowthDirectPlan_INF966L01DT4.xlsx (Unknown): Insufficient NAV history (<3 years)\n",
            "❌ Error processing QuantHealthcareIDCWPayoutDirectPlan_INF966L01CE8.xlsx (Unknown): Insufficient NAV history (<3 years)\n"
          ]
        },
        {
          "output_type": "stream",
          "name": "stderr",
          "text": [
            "\r  1%|          | 28/4144 [00:07<09:21,  7.33it/s]"
          ]
        },
        {
          "output_type": "stream",
          "name": "stdout",
          "text": [
            "❌ Error processing SamcoDynamicAssetAllocationIDCWPayoutDirectPlan_INF0K1H01149.xlsx (Unknown): Insufficient NAV history (<3 years)\n",
            "❌ Error processing PGIMIndiaHealthcareIDCWPayoutDirectPlan_INF663L01Z60.xlsx (Unknown): Insufficient NAV history (<3 years)\n"
          ]
        },
        {
          "output_type": "stream",
          "name": "stderr",
          "text": [
            "\r  1%|          | 30/4144 [00:07<09:02,  7.58it/s]"
          ]
        },
        {
          "output_type": "stream",
          "name": "stdout",
          "text": [
            "❌ Error processing QuantDynamicAssetAllocationIDCWPayoutDirectPlan_INF966L01BM3.xlsx (Unknown): Insufficient NAV history (<3 years)\n"
          ]
        },
        {
          "output_type": "stream",
          "name": "stderr",
          "text": [
            "  1%|          | 33/4144 [00:07<09:57,  6.88it/s]"
          ]
        },
        {
          "output_type": "stream",
          "name": "stdout",
          "text": [
            "❌ Error processing QuantBusinessCycleIDCWReinvestDirectPlan_INF966L01BT8.xlsx (Unknown): Insufficient NAV history (<3 years)\n",
            "❌ Error processing PGIMIndiaRetirementIDCWPayoutDirectPlan_INF663L01Y79.xlsx (Unknown): Insufficient NAV history (<3 years)\n"
          ]
        },
        {
          "output_type": "stream",
          "name": "stderr",
          "text": [
            "\r  1%|          | 36/4144 [00:08<08:34,  7.98it/s]"
          ]
        },
        {
          "output_type": "stream",
          "name": "stdout",
          "text": [
            "❌ Error processing SamcoDynamicAssetAllocationIDCWReinvestDirectPlan_INF0K1H01156.xlsx (Unknown): Insufficient NAV history (<3 years)\n"
          ]
        },
        {
          "output_type": "stream",
          "name": "stderr",
          "text": [
            "  1%|          | 42/4144 [00:50<11:35:59, 10.18s/it]"
          ]
        },
        {
          "output_type": "stream",
          "name": "stdout",
          "text": [
            "❌ Error processing QuantLargeCapIDCWReinvestDirectPlan_INF966L01AV6.xlsx (Unknown): Insufficient NAV history (<3 years)\n",
            "❌ Error processing SamcoArbitrageGrowthDirectPlan_INF0K1H01214.xlsx (Unknown): Insufficient NAV history (<3 years)\n"
          ]
        },
        {
          "output_type": "stream",
          "name": "stderr",
          "text": [
            "\r  1%|          | 45/4144 [00:51<5:45:02,  5.05s/it] "
          ]
        },
        {
          "output_type": "stream",
          "name": "stdout",
          "text": [
            "❌ Error processing QuantMomentumIDCWPayoutDirectPlan_INF966L01DA4.xlsx (Unknown): Insufficient NAV history (<3 years)\n",
            "❌ Error processing QuantTeckIDCWReinvestDirectPlan_INF966L01CV2.xlsx (Unknown): Insufficient NAV history (<3 years)\n"
          ]
        },
        {
          "output_type": "stream",
          "name": "stderr",
          "text": [
            "  1%|          | 49/4144 [00:51<2:50:56,  2.50s/it]"
          ]
        },
        {
          "output_type": "stream",
          "name": "stdout",
          "text": [
            "❌ Error processing QuantumNifty50ETFFoFGrowthDirectPlan_INF082J01416.xlsx (Unknown): Insufficient NAV history (<3 years)\n",
            "❌ Error processing QuantDynamicAssetAllocationIDCWReinvestDirectPlan_INF966L01BN1.xlsx (Unknown): Insufficient NAV history (<3 years)\n"
          ]
        },
        {
          "output_type": "stream",
          "name": "stderr",
          "text": [
            "\r  1%|▏         | 52/4144 [00:51<1:42:14,  1.50s/it]"
          ]
        },
        {
          "output_type": "stream",
          "name": "stdout",
          "text": [
            "❌ Error processing QuantHealthcareGrowthDirectPlan_INF966L01CD0.xlsx (Unknown): Insufficient NAV history (<3 years)\n"
          ]
        },
        {
          "output_type": "stream",
          "name": "stderr",
          "text": [
            "  1%|▏         | 59/4144 [00:53<31:42,  2.15it/s]"
          ]
        },
        {
          "output_type": "stream",
          "name": "stdout",
          "text": [
            "❌ Error processing QuantPSUIDCWPayoutDirectPlan_INF966L01DU2.xlsx (Unknown): Insufficient NAV history (<3 years)\n"
          ]
        },
        {
          "output_type": "stream",
          "name": "stderr",
          "text": [
            "  1%|▏         | 61/4144 [00:53<23:19,  2.92it/s]"
          ]
        },
        {
          "output_type": "stream",
          "name": "stdout",
          "text": [
            "❌ Error processing PGIMIndiaHealthcareIDCWReinvestDirectPlan_INF663L01Z78.xlsx (Unknown): Insufficient NAV history (<3 years)\n",
            "❌ Error processing SBIAutomotiveOpportunitiesIDCWPayoutDirectPlan_INF200KB1209.xlsx (Unknown): Insufficient NAV history (<3 years)\n"
          ]
        },
        {
          "output_type": "stream",
          "name": "stderr",
          "text": [
            "\r  2%|▏         | 64/4144 [00:53<14:20,  4.74it/s]"
          ]
        },
        {
          "output_type": "stream",
          "name": "stdout",
          "text": [
            "❌ Error processing SamcoMultiCapGrowthDirectPlan_INF0K1H01198.xlsx (Unknown): Insufficient NAV history (<3 years)\n",
            "❌ Error processing QuantLargeCapIDCWPayoutDirectPlan_INF966L01AU8.xlsx (Unknown): Insufficient NAV history (<3 years)\n"
          ]
        },
        {
          "output_type": "stream",
          "name": "stderr",
          "text": [
            "  2%|▏         | 69/4144 [00:54<09:31,  7.12it/s]"
          ]
        },
        {
          "output_type": "stream",
          "name": "stdout",
          "text": [
            "❌ Error processing PGIMIndiaLargeMidCapGrowthDirectPlan_INF663L01Y12.xlsx (Unknown): Insufficient NAV history (<3 years)\n"
          ]
        },
        {
          "output_type": "stream",
          "name": "stderr",
          "text": [
            "  2%|▏         | 72/4144 [00:54<09:54,  6.85it/s]"
          ]
        },
        {
          "output_type": "stream",
          "name": "stdout",
          "text": [
            "❌ Error processing PGIMIndiaLargeMidCapIDCWReinvestDirectPlan_INF663L01Y38.xlsx (Unknown): Insufficient NAV history (<3 years)\n"
          ]
        },
        {
          "output_type": "stream",
          "name": "stderr",
          "text": [
            "\r  2%|▏         | 73/4144 [00:54<10:54,  6.22it/s]"
          ]
        },
        {
          "output_type": "stream",
          "name": "stdout",
          "text": [
            "❌ Error processing QuantTeckGrowthDirectPlan_INF966L01CT6.xlsx (Unknown): Insufficient NAV history (<3 years)\n",
            "❌ Error processing QuantumEthicalGrowthDirectPlan_INF082J01473.xlsx (Unknown): Insufficient NAV history (<3 years)\n"
          ]
        },
        {
          "output_type": "stream",
          "name": "stderr",
          "text": [
            "  2%|▏         | 79/4144 [00:55<08:11,  8.28it/s]"
          ]
        },
        {
          "output_type": "stream",
          "name": "stdout",
          "text": [
            "❌ Error processing PGIMIndiaMultiCapGrowthDirectPlan_INF663L01Z03.xlsx (Unknown): Insufficient NAV history (<3 years)\n"
          ]
        },
        {
          "output_type": "stream",
          "name": "stderr",
          "text": [
            "  2%|▏         | 89/4144 [00:59<28:16,  2.39it/s]"
          ]
        },
        {
          "output_type": "stream",
          "name": "stdout",
          "text": [
            "❌ Error processing PGIMIndiaRetirementGrowthDirectPlan_INF663L01Y61.xlsx (Unknown): Insufficient NAV history (<3 years)\n"
          ]
        },
        {
          "output_type": "stream",
          "name": "stderr",
          "text": [
            "  2%|▏         | 94/4144 [01:00<15:47,  4.27it/s]"
          ]
        },
        {
          "output_type": "stream",
          "name": "stdout",
          "text": [
            "❌ Error processing QuantCommoditiesIDCWReinvestDirectPlan_INF966L01DH9.xlsx (Unknown): Insufficient NAV history (<3 years)\n",
            "❌ Error processing QuantBfsiIDCWPayoutDirectPlan_INF966L01BY8.xlsx (Unknown): Insufficient NAV history (<3 years)\n"
          ]
        },
        {
          "output_type": "stream",
          "name": "stderr",
          "text": [
            "  2%|▏         | 98/4144 [01:00<10:20,  6.52it/s]"
          ]
        },
        {
          "output_type": "stream",
          "name": "stdout",
          "text": [
            "❌ Error processing QuantGiltIDCWReinvestDirectPlan_INF966L01BH3.xlsx (Unknown): Insufficient NAV history (<3 years)\n"
          ]
        },
        {
          "output_type": "stream",
          "name": "stderr",
          "text": [
            "  2%|▏         | 100/4144 [01:01<11:05,  6.08it/s]"
          ]
        },
        {
          "output_type": "stream",
          "name": "stdout",
          "text": [
            "❌ Error processing PGIMIndiaMultiCapIDCWReinvestDirectPlan_INF663L01Z29.xlsx (Unknown): Insufficient NAV history (<3 years)\n",
            "❌ Error processing SamcoActiveMomentumGrowthDirectPlan_INF0K1H01081.xlsx (Unknown): Insufficient NAV history (<3 years)\n"
          ]
        },
        {
          "output_type": "stream",
          "name": "stderr",
          "text": [
            "  3%|▎         | 106/4144 [01:02<10:54,  6.17it/s]"
          ]
        },
        {
          "output_type": "stream",
          "name": "stdout",
          "text": [
            "❌ Error processing QuantManufacturingIDCWReinvestDirectPlan_INF966L01CL3.xlsx (Unknown): Insufficient NAV history (<3 years)\n"
          ]
        },
        {
          "output_type": "stream",
          "name": "stderr",
          "text": [
            "  3%|▎         | 109/4144 [01:02<11:51,  5.67it/s]"
          ]
        },
        {
          "output_type": "stream",
          "name": "stdout",
          "text": [
            "❌ Error processing PGIMIndiaHealthcareGrowthDirectPlan_INF663L01Z45.xlsx (Unknown): Insufficient NAV history (<3 years)\n"
          ]
        },
        {
          "output_type": "stream",
          "name": "stderr",
          "text": [
            "  3%|▎         | 113/4144 [01:03<09:13,  7.28it/s]"
          ]
        },
        {
          "output_type": "stream",
          "name": "stdout",
          "text": [
            "❌ Error processing QuantCommoditiesIDCWPayoutDirectPlan_INF966L01DG1.xlsx (Unknown): Insufficient NAV history (<3 years)\n"
          ]
        },
        {
          "output_type": "stream",
          "name": "stderr",
          "text": [
            "  3%|▎         | 118/4144 [01:03<09:41,  6.93it/s]"
          ]
        },
        {
          "output_type": "stream",
          "name": "stdout",
          "text": [
            "❌ Error processing QuantMomentumIDCWReinvestDirectPlan_INF966L01DB2.xlsx (Unknown): Insufficient NAV history (<3 years)\n"
          ]
        },
        {
          "output_type": "stream",
          "name": "stderr",
          "text": [
            "  3%|▎         | 125/4144 [01:05<09:51,  6.79it/s]"
          ]
        },
        {
          "output_type": "stream",
          "name": "stdout",
          "text": [
            "❌ Error processing QuantumSmallCapGrowthDirectPlan_INF082J01432.xlsx (Unknown): Insufficient NAV history (<3 years)\n"
          ]
        },
        {
          "output_type": "stream",
          "name": "stderr",
          "text": [
            "  3%|▎         | 129/4144 [01:05<11:41,  5.73it/s]"
          ]
        },
        {
          "output_type": "stream",
          "name": "stdout",
          "text": [
            "❌ Error processing QuantManufacturingIDCWPayoutDirectPlan_INF966L01CK5.xlsx (Unknown): Insufficient NAV history (<3 years)\n"
          ]
        },
        {
          "output_type": "stream",
          "name": "stderr",
          "text": [
            "\r  3%|▎         | 131/4144 [01:06<11:06,  6.02it/s]"
          ]
        },
        {
          "output_type": "stream",
          "name": "stdout",
          "text": [
            "❌ Error processing QuantBfsiIDCWReinvestDirectPlan_INF966L01BZ5.xlsx (Unknown): Insufficient NAV history (<3 years)\n",
            "❌ Error processing QuantMomentumGrowthDirectPlan_INF966L01CZ3.xlsx (Unknown): Insufficient NAV history (<3 years)\n"
          ]
        },
        {
          "output_type": "stream",
          "name": "stderr",
          "text": [
            "  3%|▎         | 138/4144 [01:06<07:51,  8.50it/s]"
          ]
        },
        {
          "output_type": "stream",
          "name": "stdout",
          "text": [
            "❌ Error processing SamcoSpecialOpportunitiesGrowthDirectPlan_INF0K1H01180.xlsx (Unknown): Insufficient NAV history (<3 years)\n",
            "❌ Error processing QuantBusinessCycleGrowthDirectPlan_INF966L01BR2.xlsx (Unknown): Insufficient NAV history (<3 years)\n"
          ]
        },
        {
          "output_type": "stream",
          "name": "stderr",
          "text": [
            "  3%|▎         | 145/4144 [01:07<08:18,  8.03it/s]"
          ]
        },
        {
          "output_type": "stream",
          "name": "stdout",
          "text": [
            "❌ Error processing QuantBusinessCycleIDCWPayoutDirectPlan_INF966L01BS0.xlsx (Unknown): Insufficient NAV history (<3 years)\n",
            "❌ Error processing QuantCommoditiesGrowthDirectPlan_INF966L01DF3.xlsx (Unknown): Insufficient NAV history (<3 years)\n",
            "❌ Error processing QuantGiltGrowthDirectPlan_INF966L01BF7.xlsx (Unknown): Insufficient NAV history (<3 years)\n",
            "❌ Error processing QuantTeckIDCWPayoutDirectPlan_INF966L01CU4.xlsx (Unknown): Insufficient NAV history (<3 years)\n"
          ]
        },
        {
          "output_type": "stream",
          "name": "stderr",
          "text": [
            "  4%|▎         | 152/4144 [01:09<09:17,  7.16it/s]"
          ]
        },
        {
          "output_type": "stream",
          "name": "stdout",
          "text": [
            "❌ Error processing QuantConsumptionIDCWPayoutDirectPlan_INF966L01DO5.xlsx (Unknown): Insufficient NAV history (<3 years)\n"
          ]
        },
        {
          "output_type": "stream",
          "name": "stderr",
          "text": [
            "\r  4%|▎         | 153/4144 [01:09<09:02,  7.36it/s]"
          ]
        },
        {
          "output_type": "stream",
          "name": "stdout",
          "text": [
            "❌ Error processing SamcoDynamicAssetAllocationGrowthDirectPlan_INF0K1H01131.xlsx (Unknown): Insufficient NAV history (<3 years)\n"
          ]
        },
        {
          "output_type": "stream",
          "name": "stderr",
          "text": [
            "\r  4%|▎         | 155/4144 [01:10<17:05,  3.89it/s]"
          ]
        },
        {
          "output_type": "stream",
          "name": "stdout",
          "text": [
            "❌ Error processing QuantGiltIDCWPayoutDirectPlan_INF966L01BG5.xlsx (Unknown): Insufficient NAV history (<3 years)\n"
          ]
        },
        {
          "output_type": "stream",
          "name": "stderr",
          "text": [
            "  4%|▍         | 181/4144 [01:16<12:26,  5.31it/s]"
          ]
        },
        {
          "output_type": "stream",
          "name": "stdout",
          "text": [
            "❌ Error processing SBIBSESensexIndexIDCWPayoutDirectPlan_INF200KA18Y0.xlsx (Unknown): Insufficient NAV history (<3 years)\n"
          ]
        },
        {
          "output_type": "stream",
          "name": "stderr",
          "text": [
            "  5%|▍         | 190/4144 [01:18<09:06,  7.23it/s]"
          ]
        },
        {
          "output_type": "stream",
          "name": "stdout",
          "text": [
            "❌ Error processing SBICrisilIbxGiltIndexApril2029GrowthDirectPlan_INF200KA18Q6.xlsx (Unknown): Insufficient NAV history (<3 years)\n"
          ]
        },
        {
          "output_type": "stream",
          "name": "stderr",
          "text": [
            "  5%|▍         | 195/4144 [01:18<09:10,  7.17it/s]"
          ]
        },
        {
          "output_type": "stream",
          "name": "stdout",
          "text": [
            "❌ Error processing ShriramOvernightFortnightlyIncomeDistributionCumCapitalWithdrawalIDCWPayoutDirectPlan_INF680P01372.xlsx (Unknown): Insufficient NAV history (<3 years)\n"
          ]
        },
        {
          "output_type": "stream",
          "name": "stderr",
          "text": [
            "\r  5%|▍         | 197/4144 [01:19<08:36,  7.64it/s]"
          ]
        },
        {
          "output_type": "stream",
          "name": "stdout",
          "text": [
            "❌ Error processing SBICrisilIbxSDLIndexSeptember2027IDCWPayoutDirectPlan_INF200KA16R8.xlsx (Unknown): Insufficient NAV history (<3 years)\n"
          ]
        },
        {
          "output_type": "stream",
          "name": "stderr",
          "text": [
            "  5%|▍         | 199/4144 [01:19<08:56,  7.35it/s]"
          ]
        },
        {
          "output_type": "stream",
          "name": "stdout",
          "text": [
            "❌ Error processing SBICrisilIbxGiltIndexJune2036IDCWPayoutDirectPlan_INF200KA14Q5.xlsx (Unknown): Insufficient NAV history (<3 years)\n"
          ]
        },
        {
          "output_type": "stream",
          "name": "stderr",
          "text": [
            "  5%|▍         | 204/4144 [01:20<09:59,  6.57it/s]"
          ]
        },
        {
          "output_type": "stream",
          "name": "stdout",
          "text": [
            "❌ Error processing SBICrisilIbxSDLIndexSeptember2027GrowthDirectPlan_INF200KA14R3.xlsx (Unknown): Insufficient NAV history (<3 years)\n"
          ]
        },
        {
          "output_type": "stream",
          "name": "stderr",
          "text": [
            "  5%|▌         | 209/4144 [01:20<08:13,  7.98it/s]"
          ]
        },
        {
          "output_type": "stream",
          "name": "stdout",
          "text": [
            "❌ Error processing SBINifty50EqualWeightIndexIDCWPayoutDirectPlan_INF200KB1043.xlsx (Unknown): Insufficient NAV history (<3 years)\n"
          ]
        },
        {
          "output_type": "stream",
          "name": "stderr",
          "text": [
            "  5%|▌         | 217/4144 [01:22<09:37,  6.80it/s]"
          ]
        },
        {
          "output_type": "stream",
          "name": "stdout",
          "text": [
            "❌ Error processing SBINifty500IndexGrowthDirectPlan_INF200KB1381.xlsx (Unknown): Insufficient NAV history (<3 years)\n"
          ]
        },
        {
          "output_type": "stream",
          "name": "stderr",
          "text": [
            "  5%|▌         | 221/4144 [01:25<45:49,  1.43it/s]"
          ]
        },
        {
          "output_type": "stream",
          "name": "stdout",
          "text": [
            "❌ Error processing SBIQuantGrowthDirectPlan_INF200KB1506.xlsx (Unknown): Insufficient NAV history (<3 years)\n"
          ]
        },
        {
          "output_type": "stream",
          "name": "stderr",
          "text": [
            "  5%|▌         | 227/4144 [01:26<15:58,  4.09it/s]"
          ]
        },
        {
          "output_type": "stream",
          "name": "stdout",
          "text": [
            "❌ Error processing SBIEnergyOpportunitiesIDCWPayoutDirectPlan_INF200KB1142.xlsx (Unknown): Insufficient NAV history (<3 years)\n"
          ]
        },
        {
          "output_type": "stream",
          "name": "stderr",
          "text": [
            "  6%|▌         | 231/4144 [01:26<08:24,  7.76it/s]"
          ]
        },
        {
          "output_type": "stream",
          "name": "stdout",
          "text": [
            "❌ Error processing SBIDividendYieldGrowthDirectPlan_INF200KA14W3.xlsx (Unknown): Insufficient NAV history (<3 years)\n",
            "❌ Error processing SBINifty500IndexIDCWPayoutDirectPlan_INF200KB1407.xlsx (Unknown): Insufficient NAV history (<3 years)\n",
            "❌ Error processing SBIInnovativeOpportunitiesIDCWPayoutDirectPlan_INF200KB1340.xlsx (Unknown): Insufficient NAV history (<3 years)\n"
          ]
        },
        {
          "output_type": "stream",
          "name": "stderr",
          "text": [
            "\r  6%|▌         | 233/4144 [01:27<10:27,  6.24it/s]"
          ]
        },
        {
          "output_type": "stream",
          "name": "stdout",
          "text": [
            "❌ Error processing ShriramMultiSectorRotationGrowthDirectPlan_INF680P01455.xlsx (Unknown): Insufficient NAV history (<3 years)\n"
          ]
        },
        {
          "output_type": "stream",
          "name": "stderr",
          "text": [
            "  6%|▌         | 241/4144 [01:28<07:56,  8.20it/s]"
          ]
        },
        {
          "output_type": "stream",
          "name": "stdout",
          "text": [
            "❌ Error processing ShriramMultiAssetAllocationGrowthDirectPlan_INF680P01406.xlsx (Unknown): Insufficient NAV history (<3 years)\n",
            "❌ Error processing SundaramBusinessCycleIDCWReinvestDirectPlan_INF903JA1LS2.xlsx (Unknown): Insufficient NAV history (<3 years)\n"
          ]
        },
        {
          "output_type": "stream",
          "name": "stderr",
          "text": [
            "  6%|▌         | 244/4144 [01:28<07:47,  8.34it/s]"
          ]
        },
        {
          "output_type": "stream",
          "name": "stdout",
          "text": [
            "❌ Error processing SBISilverETFFoFGrowthDirectPlan_INF200KB1233.xlsx (Unknown): Insufficient NAV history (<3 years)\n"
          ]
        },
        {
          "output_type": "stream",
          "name": "stderr",
          "text": [
            "  6%|▋         | 261/4144 [01:31<06:29,  9.97it/s]"
          ]
        },
        {
          "output_type": "stream",
          "name": "stdout",
          "text": [
            "❌ Error processing SBINifty50EqualWeightIndexGrowthDirectPlan_INF200KB1027.xlsx (Unknown): Insufficient NAV history (<3 years)\n",
            "❌ Error processing SBINiftyMidcap150IndexGrowthDirectPlan_INF200KA10P5.xlsx (Unknown): Insufficient NAV history (<3 years)\n",
            "❌ Error processing SBINiftyIndiaConsumptionIndexIDCWPayoutDirectPlan_INF200KB1464.xlsx (Unknown): Insufficient NAV history (<3 years)\n"
          ]
        },
        {
          "output_type": "stream",
          "name": "stderr",
          "text": [
            "  6%|▋         | 268/4144 [01:32<09:22,  6.89it/s]"
          ]
        },
        {
          "output_type": "stream",
          "name": "stdout",
          "text": [
            "❌ Error processing ShriramOvernightMonthlyIncomeDistributionCumCapitalWithdrawalIDCWPayoutDirectPlan_INF680P01398.xlsx (Unknown): Insufficient NAV history (<3 years)\n"
          ]
        },
        {
          "output_type": "stream",
          "name": "stderr",
          "text": [
            "  7%|▋         | 272/4144 [01:32<08:39,  7.45it/s]"
          ]
        },
        {
          "output_type": "stream",
          "name": "stdout",
          "text": [
            "❌ Error processing SBISilverETFFoFIDCWPayoutDirectPlan_INF200KB1258.xlsx (Unknown): Insufficient NAV history (<3 years)\n"
          ]
        },
        {
          "output_type": "stream",
          "name": "stderr",
          "text": [
            "\r  7%|▋         | 273/4144 [01:33<12:02,  5.36it/s]"
          ]
        },
        {
          "output_type": "stream",
          "name": "stdout",
          "text": [
            "❌ Error processing SBILongDurationGrowthDirectPlan_INF200KA16T4.xlsx (Unknown): Insufficient NAV history (<3 years)\n"
          ]
        },
        {
          "output_type": "stream",
          "name": "stderr",
          "text": [
            "  7%|▋         | 278/4144 [01:33<09:05,  7.09it/s]"
          ]
        },
        {
          "output_type": "stream",
          "name": "stdout",
          "text": [
            "❌ Error processing SBIQuantIDCWPayoutDirectPlan_INF200KB1522.xlsx (Unknown): Insufficient NAV history (<3 years)\n",
            "❌ Error processing SBICrisilIbxGiltIndexJune2036GrowthDirectPlan_INF200KA12Q9.xlsx (Unknown): Insufficient NAV history (<3 years)\n"
          ]
        },
        {
          "output_type": "stream",
          "name": "stderr",
          "text": [
            "  7%|▋         | 282/4144 [01:34<08:30,  7.57it/s]"
          ]
        },
        {
          "output_type": "stream",
          "name": "stdout",
          "text": [
            "❌ Error processing ShriramLiquidGrowthDirectPlan_INF680P01430.xlsx (Unknown): Insufficient NAV history (<3 years)\n"
          ]
        },
        {
          "output_type": "stream",
          "name": "stderr",
          "text": [
            "  7%|▋         | 286/4144 [01:34<06:59,  9.19it/s]"
          ]
        },
        {
          "output_type": "stream",
          "name": "stdout",
          "text": [
            "❌ Error processing SBINiftySmallcap250IndexGrowthDirectPlan_INF200KA16P2.xlsx (Unknown): Insufficient NAV history (<3 years)\n"
          ]
        },
        {
          "output_type": "stream",
          "name": "stderr",
          "text": [
            "  7%|▋         | 289/4144 [01:35<08:56,  7.18it/s]"
          ]
        },
        {
          "output_type": "stream",
          "name": "stdout",
          "text": [
            "❌ Error processing SBILongDurationIDCWPayoutDirectPlan_INF200KA18T0.xlsx (Unknown): Insufficient NAV history (<3 years)\n"
          ]
        },
        {
          "output_type": "stream",
          "name": "stderr",
          "text": [
            "\r  7%|▋         | 290/4144 [01:35<08:46,  7.32it/s]"
          ]
        },
        {
          "output_type": "stream",
          "name": "stdout",
          "text": [
            "❌ Error processing SBINiftyIndiaConsumptionIndexGrowthDirectPlan_INF200KB1449.xlsx (Unknown): Insufficient NAV history (<3 years)\n"
          ]
        },
        {
          "output_type": "stream",
          "name": "stderr",
          "text": [
            "  7%|▋         | 298/4144 [01:39<27:26,  2.34it/s]"
          ]
        },
        {
          "output_type": "stream",
          "name": "stdout",
          "text": [
            "❌ Error processing SBINiftyMidcap150IndexIDCWPayoutDirectPlan_INF200KA12P1.xlsx (Unknown): Insufficient NAV history (<3 years)\n"
          ]
        },
        {
          "output_type": "stream",
          "name": "stderr",
          "text": [
            "  7%|▋         | 305/4144 [01:40<12:17,  5.20it/s]"
          ]
        },
        {
          "output_type": "stream",
          "name": "stdout",
          "text": [
            "❌ Error processing SBICrisilIbxGiltIndexApril2029IDCWPayoutDirectPlan_INF200KA10R1.xlsx (Unknown): Insufficient NAV history (<3 years)\n",
            "❌ Error processing SundaramBusinessCycleIDCWPayoutDirectPlan_INF903JA1LR4.xlsx (Unknown): Insufficient NAV history (<3 years)\n"
          ]
        },
        {
          "output_type": "stream",
          "name": "stderr",
          "text": [
            "  8%|▊         | 311/4144 [01:41<07:32,  8.48it/s]"
          ]
        },
        {
          "output_type": "stream",
          "name": "stdout",
          "text": [
            "❌ Error processing SBIEnergyOpportunitiesGrowthDirectPlan_INF200KB1126.xlsx (Unknown): Insufficient NAV history (<3 years)\n"
          ]
        },
        {
          "output_type": "stream",
          "name": "stderr",
          "text": [
            "\r  8%|▊         | 312/4144 [01:41<08:45,  7.30it/s]"
          ]
        },
        {
          "output_type": "stream",
          "name": "stdout",
          "text": [
            "❌ Error processing SBIBSESensexIndexGrowthDirectPlan_INF200KA16Y4.xlsx (Unknown): Insufficient NAV history (<3 years)\n"
          ]
        },
        {
          "output_type": "stream",
          "name": "stderr",
          "text": [
            "  8%|▊         | 318/4144 [01:42<10:45,  5.92it/s]"
          ]
        },
        {
          "output_type": "stream",
          "name": "stdout",
          "text": [
            "❌ Error processing SundaramBusinessCycleGrowthDirectPlan_INF903JA1LQ6.xlsx (Unknown): Insufficient NAV history (<3 years)\n"
          ]
        },
        {
          "output_type": "stream",
          "name": "stderr",
          "text": [
            "  8%|▊         | 333/4144 [01:45<09:35,  6.63it/s]"
          ]
        },
        {
          "output_type": "stream",
          "name": "stdout",
          "text": [
            "❌ Error processing SBIDividendYieldIDCWPayoutDirectPlan_INF200KA16W8.xlsx (Unknown): Insufficient NAV history (<3 years)\n"
          ]
        },
        {
          "output_type": "stream",
          "name": "stderr",
          "text": [
            "  8%|▊         | 338/4144 [01:46<13:58,  4.54it/s]"
          ]
        },
        {
          "output_type": "stream",
          "name": "stdout",
          "text": [
            "❌ Error processing SBINiftySmallcap250IndexIDCWPayoutDirectPlan_INF200KA18P8.xlsx (Unknown): Insufficient NAV history (<3 years)\n"
          ]
        },
        {
          "output_type": "stream",
          "name": "stderr",
          "text": [
            "  8%|▊         | 348/4144 [01:48<11:35,  5.46it/s]"
          ]
        },
        {
          "output_type": "stream",
          "name": "stdout",
          "text": [
            "❌ Error processing SBIInnovativeOpportunitiesGrowthDirectPlan_INF200KB1324.xlsx (Unknown): Insufficient NAV history (<3 years)\n"
          ]
        },
        {
          "output_type": "stream",
          "name": "stderr",
          "text": [
            "  8%|▊         | 352/4144 [01:49<08:32,  7.40it/s]"
          ]
        },
        {
          "output_type": "stream",
          "name": "stdout",
          "text": [
            "❌ Error processing TataCrisilIbxGiltIndexApril2026IndexIDCWPayoutDirectPlan_INF277KA1562.xlsx (Unknown): Insufficient NAV history (<3 years)\n"
          ]
        },
        {
          "output_type": "stream",
          "name": "stderr",
          "text": [
            "  9%|▊         | 355/4144 [01:49<07:45,  8.14it/s]"
          ]
        },
        {
          "output_type": "stream",
          "name": "stdout",
          "text": [
            "❌ Error processing TataNiftyGSecDec2026IndexGrowthDirectPlan_INF277KA1794.xlsx (Unknown): Insufficient NAV history (<3 years)\n",
            "❌ Error processing TataNiftyRealtyIndexGrowthDirectPlan_INF277KA1AO9.xlsx (Unknown): Insufficient NAV history (<3 years)\n"
          ]
        },
        {
          "output_type": "stream",
          "name": "stderr",
          "text": [
            "  9%|▉         | 369/4144 [01:54<08:40,  7.25it/s]"
          ]
        },
        {
          "output_type": "stream",
          "name": "stdout",
          "text": [
            "❌ Error processing TataNiftyMidcap150Momentum50IndexGrowthDirectPlan_INF277KA1612.xlsx (Unknown): Insufficient NAV history (<3 years)\n"
          ]
        },
        {
          "output_type": "stream",
          "name": "stderr",
          "text": [
            "\r  9%|▉         | 371/4144 [01:54<07:43,  8.14it/s]"
          ]
        },
        {
          "output_type": "stream",
          "name": "stdout",
          "text": [
            "❌ Error processing TataNifty500MulticapIndiaManufacturing503020IndexGrowthDirectPlan_INF277KA1BM1.xlsx (Unknown): Insufficient NAV history (<3 years)\n",
            "❌ Error processing TataHousingOpportunitiesIDCWPayoutDirectPlan_INF277KA1505.xlsx (Unknown): Insufficient NAV history (<3 years)\n"
          ]
        },
        {
          "output_type": "stream",
          "name": "stderr",
          "text": [
            "  9%|▉         | 378/4144 [01:55<08:44,  7.18it/s]"
          ]
        },
        {
          "output_type": "stream",
          "name": "stdout",
          "text": [
            "❌ Error processing TataIndiaInnovationIDCWPayoutDirectPlan_INF277KA1CV0.xlsx (Unknown): Insufficient NAV history (<3 years)\n"
          ]
        },
        {
          "output_type": "stream",
          "name": "stderr",
          "text": [
            "  9%|▉         | 382/4144 [01:55<06:08, 10.20it/s]"
          ]
        },
        {
          "output_type": "stream",
          "name": "stdout",
          "text": [
            "❌ Error processing TataNiftyCapitalMarketsIndexIDCWPayoutDirectPlan_INF277KA1CP2.xlsx (Unknown): Insufficient NAV history (<3 years)\n",
            "❌ Error processing SundaramFlexiCapIDCWPayoutDirectPlan_INF903JA1LF9.xlsx (Unknown): Insufficient NAV history (<3 years)\n"
          ]
        },
        {
          "output_type": "stream",
          "name": "stderr",
          "text": [
            "  9%|▉         | 386/4144 [01:56<06:08, 10.20it/s]"
          ]
        },
        {
          "output_type": "stream",
          "name": "stdout",
          "text": [
            "❌ Error processing TataNiftyIndiaTourismIndexGrowthDirectPlan_INF277KA1CC0.xlsx (Unknown): Insufficient NAV history (<3 years)\n"
          ]
        },
        {
          "output_type": "stream",
          "name": "stderr",
          "text": [
            " 10%|▉         | 400/4144 [01:58<07:03,  8.84it/s]"
          ]
        },
        {
          "output_type": "stream",
          "name": "stdout",
          "text": [
            "❌ Error processing TataNiftyFinancialServicesIndexIDCWPayoutDirectPlan_INF277KA1BC2.xlsx (Unknown): Insufficient NAV history (<3 years)\n",
            "❌ Error processing TataNiftyMidcap150Momentum50IndexIDCWPayoutDirectPlan_INF277KA1620.xlsx (Unknown): Insufficient NAV history (<3 years)\n"
          ]
        },
        {
          "output_type": "stream",
          "name": "stderr",
          "text": [
            " 10%|▉         | 411/4144 [01:59<07:21,  8.45it/s]"
          ]
        },
        {
          "output_type": "stream",
          "name": "stdout",
          "text": [
            "❌ Error processing TataNiftyGSecDec2029IndexIDCWPayoutDirectPlan_INF277KA1745.xlsx (Unknown): Insufficient NAV history (<3 years)\n"
          ]
        },
        {
          "output_type": "stream",
          "name": "stderr",
          "text": [
            "\r 10%|▉         | 412/4144 [01:59<08:07,  7.65it/s]"
          ]
        },
        {
          "output_type": "stream",
          "name": "stdout",
          "text": [
            "❌ Error processing TataNiftyGSecDec2026IndexIDCWPayoutDirectPlan_INF277KA1802.xlsx (Unknown): Insufficient NAV history (<3 years)\n",
            "❌ Error processing TataGoldETFFoFGrowthDirectPlan_INF277KA1869.xlsx (Unknown): Insufficient NAV history (<3 years)\n"
          ]
        },
        {
          "output_type": "stream",
          "name": "stderr",
          "text": [
            " 10%|█         | 419/4144 [02:00<07:26,  8.34it/s]"
          ]
        },
        {
          "output_type": "stream",
          "name": "stdout",
          "text": [
            "❌ Error processing SundaramFlexiCapGrowthDirectPlan_INF903JA1LE2.xlsx (Unknown): Insufficient NAV history (<3 years)\n",
            "❌ Error processing TataNiftyCapitalMarketsIndexGrowthDirectPlan_INF277KA1CO5.xlsx (Unknown): Insufficient NAV history (<3 years)\n",
            "❌ Error processing TataNiftyAutoIndexGrowthDirectPlan_INF277KA1AU6.xlsx (Unknown): Insufficient NAV history (<3 years)\n"
          ]
        },
        {
          "output_type": "stream",
          "name": "stderr",
          "text": [
            " 10%|█         | 424/4144 [02:01<07:25,  8.35it/s]"
          ]
        },
        {
          "output_type": "stream",
          "name": "stdout",
          "text": [
            "❌ Error processing TataNifty200Alpha30IndexIDCWPayoutDirectPlan_INF277KA1CK3.xlsx (Unknown): Insufficient NAV history (<3 years)\n"
          ]
        },
        {
          "output_type": "stream",
          "name": "stderr",
          "text": [
            " 10%|█         | 433/4144 [02:02<06:26,  9.60it/s]"
          ]
        },
        {
          "output_type": "stream",
          "name": "stdout",
          "text": [
            "❌ Error processing TataNiftyFinancialServicesIndexGrowthDirectPlan_INF277KA1BA6.xlsx (Unknown): Insufficient NAV history (<3 years)\n",
            "❌ Error processing SundaramMoneyMarketWeeklyIDCWReinvestDirectPlan_INF903JA1FV8.xlsx (Unknown): Insufficient NAV history (<3 years)\n"
          ]
        },
        {
          "output_type": "stream",
          "name": "stderr",
          "text": [
            " 11%|█         | 440/4144 [02:06<18:53,  3.27it/s]"
          ]
        },
        {
          "output_type": "stream",
          "name": "stdout",
          "text": [
            "❌ Error processing TataMulticapIDCWPayoutDirectPlan_INF277KA1687.xlsx (Unknown): Insufficient NAV history (<3 years)\n"
          ]
        },
        {
          "output_type": "stream",
          "name": "stderr",
          "text": [
            " 11%|█         | 444/4144 [02:06<10:21,  5.95it/s]"
          ]
        },
        {
          "output_type": "stream",
          "name": "stdout",
          "text": [
            "❌ Error processing TataBSESelectBusinessGroupsIndexIDCWPayoutDirectPlan_INF277KA1DB0.xlsx (Unknown): Insufficient NAV history (<3 years)\n",
            "❌ Error processing SundaramMultiAssetAllocationGrowthDirectPlan_INF903JA1LK9.xlsx (Unknown): Insufficient NAV history (<3 years)\n"
          ]
        },
        {
          "output_type": "stream",
          "name": "stderr",
          "text": [
            " 11%|█         | 449/4144 [02:07<07:51,  7.84it/s]"
          ]
        },
        {
          "output_type": "stream",
          "name": "stdout",
          "text": [
            "❌ Error processing TataGoldETFFoFIDCWPayoutDirectPlan_INF277KA1877.xlsx (Unknown): Insufficient NAV history (<3 years)\n"
          ]
        },
        {
          "output_type": "stream",
          "name": "stderr",
          "text": [
            " 11%|█         | 459/4144 [02:08<07:30,  8.18it/s]"
          ]
        },
        {
          "output_type": "stream",
          "name": "stdout",
          "text": [
            "❌ Error processing TataNiftyMidsmallHealthcareIndexGrowthDirectPlan_INF277KA1BG3.xlsx (Unknown): Insufficient NAV history (<3 years)\n"
          ]
        },
        {
          "output_type": "stream",
          "name": "stderr",
          "text": [
            " 11%|█         | 466/4144 [02:09<07:51,  7.79it/s]"
          ]
        },
        {
          "output_type": "stream",
          "name": "stdout",
          "text": [
            "❌ Error processing TataNiftyRealtyIndexIDCWPayoutDirectPlan_INF277KA1AQ4.xlsx (Unknown): Insufficient NAV history (<3 years)\n",
            "❌ Error processing SundaramMultiAssetAllocationIDCWReinvestDirectPlan_INF903JA1LM5.xlsx (Unknown): Insufficient NAV history (<3 years)\n"
          ]
        },
        {
          "output_type": "stream",
          "name": "stderr",
          "text": [
            " 12%|█▏        | 477/4144 [02:11<08:24,  7.27it/s]"
          ]
        },
        {
          "output_type": "stream",
          "name": "stdout",
          "text": [
            "❌ Error processing TataNiftyGSecDec2029IndexGrowthDirectPlan_INF277KA1737.xlsx (Unknown): Insufficient NAV history (<3 years)\n"
          ]
        },
        {
          "output_type": "stream",
          "name": "stderr",
          "text": [
            " 12%|█▏        | 480/4144 [02:11<06:43,  9.09it/s]"
          ]
        },
        {
          "output_type": "stream",
          "name": "stdout",
          "text": [
            "❌ Error processing TataNifty500MulticapIndiaManufacturing503020IndexIDCWPayoutDirectPlan_INF277KA1BO7.xlsx (Unknown): Insufficient NAV history (<3 years)\n",
            "❌ Error processing TataHousingOpportunitiesGrowthDirectPlan_INF277KA1497.xlsx (Unknown): Insufficient NAV history (<3 years)\n"
          ]
        },
        {
          "output_type": "stream",
          "name": "stderr",
          "text": [
            " 12%|█▏        | 487/4144 [02:12<07:35,  8.02it/s]"
          ]
        },
        {
          "output_type": "stream",
          "name": "stdout",
          "text": [
            "❌ Error processing TataNifty500MulticapInfrastructure503020IndexGrowthDirectPlan_INF277KA1BS8.xlsx (Unknown): Insufficient NAV history (<3 years)\n"
          ]
        },
        {
          "output_type": "stream",
          "name": "stderr",
          "text": [
            " 12%|█▏        | 491/4144 [02:13<06:54,  8.81it/s]"
          ]
        },
        {
          "output_type": "stream",
          "name": "stdout",
          "text": [
            "❌ Error processing TataNifty200Alpha30IndexGrowthDirectPlan_INF277KA1CI7.xlsx (Unknown): Insufficient NAV history (<3 years)\n"
          ]
        },
        {
          "output_type": "stream",
          "name": "stderr",
          "text": [
            " 12%|█▏        | 493/4144 [02:13<07:50,  7.76it/s]"
          ]
        },
        {
          "output_type": "stream",
          "name": "stdout",
          "text": [
            "❌ Error processing TataNiftyAutoIndexIDCWPayoutDirectPlan_INF277KA1AW2.xlsx (Unknown): Insufficient NAV history (<3 years)\n"
          ]
        },
        {
          "output_type": "stream",
          "name": "stderr",
          "text": [
            " 12%|█▏        | 497/4144 [02:13<06:42,  9.06it/s]"
          ]
        },
        {
          "output_type": "stream",
          "name": "stdout",
          "text": [
            "❌ Error processing TataNiftyMidsmallHealthcareIndexIDCWPayoutDirectPlan_INF277KA1BI9.xlsx (Unknown): Insufficient NAV history (<3 years)\n"
          ]
        },
        {
          "output_type": "stream",
          "name": "stderr",
          "text": [
            " 12%|█▏        | 499/4144 [02:14<07:35,  8.00it/s]"
          ]
        },
        {
          "output_type": "stream",
          "name": "stdout",
          "text": [
            "❌ Error processing SundaramFlexiCapIDCWReinvestDirectPlan_INF903JA1LG7.xlsx (Unknown): Insufficient NAV history (<3 years)\n",
            "❌ Error processing TataIndiaInnovationGrowthDirectPlan_INF277KA1CU2.xlsx (Unknown): Insufficient NAV history (<3 years)\n"
          ]
        },
        {
          "output_type": "stream",
          "name": "stderr",
          "text": [
            " 12%|█▏        | 503/4144 [02:14<06:33,  9.25it/s]"
          ]
        },
        {
          "output_type": "stream",
          "name": "stdout",
          "text": [
            "❌ Error processing TataNifty500MulticapInfrastructure503020IndexIDCWPayoutDirectPlan_INF277KA1BU4.xlsx (Unknown): Insufficient NAV history (<3 years)\n"
          ]
        },
        {
          "output_type": "stream",
          "name": "stderr",
          "text": [
            " 12%|█▏        | 507/4144 [02:15<07:31,  8.06it/s]"
          ]
        },
        {
          "output_type": "stream",
          "name": "stdout",
          "text": [
            "❌ Error processing TataBSESelectBusinessGroupsIndexGrowthDirectPlan_INF277KA1DA2.xlsx (Unknown): Insufficient NAV history (<3 years)\n"
          ]
        },
        {
          "output_type": "stream",
          "name": "stderr",
          "text": [
            " 12%|█▏        | 515/4144 [02:17<21:53,  2.76it/s]"
          ]
        },
        {
          "output_type": "stream",
          "name": "stdout",
          "text": [
            "❌ Error processing TataNiftyIndiaTourismIndexIDCWPayoutDirectPlan_INF277KA1CE6.xlsx (Unknown): Insufficient NAV history (<3 years)\n"
          ]
        },
        {
          "output_type": "stream",
          "name": "stderr",
          "text": [
            "\r 12%|█▏        | 517/4144 [02:18<26:30,  2.28it/s]"
          ]
        },
        {
          "output_type": "stream",
          "name": "stdout",
          "text": [
            "❌ Error processing TataMulticapGrowthDirectPlan_INF277KA1679.xlsx (Unknown): Insufficient NAV history (<3 years)\n"
          ]
        },
        {
          "output_type": "stream",
          "name": "stderr",
          "text": [
            " 13%|█▎        | 529/4144 [02:20<08:47,  6.85it/s]"
          ]
        },
        {
          "output_type": "stream",
          "name": "stdout",
          "text": [
            "❌ Error processing TataCrisilIbxGiltIndexApril2026IndexGrowthDirectPlan_INF277KA1554.xlsx (Unknown): Insufficient NAV history (<3 years)\n"
          ]
        },
        {
          "output_type": "stream",
          "name": "stderr",
          "text": [
            " 13%|█▎        | 536/4144 [02:21<08:41,  6.91it/s]"
          ]
        },
        {
          "output_type": "stream",
          "name": "stdout",
          "text": [
            "❌ Error processing SundaramMultiAssetAllocationIDCWPayoutDirectPlan_INF903JA1LL7.xlsx (Unknown): Insufficient NAV history (<3 years)\n",
            "❌ Error processing UnionActiveMomentumIDCWPayoutDirectPlan_INF582M01KH7.xlsx (Unknown): Insufficient NAV history (<3 years)\n"
          ]
        },
        {
          "output_type": "stream",
          "name": "stderr",
          "text": [
            " 13%|█▎        | 545/4144 [02:23<09:40,  6.21it/s]"
          ]
        },
        {
          "output_type": "stream",
          "name": "stdout",
          "text": [
            "❌ Error processing TataSilverETFFoFIDCWPayoutDirectPlan_INF277KA1950.xlsx (Unknown): Insufficient NAV history (<3 years)\n"
          ]
        },
        {
          "output_type": "stream",
          "name": "stderr",
          "text": [
            "\r 13%|█▎        | 547/4144 [02:23<07:36,  7.88it/s]"
          ]
        },
        {
          "output_type": "stream",
          "name": "stdout",
          "text": [
            "❌ Error processing UnionMultiAssetAllocationIDCWPayoutDirectPlan_INF582M01JZ1.xlsx (Unknown): Insufficient NAV history (<3 years)\n"
          ]
        },
        {
          "output_type": "stream",
          "name": "stderr",
          "text": [
            " 13%|█▎        | 552/4144 [02:24<07:39,  7.82it/s]"
          ]
        },
        {
          "output_type": "stream",
          "name": "stdout",
          "text": [
            "❌ Error processing UnionInnovationOppIDCWPayoutDirectPlan_INF582M01JF3.xlsx (Unknown): Insufficient NAV history (<3 years)\n"
          ]
        },
        {
          "output_type": "stream",
          "name": "stderr",
          "text": [
            " 13%|█▎        | 558/4144 [02:25<08:41,  6.88it/s]"
          ]
        },
        {
          "output_type": "stream",
          "name": "stdout",
          "text": [
            "❌ Error processing UnionActiveMomentumIDCWReinvestDirectPlan_INF582M01KI5.xlsx (Unknown): Insufficient NAV history (<3 years)\n"
          ]
        },
        {
          "output_type": "stream",
          "name": "stderr",
          "text": [
            " 14%|█▎        | 567/4144 [02:26<07:38,  7.80it/s]"
          ]
        },
        {
          "output_type": "stream",
          "name": "stdout",
          "text": [
            "❌ Error processing TrustMFCorporateBondGrowthDirectPlan_INF0GCD01560.xlsx (Unknown): Insufficient NAV history (<3 years)\n"
          ]
        },
        {
          "output_type": "stream",
          "name": "stderr",
          "text": [
            " 14%|█▍        | 571/4144 [02:26<07:18,  8.15it/s]"
          ]
        },
        {
          "output_type": "stream",
          "name": "stdout",
          "text": [
            "❌ Error processing UnionMultiAssetAllocationGrowthDirectPlan_INF582M01JY4.xlsx (Unknown): Insufficient NAV history (<3 years)\n",
            "❌ Error processing UnionMultiAssetAllocationIDCWReinvestDirectPlan_INF582M01KA2.xlsx (Unknown): Insufficient NAV history (<3 years)\n"
          ]
        },
        {
          "output_type": "stream",
          "name": "stderr",
          "text": [
            " 14%|█▍        | 580/4144 [02:28<07:38,  7.78it/s]"
          ]
        },
        {
          "output_type": "stream",
          "name": "stdout",
          "text": [
            "❌ Error processing UnionMulticapGrowthDirectPlan_INF582M01IO7.xlsx (Unknown): Insufficient NAV history (<3 years)\n"
          ]
        },
        {
          "output_type": "stream",
          "name": "stderr",
          "text": [
            " 14%|█▍        | 583/4144 [02:28<07:54,  7.51it/s]"
          ]
        },
        {
          "output_type": "stream",
          "name": "stdout",
          "text": [
            "❌ Error processing TrustMFMoneyMarketMonthlyIDCWPayoutDirectPlan_INF0GCD01529.xlsx (Unknown): Insufficient NAV history (<3 years)\n"
          ]
        },
        {
          "output_type": "stream",
          "name": "stderr",
          "text": [
            "\r 14%|█▍        | 585/4144 [02:28<07:02,  8.43it/s]"
          ]
        },
        {
          "output_type": "stream",
          "name": "stdout",
          "text": [
            "❌ Error processing TrustMFCorporateBondMonthlyIDCWPayoutDirectPlan_INF0GCD01586.xlsx (Unknown): Insufficient NAV history (<3 years)\n"
          ]
        },
        {
          "output_type": "stream",
          "name": "stderr",
          "text": [
            " 14%|█▍        | 590/4144 [02:31<37:14,  1.59it/s]"
          ]
        },
        {
          "output_type": "stream",
          "name": "stdout",
          "text": [
            "❌ Error processing TrustMFMoneyMarketMonthlyIDCWReinvestDirectPlan_INF0GCD01511.xlsx (Unknown): Insufficient NAV history (<3 years)\n"
          ]
        },
        {
          "output_type": "stream",
          "name": "stderr",
          "text": [
            " 14%|█▍        | 597/4144 [02:33<13:31,  4.37it/s]"
          ]
        },
        {
          "output_type": "stream",
          "name": "stdout",
          "text": [
            "❌ Error processing UnionBusinessCycleIDCWReinvestDirectPlan_INF582M01JS6.xlsx (Unknown): Insufficient NAV history (<3 years)\n"
          ]
        },
        {
          "output_type": "stream",
          "name": "stderr",
          "text": [
            " 14%|█▍        | 600/4144 [02:33<09:39,  6.12it/s]"
          ]
        },
        {
          "output_type": "stream",
          "name": "stdout",
          "text": [
            "❌ Error processing UnionMoneyMarketOfWeeklyIDCWReinvestDirectPlan_INF582M01HI1.xlsx (Unknown): Insufficient NAV history (<3 years)\n"
          ]
        },
        {
          "output_type": "stream",
          "name": "stderr",
          "text": [
            " 15%|█▍        | 608/4144 [02:34<08:38,  6.82it/s]"
          ]
        },
        {
          "output_type": "stream",
          "name": "stdout",
          "text": [
            "❌ Error processing UnionGiltAnnualIDCWPayoutDirectPlan_INF582M01IA6.xlsx (Unknown): Insufficient NAV history (<3 years)\n"
          ]
        },
        {
          "output_type": "stream",
          "name": "stderr",
          "text": [
            " 15%|█▍        | 613/4144 [02:35<06:24,  9.18it/s]"
          ]
        },
        {
          "output_type": "stream",
          "name": "stdout",
          "text": [
            "❌ Error processing UnionGiltGrowthDirectPlan_INF582M01HW2.xlsx (Unknown): Insufficient NAV history (<3 years)\n",
            "❌ Error processing UnionActiveMomentumGrowthDirectPlan_INF582M01KG9.xlsx (Unknown): Insufficient NAV history (<3 years)\n"
          ]
        },
        {
          "output_type": "stream",
          "name": "stderr",
          "text": [
            " 15%|█▌        | 623/4144 [02:37<08:16,  7.09it/s]"
          ]
        },
        {
          "output_type": "stream",
          "name": "stdout",
          "text": [
            "❌ Error processing TrustMFCorporateBondMonthlyIDCWReinvestDirectPlan_INF0GCD01578.xlsx (Unknown): Insufficient NAV history (<3 years)\n"
          ]
        },
        {
          "output_type": "stream",
          "name": "stderr",
          "text": [
            " 15%|█▌        | 626/4144 [02:37<07:31,  7.79it/s]"
          ]
        },
        {
          "output_type": "stream",
          "name": "stdout",
          "text": [
            "❌ Error processing UnionRetirementGrowthDirectPlan_INF582M01IK5.xlsx (Unknown): Insufficient NAV history (<3 years)\n"
          ]
        },
        {
          "output_type": "stream",
          "name": "stderr",
          "text": [
            " 15%|█▌        | 630/4144 [02:38<08:35,  6.82it/s]"
          ]
        },
        {
          "output_type": "stream",
          "name": "stdout",
          "text": [
            "❌ Error processing UTIBalancedAdvantageOfIDCWPayoutDirectPlan_INF789F1AYW1.xlsx (Unknown): Insufficient NAV history (<3 years)\n",
            "❌ Error processing TrustMFSmallCapGrowthDirectPlan_INF0GCD01800.xlsx (Unknown): Insufficient NAV history (<3 years)\n"
          ]
        },
        {
          "output_type": "stream",
          "name": "stderr",
          "text": [
            " 15%|█▌        | 636/4144 [02:39<10:16,  5.69it/s]"
          ]
        },
        {
          "output_type": "stream",
          "name": "stdout",
          "text": [
            "❌ Error processing TrustMFSmallCapIDCWReinvestDirectPlan_INF0GCD01818.xlsx (Unknown): Insufficient NAV history (<3 years)\n"
          ]
        },
        {
          "output_type": "stream",
          "name": "stderr",
          "text": [
            " 15%|█▌        | 640/4144 [02:39<07:32,  7.74it/s]"
          ]
        },
        {
          "output_type": "stream",
          "name": "stdout",
          "text": [
            "❌ Error processing UTIBalancedAdvantageGrowthDirectPlan_INF789F1AYV3.xlsx (Unknown): Insufficient NAV history (<3 years)\n"
          ]
        },
        {
          "output_type": "stream",
          "name": "stderr",
          "text": [
            "\r 15%|█▌        | 641/4144 [02:39<08:46,  6.66it/s]"
          ]
        },
        {
          "output_type": "stream",
          "name": "stdout",
          "text": [
            "❌ Error processing TrustMFFlexiCapIDCWReinvestDirectPlan_INF0GCD01768.xlsx (Unknown): Insufficient NAV history (<3 years)\n"
          ]
        },
        {
          "output_type": "stream",
          "name": "stderr",
          "text": [
            " 16%|█▌        | 646/4144 [02:40<07:34,  7.69it/s]"
          ]
        },
        {
          "output_type": "stream",
          "name": "stdout",
          "text": [
            "❌ Error processing TrustMFMoneyMarketGrowthDirectPlan_INF0GCD01503.xlsx (Unknown): Insufficient NAV history (<3 years)\n"
          ]
        },
        {
          "output_type": "stream",
          "name": "stderr",
          "text": [
            " 16%|█▌        | 654/4144 [02:41<09:28,  6.14it/s]"
          ]
        },
        {
          "output_type": "stream",
          "name": "stdout",
          "text": [
            "❌ Error processing UnionGiltHalfYearlyIDCWReinvestDirectPlan_INF582M01HY8.xlsx (Unknown): Insufficient NAV history (<3 years)\n",
            "❌ Error processing TataSilverETFFoFGrowthDirectPlan_INF277KA1943.xlsx (Unknown): Insufficient NAV history (<3 years)\n"
          ]
        },
        {
          "output_type": "stream",
          "name": "stderr",
          "text": [
            " 16%|█▌        | 659/4144 [02:42<10:17,  5.65it/s]"
          ]
        },
        {
          "output_type": "stream",
          "name": "stdout",
          "text": [
            "❌ Error processing TrustMFFlexiCapIDCWPayoutDirectPlan_INF0GCD01750.xlsx (Unknown): Insufficient NAV history (<3 years)\n"
          ]
        },
        {
          "output_type": "stream",
          "name": "stderr",
          "text": [
            " 16%|█▌        | 666/4144 [02:46<19:18,  3.00it/s]"
          ]
        },
        {
          "output_type": "stream",
          "name": "stdout",
          "text": [
            "❌ Error processing UnionMulticapIDCWReinvestDirectPlan_INF582M01IQ2.xlsx (Unknown): Insufficient NAV history (<3 years)\n"
          ]
        },
        {
          "output_type": "stream",
          "name": "stderr",
          "text": [
            " 16%|█▌        | 669/4144 [02:46<13:38,  4.24it/s]"
          ]
        },
        {
          "output_type": "stream",
          "name": "stdout",
          "text": [
            "❌ Error processing UnionRetirementIDCWPayoutDirectPlan_INF582M01IL3.xlsx (Unknown): Insufficient NAV history (<3 years)\n",
            "❌ Error processing UnionMoneyMarketOfDailyIDCWReinvestDirectPlan_INF582M01HH3.xlsx (Unknown): Insufficient NAV history (<3 years)\n"
          ]
        },
        {
          "output_type": "stream",
          "name": "stderr",
          "text": [
            " 16%|█▌        | 673/4144 [02:46<09:42,  5.96it/s]"
          ]
        },
        {
          "output_type": "stream",
          "name": "stdout",
          "text": [
            "❌ Error processing UnionGiltHalfYearlyIDCWPayoutDirectPlan_INF582M01HX0.xlsx (Unknown): Insufficient NAV history (<3 years)\n"
          ]
        },
        {
          "output_type": "stream",
          "name": "stderr",
          "text": [
            " 16%|█▋        | 679/4144 [02:47<08:07,  7.11it/s]"
          ]
        },
        {
          "output_type": "stream",
          "name": "stdout",
          "text": [
            "❌ Error processing TrustMFFlexiCapGrowthDirectPlan_INF0GCD01743.xlsx (Unknown): Insufficient NAV history (<3 years)\n"
          ]
        },
        {
          "output_type": "stream",
          "name": "stderr",
          "text": [
            " 16%|█▋        | 682/4144 [02:48<08:46,  6.58it/s]"
          ]
        },
        {
          "output_type": "stream",
          "name": "stdout",
          "text": [
            "❌ Error processing UnionGiltAnnualIDCWReinvestDirectPlan_INF582M01IB4.xlsx (Unknown): Insufficient NAV history (<3 years)\n"
          ]
        },
        {
          "output_type": "stream",
          "name": "stderr",
          "text": [
            "\r 17%|█▋        | 684/4144 [02:48<07:53,  7.31it/s]"
          ]
        },
        {
          "output_type": "stream",
          "name": "stdout",
          "text": [
            "❌ Error processing UnionInnovationOppIDCWReinvestDirectPlan_INF582M01JG1.xlsx (Unknown): Insufficient NAV history (<3 years)\n"
          ]
        },
        {
          "output_type": "stream",
          "name": "stderr",
          "text": [
            " 17%|█▋        | 709/4144 [02:52<08:31,  6.72it/s]"
          ]
        },
        {
          "output_type": "stream",
          "name": "stdout",
          "text": [
            "❌ Error processing TrustMFSmallCapIDCWPayoutDirectPlan_INF0GCD01826.xlsx (Unknown): Insufficient NAV history (<3 years)\n"
          ]
        },
        {
          "output_type": "stream",
          "name": "stderr",
          "text": [
            " 17%|█▋        | 713/4144 [02:53<08:40,  6.59it/s]"
          ]
        },
        {
          "output_type": "stream",
          "name": "stdout",
          "text": [
            "❌ Error processing UnionInnovationOppGrowthDirectPlan_INF582M01JE6.xlsx (Unknown): Insufficient NAV history (<3 years)\n"
          ]
        },
        {
          "output_type": "stream",
          "name": "stderr",
          "text": [
            "\r 17%|█▋        | 714/4144 [02:53<10:06,  5.65it/s]"
          ]
        },
        {
          "output_type": "stream",
          "name": "stdout",
          "text": [
            "❌ Error processing UnionBusinessCycleIDCWPayoutDirectPlan_INF582M01JR8.xlsx (Unknown): Insufficient NAV history (<3 years)\n"
          ]
        },
        {
          "output_type": "stream",
          "name": "stderr",
          "text": [
            " 17%|█▋        | 719/4144 [02:54<10:10,  5.61it/s]"
          ]
        },
        {
          "output_type": "stream",
          "name": "stdout",
          "text": [
            "❌ Error processing UnionBusinessCycleGrowthDirectPlan_INF582M01JQ0.xlsx (Unknown): Insufficient NAV history (<3 years)\n",
            "❌ Error processing UnionMulticapIDCWPayoutDirectPlan_INF582M01IP4.xlsx (Unknown): Insufficient NAV history (<3 years)\n"
          ]
        },
        {
          "output_type": "stream",
          "name": "stderr",
          "text": [
            " 17%|█▋        | 725/4144 [02:55<09:14,  6.16it/s]"
          ]
        },
        {
          "output_type": "stream",
          "name": "stdout",
          "text": [
            "❌ Error processing UTIBSEHousingIndexGrowthDirectPlan_INF789F1AYR1.xlsx (Unknown): Insufficient NAV history (<3 years)\n"
          ]
        },
        {
          "output_type": "stream",
          "name": "stderr",
          "text": [
            "\r 18%|█▊        | 727/4144 [02:56<10:26,  5.46it/s]"
          ]
        },
        {
          "output_type": "stream",
          "name": "stdout",
          "text": [
            "❌ Error processing UTINiftySDLPlusAaaPSUBondApr20267525IndexGrowthDirectPlan_INF789F1AXL6.xlsx (Unknown): Insufficient NAV history (<3 years)\n"
          ]
        },
        {
          "output_type": "stream",
          "name": "stderr",
          "text": [
            " 18%|█▊        | 737/4144 [02:59<13:46,  4.12it/s]"
          ]
        },
        {
          "output_type": "stream",
          "name": "stdout",
          "text": [
            "❌ Error processing UTINiftyAlphaLowVolatility30IndexGrowthDirectPlan_INF789F1AZM9.xlsx (Unknown): Insufficient NAV history (<3 years)\n"
          ]
        },
        {
          "output_type": "stream",
          "name": "stderr",
          "text": [
            " 18%|█▊        | 744/4144 [03:01<08:18,  6.81it/s]"
          ]
        },
        {
          "output_type": "stream",
          "name": "stdout",
          "text": [
            "❌ Error processing UTIGiltWith10YearConstantDurationQuarterlyOfIDCWPayoutDirectPlan_INF789F1AVS5.xlsx (Unknown): Insufficient NAV history (<3 years)\n"
          ]
        },
        {
          "output_type": "stream",
          "name": "stderr",
          "text": [
            " 18%|█▊        | 758/4144 [03:03<11:09,  5.06it/s]"
          ]
        },
        {
          "output_type": "stream",
          "name": "stdout",
          "text": [
            "❌ Error processing UTINifty500Value50IndexGrowthDirectPlan_INF789F1AYN0.xlsx (Unknown): Insufficient NAV history (<3 years)\n"
          ]
        },
        {
          "output_type": "stream",
          "name": "stderr",
          "text": [
            " 18%|█▊        | 765/4144 [03:04<08:08,  6.92it/s]"
          ]
        },
        {
          "output_type": "stream",
          "name": "stdout",
          "text": [
            "❌ Error processing UTIGiltWith10YearConstantDurationHalfYearlyOfIDCWPayoutDirectPlan_INF789F1AVU1.xlsx (Unknown): Insufficient NAV history (<3 years)\n"
          ]
        },
        {
          "output_type": "stream",
          "name": "stderr",
          "text": [
            " 19%|█▊        | 769/4144 [03:05<07:50,  7.18it/s]"
          ]
        },
        {
          "output_type": "stream",
          "name": "stdout",
          "text": [
            "❌ Error processing UTICrisilSDLMaturityApril2033IndexGrowthDirectPlan_INF789F1AWX3.xlsx (Unknown): Insufficient NAV history (<3 years)\n"
          ]
        },
        {
          "output_type": "stream",
          "name": "stderr",
          "text": [
            "\r 19%|█▊        | 770/4144 [03:05<08:55,  6.31it/s]"
          ]
        },
        {
          "output_type": "stream",
          "name": "stdout",
          "text": [
            "❌ Error processing UTILongDurationHalfYearlyIDCWReinvestDirectPlan_INF789F1AYF6.xlsx (Unknown): Insufficient NAV history (<3 years)\n"
          ]
        },
        {
          "output_type": "stream",
          "name": "stderr",
          "text": [
            " 19%|█▉        | 787/4144 [03:08<08:22,  6.68it/s]"
          ]
        },
        {
          "output_type": "stream",
          "name": "stdout",
          "text": [
            "❌ Error processing UTILongDurationAnnualIDCWReinvestDirectPlan_INF789F1AYH2.xlsx (Unknown): Insufficient NAV history (<3 years)\n"
          ]
        },
        {
          "output_type": "stream",
          "name": "stderr",
          "text": [
            " 19%|█▉        | 802/4144 [03:14<09:09,  6.08it/s]"
          ]
        },
        {
          "output_type": "stream",
          "name": "stdout",
          "text": [
            "❌ Error processing UTILongDurationFlexiIDCWPayoutDirectPlan_INF789F1AYI0.xlsx (Unknown): Insufficient NAV history (<3 years)\n",
            "❌ Error processing UTIGiltWith10YearConstantDurationFlexiOfIDCWPayoutDirectPlan_INF789F1AVY3.xlsx (Unknown): Insufficient NAV history (<3 years)\n"
          ]
        },
        {
          "output_type": "stream",
          "name": "stderr",
          "text": [
            " 20%|█▉        | 811/4144 [03:15<08:22,  6.63it/s]"
          ]
        },
        {
          "output_type": "stream",
          "name": "stdout",
          "text": [
            "❌ Error processing UTILongDurationAnnualIDCWPayoutDirectPlan_INF789F1AYG4.xlsx (Unknown): Insufficient NAV history (<3 years)\n",
            "❌ Error processing UTIGiltWith10YearConstantDurationFlexiOfIDCWReinvestDirectPlan_INF789F1AVZ0.xlsx (Unknown): Insufficient NAV history (<3 years)\n",
            "❌ Error processing UTIGiltWith10YearConstantDurationGrowthDirectPlan_INF789F1AVR7.xlsx (Unknown): Insufficient NAV history (<3 years)\n"
          ]
        },
        {
          "output_type": "stream",
          "name": "stderr",
          "text": [
            " 20%|█▉        | 818/4144 [03:16<05:31, 10.04it/s]"
          ]
        },
        {
          "output_type": "stream",
          "name": "stdout",
          "text": [
            "❌ Error processing UTIGiltWith10YearConstantDurationHalfYearlyOfIDCWReinvestDirectPlan_INF789F1AVV9.xlsx (Unknown): Insufficient NAV history (<3 years)\n",
            "❌ Error processing UTILongDurationQuarterlyIDCWPayoutDirectPlan_INF789F1AYC3.xlsx (Unknown): Insufficient NAV history (<3 years)\n",
            "❌ Error processing UTILongDurationFlexiIDCWReinvestDirectPlan_INF789F1AYJ8.xlsx (Unknown): Insufficient NAV history (<3 years)\n"
          ]
        },
        {
          "output_type": "stream",
          "name": "stderr",
          "text": [
            "\r 20%|█▉        | 820/4144 [03:16<05:13, 10.60it/s]"
          ]
        },
        {
          "output_type": "stream",
          "name": "stdout",
          "text": [
            "❌ Error processing UTIGoldETFFoFGrowthDirectPlan_INF789F1AWB9.xlsx (Unknown): Insufficient NAV history (<3 years)\n"
          ]
        },
        {
          "output_type": "stream",
          "name": "stderr",
          "text": [
            " 20%|█▉        | 824/4144 [03:17<06:48,  8.12it/s]"
          ]
        },
        {
          "output_type": "stream",
          "name": "stdout",
          "text": [
            "❌ Error processing UTIGiltWith10YearConstantDurationQuarterlyOfIDCWReinvestDirectPlan_INF789F1AVT3.xlsx (Unknown): Insufficient NAV history (<3 years)\n"
          ]
        },
        {
          "output_type": "stream",
          "name": "stderr",
          "text": [
            " 20%|██        | 830/4144 [03:17<07:36,  7.27it/s]"
          ]
        },
        {
          "output_type": "stream",
          "name": "stdout",
          "text": [
            "❌ Error processing UTIInnovationGrowthDirectPlan_INF789F1AZA4.xlsx (Unknown): Insufficient NAV history (<3 years)\n"
          ]
        },
        {
          "output_type": "stream",
          "name": "stderr",
          "text": [
            " 21%|██        | 850/4144 [03:21<09:08,  6.00it/s]"
          ]
        },
        {
          "output_type": "stream",
          "name": "stdout",
          "text": [
            "❌ Error processing UTINifty50EqualWeightIndexGrowthDirectPlan_INF789F1AYP5.xlsx (Unknown): Insufficient NAV history (<3 years)\n",
            "❌ Error processing UTIInnovationOfIDCWPayoutDirectPlan_INF789F1AZB2.xlsx (Unknown): Insufficient NAV history (<3 years)\n"
          ]
        },
        {
          "output_type": "stream",
          "name": "stderr",
          "text": [
            " 21%|██        | 858/4144 [03:23<16:21,  3.35it/s]"
          ]
        },
        {
          "output_type": "stream",
          "name": "stdout",
          "text": [
            "❌ Error processing UTIGiltWith10YearConstantDurationAnnualOfIDCWReinvestDirectPlan_INF789F1AVX5.xlsx (Unknown): Insufficient NAV history (<3 years)\n"
          ]
        },
        {
          "output_type": "stream",
          "name": "stderr",
          "text": [
            "\r 21%|██        | 860/4144 [03:24<14:50,  3.69it/s]"
          ]
        },
        {
          "output_type": "stream",
          "name": "stdout",
          "text": [
            "❌ Error processing UTICrisilSDLMaturityJune2027IndexGrowthDirectPlan_INF789F1AWZ8.xlsx (Unknown): Insufficient NAV history (<3 years)\n"
          ]
        },
        {
          "output_type": "stream",
          "name": "stderr",
          "text": [
            "\r 21%|██        | 862/4144 [03:25<27:05,  2.02it/s]"
          ]
        },
        {
          "output_type": "stream",
          "name": "stdout",
          "text": [
            "❌ Error processing UTINiftyPrivateBankIndexGrowthDirectPlan_INF789F1AZJ5.xlsx (Unknown): Insufficient NAV history (<3 years)\n"
          ]
        },
        {
          "output_type": "stream",
          "name": "stderr",
          "text": [
            " 21%|██        | 877/4144 [03:28<09:55,  5.49it/s]"
          ]
        },
        {
          "output_type": "stream",
          "name": "stdout",
          "text": [
            "❌ Error processing UTINifty200Quality30IndexGrowthDirectPlan_INF789F1AZH9.xlsx (Unknown): Insufficient NAV history (<3 years)\n"
          ]
        },
        {
          "output_type": "stream",
          "name": "stderr",
          "text": [
            " 21%|██        | 880/4144 [03:29<08:31,  6.38it/s]"
          ]
        },
        {
          "output_type": "stream",
          "name": "stdout",
          "text": [
            "❌ Error processing UTINiftyMidcap150IndexGrowthDirectPlan_INF789F1AZO5.xlsx (Unknown): Insufficient NAV history (<3 years)\n"
          ]
        },
        {
          "output_type": "stream",
          "name": "stderr",
          "text": [
            " 22%|██▏       | 905/4144 [03:33<05:29,  9.83it/s]"
          ]
        },
        {
          "output_type": "stream",
          "name": "stdout",
          "text": [
            "❌ Error processing UTILongDurationGrowthDirectPlan_INF789F1AYB5.xlsx (Unknown): Insufficient NAV history (<3 years)\n",
            "❌ Error processing UTIGiltWith10YearConstantDurationAnnualOfIDCWPayoutDirectPlan_INF789F1AVW7.xlsx (Unknown): Insufficient NAV history (<3 years)\n",
            "❌ Error processing UTILongDurationHalfYearlyIDCWPayoutDirectPlan_INF789F1AYE9.xlsx (Unknown): Insufficient NAV history (<3 years)\n"
          ]
        },
        {
          "output_type": "stream",
          "name": "stderr",
          "text": [
            " 22%|██▏       | 909/4144 [03:33<06:38,  8.12it/s]"
          ]
        },
        {
          "output_type": "stream",
          "name": "stdout",
          "text": [
            "❌ Error processing UTILongDurationQuarterlyIDCWReinvestDirectPlan_INF789F1AYD1.xlsx (Unknown): Insufficient NAV history (<3 years)\n"
          ]
        },
        {
          "output_type": "stream",
          "name": "stderr",
          "text": [
            " 22%|██▏       | 920/4144 [03:35<07:48,  6.89it/s]"
          ]
        },
        {
          "output_type": "stream",
          "name": "stdout",
          "text": [
            "❌ Error processing WhiteoakCapitalLargeCapIDCWReinvestDirectPlan_INF03VN01712.xlsx (Unknown): Insufficient NAV history (<3 years)\n"
          ]
        },
        {
          "output_type": "stream",
          "name": "stderr",
          "text": [
            " 22%|██▏       | 924/4144 [03:38<34:18,  1.56it/s]"
          ]
        },
        {
          "output_type": "stream",
          "name": "stdout",
          "text": [
            "❌ Error processing UTIQuantGrowthDirectPlan_INF789F1AA98.xlsx (Unknown): Insufficient NAV history (<3 years)\n"
          ]
        },
        {
          "output_type": "stream",
          "name": "stderr",
          "text": [
            " 22%|██▏       | 928/4144 [03:39<18:24,  2.91it/s]"
          ]
        },
        {
          "output_type": "stream",
          "name": "stdout",
          "text": [
            "❌ Error processing WhiteoakCapitalPharmaHealthcareGrowthDirectPlan_INF03VN01886.xlsx (Unknown): Insufficient NAV history (<3 years)\n"
          ]
        },
        {
          "output_type": "stream",
          "name": "stderr",
          "text": [
            " 23%|██▎       | 933/4144 [03:40<08:30,  6.29it/s]"
          ]
        },
        {
          "output_type": "stream",
          "name": "stdout",
          "text": [
            "❌ Error processing WhiteoakCapitalELSSTaxSaverGrowthDirectPlan_INF03VN01621.xlsx (Unknown): Insufficient NAV history (<3 years)\n",
            "❌ Error processing UTISilverETFFoFGrowthDirectPlan_INF789F1AYL4.xlsx (Unknown): Insufficient NAV history (<3 years)\n",
            "❌ Error processing WhiteoakCapitalSpecialOpportunitiesGrowthDirectPlan_INF03VN01902.xlsx (Unknown): Insufficient NAV history (<3 years)\n"
          ]
        },
        {
          "output_type": "stream",
          "name": "stderr",
          "text": [
            " 23%|██▎       | 938/4144 [03:41<09:40,  5.53it/s]"
          ]
        },
        {
          "output_type": "stream",
          "name": "stdout",
          "text": [
            "❌ Error processing WhiteoakCapitalBankingFinancialServicesGrowthDirectPlan_INF03VN01860.xlsx (Unknown): Insufficient NAV history (<3 years)\n"
          ]
        },
        {
          "output_type": "stream",
          "name": "stderr",
          "text": [
            " 23%|██▎       | 941/4144 [03:41<08:57,  5.96it/s]"
          ]
        },
        {
          "output_type": "stream",
          "name": "stdout",
          "text": [
            "❌ Error processing WhiteoakCapitalMidCapGrowthDirectPlan_INF03VN01597.xlsx (Unknown): Insufficient NAV history (<3 years)\n",
            "❌ Error processing WhiteoakCapitalDigitalBharatGrowthDirectPlan_INF03VN01936.xlsx (Unknown): Insufficient NAV history (<3 years)\n"
          ]
        },
        {
          "output_type": "stream",
          "name": "stderr",
          "text": [
            " 23%|██▎       | 945/4144 [03:42<07:12,  7.39it/s]"
          ]
        },
        {
          "output_type": "stream",
          "name": "stdout",
          "text": [
            "❌ Error processing WhiteoakCapitalESGBestInClassStrategyGrowthDirectPlan_INF03VN01951.xlsx (Unknown): Insufficient NAV history (<3 years)\n"
          ]
        },
        {
          "output_type": "stream",
          "name": "stderr",
          "text": [
            " 23%|██▎       | 950/4144 [03:42<07:29,  7.11it/s]"
          ]
        },
        {
          "output_type": "stream",
          "name": "stdout",
          "text": [
            "❌ Error processing WhiteoakCapitalBalancedHybridGrowthDirectPlan_INF03VN01829.xlsx (Unknown): Insufficient NAV history (<3 years)\n"
          ]
        },
        {
          "output_type": "stream",
          "name": "stderr",
          "text": [
            " 23%|██▎       | 955/4144 [03:43<07:27,  7.13it/s]"
          ]
        },
        {
          "output_type": "stream",
          "name": "stdout",
          "text": [
            "❌ Error processing WhiteoakCapitalFlexiCapGrowthDirectPlan_INF03VN01530.xlsx (Unknown): Insufficient NAV history (<3 years)\n"
          ]
        },
        {
          "output_type": "stream",
          "name": "stderr",
          "text": [
            "\r 23%|██▎       | 957/4144 [03:43<06:27,  8.23it/s]"
          ]
        },
        {
          "output_type": "stream",
          "name": "stdout",
          "text": [
            "❌ Error processing ZerodhaGoldETFFoFGrowthDirectPlan_INF0R8F01083.xlsx (Unknown): Insufficient NAV history (<3 years)\n"
          ]
        },
        {
          "output_type": "stream",
          "name": "stderr",
          "text": [
            " 23%|██▎       | 963/4144 [03:44<07:21,  7.21it/s]"
          ]
        },
        {
          "output_type": "stream",
          "name": "stdout",
          "text": [
            "❌ Error processing WhiteoakCapitalLargeCapIDCWPayoutDirectPlan_INF03VN01704.xlsx (Unknown): Insufficient NAV history (<3 years)\n"
          ]
        },
        {
          "output_type": "stream",
          "name": "stderr",
          "text": [
            "\r 23%|██▎       | 965/4144 [03:44<06:40,  7.93it/s]"
          ]
        },
        {
          "output_type": "stream",
          "name": "stdout",
          "text": [
            "❌ Error processing WhiteoakCapitalBalancedAdvantageGrowthDirectPlan_INF03VN01738.xlsx (Unknown): Insufficient NAV history (<3 years)\n"
          ]
        },
        {
          "output_type": "stream",
          "name": "stderr",
          "text": [
            "\r 23%|██▎       | 967/4144 [03:45<06:04,  8.72it/s]"
          ]
        },
        {
          "output_type": "stream",
          "name": "stdout",
          "text": [
            "❌ Error processing WhiteoakCapitalFlexiCapIDCWReinvestDirectPlan_INF03VN01548.xlsx (Unknown): Insufficient NAV history (<3 years)\n"
          ]
        },
        {
          "output_type": "stream",
          "name": "stderr",
          "text": [
            " 23%|██▎       | 970/4144 [03:45<07:23,  7.15it/s]"
          ]
        },
        {
          "output_type": "stream",
          "name": "stdout",
          "text": [
            "❌ Error processing ZerodhaNiftyLargemidcap250IndexGrowthDirectPlan_INF0R8F01018.xlsx (Unknown): Insufficient NAV history (<3 years)\n"
          ]
        },
        {
          "output_type": "stream",
          "name": "stderr",
          "text": [
            " 24%|██▎       | 977/4144 [03:46<07:55,  6.66it/s]"
          ]
        },
        {
          "output_type": "stream",
          "name": "stdout",
          "text": [
            "❌ Error processing WhiteoakCapitalFlexiCapIDCWPayoutDirectPlan_INF03VN01555.xlsx (Unknown): Insufficient NAV history (<3 years)\n"
          ]
        },
        {
          "output_type": "stream",
          "name": "stderr",
          "text": [
            " 24%|██▎       | 980/4144 [03:47<07:06,  7.43it/s]"
          ]
        },
        {
          "output_type": "stream",
          "name": "stdout",
          "text": [
            "❌ Error processing WhiteoakCapitalMidCapIDCWReinvestDirectPlan_INF03VN01613.xlsx (Unknown): Insufficient NAV history (<3 years)\n"
          ]
        },
        {
          "output_type": "stream",
          "name": "stderr",
          "text": [
            "\r 24%|██▎       | 982/4144 [03:47<06:06,  8.63it/s]"
          ]
        },
        {
          "output_type": "stream",
          "name": "stdout",
          "text": [
            "❌ Error processing WhiteoakCapitalMidCapIDCWPayoutDirectPlan_INF03VN01605.xlsx (Unknown): Insufficient NAV history (<3 years)\n"
          ]
        },
        {
          "output_type": "stream",
          "name": "stderr",
          "text": [
            " 24%|██▍       | 985/4144 [03:47<05:45,  9.13it/s]"
          ]
        },
        {
          "output_type": "stream",
          "name": "stdout",
          "text": [
            "❌ Error processing ZerodhaELSSTaxSaverNiftyLargemidcap250IndexGrowthDirectPlan_INF0R8F01026.xlsx (Unknown): Insufficient NAV history (<3 years)\n",
            "❌ Error processing WhiteoakCapitalMultiCapGrowthDirectPlan_INF03VN01803.xlsx (Unknown): Insufficient NAV history (<3 years)\n",
            "❌ Error processing WhiteoakCapitalArbitrageGrowthDirectPlan_INF03VN01910.xlsx (Unknown): Insufficient NAV history (<3 years)\n"
          ]
        },
        {
          "output_type": "stream",
          "name": "stderr",
          "text": [
            " 24%|██▍       | 993/4144 [03:48<03:53, 13.48it/s]"
          ]
        },
        {
          "output_type": "stream",
          "name": "stdout",
          "text": [
            "❌ Error processing WhiteoakCapitalELSSTaxSaverIDCWPayoutDirectPlan_INF03VN01639.xlsx (Unknown): Insufficient NAV history (<3 years)\n",
            "❌ Error processing WhiteoakCapitalLargeMidCapGrowthDirectPlan_INF03VN01845.xlsx (Unknown): Insufficient NAV history (<3 years)\n",
            "❌ Error processing UTINiftySDLPlusAaaPSUBondApr20287525IndexGrowthDirectPlan_INF789F1AXR3.xlsx (Unknown): Insufficient NAV history (<3 years)\n",
            "❌ Error processing WhiteoakCapitalMultiAssetAllocationGrowthDirectPlan_INF03VN01761.xlsx (Unknown): Insufficient NAV history (<3 years)\n"
          ]
        },
        {
          "output_type": "stream",
          "name": "stderr",
          "text": [
            " 24%|██▍       | 997/4144 [03:48<07:08,  7.35it/s]"
          ]
        },
        {
          "output_type": "stream",
          "name": "stdout",
          "text": [
            "❌ Error processing WhiteoakCapitalLargeCapGrowthDirectPlan_INF03VN01696.xlsx (Unknown): Insufficient NAV history (<3 years)\n"
          ]
        },
        {
          "output_type": "stream",
          "name": "stderr",
          "text": [
            " 24%|██▍       | 1001/4144 [03:50<18:20,  2.86it/s]"
          ]
        },
        {
          "output_type": "stream",
          "name": "stdout",
          "text": [
            "❌ Error processing ITIUltraShortDurationDailyIDCWReinvestDirectPlan_INF00XX01AF9.xlsx (Unknown): Insufficient NAV history (<3 years)\n"
          ]
        },
        {
          "output_type": "stream",
          "name": "stderr",
          "text": [
            " 24%|██▍       | 1009/4144 [03:53<12:01,  4.35it/s]"
          ]
        },
        {
          "output_type": "stream",
          "name": "stdout",
          "text": [
            "❌ Error processing ITIFlexiCapGrowthDirectPlan_INF00XX01CO7.xlsx (Unknown): Insufficient NAV history (<3 years)\n"
          ]
        },
        {
          "output_type": "stream",
          "name": "stderr",
          "text": [
            " 25%|██▍       | 1024/4144 [03:56<08:45,  5.93it/s]"
          ]
        },
        {
          "output_type": "stream",
          "name": "stdout",
          "text": [
            "❌ Error processing ITIFlexiCapIDCWPayoutDirectPlan_INF00XX01CP4.xlsx (Unknown): Insufficient NAV history (<3 years)\n",
            "❌ Error processing ITILargeMidCapIDCWPayoutDirectPlan_INF00XX01DB2.xlsx (Unknown): Insufficient NAV history (<3 years)\n"
          ]
        },
        {
          "output_type": "stream",
          "name": "stderr",
          "text": [
            " 25%|██▌       | 1042/4144 [03:59<10:03,  5.14it/s]"
          ]
        },
        {
          "output_type": "stream",
          "name": "stdout",
          "text": [
            "❌ Error processing JMSmallCapIDCWReinvestDirectPlan_INF192K01NJ9.xlsx (Unknown): Insufficient NAV history (<3 years)\n",
            "❌ Error processing JMMidcapGrowthDirectPlan_INF192K01MV6.xlsx (Unknown): Insufficient NAV history (<3 years)\n"
          ]
        },
        {
          "output_type": "stream",
          "name": "stderr",
          "text": [
            " 25%|██▌       | 1052/4144 [04:00<08:19,  6.19it/s]"
          ]
        },
        {
          "output_type": "stream",
          "name": "stdout",
          "text": [
            "❌ Error processing JMShortDurationIDCWReinvestDirectPlan_INF192K01MR4.xlsx (Unknown): Insufficient NAV history (<3 years)\n"
          ]
        },
        {
          "output_type": "stream",
          "name": "stderr",
          "text": [
            " 26%|██▌       | 1060/4144 [04:01<04:21, 11.81it/s]"
          ]
        },
        {
          "output_type": "stream",
          "name": "stdout",
          "text": [
            "❌ Error processing KotakNiftyMidcap50IndexGrowthDirectPlan_INF174KA1SR8.xlsx (Unknown): Insufficient NAV history (<3 years)\n",
            "❌ Error processing KotakMNCGrowthDirectPlan_INF174KA1TG9.xlsx (Unknown): Insufficient NAV history (<3 years)\n",
            "❌ Error processing KotakNifty100EqualWeightIndexIDCWPayoutDirectPlan_INF174KA1UA0.xlsx (Unknown): Insufficient NAV history (<3 years)\n",
            "❌ Error processing JMSmallCapIDCWPayoutDirectPlan_INF192K01NI1.xlsx (Unknown): Insufficient NAV history (<3 years)\n"
          ]
        },
        {
          "output_type": "stream",
          "name": "stderr",
          "text": [
            "\r 26%|██▌       | 1062/4144 [04:01<04:59, 10.28it/s]"
          ]
        },
        {
          "output_type": "stream",
          "name": "stdout",
          "text": [
            "❌ Error processing JMMidcapIDCWPayoutDirectPlan_INF192K01MW4.xlsx (Unknown): Insufficient NAV history (<3 years)\n",
            "❌ Error processing KotakBSEPSUIndexIDCWPayoutDirectPlan_INF174KA1SN7.xlsx (Unknown): Insufficient NAV history (<3 years)\n",
            "❌ Error processing KotakBSEPSUIndexGrowthDirectPlan_INF174KA1SL1.xlsx (Unknown): Insufficient NAV history (<3 years)\n",
            "❌ Error processing KotakNifty50EqualWeightIndexGrowthDirectPlan_INF174KA1UE2.xlsx (Unknown): Insufficient NAV history (<3 years)\n"
          ]
        },
        {
          "output_type": "stream",
          "name": "stderr",
          "text": [
            " 26%|██▌       | 1068/4144 [04:02<05:44,  8.93it/s]"
          ]
        },
        {
          "output_type": "stream",
          "name": "stdout",
          "text": [
            "❌ Error processing KotakBankingFinancialServicesGrowthDirectPlan_INF174KA1MD1.xlsx (Unknown): Insufficient NAV history (<3 years)\n"
          ]
        },
        {
          "output_type": "stream",
          "name": "stderr",
          "text": [
            " 26%|██▌       | 1072/4144 [04:05<24:06,  2.12it/s]"
          ]
        },
        {
          "output_type": "stream",
          "name": "stdout",
          "text": [
            "❌ Error processing KotakTransportationLogisticsIDCWPayoutDirectPlan_INF174KA1TU0.xlsx (Unknown): Insufficient NAV history (<3 years)\n"
          ]
        },
        {
          "output_type": "stream",
          "name": "stderr",
          "text": [
            " 26%|██▌       | 1077/4144 [04:06<13:20,  3.83it/s]"
          ]
        },
        {
          "output_type": "stream",
          "name": "stdout",
          "text": [
            "❌ Error processing KotakNiftyFinancialServicesExBankIndexIDCWPayoutDirectPlan_INF174KA1OT3.xlsx (Unknown): Insufficient NAV history (<3 years)\n"
          ]
        },
        {
          "output_type": "stream",
          "name": "stderr",
          "text": [
            " 26%|██▌       | 1083/4144 [04:07<10:19,  4.94it/s]"
          ]
        },
        {
          "output_type": "stream",
          "name": "stdout",
          "text": [
            "❌ Error processing JMSmallCapGrowthDirectPlan_INF192K01NH3.xlsx (Unknown): Insufficient NAV history (<3 years)\n",
            "❌ Error processing KotakTechnologyIDCWPayoutDirectPlan_INF174KA1RB4.xlsx (Unknown): Insufficient NAV history (<3 years)\n",
            "❌ Error processing KotakNifty100LowVolatility30IndexIDCWPayoutDirectPlan_INF174KA1SB2.xlsx (Unknown): Insufficient NAV history (<3 years)\n"
          ]
        },
        {
          "output_type": "stream",
          "name": "stderr",
          "text": [
            " 26%|██▋       | 1089/4144 [04:07<05:57,  8.55it/s]"
          ]
        },
        {
          "output_type": "stream",
          "name": "stdout",
          "text": [
            "❌ Error processing KotakNiftySDLJul2033IndexIDCWPayoutDirectPlan_INF174KA1ML4.xlsx (Unknown): Insufficient NAV history (<3 years)\n"
          ]
        },
        {
          "output_type": "stream",
          "name": "stderr",
          "text": [
            " 26%|██▋       | 1095/4144 [04:08<06:10,  8.22it/s]"
          ]
        },
        {
          "output_type": "stream",
          "name": "stdout",
          "text": [
            "❌ Error processing KotakMultiAssetAllocationGrowthDirectPlan_INF174KA1PD4.xlsx (Unknown): Insufficient NAV history (<3 years)\n",
            "❌ Error processing KotakIncomePlusArbitrageFoFGrowthDirectPlan_INF174KA1KJ2.xlsx (Unknown): Insufficient NAV history (<3 years)\n"
          ]
        },
        {
          "output_type": "stream",
          "name": "stderr",
          "text": [
            "\r 26%|██▋       | 1098/4144 [04:08<04:50, 10.49it/s]"
          ]
        },
        {
          "output_type": "stream",
          "name": "stdout",
          "text": [
            "❌ Error processing KotakNiftyMidcap150Momentum50IndexIDCWPayoutDirectPlan_INF174KA1TO3.xlsx (Unknown): Insufficient NAV history (<3 years)\n"
          ]
        },
        {
          "output_type": "stream",
          "name": "stderr",
          "text": [
            "\r 27%|██▋       | 1100/4144 [04:09<05:30,  9.22it/s]"
          ]
        },
        {
          "output_type": "stream",
          "name": "stdout",
          "text": [
            "❌ Error processing KotakNifty50EqualWeightIndexIDCWPayoutDirectPlan_INF174KA1UG7.xlsx (Unknown): Insufficient NAV history (<3 years)\n"
          ]
        },
        {
          "output_type": "stream",
          "name": "stderr",
          "text": [
            " 27%|██▋       | 1105/4144 [04:09<07:13,  7.01it/s]"
          ]
        },
        {
          "output_type": "stream",
          "name": "stdout",
          "text": [
            "❌ Error processing KotakBusinessCycleGrowthDirectPlan_INF174KA1JN6.xlsx (Unknown): Insufficient NAV history (<3 years)\n",
            "❌ Error processing KotakHealthcareIDCWPayoutDirectPlan_INF174KA1QB6.xlsx (Unknown): Insufficient NAV history (<3 years)\n"
          ]
        },
        {
          "output_type": "stream",
          "name": "stderr",
          "text": [
            " 27%|██▋       | 1114/4144 [04:11<06:22,  7.93it/s]"
          ]
        },
        {
          "output_type": "stream",
          "name": "stdout",
          "text": [
            "❌ Error processing JMShortDurationGrowthDirectPlan_INF192K01MP8.xlsx (Unknown): Insufficient NAV history (<3 years)\n"
          ]
        },
        {
          "output_type": "stream",
          "name": "stderr",
          "text": [
            " 27%|██▋       | 1117/4144 [04:11<07:08,  7.06it/s]"
          ]
        },
        {
          "output_type": "stream",
          "name": "stdout",
          "text": [
            "❌ Error processing KotakNiftyMidcap50IndexIDCWPayoutDirectPlan_INF174KA1ST4.xlsx (Unknown): Insufficient NAV history (<3 years)\n"
          ]
        },
        {
          "output_type": "stream",
          "name": "stderr",
          "text": [
            " 27%|██▋       | 1124/4144 [04:12<07:29,  6.71it/s]"
          ]
        },
        {
          "output_type": "stream",
          "name": "stdout",
          "text": [
            "❌ Error processing KotakIncomePlusArbitrageFoFIDCWPayoutDirectPlan_INF174KA1KL8.xlsx (Unknown): Insufficient NAV history (<3 years)\n"
          ]
        },
        {
          "output_type": "stream",
          "name": "stderr",
          "text": [
            " 27%|██▋       | 1128/4144 [04:13<05:51,  8.59it/s]"
          ]
        },
        {
          "output_type": "stream",
          "name": "stdout",
          "text": [
            "❌ Error processing KotakNiftyFinancialServicesExBankIndexGrowthDirectPlan_INF174KA1OR7.xlsx (Unknown): Insufficient NAV history (<3 years)\n",
            "❌ Error processing KotakNifty200Momentum30IndexIDCWPayoutDirectPlan_INF174KA1OD7.xlsx (Unknown): Insufficient NAV history (<3 years)\n"
          ]
        },
        {
          "output_type": "stream",
          "name": "stderr",
          "text": [
            "\r 27%|██▋       | 1129/4144 [04:13<06:10,  8.14it/s]"
          ]
        },
        {
          "output_type": "stream",
          "name": "stdout",
          "text": [
            "❌ Error processing KotakNiftySDLPlusAaaPSUBondJul20286040IndexIDCWPayoutDirectPlan_INF174KA1JV9.xlsx (Unknown): Insufficient NAV history (<3 years)\n"
          ]
        },
        {
          "output_type": "stream",
          "name": "stderr",
          "text": [
            " 27%|██▋       | 1138/4144 [04:14<06:14,  8.02it/s]"
          ]
        },
        {
          "output_type": "stream",
          "name": "stdout",
          "text": [
            "❌ Error processing KotakBankingFinancialServicesIDCWPayoutDirectPlan_INF174KA1MF6.xlsx (Unknown): Insufficient NAV history (<3 years)\n",
            "❌ Error processing KotakNiftyAaaBondJun2025HtmIndexGrowthDirectPlan_INF174KA1RN9.xlsx (Unknown): Insufficient NAV history (<3 years)\n"
          ]
        },
        {
          "output_type": "stream",
          "name": "stderr",
          "text": [
            " 28%|██▊       | 1144/4144 [04:14<03:46, 13.22it/s]"
          ]
        },
        {
          "output_type": "stream",
          "name": "stdout",
          "text": [
            "❌ Error processing KotakNiftyGSecJuly2033IndexIDCWPayoutDirectPlan_INF174KA1PL7.xlsx (Unknown): Insufficient NAV history (<3 years)\n",
            "❌ Error processing KotakSpecialOpportunitiesGrowthDirectPlan_INF174KA1SF3.xlsx (Unknown): Insufficient NAV history (<3 years)\n",
            "❌ Error processing KotakLongDurationGrowthDirectPlan_INF174KA1RF5.xlsx (Unknown): Insufficient NAV history (<3 years)\n",
            "❌ Error processing JMShortDurationIDCWPayoutDirectPlan_INF192K01MQ6.xlsx (Unknown): Insufficient NAV history (<3 years)\n"
          ]
        },
        {
          "output_type": "stream",
          "name": "stderr",
          "text": [
            "\r 28%|██▊       | 1146/4144 [04:15<04:10, 11.98it/s]"
          ]
        },
        {
          "output_type": "stream",
          "name": "stdout",
          "text": [
            "❌ Error processing KotakNifty100LowVolatility30IndexGrowthDirectPlan_INF174KA1RZ3.xlsx (Unknown): Insufficient NAV history (<3 years)\n"
          ]
        },
        {
          "output_type": "stream",
          "name": "stderr",
          "text": [
            "\r 28%|██▊       | 1148/4144 [04:15<06:34,  7.60it/s]"
          ]
        },
        {
          "output_type": "stream",
          "name": "stdout",
          "text": [
            "❌ Error processing KotakNiftySDLJul2026IndexGrowthDirectPlan_INF174KA1LC5.xlsx (Unknown): Insufficient NAV history (<3 years)\n"
          ]
        },
        {
          "output_type": "stream",
          "name": "stderr",
          "text": [
            " 28%|██▊       | 1151/4144 [04:17<14:15,  3.50it/s]"
          ]
        },
        {
          "output_type": "stream",
          "name": "stdout",
          "text": [
            "❌ Error processing JMMidcapIDCWReinvestDirectPlan_INF192K01MX2.xlsx (Unknown): Insufficient NAV history (<3 years)\n"
          ]
        },
        {
          "output_type": "stream",
          "name": "stderr",
          "text": [
            " 28%|██▊       | 1154/4144 [04:19<21:56,  2.27it/s]"
          ]
        },
        {
          "output_type": "stream",
          "name": "stdout",
          "text": [
            "❌ Error processing KotakNiftyAaaBondJun2025HtmIndexIDCWPayoutDirectPlan_INF174KA1RM1.xlsx (Unknown): Insufficient NAV history (<3 years)\n"
          ]
        },
        {
          "output_type": "stream",
          "name": "stderr",
          "text": [
            " 28%|██▊       | 1157/4144 [04:19<15:00,  3.32it/s]"
          ]
        },
        {
          "output_type": "stream",
          "name": "stdout",
          "text": [
            "❌ Error processing KotakCrisilIbxAaaFinancialServicesIndexSep2027GrowthDirectPlan_INF174KA1TF1.xlsx (Unknown): Insufficient NAV history (<3 years)\n"
          ]
        },
        {
          "output_type": "stream",
          "name": "stderr",
          "text": [
            "\r 28%|██▊       | 1159/4144 [04:19<12:40,  3.93it/s]"
          ]
        },
        {
          "output_type": "stream",
          "name": "stdout",
          "text": [
            "❌ Error processing KotakHealthcareGrowthDirectPlan_INF174KA1PZ7.xlsx (Unknown): Insufficient NAV history (<3 years)\n",
            "❌ Error processing KotakNiftyGSecJuly2033IndexGrowthDirectPlan_INF174KA1PJ1.xlsx (Unknown): Insufficient NAV history (<3 years)\n",
            "❌ Error processing KotakMNCIDCWPayoutDirectPlan_INF174KA1TI5.xlsx (Unknown): Insufficient NAV history (<3 years)\n"
          ]
        },
        {
          "output_type": "stream",
          "name": "stderr",
          "text": [
            " 28%|██▊       | 1165/4144 [04:20<06:57,  7.14it/s]"
          ]
        },
        {
          "output_type": "stream",
          "name": "stdout",
          "text": [
            "❌ Error processing KotakSilverETFFoFGrowthDirectPlan_INF174KA1MQ3.xlsx (Unknown): Insufficient NAV history (<3 years)\n"
          ]
        },
        {
          "output_type": "stream",
          "name": "stderr",
          "text": [
            " 28%|██▊       | 1169/4144 [04:20<06:13,  7.97it/s]"
          ]
        },
        {
          "output_type": "stream",
          "name": "stdout",
          "text": [
            "❌ Error processing KotakNifty100EqualWeightIndexGrowthDirectPlan_INF174KA1TY2.xlsx (Unknown): Insufficient NAV history (<3 years)\n",
            "❌ Error processing KotakCrisilIbxAaaFinancialServicesIndexSep2027IDCWPayoutDirectPlan_INF174KA1SV0.xlsx (Unknown): Insufficient NAV history (<3 years)\n"
          ]
        },
        {
          "output_type": "stream",
          "name": "stderr",
          "text": [
            " 28%|██▊       | 1173/4144 [04:21<05:28,  9.05it/s]"
          ]
        },
        {
          "output_type": "stream",
          "name": "stdout",
          "text": [
            "❌ Error processing KotakNiftySDLPlusAaaPSUBondJul20286040IndexGrowthDirectPlan_INF174KA1JT3.xlsx (Unknown): Insufficient NAV history (<3 years)\n"
          ]
        },
        {
          "output_type": "stream",
          "name": "stderr",
          "text": [
            " 28%|██▊       | 1180/4144 [04:22<09:00,  5.49it/s]"
          ]
        },
        {
          "output_type": "stream",
          "name": "stdout",
          "text": [
            "❌ Error processing KotakQuantGrowthDirectPlan_INF174KA1OL0.xlsx (Unknown): Insufficient NAV history (<3 years)\n",
            "❌ Error processing KotakBSEHousingIndexGrowthDirectPlan_INF174KA1OX5.xlsx (Unknown): Insufficient NAV history (<3 years)\n"
          ]
        },
        {
          "output_type": "stream",
          "name": "stderr",
          "text": [
            " 29%|██▊       | 1186/4144 [04:22<04:17, 11.47it/s]"
          ]
        },
        {
          "output_type": "stream",
          "name": "stdout",
          "text": [
            "❌ Error processing KotakNifty200Momentum30IndexGrowthDirectPlan_INF174KA1OB1.xlsx (Unknown): Insufficient NAV history (<3 years)\n",
            "❌ Error processing KotakQuantIDCWPayoutDirectPlan_INF174KA1ON6.xlsx (Unknown): Insufficient NAV history (<3 years)\n",
            "❌ Error processing KotakNiftyMidcap150Momentum50IndexGrowthDirectPlan_INF174KA1TM7.xlsx (Unknown): Insufficient NAV history (<3 years)\n"
          ]
        },
        {
          "output_type": "stream",
          "name": "stderr",
          "text": [
            " 29%|██▊       | 1190/4144 [04:23<06:13,  7.90it/s]"
          ]
        },
        {
          "output_type": "stream",
          "name": "stdout",
          "text": [
            "❌ Error processing KotakBusinessCycleIDCWPayoutDirectPlan_INF174KA1JP1.xlsx (Unknown): Insufficient NAV history (<3 years)\n"
          ]
        },
        {
          "output_type": "stream",
          "name": "stderr",
          "text": [
            " 29%|██▉       | 1199/4144 [04:25<06:56,  7.08it/s]"
          ]
        },
        {
          "output_type": "stream",
          "name": "stdout",
          "text": [
            "❌ Error processing KotakLongDurationIDCWPayoutDirectPlan_INF174KA1RH1.xlsx (Unknown): Insufficient NAV history (<3 years)\n"
          ]
        },
        {
          "output_type": "stream",
          "name": "stderr",
          "text": [
            " 29%|██▉       | 1203/4144 [04:25<07:07,  6.88it/s]"
          ]
        },
        {
          "output_type": "stream",
          "name": "stdout",
          "text": [
            "❌ Error processing KotakNiftySmallcap50IndexIDCWPayoutDirectPlan_INF174KA1ND9.xlsx (Unknown): Insufficient NAV history (<3 years)\n"
          ]
        },
        {
          "output_type": "stream",
          "name": "stderr",
          "text": [
            " 29%|██▉       | 1207/4144 [04:26<05:35,  8.77it/s]"
          ]
        },
        {
          "output_type": "stream",
          "name": "stdout",
          "text": [
            "❌ Error processing KotakConsumptionIDCWPayoutDirectPlan_INF174KA1PR4.xlsx (Unknown): Insufficient NAV history (<3 years)\n",
            "❌ Error processing KotakMultiAssetAllocationIDCWPayoutDirectPlan_INF174KA1PF9.xlsx (Unknown): Insufficient NAV history (<3 years)\n"
          ]
        },
        {
          "output_type": "stream",
          "name": "stderr",
          "text": [
            " 29%|██▉       | 1212/4144 [04:26<03:53, 12.54it/s]"
          ]
        },
        {
          "output_type": "stream",
          "name": "stdout",
          "text": [
            "❌ Error processing KotakNiftyIndiaTourismIndexGrowthDirectPlan_INF174KA1SZ1.xlsx (Unknown): Insufficient NAV history (<3 years)\n",
            "❌ Error processing KotakNiftySmallcap50IndexGrowthDirectPlan_INF174KA1NB3.xlsx (Unknown): Insufficient NAV history (<3 years)\n",
            "❌ Error processing KotakTransportationLogisticsGrowthDirectPlan_INF174KA1TS4.xlsx (Unknown): Insufficient NAV history (<3 years)\n",
            "❌ Error processing KotakConsumptionGrowthDirectPlan_INF174KA1PP8.xlsx (Unknown): Insufficient NAV history (<3 years)\n",
            "❌ Error processing KotakBSEHousingIndexIDCWPayoutDirectPlan_INF174KA1OZ0.xlsx (Unknown): Insufficient NAV history (<3 years)\n"
          ]
        },
        {
          "output_type": "stream",
          "name": "stderr",
          "text": [
            " 29%|██▉       | 1221/4144 [04:27<05:54,  8.25it/s]"
          ]
        },
        {
          "output_type": "stream",
          "name": "stdout",
          "text": [
            "❌ Error processing KotakNiftySDLJul2033IndexGrowthDirectPlan_INF174KA1MJ8.xlsx (Unknown): Insufficient NAV history (<3 years)\n",
            "❌ Error processing KotakNiftySDLJul2026IndexIDCWPayoutDirectPlan_INF174KA1LE1.xlsx (Unknown): Insufficient NAV history (<3 years)\n"
          ]
        },
        {
          "output_type": "stream",
          "name": "stderr",
          "text": [
            " 30%|██▉       | 1224/4144 [04:28<05:47,  8.41it/s]"
          ]
        },
        {
          "output_type": "stream",
          "name": "stdout",
          "text": [
            "❌ Error processing KotakTechnologyGrowthDirectPlan_INF174KA1QZ5.xlsx (Unknown): Insufficient NAV history (<3 years)\n"
          ]
        },
        {
          "output_type": "stream",
          "name": "stderr",
          "text": [
            " 30%|██▉       | 1226/4144 [04:28<07:10,  6.78it/s]"
          ]
        },
        {
          "output_type": "stream",
          "name": "stdout",
          "text": [
            "❌ Error processing KotakNiftyIndiaTourismIndexIDCWPayoutDirectPlan_INF174KA1TB0.xlsx (Unknown): Insufficient NAV history (<3 years)\n"
          ]
        },
        {
          "output_type": "stream",
          "name": "stderr",
          "text": [
            " 30%|██▉       | 1238/4144 [04:32<11:34,  4.18it/s]"
          ]
        },
        {
          "output_type": "stream",
          "name": "stdout",
          "text": [
            "❌ Error processing MahindraManulifeSmallCapGrowthDirectPlan_INF174V01BK7.xlsx (Unknown): Insufficient NAV history (<3 years)\n"
          ]
        },
        {
          "output_type": "stream",
          "name": "stderr",
          "text": [
            " 30%|██▉       | 1243/4144 [04:33<07:07,  6.79it/s]"
          ]
        },
        {
          "output_type": "stream",
          "name": "stdout",
          "text": [
            "❌ Error processing MahindraManulifeManufacturingIDCWPayoutDirectPlan_INF174V01CE8.xlsx (Unknown): Insufficient NAV history (<3 years)\n"
          ]
        },
        {
          "output_type": "stream",
          "name": "stderr",
          "text": [
            " 31%|███       | 1267/4144 [04:37<06:24,  7.48it/s]"
          ]
        },
        {
          "output_type": "stream",
          "name": "stdout",
          "text": [
            "❌ Error processing LICMFMoneyMarketIDCWPayoutDirectPlan_INF767K01RF7.xlsx (Unknown): Insufficient NAV history (<3 years)\n"
          ]
        },
        {
          "output_type": "stream",
          "name": "stderr",
          "text": [
            " 31%|███       | 1273/4144 [04:38<07:05,  6.75it/s]"
          ]
        },
        {
          "output_type": "stream",
          "name": "stdout",
          "text": [
            "❌ Error processing LICMFMultiCapGrowthDirectPlan_INF767K01RK7.xlsx (Unknown): Insufficient NAV history (<3 years)\n"
          ]
        },
        {
          "output_type": "stream",
          "name": "stderr",
          "text": [
            " 31%|███       | 1277/4144 [04:39<07:47,  6.13it/s]"
          ]
        },
        {
          "output_type": "stream",
          "name": "stdout",
          "text": [
            "❌ Error processing MahindraManulifeSmallCapIDCWPayoutDirectPlan_INF174V01BM3.xlsx (Unknown): Insufficient NAV history (<3 years)\n"
          ]
        },
        {
          "output_type": "stream",
          "name": "stderr",
          "text": [
            " 31%|███       | 1285/4144 [04:40<05:44,  8.29it/s]"
          ]
        },
        {
          "output_type": "stream",
          "name": "stdout",
          "text": [
            "❌ Error processing LICMFMoneyMarketGrowthDirectPlan_INF767K01RE0.xlsx (Unknown): Insufficient NAV history (<3 years)\n"
          ]
        },
        {
          "output_type": "stream",
          "name": "stderr",
          "text": [
            " 31%|███       | 1288/4144 [04:40<05:39,  8.42it/s]"
          ]
        },
        {
          "output_type": "stream",
          "name": "stdout",
          "text": [
            "❌ Error processing LTEmergingBusinessesIDCWPayoutDirectPlan_INF917K01XP5.xlsx (Unknown): Insufficient NAV history (<3 years)\n"
          ]
        },
        {
          "output_type": "stream",
          "name": "stderr",
          "text": [
            " 31%|███       | 1293/4144 [04:41<06:39,  7.14it/s]"
          ]
        },
        {
          "output_type": "stream",
          "name": "stdout",
          "text": [
            "❌ Error processing MiraeAssetCrisilIbxGiltIndexApril2033IndexIDCWPayoutDirectPlan_INF769K01IW7.xlsx (Unknown): Insufficient NAV history (<3 years)\n"
          ]
        },
        {
          "output_type": "stream",
          "name": "stderr",
          "text": [
            " 32%|███▏      | 1306/4144 [04:46<10:32,  4.48it/s]"
          ]
        },
        {
          "output_type": "stream",
          "name": "stdout",
          "text": [
            "❌ Error processing LICMFMoneyMarketIDCWReinvestDirectPlan_INF767K01RG5.xlsx (Unknown): Insufficient NAV history (<3 years)\n"
          ]
        },
        {
          "output_type": "stream",
          "name": "stderr",
          "text": [
            " 32%|███▏      | 1316/4144 [04:47<06:49,  6.90it/s]"
          ]
        },
        {
          "output_type": "stream",
          "name": "stdout",
          "text": [
            "❌ Error processing MahindraManulifeManufacturingGrowthDirectPlan_INF174V01CC2.xlsx (Unknown): Insufficient NAV history (<3 years)\n"
          ]
        },
        {
          "output_type": "stream",
          "name": "stderr",
          "text": [
            "\r 32%|███▏      | 1318/4144 [04:47<05:52,  8.02it/s]"
          ]
        },
        {
          "output_type": "stream",
          "name": "stdout",
          "text": [
            "❌ Error processing LICMFManufacturingIDCWPayoutDirectPlan_INF767K01RT8.xlsx (Unknown): Insufficient NAV history (<3 years)\n"
          ]
        },
        {
          "output_type": "stream",
          "name": "stderr",
          "text": [
            " 32%|███▏      | 1324/4144 [04:48<06:41,  7.03it/s]"
          ]
        },
        {
          "output_type": "stream",
          "name": "stdout",
          "text": [
            "❌ Error processing LICMFMultiCapIDCWPayoutDirectPlan_INF767K01RL5.xlsx (Unknown): Insufficient NAV history (<3 years)\n",
            "❌ Error processing LICMFMultiCapIDCWReinvestDirectPlan_INF767K01RM3.xlsx (Unknown): Insufficient NAV history (<3 years)\n"
          ]
        },
        {
          "output_type": "stream",
          "name": "stderr",
          "text": [
            " 32%|███▏      | 1336/4144 [04:50<04:17, 10.92it/s]"
          ]
        },
        {
          "output_type": "stream",
          "name": "stdout",
          "text": [
            "❌ Error processing MiraeAssetBalancedAdvantageIDCWPayoutDirectPlan_INF769K01IM8.xlsx (Unknown): Insufficient NAV history (<3 years)\n",
            "❌ Error processing LICMFManufacturingIDCWReinvestDirectPlan_INF767K01RS0.xlsx (Unknown): Insufficient NAV history (<3 years)\n",
            "❌ Error processing MahindraManulifeBusinessCycleDircetIDCWPayoutDirectPlan_INF174V01BS0.xlsx (Unknown): Insufficient NAV history (<3 years)\n"
          ]
        },
        {
          "output_type": "stream",
          "name": "stderr",
          "text": [
            " 33%|███▎      | 1349/4144 [04:52<06:11,  7.51it/s]"
          ]
        },
        {
          "output_type": "stream",
          "name": "stdout",
          "text": [
            "❌ Error processing MahindraManulifeBusinessCycleGrowthDirectPlan_INF174V01BQ4.xlsx (Unknown): Insufficient NAV history (<3 years)\n",
            "❌ Error processing MiraeAssetBalancedAdvantageGrowthDirectPlan_INF769K01IN6.xlsx (Unknown): Insufficient NAV history (<3 years)\n",
            "❌ Error processing MahindraManulifeMultiAssetAllocationIDCWPayoutDirectPlan_INF174V01BY8.xlsx (Unknown): Insufficient NAV history (<3 years)\n"
          ]
        },
        {
          "output_type": "stream",
          "name": "stderr",
          "text": [
            " 33%|███▎      | 1377/4144 [04:59<11:22,  4.05it/s]"
          ]
        },
        {
          "output_type": "stream",
          "name": "stdout",
          "text": [
            "❌ Error processing MiraeAssetCrisilIbxGiltIndexApril2033IndexIDCWReinvestDirectPlan_INF769K01IY3.xlsx (Unknown): Insufficient NAV history (<3 years)\n"
          ]
        },
        {
          "output_type": "stream",
          "name": "stderr",
          "text": [
            " 33%|███▎      | 1385/4144 [05:00<08:27,  5.43it/s]"
          ]
        },
        {
          "output_type": "stream",
          "name": "stdout",
          "text": [
            "❌ Error processing MahindraManulifeMultiAssetAllocationGrowthDirectPlan_INF174V01BW2.xlsx (Unknown): Insufficient NAV history (<3 years)\n",
            "❌ Error processing MiraeAssetCrisilIbxGiltIndexApril2033IndexGrowthDirectPlan_INF769K01IX5.xlsx (Unknown): Insufficient NAV history (<3 years)\n"
          ]
        },
        {
          "output_type": "stream",
          "name": "stderr",
          "text": [
            " 34%|███▍      | 1408/4144 [05:04<05:53,  7.74it/s]"
          ]
        },
        {
          "output_type": "stream",
          "name": "stdout",
          "text": [
            "❌ Error processing MiraeAssetBalancedAdvantageIDCWReinvestDirectPlan_INF769K01IO4.xlsx (Unknown): Insufficient NAV history (<3 years)\n"
          ]
        },
        {
          "output_type": "stream",
          "name": "stderr",
          "text": [
            " 34%|███▍      | 1411/4144 [05:04<05:30,  8.26it/s]"
          ]
        },
        {
          "output_type": "stream",
          "name": "stdout",
          "text": [
            "❌ Error processing LICMFManufacturingGrowthDirectPlan_INF767K01RR2.xlsx (Unknown): Insufficient NAV history (<3 years)\n"
          ]
        },
        {
          "output_type": "stream",
          "name": "stderr",
          "text": [
            " 34%|███▍      | 1419/4144 [05:06<06:43,  6.76it/s]"
          ]
        },
        {
          "output_type": "stream",
          "name": "stdout",
          "text": [
            "❌ Error processing MiraeAssetMultiAssetAllocationIDCWReinvestDirectPlan_INF769K01LB5.xlsx (Unknown): Insufficient NAV history (<3 years)\n",
            "❌ Error processing MiraeAssetNiftyTotalMarketIndexIDCWPayoutDirectPlan_INF769K01ME7.xlsx (Unknown): Insufficient NAV history (<3 years)\n",
            "❌ Error processing MiraeAssetGlobalXArtificialIntelligenceTechnologyETFFoFGrowthDirectPlan_INF769K01IS5.xlsx (Unknown): Insufficient NAV history (<3 years)\n"
          ]
        },
        {
          "output_type": "stream",
          "name": "stderr",
          "text": [
            " 34%|███▍      | 1425/4144 [05:06<03:43, 12.17it/s]"
          ]
        },
        {
          "output_type": "stream",
          "name": "stdout",
          "text": [
            "❌ Error processing MiraeAssetGlobalElectricAutonomousVehiclesETFsFoFGrowthDirectPlan_INF769K01IQ9.xlsx (Unknown): Insufficient NAV history (<3 years)\n",
            "❌ Error processing MiraeAssetNiftyTotalMarketIndexGrowthDirectPlan_INF769K01MD9.xlsx (Unknown): Insufficient NAV history (<3 years)\n",
            "❌ Error processing MotilalOswalManufacturingIDCWReinvestDirectPlan_INF247L01DC5.xlsx (Unknown): Insufficient NAV history (<3 years)\n",
            "❌ Error processing MiraeAssetNifty200Alpha30ETFFoFIDCWPayoutDirectPlan_INF769K01LV3.xlsx (Unknown): Insufficient NAV history (<3 years)\n",
            "❌ Error processing MotilalOswalNiftyMicrocap250IndexGrowthDirectPlan_INF247L01BQ9.xlsx (Unknown): Insufficient NAV history (<3 years)\n"
          ]
        },
        {
          "output_type": "stream",
          "name": "stderr",
          "text": [
            " 35%|███▍      | 1430/4144 [05:07<04:55,  9.18it/s]"
          ]
        },
        {
          "output_type": "stream",
          "name": "stdout",
          "text": [
            "❌ Error processing MiraeAssetNiftyIndiaNewAgeConsumptionETFFoFGrowthDirectPlan_INF769K01NP1.xlsx (Unknown): Insufficient NAV history (<3 years)\n",
            "❌ Error processing MiraeAssetNiftySDLJune2028IndexIDCWReinvestDirectPlan_INF769K01KA9.xlsx (Unknown): Insufficient NAV history (<3 years)\n",
            "❌ Error processing MotilalOswalMultiCapIDCWReinvestDirectPlan_INF247L01CN4.xlsx (Unknown): Insufficient NAV history (<3 years)\n"
          ]
        },
        {
          "output_type": "stream",
          "name": "stderr",
          "text": [
            "\r 35%|███▍      | 1434/4144 [05:07<04:16, 10.59it/s]"
          ]
        },
        {
          "output_type": "stream",
          "name": "stdout",
          "text": [
            "❌ Error processing MiraeAssetNiftyMidsmallcap400MomentumQuality100ETFFoFIDCWReinvestDirectPlan_INF769K01LP5.xlsx (Unknown): Insufficient NAV history (<3 years)\n"
          ]
        },
        {
          "output_type": "stream",
          "name": "stderr",
          "text": [
            " 35%|███▍      | 1438/4144 [05:08<05:06,  8.84it/s]"
          ]
        },
        {
          "output_type": "stream",
          "name": "stdout",
          "text": [
            "❌ Error processing MotilalOswalBSEQualityIndexGrowthDirectPlan_INF247L01BI6.xlsx (Unknown): Insufficient NAV history (<3 years)\n",
            "❌ Error processing MiraeAssetFlexiCapIDCWPayoutDirectPlan_INF769K01JI4.xlsx (Unknown): Insufficient NAV history (<3 years)\n",
            "❌ Error processing MotilalOswalLargeCapGrowthDirectPlan_INF247L01CE3.xlsx (Unknown): Insufficient NAV history (<3 years)\n",
            "❌ Error processing MotilalOswalNiftyMidsmallITTelecomIndexGrowthDirectPlan_INF247L01DY9.xlsx (Unknown): Insufficient NAV history (<3 years)\n"
          ]
        },
        {
          "output_type": "stream",
          "name": "stderr",
          "text": [
            " 35%|███▍      | 1444/4144 [05:08<04:09, 10.83it/s]"
          ]
        },
        {
          "output_type": "stream",
          "name": "stdout",
          "text": [
            "❌ Error processing MiraeAssetNiftySmallcap250MomentumQuality100ETFFoFGrowthDirectPlan_INF769K01LG4.xlsx (Unknown): Insufficient NAV history (<3 years)\n",
            "❌ Error processing MotilalOswalDigitalIndiaGrowthDirectPlan_INF247L01DN2.xlsx (Unknown): Insufficient NAV history (<3 years)\n",
            "❌ Error processing MiraeAssetNiftyIndiaNewAgeConsumptionETFFoFIDCWReinvestDirectPlan_INF769K01NQ9.xlsx (Unknown): Insufficient NAV history (<3 years)\n"
          ]
        },
        {
          "output_type": "stream",
          "name": "stderr",
          "text": [
            "\r 35%|███▍      | 1447/4144 [05:08<03:52, 11.60it/s]"
          ]
        },
        {
          "output_type": "stream",
          "name": "stdout",
          "text": [
            "❌ Error processing NaviBSESensexIndexGrowthDirectPlan_INF959L01HK9.xlsx (Unknown): Insufficient NAV history (<3 years)\n",
            "❌ Error processing MotilalOswalDevelopedMarketExUSETFsFoFGrowthDirectPlan_INF247L01BT3.xlsx (Unknown): Insufficient NAV history (<3 years)\n"
          ]
        },
        {
          "output_type": "stream",
          "name": "stderr",
          "text": [
            " 35%|███▌      | 1452/4144 [05:10<08:41,  5.16it/s]"
          ]
        },
        {
          "output_type": "stream",
          "name": "stdout",
          "text": [
            "❌ Error processing MiraeAssetFlexiCapGrowthDirectPlan_INF769K01JJ2.xlsx (Unknown): Insufficient NAV history (<3 years)\n"
          ]
        },
        {
          "output_type": "stream",
          "name": "stderr",
          "text": [
            " 35%|███▌      | 1458/4144 [05:11<08:18,  5.39it/s]"
          ]
        },
        {
          "output_type": "stream",
          "name": "stdout",
          "text": [
            "❌ Error processing MotilalOswalDigitalIndiaIDCWPayoutDirectPlan_INF247L01DO0.xlsx (Unknown): Insufficient NAV history (<3 years)\n",
            "❌ Error processing MotilalOswalArbitrageGrowthDirectPlan_INF247L01ED1.xlsx (Unknown): Insufficient NAV history (<3 years)\n",
            "❌ Error processing MotilalOswalSmallCapIDCWReinvestDirectPlan_INF247L01CA1.xlsx (Unknown): Insufficient NAV history (<3 years)\n",
            "❌ Error processing MotilalOswalNiftyMidsmallHealthcareIndexGrowthDirectPlan_INF247L01EA7.xlsx (Unknown): Insufficient NAV history (<3 years)\n",
            "❌ Error processing MiraeAssetMulticapGrowthDirectPlan_INF769K01KK8.xlsx (Unknown): Insufficient NAV history (<3 years)\n"
          ]
        },
        {
          "output_type": "stream",
          "name": "stderr",
          "text": [
            " 35%|███▌      | 1465/4144 [05:13<08:09,  5.47it/s]"
          ]
        },
        {
          "output_type": "stream",
          "name": "stdout",
          "text": [
            "❌ Error processing MotilalOswalArbitrageIDCWReinvestDirectPlan_INF247L01EF6.xlsx (Unknown): Insufficient NAV history (<3 years)\n"
          ]
        },
        {
          "output_type": "stream",
          "name": "stderr",
          "text": [
            " 35%|███▌      | 1470/4144 [05:13<06:04,  7.33it/s]"
          ]
        },
        {
          "output_type": "stream",
          "name": "stdout",
          "text": [
            "❌ Error processing MotilalOswalQuantIDCWPayoutDirectPlan_INF247L01CT1.xlsx (Unknown): Insufficient NAV history (<3 years)\n",
            "❌ Error processing MotilalOswalLargeCapIDCWReinvestDirectPlan_INF247L01CG8.xlsx (Unknown): Insufficient NAV history (<3 years)\n"
          ]
        },
        {
          "output_type": "stream",
          "name": "stderr",
          "text": [
            " 36%|███▌      | 1475/4144 [05:14<04:37,  9.63it/s]"
          ]
        },
        {
          "output_type": "stream",
          "name": "stdout",
          "text": [
            "❌ Error processing MiraeAssetNifty50IndexIDCWReinvestDirectPlan_INF769K01MM0.xlsx (Unknown): Insufficient NAV history (<3 years)\n",
            "❌ Error processing MiraeAssetMulticapIDCWPayoutDirectPlan_INF769K01KL6.xlsx (Unknown): Insufficient NAV history (<3 years)\n",
            "❌ Error processing MiraeAssetNiftyAaaPSUBondPlusSDLApr20265050IndexIDCWPayoutDirectPlan_INF769K01JC7.xlsx (Unknown): Insufficient NAV history (<3 years)\n"
          ]
        },
        {
          "output_type": "stream",
          "name": "stderr",
          "text": [
            " 36%|███▌      | 1479/4144 [05:14<05:16,  8.42it/s]"
          ]
        },
        {
          "output_type": "stream",
          "name": "stdout",
          "text": [
            "❌ Error processing MotilalOswalManufacturingGrowthDirectPlan_INF247L01DA9.xlsx (Unknown): Insufficient NAV history (<3 years)\n"
          ]
        },
        {
          "output_type": "stream",
          "name": "stderr",
          "text": [
            " 36%|███▌      | 1482/4144 [05:15<04:57,  8.96it/s]"
          ]
        },
        {
          "output_type": "stream",
          "name": "stdout",
          "text": [
            "❌ Error processing MiraeAssetNiftyLargemidcap250IndexIDCWPayoutDirectPlan_INF769K01ML2.xlsx (Unknown): Insufficient NAV history (<3 years)\n"
          ]
        },
        {
          "output_type": "stream",
          "name": "stderr",
          "text": [
            " 36%|███▌      | 1486/4144 [05:15<04:32,  9.74it/s]"
          ]
        },
        {
          "output_type": "stream",
          "name": "stdout",
          "text": [
            "❌ Error processing MiraeAssetGoldETFFoFIDCWReinvestDirectPlan_INF769K01MX7.xlsx (Unknown): Insufficient NAV history (<3 years)\n"
          ]
        },
        {
          "output_type": "stream",
          "name": "stderr",
          "text": [
            " 36%|███▌      | 1490/4144 [05:16<04:53,  9.03it/s]"
          ]
        },
        {
          "output_type": "stream",
          "name": "stdout",
          "text": [
            "❌ Error processing MotilalOswalNiftyCapitalMarketIndexGrowthDirectPlan_INF247L01EB5.xlsx (Unknown): Insufficient NAV history (<3 years)\n",
            "❌ Error processing MiraeAssetNiftySmallcap250MomentumQuality100ETFFoFIDCWReinvestDirectPlan_INF769K01LI0.xlsx (Unknown): Insufficient NAV history (<3 years)\n"
          ]
        },
        {
          "output_type": "stream",
          "name": "stderr",
          "text": [
            "\r 36%|███▌      | 1492/4144 [05:16<04:35,  9.64it/s]"
          ]
        },
        {
          "output_type": "stream",
          "name": "stdout",
          "text": [
            "❌ Error processing MiraeAssetNiftyLargemidcap250IndexGrowthDirectPlan_INF769K01MJ6.xlsx (Unknown): Insufficient NAV history (<3 years)\n",
            "❌ Error processing MiraeAssetNiftyAaaPSUBondPlusSDLApr20265050IndexIDCWReinvestDirectPlan_INF769K01JE3.xlsx (Unknown): Insufficient NAV history (<3 years)\n",
            "❌ Error processing MiraeAssetMulticapIDCWReinvestDirectPlan_INF769K01KM4.xlsx (Unknown): Insufficient NAV history (<3 years)\n"
          ]
        },
        {
          "output_type": "stream",
          "name": "stderr",
          "text": [
            " 36%|███▌      | 1500/4144 [05:17<04:29,  9.82it/s]"
          ]
        },
        {
          "output_type": "stream",
          "name": "stdout",
          "text": [
            "❌ Error processing MiraeAssetNifty50IndexGrowthDirectPlan_INF769K01MQ1.xlsx (Unknown): Insufficient NAV history (<3 years)\n",
            "❌ Error processing MotilalOswalArbitrageIDCWPayoutDirectPlan_INF247L01EE9.xlsx (Unknown): Insufficient NAV history (<3 years)\n"
          ]
        },
        {
          "output_type": "stream",
          "name": "stderr",
          "text": [
            " 36%|███▋      | 1505/4144 [05:17<05:07,  8.59it/s]"
          ]
        },
        {
          "output_type": "stream",
          "name": "stdout",
          "text": [
            "❌ Error processing MotilalOswalNiftyIndiaDefenceIndexGrowthDirectPlan_INF247L01CW5.xlsx (Unknown): Insufficient NAV history (<3 years)\n",
            "❌ Error processing MiraeAssetNiftyTotalMarketIndexIDCWReinvestDirectPlan_INF769K01MF4.xlsx (Unknown): Insufficient NAV history (<3 years)\n"
          ]
        },
        {
          "output_type": "stream",
          "name": "stderr",
          "text": [
            "\r 36%|███▋      | 1509/4144 [05:17<03:14, 13.52it/s]"
          ]
        },
        {
          "output_type": "stream",
          "name": "stdout",
          "text": [
            "❌ Error processing MiraeAssetGoldETFFoFGrowthDirectPlan_INF769K01MV1.xlsx (Unknown): Insufficient NAV history (<3 years)\n",
            "❌ Error processing MotilalOswalBusinessCycleIDCWReinvestDirectPlan_INF247L01DI2.xlsx (Unknown): Insufficient NAV history (<3 years)\n",
            "❌ Error processing MotilalOswalLargeCapIDCWPayoutDirectPlan_INF247L01CF0.xlsx (Unknown): Insufficient NAV history (<3 years)\n",
            "❌ Error processing MiraeAssetNifty200Alpha30ETFFoFGrowthDirectPlan_INF769K01LU5.xlsx (Unknown): Insufficient NAV history (<3 years)\n",
            "❌ Error processing MiraeAssetNifty200Alpha30ETFFoFIDCWReinvestDirectPlan_INF769K01LW1.xlsx (Unknown): Insufficient NAV history (<3 years)\n",
            "❌ Error processing MiraeAssetLongDurationIDCWPayoutDirectPlan_INF769K01ND7.xlsx (Unknown): Insufficient NAV history (<3 years)\n"
          ]
        },
        {
          "output_type": "stream",
          "name": "stderr",
          "text": [
            " 37%|███▋      | 1518/4144 [05:18<03:32, 12.37it/s]"
          ]
        },
        {
          "output_type": "stream",
          "name": "stdout",
          "text": [
            "❌ Error processing MiraeAssetNiftySDLJune2028IndexGrowthDirectPlan_INF769K01JZ8.xlsx (Unknown): Insufficient NAV history (<3 years)\n",
            "❌ Error processing MotilalOswalDigitalIndiaDirectplanIDCWReinvestDirectPlan_INF247L01DP7.xlsx (Unknown): Insufficient NAV history (<3 years)\n"
          ]
        },
        {
          "output_type": "stream",
          "name": "stderr",
          "text": [
            "\r 37%|███▋      | 1520/4144 [05:18<03:34, 12.26it/s]"
          ]
        },
        {
          "output_type": "stream",
          "name": "stdout",
          "text": [
            "❌ Error processing MiraeAssetNiftyMidsmallcap400MomentumQuality100ETFFoFGrowthDirectPlan_INF769K01LN0.xlsx (Unknown): Insufficient NAV history (<3 years)\n",
            "❌ Error processing MiraeAssetNifty50IndexIDCWPayoutDirectPlan_INF769K01MN8.xlsx (Unknown): Insufficient NAV history (<3 years)\n"
          ]
        },
        {
          "output_type": "stream",
          "name": "stderr",
          "text": [
            "\r 37%|███▋      | 1523/4144 [05:18<02:53, 15.11it/s]"
          ]
        },
        {
          "output_type": "stream",
          "name": "stdout",
          "text": [
            "❌ Error processing MotilalOswalBSEEnhancedValueIndexGrowthDirectPlan_INF247L01BF2.xlsx (Unknown): Insufficient NAV history (<3 years)\n",
            "❌ Error processing MotilalOswalMultiCapGrowthDirectPlan_INF247L01CL8.xlsx (Unknown): Insufficient NAV history (<3 years)\n",
            "❌ Error processing MiraeAssetMultiAssetAllocationIDCWPayoutDirectPlan_INF769K01LA7.xlsx (Unknown): Insufficient NAV history (<3 years)\n"
          ]
        },
        {
          "output_type": "stream",
          "name": "stderr",
          "text": [
            "\r 37%|███▋      | 1525/4144 [05:19<03:43, 11.73it/s]"
          ]
        },
        {
          "output_type": "stream",
          "name": "stdout",
          "text": [
            "⚠️ Skipping 'Mirae Asset NYSE FANG ETF FoF Growth Direct Plan' due to high SIP CAGR (>40%): 54.46%\n",
            "❌ Error processing MotilalOswalQuantIDCWReinvestDirectPlan_INF247L01CU9.xlsx (Unknown): Insufficient NAV history (<3 years)\n",
            "❌ Error processing MotilalOswalBusinessCycleIDCWPayoutDirectPlan_INF247L01DH4.xlsx (Unknown): Insufficient NAV history (<3 years)\n"
          ]
        },
        {
          "output_type": "stream",
          "name": "stderr",
          "text": [
            " 37%|███▋      | 1537/4144 [05:20<04:16, 10.17it/s]"
          ]
        },
        {
          "output_type": "stream",
          "name": "stdout",
          "text": [
            "❌ Error processing MiraeAssetNiftyMidsmallcap400MomentumQuality100ETFFoFIDCWPayoutDirectPlan_INF769K01LO8.xlsx (Unknown): Insufficient NAV history (<3 years)\n",
            "❌ Error processing MotilalOswalNifty500Momentum50IndexGrowthDirectPlan_INF247L01DL6.xlsx (Unknown): Insufficient NAV history (<3 years)\n"
          ]
        },
        {
          "output_type": "stream",
          "name": "stderr",
          "text": [
            " 37%|███▋      | 1545/4144 [05:22<06:09,  7.04it/s]"
          ]
        },
        {
          "output_type": "stream",
          "name": "stdout",
          "text": [
            "❌ Error processing MiraeAssetNiftyLargemidcap250IndexIDCWReinvestDirectPlan_INF769K01MK4.xlsx (Unknown): Insufficient NAV history (<3 years)\n",
            "❌ Error processing MotilalOswalBusinessCycleGrowthDirectPlan_INF247L01DG6.xlsx (Unknown): Insufficient NAV history (<3 years)\n"
          ]
        },
        {
          "output_type": "stream",
          "name": "stderr",
          "text": [
            " 37%|███▋      | 1551/4144 [05:25<22:48,  1.89it/s]"
          ]
        },
        {
          "output_type": "stream",
          "name": "stdout",
          "text": [
            "❌ Error processing MotilalOswalNiftyMidsmallIndiaConsumptionIndexGrowthDirectPlan_INF247L01DU7.xlsx (Unknown): Insufficient NAV history (<3 years)\n",
            "❌ Error processing MiraeAssetNiftySmallcap250MomentumQuality100ETFFoFIDCWPayoutDirectPlan_INF769K01LH2.xlsx (Unknown): Insufficient NAV history (<3 years)\n"
          ]
        },
        {
          "output_type": "stream",
          "name": "stderr",
          "text": [
            " 38%|███▊      | 1560/4144 [05:26<07:08,  6.03it/s]"
          ]
        },
        {
          "output_type": "stream",
          "name": "stdout",
          "text": [
            "❌ Error processing MotilalOswalGoldSilverETFsFoFGrowthDirectPlan_INF247L01BM8.xlsx (Unknown): Insufficient NAV history (<3 years)\n",
            "❌ Error processing MotilalOswalSmallCapGrowthDirectPlan_INF247L01BY3.xlsx (Unknown): Insufficient NAV history (<3 years)\n"
          ]
        },
        {
          "output_type": "stream",
          "name": "stderr",
          "text": [
            " 38%|███▊      | 1563/4144 [05:26<06:18,  6.83it/s]"
          ]
        },
        {
          "output_type": "stream",
          "name": "stdout",
          "text": [
            "❌ Error processing MiraeAssetLongDurationGrowthDirectPlan_INF769K01NC9.xlsx (Unknown): Insufficient NAV history (<3 years)\n",
            "❌ Error processing MotilalOswalSmallCapIDCWPayoutDirectPlan_INF247L01BZ0.xlsx (Unknown): Insufficient NAV history (<3 years)\n"
          ]
        },
        {
          "output_type": "stream",
          "name": "stderr",
          "text": [
            " 38%|███▊      | 1568/4144 [05:27<04:48,  8.92it/s]"
          ]
        },
        {
          "output_type": "stream",
          "name": "stdout",
          "text": [
            "❌ Error processing MiraeAssetNiftyAaaPSUBondPlusSDLApr20265050IndexGrowthDirectPlan_INF769K01JD5.xlsx (Unknown): Insufficient NAV history (<3 years)\n"
          ]
        },
        {
          "output_type": "stream",
          "name": "stderr",
          "text": [
            "\r 38%|███▊      | 1570/4144 [05:27<04:34,  9.38it/s]"
          ]
        },
        {
          "output_type": "stream",
          "name": "stdout",
          "text": [
            "❌ Error processing MiraeAssetMultiAssetAllocationGrowthDirectPlan_INF769K01KZ6.xlsx (Unknown): Insufficient NAV history (<3 years)\n"
          ]
        },
        {
          "output_type": "stream",
          "name": "stderr",
          "text": [
            " 38%|███▊      | 1572/4144 [05:27<05:13,  8.20it/s]"
          ]
        },
        {
          "output_type": "stream",
          "name": "stdout",
          "text": [
            "❌ Error processing MiraeAssetFlexiCapIDCWReinvestDirectPlan_INF769K01JK0.xlsx (Unknown): Insufficient NAV history (<3 years)\n"
          ]
        },
        {
          "output_type": "stream",
          "name": "stderr",
          "text": [
            " 38%|███▊      | 1578/4144 [05:28<06:34,  6.50it/s]"
          ]
        },
        {
          "output_type": "stream",
          "name": "stdout",
          "text": [
            "❌ Error processing MotilalOswalBSEFinancialsExBank30IndexGrowthDirectPlan_INF247L01BC9.xlsx (Unknown): Insufficient NAV history (<3 years)\n",
            "❌ Error processing MiraeAssetNiftySDLJune2028IndexIDCWPayoutDirectPlan_INF769K01JY1.xlsx (Unknown): Insufficient NAV history (<3 years)\n"
          ]
        },
        {
          "output_type": "stream",
          "name": "stderr",
          "text": [
            " 38%|███▊      | 1588/4144 [05:29<05:50,  7.29it/s]"
          ]
        },
        {
          "output_type": "stream",
          "name": "stdout",
          "text": [
            "❌ Error processing MotilalOswalQuantGrowthDirectPlan_INF247L01CS3.xlsx (Unknown): Insufficient NAV history (<3 years)\n",
            "❌ Error processing MotilalOswalMultiCapIDCWPayoutDirectPlan_INF247L01CM6.xlsx (Unknown): Insufficient NAV history (<3 years)\n"
          ]
        },
        {
          "output_type": "stream",
          "name": "stderr",
          "text": [
            " 38%|███▊      | 1593/4144 [05:30<05:28,  7.75it/s]"
          ]
        },
        {
          "output_type": "stream",
          "name": "stdout",
          "text": [
            "❌ Error processing MiraeAssetNiftyIndiaNewAgeConsumptionETFFoFIDCWPayoutDirectPlan_INF769K01NR7.xlsx (Unknown): Insufficient NAV history (<3 years)\n"
          ]
        },
        {
          "output_type": "stream",
          "name": "stderr",
          "text": [
            "\r 38%|███▊      | 1595/4144 [05:30<04:47,  8.87it/s]"
          ]
        },
        {
          "output_type": "stream",
          "name": "stdout",
          "text": [
            "❌ Error processing MiraeAssetGoldETFFoFIDCWPayoutDirectPlan_INF769K01MW9.xlsx (Unknown): Insufficient NAV history (<3 years)\n"
          ]
        },
        {
          "output_type": "stream",
          "name": "stderr",
          "text": [
            " 39%|███▊      | 1599/4144 [05:31<04:54,  8.65it/s]"
          ]
        },
        {
          "output_type": "stream",
          "name": "stdout",
          "text": [
            "❌ Error processing MotilalOswalNiftyMidsmallFinancialServicesIndexGrowthDirectPlan_INF247L01DW3.xlsx (Unknown): Insufficient NAV history (<3 years)\n",
            "❌ Error processing MotilalOswalManufacturingIDCWPayoutDirectPlan_INF247L01DB7.xlsx (Unknown): Insufficient NAV history (<3 years)\n"
          ]
        },
        {
          "output_type": "stream",
          "name": "stderr",
          "text": [
            " 39%|███▊      | 1605/4144 [05:32<04:29,  9.43it/s]"
          ]
        },
        {
          "output_type": "stream",
          "name": "stdout",
          "text": [
            "❌ Error processing MiraeAssetLongDurationIDCWReinvestDirectPlan_INF769K01NF2.xlsx (Unknown): Insufficient NAV history (<3 years)\n"
          ]
        },
        {
          "output_type": "stream",
          "name": "stderr",
          "text": [
            " 39%|███▉      | 1618/4144 [05:34<08:20,  5.04it/s]"
          ]
        },
        {
          "output_type": "stream",
          "name": "stdout",
          "text": [
            "❌ Error processing NaviELSSTaxSaverNifty50IndexIDCWPayoutDirectPlan_INF959L01GT2.xlsx (Unknown): Insufficient NAV history (<3 years)\n"
          ]
        },
        {
          "output_type": "stream",
          "name": "stderr",
          "text": [
            " 40%|███▉      | 1642/4144 [05:41<07:04,  5.89it/s]"
          ]
        },
        {
          "output_type": "stream",
          "name": "stdout",
          "text": [
            "❌ Error processing NaviNifty500Multicap502525IndexGrowthDirectPlan_INF959L01HO1.xlsx (Unknown): Insufficient NAV history (<3 years)\n"
          ]
        },
        {
          "output_type": "stream",
          "name": "stderr",
          "text": [
            " 40%|███▉      | 1647/4144 [05:42<07:46,  5.36it/s]"
          ]
        },
        {
          "output_type": "stream",
          "name": "stdout",
          "text": [
            "❌ Error processing NipponIndiaCrisilIbxAaaFinancialServicesJan2028IndexIDCWPayoutDirectPlan_INF204KC1DT8.xlsx (Unknown): Insufficient NAV history (<3 years)\n"
          ]
        },
        {
          "output_type": "stream",
          "name": "stderr",
          "text": [
            " 41%|████      | 1694/4144 [05:54<08:39,  4.72it/s]"
          ]
        },
        {
          "output_type": "stream",
          "name": "stdout",
          "text": [
            "❌ Error processing NipponIndiaCrisilIbxAaaFinancialServicesJan2028IndexGrowthDirectPlan_INF204KC1DS0.xlsx (Unknown): Insufficient NAV history (<3 years)\n"
          ]
        },
        {
          "output_type": "stream",
          "name": "stderr",
          "text": [
            " 41%|████      | 1704/4144 [05:56<06:28,  6.28it/s]"
          ]
        },
        {
          "output_type": "stream",
          "name": "stdout",
          "text": [
            "❌ Error processing NipponIndiaInnovationIDCWPayoutDirectPlan_INF204KC1BP0.xlsx (Unknown): Insufficient NAV history (<3 years)\n"
          ]
        },
        {
          "output_type": "stream",
          "name": "stderr",
          "text": [
            " 42%|████▏     | 1725/4144 [06:00<05:28,  7.37it/s]"
          ]
        },
        {
          "output_type": "stream",
          "name": "stdout",
          "text": [
            "❌ Error processing NipponIndiaCrisilIbxAaaFinancialServicesDec2026IndexIDCWPayoutDirectPlan_INF204KC1DN1.xlsx (Unknown): Insufficient NAV history (<3 years)\n"
          ]
        },
        {
          "output_type": "stream",
          "name": "stderr",
          "text": [
            " 42%|████▏     | 1730/4144 [06:01<06:06,  6.59it/s]"
          ]
        },
        {
          "output_type": "stream",
          "name": "stdout",
          "text": [
            "❌ Error processing NipponIndiaCrisilIbxAaaFinancialServicesJan2028IndexIDCWReinvestDirectPlan_INF204KC1DU6.xlsx (Unknown): Insufficient NAV history (<3 years)\n"
          ]
        },
        {
          "output_type": "stream",
          "name": "stderr",
          "text": [
            " 42%|████▏     | 1738/4144 [06:05<16:29,  2.43it/s]"
          ]
        },
        {
          "output_type": "stream",
          "name": "stdout",
          "text": [
            "❌ Error processing NaviNiftyITIndexGrowthDirectPlan_INF959L01HM5.xlsx (Unknown): Insufficient NAV history (<3 years)\n"
          ]
        },
        {
          "output_type": "stream",
          "name": "stderr",
          "text": [
            " 42%|████▏     | 1751/4144 [06:07<06:36,  6.03it/s]"
          ]
        },
        {
          "output_type": "stream",
          "name": "stdout",
          "text": [
            "❌ Error processing NipponIndiaCrisilIbxAaaFinancialServicesDec2026IndexIDCWReinvestDirectPlan_INF204KC1DO9.xlsx (Unknown): Insufficient NAV history (<3 years)\n"
          ]
        },
        {
          "output_type": "stream",
          "name": "stderr",
          "text": [
            " 42%|████▏     | 1758/4144 [06:09<06:24,  6.20it/s]"
          ]
        },
        {
          "output_type": "stream",
          "name": "stdout",
          "text": [
            "❌ Error processing NipponIndiaInnovationIDCWReinvestDirectPlan_INF204KC1BQ8.xlsx (Unknown): Insufficient NAV history (<3 years)\n"
          ]
        },
        {
          "output_type": "stream",
          "name": "stderr",
          "text": [
            "\r 42%|████▏     | 1759/4144 [06:09<06:49,  5.83it/s]"
          ]
        },
        {
          "output_type": "stream",
          "name": "stdout",
          "text": [
            "❌ Error processing NipponIndiaInnovationGrowthDirectPlan_INF204KC1BO3.xlsx (Unknown): Insufficient NAV history (<3 years)\n"
          ]
        },
        {
          "output_type": "stream",
          "name": "stderr",
          "text": [
            " 43%|████▎     | 1769/4144 [06:11<06:28,  6.11it/s]"
          ]
        },
        {
          "output_type": "stream",
          "name": "stdout",
          "text": [
            "❌ Error processing NaviELSSTaxSaverNifty50IndexGrowthDirectPlan_INF959L01GR6.xlsx (Unknown): Insufficient NAV history (<3 years)\n"
          ]
        },
        {
          "output_type": "stream",
          "name": "stderr",
          "text": [
            " 43%|████▎     | 1771/4144 [06:11<07:12,  5.49it/s]"
          ]
        },
        {
          "output_type": "stream",
          "name": "stdout",
          "text": [
            "❌ Error processing NipponIndiaCrisilIbxAaaFinancialServicesDec2026IndexGrowthDirectPlan_INF204KC1DM3.xlsx (Unknown): Insufficient NAV history (<3 years)\n"
          ]
        },
        {
          "output_type": "stream",
          "name": "stderr",
          "text": [
            " 43%|████▎     | 1781/4144 [06:13<05:52,  6.70it/s]"
          ]
        },
        {
          "output_type": "stream",
          "name": "stdout",
          "text": [
            "❌ Error processing NaviNiftyIndiaManufacturingIndexGrowthDirectPlan_INF959L01GD6.xlsx (Unknown): Insufficient NAV history (<3 years)\n"
          ]
        },
        {
          "output_type": "stream",
          "name": "stderr",
          "text": [
            " 43%|████▎     | 1796/4144 [06:18<22:26,  1.74it/s]"
          ]
        },
        {
          "output_type": "stream",
          "name": "stdout",
          "text": [
            "❌ Error processing ParagParikhArbitrageGrowthDirectPlan_INF879O01225.xlsx (Unknown): Insufficient NAV history (<3 years)\n",
            "❌ Error processing NipponIndiaNiftyITIndexGrowthDirectPlan_INF204KC1CE2.xlsx (Unknown): Insufficient NAV history (<3 years)\n"
          ]
        },
        {
          "output_type": "stream",
          "name": "stderr",
          "text": [
            " 44%|████▎     | 1803/4144 [06:19<08:42,  4.48it/s]"
          ]
        },
        {
          "output_type": "stream",
          "name": "stdout",
          "text": [
            "❌ Error processing NipponIndiaNifty500EqualWeightIndexIDCWReinvestDirectPlan_INF204KC1DC4.xlsx (Unknown): Insufficient NAV history (<3 years)\n"
          ]
        },
        {
          "output_type": "stream",
          "name": "stderr",
          "text": [
            " 44%|████▎     | 1807/4144 [06:20<05:45,  6.76it/s]"
          ]
        },
        {
          "output_type": "stream",
          "name": "stdout",
          "text": [
            "❌ Error processing NipponIndiaNiftyITIndexIDCWPayoutDirectPlan_INF204KC1CF9.xlsx (Unknown): Insufficient NAV history (<3 years)\n",
            "❌ Error processing OldBridgeFocusedIDCWReinvestDirectPlan_INF0S5R01067.xlsx (Unknown): Insufficient NAV history (<3 years)\n"
          ]
        },
        {
          "output_type": "stream",
          "name": "stderr",
          "text": [
            "\r 44%|████▎     | 1811/4144 [06:20<04:03,  9.57it/s]"
          ]
        },
        {
          "output_type": "stream",
          "name": "stdout",
          "text": [
            "❌ Error processing NipponIndiaNifty500EqualWeightIndexGrowthDirectPlan_INF204KC1DA8.xlsx (Unknown): Insufficient NAV history (<3 years)\n",
            "❌ Error processing NipponIndiaNiftyBankIndexGrowthDirectPlan_INF204KC1BY2.xlsx (Unknown): Insufficient NAV history (<3 years)\n"
          ]
        },
        {
          "output_type": "stream",
          "name": "stderr",
          "text": [
            " 44%|████▍     | 1818/4144 [06:21<04:04,  9.52it/s]"
          ]
        },
        {
          "output_type": "stream",
          "name": "stdout",
          "text": [
            "❌ Error processing NipponIndiaNiftyITIndexIDCWReinvestDirectPlan_INF204KC1CG7.xlsx (Unknown): Insufficient NAV history (<3 years)\n",
            "❌ Error processing NipponIndiaNiftyRealtyIndexIDCWReinvestDirectPlan_INF204KC1EA6.xlsx (Unknown): Insufficient NAV history (<3 years)\n"
          ]
        },
        {
          "output_type": "stream",
          "name": "stderr",
          "text": [
            " 44%|████▍     | 1827/4144 [06:22<03:43, 10.38it/s]"
          ]
        },
        {
          "output_type": "stream",
          "name": "stdout",
          "text": [
            "❌ Error processing NipponIndiaNiftyAaaPSUBondPlusSDLSep2026Maturity5050IndexGrowthDirectPlan_INF204KC1683.xlsx (Unknown): Insufficient NAV history (<3 years)\n",
            "❌ Error processing NipponIndiaNifty500EqualWeightIndexIDCWPayoutDirectPlan_INF204KC1DB6.xlsx (Unknown): Insufficient NAV history (<3 years)\n",
            "❌ Error processing NipponIndiaNiftySDLPlusGSecJun2028Maturity7030IndexIDCWPayoutDirectPlan_INF204KC1758.xlsx (Unknown): Insufficient NAV history (<3 years)\n"
          ]
        },
        {
          "output_type": "stream",
          "name": "stderr",
          "text": [
            "\r 44%|████▍     | 1829/4144 [06:22<03:40, 10.51it/s]"
          ]
        },
        {
          "output_type": "stream",
          "name": "stdout",
          "text": [
            "❌ Error processing NipponIndiaNiftyBankIndexIDCWPayoutDirectPlan_INF204KC1BZ9.xlsx (Unknown): Insufficient NAV history (<3 years)\n",
            "❌ Error processing NipponIndiaNiftyGSecOct2028MaturityIndexGrowthDirectPlan_INF204KC1AO5.xlsx (Unknown): Insufficient NAV history (<3 years)\n"
          ]
        },
        {
          "output_type": "stream",
          "name": "stderr",
          "text": [
            " 44%|████▍     | 1834/4144 [06:23<04:33,  8.44it/s]"
          ]
        },
        {
          "output_type": "stream",
          "name": "stdout",
          "text": [
            "❌ Error processing ParagParikhDynamicAssetAllocationMonthlyIDCWReinvestDirectPlan_INF879O01282.xlsx (Unknown): Insufficient NAV history (<3 years)\n"
          ]
        },
        {
          "output_type": "stream",
          "name": "stderr",
          "text": [
            " 44%|████▍     | 1837/4144 [06:23<05:45,  6.68it/s]"
          ]
        },
        {
          "output_type": "stream",
          "name": "stdout",
          "text": [
            "❌ Error processing NipponIndiaNiftyAlphaLowVolatility30IndexGrowthDirectPlan_INF204KC1584.xlsx (Unknown): Insufficient NAV history (<3 years)\n",
            "❌ Error processing NipponIndiaNifty500Momentum50IndexIDCWReinvestDirectPlan_INF204KC1DI1.xlsx (Unknown): Insufficient NAV history (<3 years)\n"
          ]
        },
        {
          "output_type": "stream",
          "name": "stderr",
          "text": [
            " 45%|████▍     | 1845/4144 [06:24<05:53,  6.50it/s]"
          ]
        },
        {
          "output_type": "stream",
          "name": "stdout",
          "text": [
            "❌ Error processing NipponIndiaNiftyGSecSep2027MaturityIndexIDCWPayoutDirectPlan_INF204KC1899.xlsx (Unknown): Insufficient NAV history (<3 years)\n"
          ]
        },
        {
          "output_type": "stream",
          "name": "stderr",
          "text": [
            " 45%|████▍     | 1849/4144 [06:25<04:16,  8.94it/s]"
          ]
        },
        {
          "output_type": "stream",
          "name": "stdout",
          "text": [
            "❌ Error processing NipponIndiaNiftyAutoIndexIDCWPayoutDirectPlan_INF204KC1EF5.xlsx (Unknown): Insufficient NAV history (<3 years)\n",
            "❌ Error processing NJFlexiCapIDCWPayoutDirectPlan_INF0J8L01164.xlsx (Unknown): Insufficient NAV history (<3 years)\n",
            "❌ Error processing NJELSSTaxSaverSchemeIDCWPayoutDirectPlan_INF0J8L01123.xlsx (Unknown): Insufficient NAV history (<3 years)\n"
          ]
        },
        {
          "output_type": "stream",
          "name": "stderr",
          "text": [
            " 45%|████▍     | 1853/4144 [06:25<03:57,  9.64it/s]"
          ]
        },
        {
          "output_type": "stream",
          "name": "stdout",
          "text": [
            "❌ Error processing NipponIndiaNiftyBankIndexIDCWReinvestDirectPlan_INF204KC1CA0.xlsx (Unknown): Insufficient NAV history (<3 years)\n"
          ]
        },
        {
          "output_type": "stream",
          "name": "stderr",
          "text": [
            " 45%|████▍     | 1863/4144 [06:27<04:33,  8.34it/s]"
          ]
        },
        {
          "output_type": "stream",
          "name": "stdout",
          "text": [
            "❌ Error processing NipponIndiaNiftySDLPlusGSecJun2029Maturity7030IndexGrowthDirectPlan_INF204KC1AI7.xlsx (Unknown): Insufficient NAV history (<3 years)\n",
            "❌ Error processing NipponIndiaNiftySDLPlusGSecJun2028Maturity7030IndexGrowthDirectPlan_INF204KC1741.xlsx (Unknown): Insufficient NAV history (<3 years)\n"
          ]
        },
        {
          "output_type": "stream",
          "name": "stderr",
          "text": [
            " 45%|████▌     | 1866/4144 [06:27<04:32,  8.36it/s]"
          ]
        },
        {
          "output_type": "stream",
          "name": "stdout",
          "text": [
            "❌ Error processing NipponIndiaNiftyAutoIndexGrowthDirectPlan_INF204KC1EE8.xlsx (Unknown): Insufficient NAV history (<3 years)\n"
          ]
        },
        {
          "output_type": "stream",
          "name": "stderr",
          "text": [
            " 45%|████▌     | 1869/4144 [06:27<04:39,  8.14it/s]"
          ]
        },
        {
          "output_type": "stream",
          "name": "stdout",
          "text": [
            "❌ Error processing NJELSSTaxSaverSchemeGrowthDirectPlan_INF0J8L01115.xlsx (Unknown): Insufficient NAV history (<3 years)\n"
          ]
        },
        {
          "output_type": "stream",
          "name": "stderr",
          "text": [
            "\r 45%|████▌     | 1871/4144 [06:28<04:12,  9.01it/s]"
          ]
        },
        {
          "output_type": "stream",
          "name": "stdout",
          "text": [
            "❌ Error processing NipponIndiaNifty500Momentum50IndexIDCWPayoutDirectPlan_INF204KC1DH3.xlsx (Unknown): Insufficient NAV history (<3 years)\n"
          ]
        },
        {
          "output_type": "stream",
          "name": "stderr",
          "text": [
            " 45%|████▌     | 1874/4144 [06:28<04:35,  8.23it/s]"
          ]
        },
        {
          "output_type": "stream",
          "name": "stdout",
          "text": [
            "❌ Error processing NipponIndiaNiftyGSecJun2036MaturityIndexIDCWPayoutDirectPlan_INF204KC1AD8.xlsx (Unknown): Insufficient NAV history (<3 years)\n",
            "❌ Error processing NJArbitrageGrowthDirectPlan_INF0J8L01065.xlsx (Unknown): Insufficient NAV history (<3 years)\n"
          ]
        },
        {
          "output_type": "stream",
          "name": "stderr",
          "text": [
            " 45%|████▌     | 1884/4144 [06:32<08:20,  4.52it/s]"
          ]
        },
        {
          "output_type": "stream",
          "name": "stdout",
          "text": [
            "❌ Error processing NipponIndiaNiftyRealtyIndexIDCWPayoutDirectPlan_INF204KC1DZ5.xlsx (Unknown): Insufficient NAV history (<3 years)\n"
          ]
        },
        {
          "output_type": "stream",
          "name": "stderr",
          "text": [
            "\r 45%|████▌     | 1885/4144 [06:32<08:02,  4.68it/s]"
          ]
        },
        {
          "output_type": "stream",
          "name": "stdout",
          "text": [
            "❌ Error processing NipponIndiaNiftyGSecSep2027MaturityIndexGrowthDirectPlan_INF204KC1881.xlsx (Unknown): Insufficient NAV history (<3 years)\n",
            "❌ Error processing NipponIndiaNiftyAlphaLowVolatility30IndexIDCWPayoutDirectPlan_INF204KC1592.xlsx (Unknown): Insufficient NAV history (<3 years)\n"
          ]
        },
        {
          "output_type": "stream",
          "name": "stderr",
          "text": [
            " 46%|████▌     | 1899/4144 [06:34<05:00,  7.46it/s]"
          ]
        },
        {
          "output_type": "stream",
          "name": "stdout",
          "text": [
            "❌ Error processing OldBridgeFocusedIDCWPayoutDirectPlan_INF0S5R01059.xlsx (Unknown): Insufficient NAV history (<3 years)\n"
          ]
        },
        {
          "output_type": "stream",
          "name": "stderr",
          "text": [
            " 46%|████▌     | 1915/4144 [06:37<04:26,  8.37it/s]"
          ]
        },
        {
          "output_type": "stream",
          "name": "stdout",
          "text": [
            "❌ Error processing NJFlexiCapGrowthDirectPlan_INF0J8L01156.xlsx (Unknown): Insufficient NAV history (<3 years)\n"
          ]
        },
        {
          "output_type": "stream",
          "name": "stderr",
          "text": [
            " 46%|████▋     | 1918/4144 [06:37<04:39,  7.97it/s]"
          ]
        },
        {
          "output_type": "stream",
          "name": "stdout",
          "text": [
            "❌ Error processing NipponIndiaNiftyRealtyIndexGrowthDirectPlan_INF204KC1DY8.xlsx (Unknown): Insufficient NAV history (<3 years)\n",
            "❌ Error processing NipponIndiaNiftyAutoIndexIDCWReinvestDirectPlan_INF204KC1EG3.xlsx (Unknown): Insufficient NAV history (<3 years)\n"
          ]
        },
        {
          "output_type": "stream",
          "name": "stderr",
          "text": [
            " 46%|████▋     | 1921/4144 [06:38<04:52,  7.59it/s]"
          ]
        },
        {
          "output_type": "stream",
          "name": "stdout",
          "text": [
            "❌ Error processing NipponIndiaNiftyAaaPSUBondPlusSDLSep2026Maturity5050IndexIDCWPayoutDirectPlan_INF204KC1691.xlsx (Unknown): Insufficient NAV history (<3 years)\n"
          ]
        },
        {
          "output_type": "stream",
          "name": "stderr",
          "text": [
            " 47%|████▋     | 1930/4144 [06:39<03:31, 10.47it/s]"
          ]
        },
        {
          "output_type": "stream",
          "name": "stdout",
          "text": [
            "❌ Error processing NipponIndiaNiftySDLPlusGSecJun2028Maturity7030IndexIDCWReinvestDirectPlan_INF204KC1766.xlsx (Unknown): Insufficient NAV history (<3 years)\n",
            "❌ Error processing NipponIndiaNiftyGSecJun2036MaturityIndexGrowthDirectPlan_INF204KC1AC0.xlsx (Unknown): Insufficient NAV history (<3 years)\n",
            "❌ Error processing NipponIndiaNiftySDLPlusGSecJun2029Maturity7030IndexIDCWReinvestDirectPlan_INF204KC1AK3.xlsx (Unknown): Insufficient NAV history (<3 years)\n",
            "❌ Error processing OldBridgeFocusedGrowthDirectPlan_INF0S5R01042.xlsx (Unknown): Insufficient NAV history (<3 years)\n"
          ]
        },
        {
          "output_type": "stream",
          "name": "stderr",
          "text": [
            " 47%|████▋     | 1935/4144 [06:39<05:23,  6.83it/s]"
          ]
        },
        {
          "output_type": "stream",
          "name": "stdout",
          "text": [
            "❌ Error processing NipponIndiaNiftySDLPlusGSecJun2029Maturity7030IndexIDCWPayoutDirectPlan_INF204KC1AJ5.xlsx (Unknown): Insufficient NAV history (<3 years)\n"
          ]
        },
        {
          "output_type": "stream",
          "name": "stderr",
          "text": [
            " 47%|████▋     | 1942/4144 [06:41<05:32,  6.61it/s]"
          ]
        },
        {
          "output_type": "stream",
          "name": "stdout",
          "text": [
            "❌ Error processing NipponIndiaNiftyGSecOct2028MaturityIndexIDCWPayoutDirectPlan_INF204KC1AP2.xlsx (Unknown): Insufficient NAV history (<3 years)\n"
          ]
        },
        {
          "output_type": "stream",
          "name": "stderr",
          "text": [
            " 47%|████▋     | 1957/4144 [06:45<07:41,  4.74it/s]"
          ]
        },
        {
          "output_type": "stream",
          "name": "stdout",
          "text": [
            "❌ Error processing ParagParikhDynamicAssetAllocationGrowthDirectPlan_INF879O01266.xlsx (Unknown): Insufficient NAV history (<3 years)\n",
            "❌ Error processing NipponIndiaNiftyGSecSep2027MaturityIndexIDCWReinvestDirectPlan_INF204KC1907.xlsx (Unknown): Insufficient NAV history (<3 years)\n"
          ]
        },
        {
          "output_type": "stream",
          "name": "stderr",
          "text": [
            "\r 47%|████▋     | 1960/4144 [06:46<05:11,  7.02it/s]"
          ]
        },
        {
          "output_type": "stream",
          "name": "stdout",
          "text": [
            "❌ Error processing NipponIndiaNiftyGSecJun2036MaturityIndexIDCWReinvestDirectPlan_INF204KC1AE6.xlsx (Unknown): Insufficient NAV history (<3 years)\n"
          ]
        },
        {
          "output_type": "stream",
          "name": "stderr",
          "text": [
            " 47%|████▋     | 1966/4144 [06:47<04:40,  7.77it/s]"
          ]
        },
        {
          "output_type": "stream",
          "name": "stdout",
          "text": [
            "❌ Error processing NipponIndiaNifty500Momentum50IndexGrowthDirectPlan_INF204KC1DG5.xlsx (Unknown): Insufficient NAV history (<3 years)\n"
          ]
        },
        {
          "output_type": "stream",
          "name": "stderr",
          "text": [
            " 48%|████▊     | 1972/4144 [06:47<03:07, 11.61it/s]"
          ]
        },
        {
          "output_type": "stream",
          "name": "stdout",
          "text": [
            "❌ Error processing QuantConsumptionIDCWReinvestDirectPlan_INF966L01DP2.xlsx (Unknown): Insufficient NAV history (<3 years)\n",
            "❌ Error processing PGIMIndiaCrisilIbxGiltIndexApr2028IDCWReinvestDirectPlan_INF663L01X47.xlsx (Unknown): Insufficient NAV history (<3 years)\n",
            "❌ Error processing QuantDynamicAssetAllocationGrowthDirectPlan_INF966L01BL5.xlsx (Unknown): Insufficient NAV history (<3 years)\n"
          ]
        },
        {
          "output_type": "stream",
          "name": "stderr",
          "text": [
            " 48%|████▊     | 1979/4144 [06:48<05:49,  6.20it/s]"
          ]
        },
        {
          "output_type": "stream",
          "name": "stdout",
          "text": [
            "❌ Error processing PGIMIndiaCrisilIbxGiltIndexApr2028IDCWPayoutDirectPlan_INF663L01X39.xlsx (Unknown): Insufficient NAV history (<3 years)\n",
            "❌ Error processing PGIMIndiaCrisilIbxGiltIndexApr2028GrowthDirectPlan_INF663L01X21.xlsx (Unknown): Insufficient NAV history (<3 years)\n"
          ]
        },
        {
          "output_type": "stream",
          "name": "stderr",
          "text": [
            " 48%|████▊     | 1987/4144 [06:49<04:49,  7.45it/s]"
          ]
        },
        {
          "output_type": "stream",
          "name": "stdout",
          "text": [
            "❌ Error processing QuantManufacturingGrowthDirectPlan_INF966L01CJ7.xlsx (Unknown): Insufficient NAV history (<3 years)\n"
          ]
        },
        {
          "output_type": "stream",
          "name": "stderr",
          "text": [
            " 48%|████▊     | 1992/4144 [06:50<05:40,  6.33it/s]"
          ]
        },
        {
          "output_type": "stream",
          "name": "stdout",
          "text": [
            "❌ Error processing QuantHealthcareIDCWReinvestDirectPlan_INF966L01CF5.xlsx (Unknown): Insufficient NAV history (<3 years)\n"
          ]
        },
        {
          "output_type": "stream",
          "name": "stderr",
          "text": [
            " 48%|████▊     | 1994/4144 [06:51<06:05,  5.88it/s]"
          ]
        },
        {
          "output_type": "stream",
          "name": "stdout",
          "text": [
            "❌ Error processing PGIMIndiaLargeMidCapIDCWPayoutDirectPlan_INF663L01Y20.xlsx (Unknown): Insufficient NAV history (<3 years)\n"
          ]
        },
        {
          "output_type": "stream",
          "name": "stderr",
          "text": [
            "\r 48%|████▊     | 1996/4144 [06:51<05:30,  6.49it/s]"
          ]
        },
        {
          "output_type": "stream",
          "name": "stdout",
          "text": [
            "❌ Error processing QuantLargeCapGrowthDirectPlan_INF966L01AT0.xlsx (Unknown): Insufficient NAV history (<3 years)\n",
            "❌ Error processing SBIAutomotiveOpportunitiesGrowthDirectPlan_INF200KB1183.xlsx (Unknown): Insufficient NAV history (<3 years)\n"
          ]
        },
        {
          "output_type": "stream",
          "name": "stderr",
          "text": [
            " 48%|████▊     | 2001/4144 [06:51<04:08,  8.61it/s]"
          ]
        },
        {
          "output_type": "stream",
          "name": "stdout",
          "text": [
            "❌ Error processing QuantumMultiAssetAllocationGrowthDirectPlan_INF082J01457.xlsx (Unknown): Insufficient NAV history (<3 years)\n"
          ]
        },
        {
          "output_type": "stream",
          "name": "stderr",
          "text": [
            " 49%|████▊     | 2013/4144 [06:54<07:49,  4.54it/s]"
          ]
        },
        {
          "output_type": "stream",
          "name": "stdout",
          "text": [
            "❌ Error processing EdelweissGoldSilverETFFoFIDCWPayoutDirectPlan_INF754K01OY3.xlsx (Unknown): Insufficient NAV history (<3 years)\n"
          ]
        },
        {
          "output_type": "stream",
          "name": "stderr",
          "text": [
            " 49%|████▊     | 2019/4144 [06:55<04:38,  7.63it/s]"
          ]
        },
        {
          "output_type": "stream",
          "name": "stdout",
          "text": [
            "❌ Error processing EdelweissGovernmentSecuritiesFortnightlyIDCWReinvestDirectPlan_INF843K01GX2.xlsx (Unknown): Insufficient NAV history (<3 years)\n"
          ]
        },
        {
          "output_type": "stream",
          "name": "stderr",
          "text": [
            " 49%|████▉     | 2021/4144 [06:56<12:38,  2.80it/s]"
          ]
        },
        {
          "output_type": "stream",
          "name": "stdout",
          "text": [
            "❌ Error processing DSPNiftySmallcap250Quality50IndexIDCWPayoutDirectPlan_INF740KA1TX9.xlsx (Unknown): Insufficient NAV history (<3 years)\n"
          ]
        },
        {
          "output_type": "stream",
          "name": "stderr",
          "text": [
            " 49%|████▉     | 2024/4144 [06:58<18:32,  1.91it/s]"
          ]
        },
        {
          "output_type": "stream",
          "name": "stdout",
          "text": [
            "❌ Error processing EdelweissBusinessCycleGrowthDirectPlan_INF754K01TA2.xlsx (Unknown): Insufficient NAV history (<3 years)\n"
          ]
        },
        {
          "output_type": "stream",
          "name": "stderr",
          "text": [
            "\r 49%|████▉     | 2026/4144 [06:58<14:39,  2.41it/s]"
          ]
        },
        {
          "output_type": "stream",
          "name": "stdout",
          "text": [
            "❌ Error processing EdelweissGoldSilverETFFoFIDCWReinvestDirectPlan_INF754K01OZ0.xlsx (Unknown): Insufficient NAV history (<3 years)\n",
            "❌ Error processing DSPNiftyBankIndexGrowthDirectPlan_INF740KA1UO6.xlsx (Unknown): Insufficient NAV history (<3 years)\n"
          ]
        },
        {
          "output_type": "stream",
          "name": "stderr",
          "text": [
            " 49%|████▉     | 2035/4144 [06:59<06:03,  5.81it/s]"
          ]
        },
        {
          "output_type": "stream",
          "name": "stdout",
          "text": [
            "❌ Error processing DSPUSTreasuryFoFIDCWPayoutDirectPlan_INF740KA1UK4.xlsx (Unknown): Insufficient NAV history (<3 years)\n"
          ]
        },
        {
          "output_type": "stream",
          "name": "stderr",
          "text": [
            " 49%|████▉     | 2040/4144 [07:00<05:58,  5.87it/s]"
          ]
        },
        {
          "output_type": "stream",
          "name": "stdout",
          "text": [
            "❌ Error processing DSPMultiAssetAllocationGrowthDirectPlan_INF740KA1TE9.xlsx (Unknown): Insufficient NAV history (<3 years)\n"
          ]
        },
        {
          "output_type": "stream",
          "name": "stderr",
          "text": [
            " 49%|████▉     | 2045/4144 [07:01<06:34,  5.32it/s]"
          ]
        },
        {
          "output_type": "stream",
          "name": "stdout",
          "text": [
            "❌ Error processing DSPNiftySDLPlusGSecSep20275050IndexIDCWPayoutDirectPlan_INF740KA1SI2.xlsx (Unknown): Insufficient NAV history (<3 years)\n",
            "❌ Error processing EdelweissCrisilIbx5050GiltPlusSDLJun2027IndexGrowthDirectPlan_INF754K01PN3.xlsx (Unknown): Insufficient NAV history (<3 years)\n"
          ]
        },
        {
          "output_type": "stream",
          "name": "stderr",
          "text": [
            " 50%|████▉     | 2052/4144 [07:02<05:13,  6.68it/s]"
          ]
        },
        {
          "output_type": "stream",
          "name": "stdout",
          "text": [
            "❌ Error processing EdelweissCrisilIbx5050GiltPlusSDLJun2027IndexIDCWPayoutDirectPlan_INF754K01PO1.xlsx (Unknown): Insufficient NAV history (<3 years)\n",
            "❌ Error processing DSPNiftySmallcap250Quality50IndexGrowthDirectPlan_INF740KA1TW1.xlsx (Unknown): Insufficient NAV history (<3 years)\n"
          ]
        },
        {
          "output_type": "stream",
          "name": "stderr",
          "text": [
            " 50%|████▉     | 2056/4144 [07:03<04:27,  7.81it/s]"
          ]
        },
        {
          "output_type": "stream",
          "name": "stdout",
          "text": [
            "❌ Error processing EdelweissCrisilIbx5050GiltPlusSDLSep2028IndexIDCWReinvestDirectPlan_INF754K01PX2.xlsx (Unknown): Insufficient NAV history (<3 years)\n"
          ]
        },
        {
          "output_type": "stream",
          "name": "stderr",
          "text": [
            " 50%|████▉     | 2060/4144 [07:03<04:15,  8.15it/s]"
          ]
        },
        {
          "output_type": "stream",
          "name": "stdout",
          "text": [
            "❌ Error processing DSPGoldETFFoFIDCWPayoutDirectPlan_INF740KA1TL4.xlsx (Unknown): Insufficient NAV history (<3 years)\n"
          ]
        },
        {
          "output_type": "stream",
          "name": "stderr",
          "text": [
            " 50%|████▉     | 2063/4144 [07:04<06:06,  5.68it/s]"
          ]
        },
        {
          "output_type": "stream",
          "name": "stdout",
          "text": [
            "❌ Error processing EdelweissBusinessCycleIDCWPayoutDirectPlan_INF754K01TB0.xlsx (Unknown): Insufficient NAV history (<3 years)\n"
          ]
        },
        {
          "output_type": "stream",
          "name": "stderr",
          "text": [
            " 50%|████▉     | 2070/4144 [07:05<05:39,  6.11it/s]"
          ]
        },
        {
          "output_type": "stream",
          "name": "stdout",
          "text": [
            "❌ Error processing EdelweissCrisilIbxAaaFinancialServicesBondJan2028IndexIDCWPayoutDirectPlan_INF754K01TQ8.xlsx (Unknown): Insufficient NAV history (<3 years)\n"
          ]
        },
        {
          "output_type": "stream",
          "name": "stderr",
          "text": [
            "\r 50%|█████     | 2072/4144 [07:05<04:59,  6.91it/s]"
          ]
        },
        {
          "output_type": "stream",
          "name": "stdout",
          "text": [
            "❌ Error processing EdelweissCrisilIbx5050GiltPlusSDLApril2037IndexIDCWReinvestDirectPlan_INF754K01PH5.xlsx (Unknown): Insufficient NAV history (<3 years)\n",
            "❌ Error processing DSPMulticapIDCWPayoutDirectPlan_INF740KA1UD9.xlsx (Unknown): Insufficient NAV history (<3 years)\n"
          ]
        },
        {
          "output_type": "stream",
          "name": "stderr",
          "text": [
            " 50%|█████     | 2078/4144 [07:06<04:34,  7.52it/s]"
          ]
        },
        {
          "output_type": "stream",
          "name": "stdout",
          "text": [
            "❌ Error processing EdelweissCrisilIbx5050GiltPlusSDLApril2037IndexIDCWPayoutDirectPlan_INF754K01PG7.xlsx (Unknown): Insufficient NAV history (<3 years)\n"
          ]
        },
        {
          "output_type": "stream",
          "name": "stderr",
          "text": [
            " 50%|█████     | 2082/4144 [07:07<04:14,  8.10it/s]"
          ]
        },
        {
          "output_type": "stream",
          "name": "stdout",
          "text": [
            "❌ Error processing DSPCrisilIbx5050GiltPlusSDLApril2033IndexGrowthDirectPlan_INF740KA1SB7.xlsx (Unknown): Insufficient NAV history (<3 years)\n"
          ]
        },
        {
          "output_type": "stream",
          "name": "stderr",
          "text": [
            " 50%|█████     | 2085/4144 [07:07<04:01,  8.51it/s]"
          ]
        },
        {
          "output_type": "stream",
          "name": "stdout",
          "text": [
            "❌ Error processing DSPBusinessCycleGrowthDirectPlan_INF740KA1UX7.xlsx (Unknown): Insufficient NAV history (<3 years)\n",
            "❌ Error processing DSPCrisilIbx5050GiltPlusSDLApril2033IndexIDCWPayoutDirectPlan_INF740KA1SC5.xlsx (Unknown): Insufficient NAV history (<3 years)\n"
          ]
        },
        {
          "output_type": "stream",
          "name": "stderr",
          "text": [
            " 50%|█████     | 2092/4144 [07:08<04:05,  8.36it/s]"
          ]
        },
        {
          "output_type": "stream",
          "name": "stdout",
          "text": [
            "❌ Error processing DSPMulticapGrowthDirectPlan_INF740KA1UC1.xlsx (Unknown): Insufficient NAV history (<3 years)\n",
            "❌ Error processing EdelweissCrisilIbx5050GiltPlusSDLSep2028IndexGrowthDirectPlan_INF754K01PV6.xlsx (Unknown): Insufficient NAV history (<3 years)\n"
          ]
        },
        {
          "output_type": "stream",
          "name": "stderr",
          "text": [
            " 51%|█████     | 2099/4144 [07:12<11:24,  2.99it/s]"
          ]
        },
        {
          "output_type": "stream",
          "name": "stdout",
          "text": [
            "❌ Error processing GrowwBankingFinancialServicesIDCWReinvestDirectPlan_INF666M01HU7.xlsx (Unknown): Insufficient NAV history (<3 years)\n",
            "❌ Error processing EdelweissMultiCapIDCWReinvestDirectPlan_INF754K01SB2.xlsx (Unknown): Insufficient NAV history (<3 years)\n"
          ]
        },
        {
          "output_type": "stream",
          "name": "stderr",
          "text": [
            "\r 51%|█████     | 2102/4144 [07:12<06:58,  4.88it/s]"
          ]
        },
        {
          "output_type": "stream",
          "name": "stdout",
          "text": [
            "❌ Error processing EdelweissMultiAssetAllocationGrowthDirectPlan_INF754K01RS8.xlsx (Unknown): Insufficient NAV history (<3 years)\n"
          ]
        },
        {
          "output_type": "stream",
          "name": "stderr",
          "text": [
            " 51%|█████     | 2108/4144 [07:13<05:35,  6.07it/s]"
          ]
        },
        {
          "output_type": "stream",
          "name": "stdout",
          "text": [
            "❌ Error processing EdelweissNiftyAlphaLowVolatility30IndexGrowthDirectPlan_INF754K01SS6.xlsx (Unknown): Insufficient NAV history (<3 years)\n"
          ]
        },
        {
          "output_type": "stream",
          "name": "stderr",
          "text": [
            " 51%|█████     | 2111/4144 [07:13<04:34,  7.39it/s]"
          ]
        },
        {
          "output_type": "stream",
          "name": "stdout",
          "text": [
            "❌ Error processing EdelweissNiftyMidcap150Momentum50IndexIDCWReinvestDirectPlan_INF754K01QF7.xlsx (Unknown): Insufficient NAV history (<3 years)\n",
            "❌ Error processing EdelweissNiftyNext50IndexIDCWReinvestDirectPlan_INF754K01QN1.xlsx (Unknown): Insufficient NAV history (<3 years)\n"
          ]
        },
        {
          "output_type": "stream",
          "name": "stderr",
          "text": [
            " 51%|█████     | 2114/4144 [07:13<04:24,  7.69it/s]"
          ]
        },
        {
          "output_type": "stream",
          "name": "stdout",
          "text": [
            "❌ Error processing EdelweissNifty500MulticapMomentumQuality50IndexGrowthDirectPlan_INF754K01TN5.xlsx (Unknown): Insufficient NAV history (<3 years)\n",
            "❌ Error processing EdelweissNiftyAlphaLowVolatility30IndexIDCWPayoutDirectPlan_INF754K01ST4.xlsx (Unknown): Insufficient NAV history (<3 years)\n"
          ]
        },
        {
          "output_type": "stream",
          "name": "stderr",
          "text": [
            " 51%|█████▏    | 2126/4144 [07:15<04:47,  7.01it/s]"
          ]
        },
        {
          "output_type": "stream",
          "name": "stdout",
          "text": [
            "❌ Error processing EdelweissTechnologyGrowthDirectPlan_INF754K01SK3.xlsx (Unknown): Insufficient NAV history (<3 years)\n",
            "❌ Error processing EdelweissMultiCapGrowthDirectPlan_INF754K01SD8.xlsx (Unknown): Insufficient NAV history (<3 years)\n",
            "❌ Error processing EdelweissNiftyMidcap150Momentum50IndexIDCWPayoutDirectPlan_INF754K01QE0.xlsx (Unknown): Insufficient NAV history (<3 years)\n"
          ]
        },
        {
          "output_type": "stream",
          "name": "stderr",
          "text": [
            " 51%|█████▏    | 2132/4144 [07:16<03:30,  9.56it/s]"
          ]
        },
        {
          "output_type": "stream",
          "name": "stdout",
          "text": [
            "❌ Error processing EdelweissNiftySmallcap250IndexIDCWReinvestDirectPlan_INF754K01QV4.xlsx (Unknown): Insufficient NAV history (<3 years)\n"
          ]
        },
        {
          "output_type": "stream",
          "name": "stderr",
          "text": [
            " 52%|█████▏    | 2140/4144 [07:17<04:18,  7.77it/s]"
          ]
        },
        {
          "output_type": "stream",
          "name": "stdout",
          "text": [
            "❌ Error processing EdelweissOvernightFortnightlyIDCWReinvestDirectPlan_INF754K01JY3.xlsx (Unknown): Insufficient NAV history (<3 years)\n"
          ]
        },
        {
          "output_type": "stream",
          "name": "stderr",
          "text": [
            " 52%|█████▏    | 2142/4144 [07:17<04:54,  6.79it/s]"
          ]
        },
        {
          "output_type": "stream",
          "name": "stdout",
          "text": [
            "❌ Error processing EdelweissOvernightWeeklyIDCWReinvestDirectPlan_INF754K01JX5.xlsx (Unknown): Insufficient NAV history (<3 years)\n",
            "❌ Error processing EdelweissTechnologyIDCWReinvestDirectPlan_INF754K01SM9.xlsx (Unknown): Insufficient NAV history (<3 years)\n",
            "❌ Error processing EdelweissNiftyMidcap150Momentum50IndexGrowthDirectPlan_INF754K01QD2.xlsx (Unknown): Insufficient NAV history (<3 years)\n"
          ]
        },
        {
          "output_type": "stream",
          "name": "stderr",
          "text": [
            " 52%|█████▏    | 2151/4144 [07:18<03:36,  9.21it/s]"
          ]
        },
        {
          "output_type": "stream",
          "name": "stdout",
          "text": [
            "❌ Error processing EdelweissNiftySmallcap250IndexGrowthDirectPlan_INF754K01QT8.xlsx (Unknown): Insufficient NAV history (<3 years)\n"
          ]
        },
        {
          "output_type": "stream",
          "name": "stderr",
          "text": [
            " 52%|█████▏    | 2155/4144 [07:18<03:30,  9.43it/s]"
          ]
        },
        {
          "output_type": "stream",
          "name": "stdout",
          "text": [
            "❌ Error processing EdelweissNiftyNext50IndexGrowthDirectPlan_INF754K01QL5.xlsx (Unknown): Insufficient NAV history (<3 years)\n"
          ]
        },
        {
          "output_type": "stream",
          "name": "stderr",
          "text": [
            " 52%|█████▏    | 2159/4144 [07:19<03:03, 10.83it/s]"
          ]
        },
        {
          "output_type": "stream",
          "name": "stdout",
          "text": [
            "❌ Error processing GrowwBankingFinancialServicesIDCWPayoutDirectPlan_INF666M01HT9.xlsx (Unknown): Insufficient NAV history (<3 years)\n",
            "❌ Error processing EdelweissNiftyAlphaLowVolatility30IndexIDCWReinvestDirectPlan_INF754K01SU2.xlsx (Unknown): Insufficient NAV history (<3 years)\n"
          ]
        },
        {
          "output_type": "stream",
          "name": "stderr",
          "text": [
            " 52%|█████▏    | 2162/4144 [07:19<03:54,  8.47it/s]"
          ]
        },
        {
          "output_type": "stream",
          "name": "stdout",
          "text": [
            "❌ Error processing EdelweissTechnologyIDCWPayoutDirectPlan_INF754K01SL1.xlsx (Unknown): Insufficient NAV history (<3 years)\n",
            "❌ Error processing EdelweissNifty500MulticapMomentumQuality50IndexIDCWReinvestDirectPlan_INF754K01TH7.xlsx (Unknown): Insufficient NAV history (<3 years)\n"
          ]
        },
        {
          "output_type": "stream",
          "name": "stderr",
          "text": [
            " 52%|█████▏    | 2170/4144 [07:20<02:43, 12.06it/s]"
          ]
        },
        {
          "output_type": "stream",
          "name": "stdout",
          "text": [
            "❌ Error processing EdelweissNiftyNext50IndexIDCWPayoutDirectPlan_INF754K01QM3.xlsx (Unknown): Insufficient NAV history (<3 years)\n",
            "❌ Error processing EdelweissMultiCapIDCWPayoutDirectPlan_INF754K01SA4.xlsx (Unknown): Insufficient NAV history (<3 years)\n",
            "❌ Error processing EdelweissOvernightFortnightlyIDCWPayoutDirectPlan_INF754K01JZ0.xlsx (Unknown): Insufficient NAV history (<3 years)\n",
            "❌ Error processing EdelweissMultiAssetAllocationIDCWReinvestDirectPlan_INF754K01RU4.xlsx (Unknown): Insufficient NAV history (<3 years)\n"
          ]
        },
        {
          "output_type": "stream",
          "name": "stderr",
          "text": [
            " 52%|█████▏    | 2174/4144 [07:20<03:24,  9.65it/s]"
          ]
        },
        {
          "output_type": "stream",
          "name": "stdout",
          "text": [
            "❌ Error processing EdelweissNiftySmallcap250IndexIDCWPayoutDirectPlan_INF754K01QU6.xlsx (Unknown): Insufficient NAV history (<3 years)\n"
          ]
        },
        {
          "output_type": "stream",
          "name": "stderr",
          "text": [
            " 53%|█████▎    | 2179/4144 [07:21<03:49,  8.55it/s]"
          ]
        },
        {
          "output_type": "stream",
          "name": "stdout",
          "text": [
            "❌ Error processing EdelweissNifty500MulticapMomentumQuality50IndexIDCWPayoutDirectPlan_INF754K01TG9.xlsx (Unknown): Insufficient NAV history (<3 years)\n"
          ]
        },
        {
          "output_type": "stream",
          "name": "stderr",
          "text": [
            " 53%|█████▎    | 2185/4144 [07:24<12:50,  2.54it/s]"
          ]
        },
        {
          "output_type": "stream",
          "name": "stdout",
          "text": [
            "❌ Error processing GrowwBankingFinancialServicesGrowthDirectPlan_INF666M01HS1.xlsx (Unknown): Insufficient NAV history (<3 years)\n",
            "❌ Error processing EdelweissMultiAssetAllocationIDCWPayoutDirectPlan_INF754K01RT6.xlsx (Unknown): Insufficient NAV history (<3 years)\n"
          ]
        },
        {
          "output_type": "stream",
          "name": "stderr",
          "text": [
            " 53%|█████▎    | 2190/4144 [07:25<07:25,  4.39it/s]"
          ]
        },
        {
          "output_type": "stream",
          "name": "stdout",
          "text": [
            "❌ Error processing GrowwGoldETFFoFIDCWPayoutDirectPlan_INF666M01IY7.xlsx (Unknown): Insufficient NAV history (<3 years)\n"
          ]
        },
        {
          "output_type": "stream",
          "name": "stderr",
          "text": [
            " 53%|█████▎    | 2209/4144 [07:29<05:50,  5.52it/s]"
          ]
        },
        {
          "output_type": "stream",
          "name": "stdout",
          "text": [
            "❌ Error processing GrowwMulticapIDCWReinvestDirectPlan_INF666M01JF4.xlsx (Unknown): Insufficient NAV history (<3 years)\n"
          ]
        },
        {
          "output_type": "stream",
          "name": "stderr",
          "text": [
            " 54%|█████▎    | 2222/4144 [07:31<05:19,  6.02it/s]"
          ]
        },
        {
          "output_type": "stream",
          "name": "stdout",
          "text": [
            "❌ Error processing HDFCBusinessCycleGrowthDirectPlan_INF179KC1DY9.xlsx (Unknown): Insufficient NAV history (<3 years)\n"
          ]
        },
        {
          "output_type": "stream",
          "name": "stderr",
          "text": [
            " 54%|█████▍    | 2229/4144 [07:32<04:31,  7.05it/s]"
          ]
        },
        {
          "output_type": "stream",
          "name": "stdout",
          "text": [
            "❌ Error processing GrowwGoldETFFoFGrowthDirectPlan_INF666M01IX9.xlsx (Unknown): Insufficient NAV history (<3 years)\n"
          ]
        },
        {
          "output_type": "stream",
          "name": "stderr",
          "text": [
            " 54%|█████▍    | 2237/4144 [07:34<06:29,  4.90it/s]"
          ]
        },
        {
          "output_type": "stream",
          "name": "stdout",
          "text": [
            "❌ Error processing GrowwNiftySmallcap250IndexIDCWReinvestDirectPlan_INF666M01IA7.xlsx (Unknown): Insufficient NAV history (<3 years)\n"
          ]
        },
        {
          "output_type": "stream",
          "name": "stderr",
          "text": [
            " 54%|█████▍    | 2249/4144 [07:38<09:02,  3.49it/s]"
          ]
        },
        {
          "output_type": "stream",
          "name": "stdout",
          "text": [
            "❌ Error processing GrowwNiftyNonCyclicalConsumerIndexIDCWReinvestDirectPlan_INF666M01IG4.xlsx (Unknown): Insufficient NAV history (<3 years)\n",
            "❌ Error processing GrowwNiftyTotalMarketIndexIDCWReinvestDirectPlan_INF666M01HO0.xlsx (Unknown): Insufficient NAV history (<3 years)\n"
          ]
        },
        {
          "output_type": "stream",
          "name": "stderr",
          "text": [
            " 55%|█████▍    | 2263/4144 [07:41<05:12,  6.03it/s]"
          ]
        },
        {
          "output_type": "stream",
          "name": "stdout",
          "text": [
            "❌ Error processing GrowwGoldETFFoFIDCWReinvestDirectPlan_INF666M01IZ4.xlsx (Unknown): Insufficient NAV history (<3 years)\n"
          ]
        },
        {
          "output_type": "stream",
          "name": "stderr",
          "text": [
            " 55%|█████▍    | 2266/4144 [07:41<05:49,  5.37it/s]"
          ]
        },
        {
          "output_type": "stream",
          "name": "stdout",
          "text": [
            "❌ Error processing HDFCManufacturingGrowthDirectPlan_INF179KC1II1.xlsx (Unknown): Insufficient NAV history (<3 years)\n",
            "❌ Error processing HDFCManufacturingIDCWPayoutDirectPlan_INF179KC1IJ9.xlsx (Unknown): Insufficient NAV history (<3 years)\n"
          ]
        },
        {
          "output_type": "stream",
          "name": "stderr",
          "text": [
            " 55%|█████▍    | 2275/4144 [07:43<05:02,  6.17it/s]"
          ]
        },
        {
          "output_type": "stream",
          "name": "stdout",
          "text": [
            "❌ Error processing GrowwNiftyNonCyclicalConsumerIndexGrowthDirectPlan_INF666M01IE9.xlsx (Unknown): Insufficient NAV history (<3 years)\n"
          ]
        },
        {
          "output_type": "stream",
          "name": "stderr",
          "text": [
            " 55%|█████▌    | 2280/4144 [07:43<04:08,  7.51it/s]"
          ]
        },
        {
          "output_type": "stream",
          "name": "stdout",
          "text": [
            "❌ Error processing HDFCBSE500IndexGrowthDirectPlan_INF179KC1GG9.xlsx (Unknown): Insufficient NAV history (<3 years)\n",
            "❌ Error processing HDFCDefenceGrowthDirectPlan_INF179KC1GI5.xlsx (Unknown): Insufficient NAV history (<3 years)\n",
            "❌ Error processing GrowwNiftyEvNewAgeAutomotiveETFFoFGrowthDirectPlan_INF666M01IL4.xlsx (Unknown): Insufficient NAV history (<3 years)\n"
          ]
        },
        {
          "output_type": "stream",
          "name": "stderr",
          "text": [
            " 55%|█████▌    | 2288/4144 [07:44<02:29, 12.45it/s]"
          ]
        },
        {
          "output_type": "stream",
          "name": "stdout",
          "text": [
            "❌ Error processing HDFCLongDurationDebtGrowthDirectPlan_INF179KC1ET7.xlsx (Unknown): Insufficient NAV history (<3 years)\n",
            "❌ Error processing GrowwMulticapIDCWPayoutDirectPlan_INF666M01JE7.xlsx (Unknown): Insufficient NAV history (<3 years)\n",
            "❌ Error processing HDFCDefenceIDCWPayoutDirectPlan_INF179KC1GJ3.xlsx (Unknown): Insufficient NAV history (<3 years)\n",
            "❌ Error processing GrowwNiftyTotalMarketIndexIDCWPayoutDirectPlan_INF666M01HN2.xlsx (Unknown): Insufficient NAV history (<3 years)\n",
            "❌ Error processing GrowwNiftyIndiaDefenceETFFoFGrowthDirectPlan_INF666M01IQ3.xlsx (Unknown): Insufficient NAV history (<3 years)\n"
          ]
        },
        {
          "output_type": "stream",
          "name": "stderr",
          "text": [
            " 55%|█████▌    | 2292/4144 [07:45<03:32,  8.70it/s]"
          ]
        },
        {
          "output_type": "stream",
          "name": "stdout",
          "text": [
            "❌ Error processing HDFCMNCGrowthDirectPlan_INF179KC1FC0.xlsx (Unknown): Insufficient NAV history (<3 years)\n"
          ]
        },
        {
          "output_type": "stream",
          "name": "stderr",
          "text": [
            " 55%|█████▌    | 2298/4144 [07:46<04:10,  7.37it/s]"
          ]
        },
        {
          "output_type": "stream",
          "name": "stdout",
          "text": [
            "❌ Error processing HDFCMNCIDCWPayoutDirectPlan_INF179KC1FD8.xlsx (Unknown): Insufficient NAV history (<3 years)\n"
          ]
        },
        {
          "output_type": "stream",
          "name": "stderr",
          "text": [
            " 56%|█████▌    | 2309/4144 [07:47<02:38, 11.59it/s]"
          ]
        },
        {
          "output_type": "stream",
          "name": "stdout",
          "text": [
            "❌ Error processing GrowwMulticapGrowthDirectPlan_INF666M01JD9.xlsx (Unknown): Insufficient NAV history (<3 years)\n",
            "❌ Error processing GrowwNiftyEvNewAgeAutomotiveETFFoFIDCWPayoutDirectPlan_INF666M01IM2.xlsx (Unknown): Insufficient NAV history (<3 years)\n",
            "❌ Error processing HDFCLongDurationDebtIDCWPayoutDirectPlan_INF179KC1EU5.xlsx (Unknown): Insufficient NAV history (<3 years)\n",
            "❌ Error processing GrowwNiftyTotalMarketIndexGrowthDirectPlan_INF666M01HM4.xlsx (Unknown): Insufficient NAV history (<3 years)\n"
          ]
        },
        {
          "output_type": "stream",
          "name": "stderr",
          "text": [
            " 56%|█████▌    | 2321/4144 [07:52<07:03,  4.30it/s]"
          ]
        },
        {
          "output_type": "stream",
          "name": "stdout",
          "text": [
            "❌ Error processing HDFCBusinessCycleIDCWPayoutDirectPlan_INF179KC1DZ6.xlsx (Unknown): Insufficient NAV history (<3 years)\n"
          ]
        },
        {
          "output_type": "stream",
          "name": "stderr",
          "text": [
            " 56%|█████▌    | 2323/4144 [07:52<06:44,  4.50it/s]"
          ]
        },
        {
          "output_type": "stream",
          "name": "stdout",
          "text": [
            "❌ Error processing GrowwNiftyEvNewAgeAutomotiveETFFoFIDCWReinvestDirectPlan_INF666M01IN0.xlsx (Unknown): Insufficient NAV history (<3 years)\n",
            "❌ Error processing GrowwNiftySmallcap250IndexGrowthDirectPlan_INF666M01HY9.xlsx (Unknown): Insufficient NAV history (<3 years)\n"
          ]
        },
        {
          "output_type": "stream",
          "name": "stderr",
          "text": [
            " 56%|█████▌    | 2330/4144 [07:53<04:41,  6.45it/s]"
          ]
        },
        {
          "output_type": "stream",
          "name": "stdout",
          "text": [
            "❌ Error processing GrowwNiftySmallcap250IndexIDCWPayoutDirectPlan_INF666M01HZ6.xlsx (Unknown): Insufficient NAV history (<3 years)\n"
          ]
        },
        {
          "output_type": "stream",
          "name": "stderr",
          "text": [
            " 56%|█████▋    | 2338/4144 [07:55<05:20,  5.64it/s]"
          ]
        },
        {
          "output_type": "stream",
          "name": "stdout",
          "text": [
            "❌ Error processing GrowwNiftyIndiaDefenceETFFoFIDCWPayoutDirectPlan_INF666M01IR1.xlsx (Unknown): Insufficient NAV history (<3 years)\n"
          ]
        },
        {
          "output_type": "stream",
          "name": "stderr",
          "text": [
            " 56%|█████▋    | 2341/4144 [07:55<04:29,  6.68it/s]"
          ]
        },
        {
          "output_type": "stream",
          "name": "stdout",
          "text": [
            "❌ Error processing GrowwNiftyIndiaDefenceETFFoFIDCWReinvestDirectPlan_INF666M01IS9.xlsx (Unknown): Insufficient NAV history (<3 years)\n"
          ]
        },
        {
          "output_type": "stream",
          "name": "stderr",
          "text": [
            " 57%|█████▋    | 2352/4144 [07:57<04:30,  6.63it/s]"
          ]
        },
        {
          "output_type": "stream",
          "name": "stdout",
          "text": [
            "❌ Error processing GrowwNiftyNonCyclicalConsumerIndexIDCWPayoutDirectPlan_INF666M01IF6.xlsx (Unknown): Insufficient NAV history (<3 years)\n"
          ]
        },
        {
          "output_type": "stream",
          "name": "stderr",
          "text": [
            " 57%|█████▋    | 2360/4144 [07:59<04:58,  5.97it/s]"
          ]
        },
        {
          "output_type": "stream",
          "name": "stdout",
          "text": [
            "❌ Error processing HeliosOvernightDailyIDCWReinvestDirectPlan_INF0R8701087.xlsx (Unknown): Insufficient NAV history (<3 years)\n"
          ]
        },
        {
          "output_type": "stream",
          "name": "stderr",
          "text": [
            "\r 57%|█████▋    | 2363/4144 [07:59<03:04,  9.68it/s]"
          ]
        },
        {
          "output_type": "stream",
          "name": "stdout",
          "text": [
            "❌ Error processing HSBCDynamicBondAnnualIDCWPayoutDirectPlan_INF917K01VM6.xlsx (Unknown): Insufficient NAV history (<3 years)\n",
            "❌ Error processing HDFCPharmaHealthcareIDCWPayoutDirectPlan_INF179KC1HP8.xlsx (Unknown): Insufficient NAV history (<3 years)\n",
            "❌ Error processing HDFCNifty200Momentum30IndexGrowthDirectPlan_INF179KC1IC4.xlsx (Unknown): Insufficient NAV history (<3 years)\n",
            "❌ Error processing HeliosOvernightGrowthDirectPlan_INF0R8701079.xlsx (Unknown): Insufficient NAV history (<3 years)\n"
          ]
        },
        {
          "output_type": "stream",
          "name": "stderr",
          "text": [
            " 57%|█████▋    | 2368/4144 [07:59<02:12, 13.37it/s]"
          ]
        },
        {
          "output_type": "stream",
          "name": "stdout",
          "text": [
            "❌ Error processing HDFCNiftyGSecJun2036IndexGrowthDirectPlan_INF179KC1FS6.xlsx (Unknown): Insufficient NAV history (<3 years)\n",
            "❌ Error processing HSBCMidcapGrowthDirectPlan_INF917K01FZ1.xlsx (Unknown): Insufficient NAV history (<3 years)\n",
            "❌ Error processing HSBCMediumDurationAnnualIDCWPayoutDirectPlan_INF917K01WC5.xlsx (Unknown): Insufficient NAV history (<3 years)\n"
          ]
        },
        {
          "output_type": "stream",
          "name": "stderr",
          "text": [
            "\r 57%|█████▋    | 2370/4144 [07:59<02:34, 11.52it/s]"
          ]
        },
        {
          "output_type": "stream",
          "name": "stdout",
          "text": [
            "❌ Error processing HSBCCorporateBondGrowthDirectPlan_INF917K01HN3.xlsx (Unknown): Insufficient NAV history (<3 years)\n"
          ]
        },
        {
          "output_type": "stream",
          "name": "stderr",
          "text": [
            " 57%|█████▋    | 2375/4144 [08:00<02:56, 10.02it/s]"
          ]
        },
        {
          "output_type": "stream",
          "name": "stdout",
          "text": [
            "❌ Error processing HDFCNonCyclicalConsumerGrowthDirectPlan_INF179KC1GO3.xlsx (Unknown): Insufficient NAV history (<3 years)\n",
            "❌ Error processing HSBCArbitrageGrowthDirectPlan_INF917K01QR5.xlsx (Unknown): Insufficient NAV history (<3 years)\n",
            "❌ Error processing HeliosFlexiCapIDCWPayoutDirectPlan_INF0R8701061.xlsx (Unknown): Insufficient NAV history (<3 years)\n"
          ]
        },
        {
          "output_type": "stream",
          "name": "stderr",
          "text": [
            "\r 57%|█████▋    | 2378/4144 [08:00<02:20, 12.60it/s]"
          ]
        },
        {
          "output_type": "stream",
          "name": "stdout",
          "text": [
            "❌ Error processing HSBCBankingPSUDebtMonthlyIDCWPayoutDirectPlan_INF917K01HI3.xlsx (Unknown): Insufficient NAV history (<3 years)\n",
            "❌ Error processing HSBCNiftyNext50IndexGrowthDirectPlan_INF917K01D79.xlsx (Unknown): Insufficient NAV history (<3 years)\n",
            "❌ Error processing HSBCInfrastructureGrowthDirectPlan_INF917K01FW8.xlsx (Unknown): Insufficient NAV history (<3 years)\n",
            "❌ Error processing HDFCNiftyLargemidcap250IndexGrowthDirectPlan_INF179KC1IQ4.xlsx (Unknown): Insufficient NAV history (<3 years)\n"
          ]
        },
        {
          "output_type": "stream",
          "name": "stderr",
          "text": [
            " 58%|█████▊    | 2384/4144 [08:01<03:31,  8.34it/s]"
          ]
        },
        {
          "output_type": "stream",
          "name": "stdout",
          "text": [
            "❌ Error processing HSBCMultiCapGrowthDirectPlan_INF336L01QN5.xlsx (Unknown): Insufficient NAV history (<3 years)\n",
            "❌ Error processing HSBCAggressiveHybridIDCWPayoutDirectPlan_INF917K01LD6.xlsx (Unknown): Insufficient NAV history (<3 years)\n"
          ]
        },
        {
          "output_type": "stream",
          "name": "stderr",
          "text": [
            " 58%|█████▊    | 2389/4144 [08:02<06:08,  4.76it/s]"
          ]
        },
        {
          "output_type": "stream",
          "name": "stdout",
          "text": [
            "❌ Error processing HSBCEquitySavingGrowthDirectPlan_INF917K01GE4.xlsx (Unknown): Insufficient NAV history (<3 years)\n",
            "❌ Error processing HSBCDynamicBondIDCWPayoutDirectPlan_INF917K01GY2.xlsx (Unknown): Insufficient NAV history (<3 years)\n"
          ]
        },
        {
          "output_type": "stream",
          "name": "stderr",
          "text": [
            " 58%|█████▊    | 2392/4144 [08:04<09:28,  3.08it/s]"
          ]
        },
        {
          "output_type": "stream",
          "name": "stdout",
          "text": [
            "❌ Error processing HDFCNifty100LowVolatility30IndexGrowthDirectPlan_INF179KC1IM3.xlsx (Unknown): Insufficient NAV history (<3 years)\n",
            "❌ Error processing HDFCNiftyGSecDec2026IndexGrowthDirectPlan_INF179KC1EE9.xlsx (Unknown): Insufficient NAV history (<3 years)\n",
            "❌ Error processing HeliosLargeMidcapGrowthDirectPlan_INF0R8701269.xlsx (Unknown): Insufficient NAV history (<3 years)\n",
            "❌ Error processing HSBCMidcapIDCWPayoutDirectPlan_INF917K01FX6.xlsx (Unknown): Insufficient NAV history (<3 years)\n"
          ]
        },
        {
          "output_type": "stream",
          "name": "stderr",
          "text": [
            " 58%|█████▊    | 2396/4144 [08:05<06:54,  4.22it/s]"
          ]
        },
        {
          "output_type": "stream",
          "name": "stdout",
          "text": [
            "❌ Error processing HDFCTechnologyGrowthDirectPlan_INF179KC1HI3.xlsx (Unknown): Insufficient NAV history (<3 years)\n",
            "❌ Error processing HDFCNiftySDLPlusGSecJun20274060IndexGrowthDirectPlan_INF179KC1GA2.xlsx (Unknown): Insufficient NAV history (<3 years)\n"
          ]
        },
        {
          "output_type": "stream",
          "name": "stderr",
          "text": [
            " 58%|█████▊    | 2401/4144 [08:05<04:18,  6.76it/s]"
          ]
        },
        {
          "output_type": "stream",
          "name": "stdout",
          "text": [
            "❌ Error processing HSBCArbitrageMonthlyIDCWPayoutDirectPlan_INF917K01QS3.xlsx (Unknown): Insufficient NAV history (<3 years)\n",
            "❌ Error processing HSBCMediumDurationIDCWPayoutDirectPlan_INF917K01TL2.xlsx (Unknown): Insufficient NAV history (<3 years)\n",
            "❌ Error processing HSBCEquitySavingMonthlyIDCWPayoutDirectPlan_INF917K01GA2.xlsx (Unknown): Insufficient NAV history (<3 years)\n"
          ]
        },
        {
          "output_type": "stream",
          "name": "stderr",
          "text": [
            "\r 58%|█████▊    | 2404/4144 [08:05<03:06,  9.33it/s]"
          ]
        },
        {
          "output_type": "stream",
          "name": "stdout",
          "text": [
            "❌ Error processing HeliosBalancedAdvantageGrowthDirectPlan_INF0R8701145.xlsx (Unknown): Insufficient NAV history (<3 years)\n",
            "❌ Error processing HSBCMoneyMarketWeeklyIDCWReinvestentReinvestDirectPlan_INF917K01FH9.xlsx (Unknown): Insufficient NAV history (<3 years)\n"
          ]
        },
        {
          "output_type": "stream",
          "name": "stderr",
          "text": [
            " 58%|█████▊    | 2408/4144 [08:06<03:20,  8.66it/s]"
          ]
        },
        {
          "output_type": "stream",
          "name": "stdout",
          "text": [
            "❌ Error processing HSBCMoneyMarketGrowthDirectPlan_INF917K01FE6.xlsx (Unknown): Insufficient NAV history (<3 years)\n",
            "❌ Error processing HSBCShortDurationGrowthDirectPlan_INF917K01IQ4.xlsx (Unknown): Insufficient NAV history (<3 years)\n",
            "❌ Error processing HSBCArbitrageQuarterlyIDCWPayoutDirectPlan_INF917K01QU9.xlsx (Unknown): Insufficient NAV history (<3 years)\n"
          ]
        },
        {
          "output_type": "stream",
          "name": "stderr",
          "text": [
            " 58%|█████▊    | 2415/4144 [08:07<03:41,  7.82it/s]"
          ]
        },
        {
          "output_type": "stream",
          "name": "stdout",
          "text": [
            "❌ Error processing HSBCELSSTaxSaverIDCWPayoutDirectPlan_INF917K01GO3.xlsx (Unknown): Insufficient NAV history (<3 years)\n"
          ]
        },
        {
          "output_type": "stream",
          "name": "stderr",
          "text": [
            "\r 58%|█████▊    | 2417/4144 [08:07<03:06,  9.26it/s]"
          ]
        },
        {
          "output_type": "stream",
          "name": "stdout",
          "text": [
            "❌ Error processing HSBCLowDurationGrowthDirectPlan_INF917K01GM7.xlsx (Unknown): Insufficient NAV history (<3 years)\n",
            "❌ Error processing HSBCLowDurationIDCWPayoutDirectPlan_INF917K01GK1.xlsx (Unknown): Insufficient NAV history (<3 years)\n"
          ]
        },
        {
          "output_type": "stream",
          "name": "stderr",
          "text": [
            " 58%|█████▊    | 2424/4144 [08:08<03:36,  7.95it/s]"
          ]
        },
        {
          "output_type": "stream",
          "name": "stdout",
          "text": [
            "❌ Error processing HDFCPharmaHealthcareGrowthDirectPlan_INF179KC1HO1.xlsx (Unknown): Insufficient NAV history (<3 years)\n",
            "❌ Error processing HSBCBusinessCyclesGrowthDirectPlan_INF917K01RI2.xlsx (Unknown): Insufficient NAV history (<3 years)\n"
          ]
        },
        {
          "output_type": "stream",
          "name": "stderr",
          "text": [
            "\r 59%|█████▊    | 2427/4144 [08:08<02:49, 10.13it/s]"
          ]
        },
        {
          "output_type": "stream",
          "name": "stdout",
          "text": [
            "❌ Error processing HDFCTransportationLogisticsGrowthDirectPlan_INF179KC1GU0.xlsx (Unknown): Insufficient NAV history (<3 years)\n",
            "❌ Error processing HSBCConsumptionIDCWPayoutDirectPlan_INF336L01RB8.xlsx (Unknown): Insufficient NAV history (<3 years)\n"
          ]
        },
        {
          "output_type": "stream",
          "name": "stderr",
          "text": [
            " 59%|█████▊    | 2433/4144 [08:09<03:09,  9.05it/s]"
          ]
        },
        {
          "output_type": "stream",
          "name": "stdout",
          "text": [
            "❌ Error processing HDFCTransportationLogisticsIDCWPayoutDirectPlan_INF179KC1GV8.xlsx (Unknown): Insufficient NAV history (<3 years)\n",
            "❌ Error processing HSBCMoneyMarketDailyIDCWReinvestentReinvestDirectPlan_INF917K01FD8.xlsx (Unknown): Insufficient NAV history (<3 years)\n"
          ]
        },
        {
          "output_type": "stream",
          "name": "stderr",
          "text": [
            "\r 59%|█████▉    | 2436/4144 [08:09<02:46, 10.28it/s]"
          ]
        },
        {
          "output_type": "stream",
          "name": "stdout",
          "text": [
            "❌ Error processing HDFCSilverETFFoFGrowthDirectPlan_INF179KC1DU7.xlsx (Unknown): Insufficient NAV history (<3 years)\n",
            "❌ Error processing HeliosLargeMidcapIDCWPayoutDirectPlan_INF0R8701285.xlsx (Unknown): Insufficient NAV history (<3 years)\n"
          ]
        },
        {
          "output_type": "stream",
          "name": "stderr",
          "text": [
            "\r 59%|█████▉    | 2438/4144 [08:09<02:45, 10.34it/s]"
          ]
        },
        {
          "output_type": "stream",
          "name": "stdout",
          "text": [
            "❌ Error processing HSBCCorporateBondSemiAnnualIDCWPayoutDirectPlan_INF917K01HQ6.xlsx (Unknown): Insufficient NAV history (<3 years)\n"
          ]
        },
        {
          "output_type": "stream",
          "name": "stderr",
          "text": [
            " 59%|█████▉    | 2446/4144 [08:10<01:59, 14.25it/s]"
          ]
        },
        {
          "output_type": "stream",
          "name": "stdout",
          "text": [
            "❌ Error processing HDFCNiftyMidcap150IndexGrowthDirectPlan_INF179KC1GC8.xlsx (Unknown): Insufficient NAV history (<3 years)\n",
            "❌ Error processing HeliosFinancialServicesGrowthDirectPlan_INF0R8701202.xlsx (Unknown): Insufficient NAV history (<3 years)\n",
            "❌ Error processing HSBCCrisilIbxGiltJune2027IndexGrowthDirectPlan_INF336L01QT2.xlsx (Unknown): Insufficient NAV history (<3 years)\n",
            "❌ Error processing HSBCAggressiveHybridGrowthDirectPlan_INF917K01LE4.xlsx (Unknown): Insufficient NAV history (<3 years)\n",
            "❌ Error processing HSBCIndiaExportOpportunitiesGrowthDirectPlan_INF336L01RO1.xlsx (Unknown): Insufficient NAV history (<3 years)\n",
            "❌ Error processing HSBCDynamicBondGrowthDirectPlan_INF917K01HA0.xlsx (Unknown): Insufficient NAV history (<3 years)\n",
            "❌ Error processing HSBCBankingPSUDebtGrowthDirectPlan_INF917K01HH5.xlsx (Unknown): Insufficient NAV history (<3 years)\n"
          ]
        },
        {
          "output_type": "stream",
          "name": "stderr",
          "text": [
            " 59%|█████▉    | 2450/4144 [08:10<02:47, 10.10it/s]"
          ]
        },
        {
          "output_type": "stream",
          "name": "stdout",
          "text": [
            "❌ Error processing HSBCGiltGrowthDirectPlan_INF917K01FI7.xlsx (Unknown): Insufficient NAV history (<3 years)\n"
          ]
        },
        {
          "output_type": "stream",
          "name": "stderr",
          "text": [
            " 59%|█████▉    | 2455/4144 [08:11<02:31, 11.12it/s]"
          ]
        },
        {
          "output_type": "stream",
          "name": "stdout",
          "text": [
            "❌ Error processing HSBCNiftyNext50IndexIDCWPayoutDirectPlan_INF917K01D61.xlsx (Unknown): Insufficient NAV history (<3 years)\n",
            "❌ Error processing HDFCNiftyGSecJuly2031IndexGrowthDirectPlan_INF179KC1EH2.xlsx (Unknown): Insufficient NAV history (<3 years)\n",
            "❌ Error processing HDFCNonCyclicalConsumerIDCWPayoutDirectPlan_INF179KC1GP0.xlsx (Unknown): Insufficient NAV history (<3 years)\n",
            "❌ Error processing HDFCNiftySDLOct2026IndexGrowthDirectPlan_INF179KC1FI7.xlsx (Unknown): Insufficient NAV history (<3 years)\n"
          ]
        },
        {
          "output_type": "stream",
          "name": "stderr",
          "text": [
            " 59%|█████▉    | 2461/4144 [08:11<01:58, 14.23it/s]"
          ]
        },
        {
          "output_type": "stream",
          "name": "stdout",
          "text": [
            "❌ Error processing HSBCCrisilIbxGiltJune2027IndexIDCWPayoutDirectPlan_INF336L01QV8.xlsx (Unknown): Insufficient NAV history (<3 years)\n",
            "❌ Error processing HSBCIncomePlusArbitrageActiveFoFIDCWPayoutDirectPlan_INF336L01IO0.xlsx (Unknown): Insufficient NAV history (<3 years)\n",
            "❌ Error processing HSBCIndiaExportOpportunitiesIDCWPayoutDirectPlan_INF336L01RQ6.xlsx (Unknown): Insufficient NAV history (<3 years)\n",
            "❌ Error processing HSBCGiltQuarterlyIDCWPayoutDirectPlan_INF917K01FJ5.xlsx (Unknown): Insufficient NAV history (<3 years)\n",
            "❌ Error processing HeliosFlexiCapGrowthDirectPlan_INF0R8701046.xlsx (Unknown): Insufficient NAV history (<3 years)\n",
            "❌ Error processing HSBCMediumDurationGrowthDirectPlan_INF917K01TK4.xlsx (Unknown): Insufficient NAV history (<3 years)\n"
          ]
        },
        {
          "output_type": "stream",
          "name": "stderr",
          "text": [
            " 60%|█████▉    | 2468/4144 [08:12<02:12, 12.62it/s]"
          ]
        },
        {
          "output_type": "stream",
          "name": "stdout",
          "text": [
            "❌ Error processing HSBCCreditRiskIDCWPayoutDirectPlan_INF917K01UI6.xlsx (Unknown): Insufficient NAV history (<3 years)\n",
            "❌ Error processing HSBCCorporateBondAnnualIDCWPayoutDirectPlan_INF917K01VY1.xlsx (Unknown): Insufficient NAV history (<3 years)\n",
            "❌ Error processing HSBCNifty50IndexIDCWPayoutDirectPlan_INF917K01D04.xlsx (Unknown): Insufficient NAV history (<3 years)\n",
            "❌ Error processing HSBCCreditRiskAnnualIDCWPayoutDirectPlan_INF917K01UK2.xlsx (Unknown): Insufficient NAV history (<3 years)\n"
          ]
        },
        {
          "output_type": "stream",
          "name": "stderr",
          "text": [
            " 60%|█████▉    | 2473/4144 [08:12<02:03, 13.58it/s]"
          ]
        },
        {
          "output_type": "stream",
          "name": "stdout",
          "text": [
            "❌ Error processing HDFCNiftyIndiaDigitalIndexGrowthDirectPlan_INF179KC1JB4.xlsx (Unknown): Insufficient NAV history (<3 years)\n",
            "❌ Error processing HSBCBankingPSUDebtWeeklyIDCWPayoutDirectPlan_INF917K01HK9.xlsx (Unknown): Insufficient NAV history (<3 years)\n",
            "❌ Error processing HSBCInfrastructureIDCWPayoutDirectPlan_INF917K01FU2.xlsx (Unknown): Insufficient NAV history (<3 years)\n",
            "❌ Error processing HSBCNifty50IndexGrowthDirectPlan_INF917K01D12.xlsx (Unknown): Insufficient NAV history (<3 years)\n",
            "❌ Error processing HSBCEquitySavingQuarterlyIDCWPayoutDirectPlan_INF917K01GC8.xlsx (Unknown): Insufficient NAV history (<3 years)\n"
          ]
        },
        {
          "output_type": "stream",
          "name": "stderr",
          "text": [
            "\r 60%|█████▉    | 2476/4144 [08:12<01:46, 15.68it/s]"
          ]
        },
        {
          "output_type": "stream",
          "name": "stdout",
          "text": [
            "❌ Error processing HSBCMultiCapIDCWPayoutDirectPlan_INF336L01QP0.xlsx (Unknown): Insufficient NAV history (<3 years)\n"
          ]
        },
        {
          "output_type": "stream",
          "name": "stderr",
          "text": [
            " 60%|█████▉    | 2480/4144 [08:13<02:44, 10.12it/s]"
          ]
        },
        {
          "output_type": "stream",
          "name": "stdout",
          "text": [
            "❌ Error processing HeliosFinancialServicesIDCWPayoutDirectPlan_INF0R8701228.xlsx (Unknown): Insufficient NAV history (<3 years)\n",
            "❌ Error processing HSBCShortDurationQuarterlyIDCWPayoutDirectPlan_INF917K01IR2.xlsx (Unknown): Insufficient NAV history (<3 years)\n"
          ]
        },
        {
          "output_type": "stream",
          "name": "stderr",
          "text": [
            " 60%|██████    | 2488/4144 [08:14<02:58,  9.28it/s]"
          ]
        },
        {
          "output_type": "stream",
          "name": "stdout",
          "text": [
            "❌ Error processing HSBCMoneyMarketMonthlyIDCWPayoutDirectPlan_INF917K01FF3.xlsx (Unknown): Insufficient NAV history (<3 years)\n",
            "❌ Error processing HSBCMultiAssetAllocationIDCWPayoutDirectPlan_INF336L01RK9.xlsx (Unknown): Insufficient NAV history (<3 years)\n"
          ]
        },
        {
          "output_type": "stream",
          "name": "stderr",
          "text": [
            "\r 60%|██████    | 2490/4144 [08:14<02:31, 10.95it/s]"
          ]
        },
        {
          "output_type": "stream",
          "name": "stdout",
          "text": [
            "❌ Error processing HSBCLowDurationAnnualIDCWPayoutDirectPlan_INF917K01VU9.xlsx (Unknown): Insufficient NAV history (<3 years)\n",
            "❌ Error processing HDFCNiftyGSecJun2027IndexGrowthDirectPlan_INF179KC1EJ8.xlsx (Unknown): Insufficient NAV history (<3 years)\n",
            "❌ Error processing HDFCNiftySmallcap250IndexGrowthDirectPlan_INF179KC1GE4.xlsx (Unknown): Insufficient NAV history (<3 years)\n"
          ]
        },
        {
          "output_type": "stream",
          "name": "stderr",
          "text": [
            " 60%|██████    | 2494/4144 [08:15<03:33,  7.73it/s]"
          ]
        },
        {
          "output_type": "stream",
          "name": "stdout",
          "text": [
            "❌ Error processing HSBCBalancedAdvantageIDCWPayoutDirectPlan_INF917K01IL5.xlsx (Unknown): Insufficient NAV history (<3 years)\n"
          ]
        },
        {
          "output_type": "stream",
          "name": "stderr",
          "text": [
            " 60%|██████    | 2500/4144 [08:18<07:53,  3.47it/s]"
          ]
        },
        {
          "output_type": "stream",
          "name": "stdout",
          "text": [
            "❌ Error processing HSBCShortDurationIDCWPayoutDirectPlan_INF917K01IO9.xlsx (Unknown): Insufficient NAV history (<3 years)\n"
          ]
        },
        {
          "output_type": "stream",
          "name": "stderr",
          "text": [
            " 60%|██████    | 2504/4144 [08:18<04:16,  6.41it/s]"
          ]
        },
        {
          "output_type": "stream",
          "name": "stdout",
          "text": [
            "❌ Error processing HSBCSmallCapIDCWPayoutDirectPlan_INF917K01PZ0.xlsx (Unknown): Insufficient NAV history (<3 years)\n",
            "❌ Error processing HSBCConsumptionGrowthDirectPlan_INF336L01QZ9.xlsx (Unknown): Insufficient NAV history (<3 years)\n",
            "❌ Error processing HSBCValueIDCWPayoutDirectPlan_INF917K01HB8.xlsx (Unknown): Insufficient NAV history (<3 years)\n",
            "❌ Error processing HDFCTechnologyIDCWPayoutDirectPlan_INF179KC1HJ1.xlsx (Unknown): Insufficient NAV history (<3 years)\n"
          ]
        },
        {
          "output_type": "stream",
          "name": "stderr",
          "text": [
            " 61%|██████    | 2509/4144 [08:19<02:50,  9.60it/s]"
          ]
        },
        {
          "output_type": "stream",
          "name": "stdout",
          "text": [
            "❌ Error processing HSBCAggressiveHybridAnnualIDCWPayoutDirectPlan_INF917K01TX7.xlsx (Unknown): Insufficient NAV history (<3 years)\n",
            "❌ Error processing HSBCShortDurationAnnualIDCWPayoutDirectPlan_INF917K01VQ7.xlsx (Unknown): Insufficient NAV history (<3 years)\n",
            "❌ Error processing HeliosBalancedAdvantageIDCWPayoutDirectPlan_INF0R8701160.xlsx (Unknown): Insufficient NAV history (<3 years)\n"
          ]
        },
        {
          "output_type": "stream",
          "name": "stderr",
          "text": [
            " 61%|██████    | 2516/4144 [08:20<02:48,  9.65it/s]"
          ]
        },
        {
          "output_type": "stream",
          "name": "stdout",
          "text": [
            "❌ Error processing HSBCCreditRiskGrowthDirectPlan_INF917K01UH8.xlsx (Unknown): Insufficient NAV history (<3 years)\n",
            "❌ Error processing HSBCSmallCapGrowthDirectPlan_INF917K01QA1.xlsx (Unknown): Insufficient NAV history (<3 years)\n",
            "❌ Error processing HSBCBankingPSUDebtDailyIDCWReinvestentReinvestDirectPlan_INF917K01HL7.xlsx (Unknown): Insufficient NAV history (<3 years)\n",
            "❌ Error processing HDFCNiftyGSecApr2029IndexGrowthDirectPlan_INF179KC1FQ0.xlsx (Unknown): Insufficient NAV history (<3 years)\n",
            "❌ Error processing HDFCNifty500Multicap502525IndexGrowthDirectPlan_INF179KC1IO9.xlsx (Unknown): Insufficient NAV history (<3 years)\n",
            "❌ Error processing HSBCBalancedAdvantageGrowthDirectPlan_INF917K01IN1.xlsx (Unknown): Insufficient NAV history (<3 years)\n"
          ]
        },
        {
          "output_type": "stream",
          "name": "stderr",
          "text": [
            " 61%|██████    | 2523/4144 [08:21<03:14,  8.35it/s]"
          ]
        },
        {
          "output_type": "stream",
          "name": "stdout",
          "text": [
            "❌ Error processing HSBCELSSTaxSaverGrowthDirectPlan_INF917K01GP0.xlsx (Unknown): Insufficient NAV history (<3 years)\n",
            "❌ Error processing HDFCNiftyGSecSep2032V1IndexGrowthDirectPlan_INF179KC1EL4.xlsx (Unknown): Insufficient NAV history (<3 years)\n"
          ]
        },
        {
          "output_type": "stream",
          "name": "stderr",
          "text": [
            " 61%|██████    | 2527/4144 [08:21<03:04,  8.76it/s]"
          ]
        },
        {
          "output_type": "stream",
          "name": "stdout",
          "text": [
            "❌ Error processing HSBCValueGrowthDirectPlan_INF917K01HD4.xlsx (Unknown): Insufficient NAV history (<3 years)\n"
          ]
        },
        {
          "output_type": "stream",
          "name": "stderr",
          "text": [
            " 61%|██████    | 2530/4144 [08:21<03:31,  7.63it/s]"
          ]
        },
        {
          "output_type": "stream",
          "name": "stdout",
          "text": [
            "❌ Error processing HSBCBusinessCyclesIDCWPayoutDirectPlan_INF917K01RJ0.xlsx (Unknown): Insufficient NAV history (<3 years)\n",
            "❌ Error processing HDFCNiftyRealtyIndexGrowthDirectPlan_INF179KC1IE0.xlsx (Unknown): Insufficient NAV history (<3 years)\n"
          ]
        },
        {
          "output_type": "stream",
          "name": "stderr",
          "text": [
            " 61%|██████    | 2534/4144 [08:22<03:24,  7.88it/s]"
          ]
        },
        {
          "output_type": "stream",
          "name": "stdout",
          "text": [
            "❌ Error processing HSBCCorporateBondQuarterlyIDCWPayoutDirectPlan_INF917K01HO1.xlsx (Unknown): Insufficient NAV history (<3 years)\n"
          ]
        },
        {
          "output_type": "stream",
          "name": "stderr",
          "text": [
            "\r 61%|██████    | 2536/4144 [08:22<03:05,  8.68it/s]"
          ]
        },
        {
          "output_type": "stream",
          "name": "stdout",
          "text": [
            "❌ Error processing HSBCMultiAssetAllocationGrowthDirectPlan_INF336L01RI3.xlsx (Unknown): Insufficient NAV history (<3 years)\n",
            "❌ Error processing ICICIPrudentialNiftyLargemidcap250IndexGrowthDirectPlan_INF109KC12U0.xlsx (Unknown): Insufficient NAV history (<3 years)\n"
          ]
        },
        {
          "output_type": "stream",
          "name": "stderr",
          "text": [
            " 61%|██████▏   | 2545/4144 [08:24<03:35,  7.42it/s]"
          ]
        },
        {
          "output_type": "stream",
          "name": "stdout",
          "text": [
            "❌ Error processing ICICIPrudentialNiftySDLSep2026IndexAnnualIDCWPayoutDirectPlan_INF109KC15P3.xlsx (Unknown): Insufficient NAV history (<3 years)\n"
          ]
        },
        {
          "output_type": "stream",
          "name": "stderr",
          "text": [
            " 61%|██████▏   | 2547/4144 [08:24<04:18,  6.17it/s]"
          ]
        },
        {
          "output_type": "stream",
          "name": "stdout",
          "text": [
            "❌ Error processing ICICIPrudentialPSUEquityIDCWPayoutDirectPlan_INF109KC14I1.xlsx (Unknown): Insufficient NAV history (<3 years)\n"
          ]
        },
        {
          "output_type": "stream",
          "name": "stderr",
          "text": [
            " 62%|██████▏   | 2552/4144 [08:25<03:59,  6.64it/s]"
          ]
        },
        {
          "output_type": "stream",
          "name": "stdout",
          "text": [
            "❌ Error processing ICICIPrudentialNiftyAutoIndexIDCWPayoutDirectPlan_INF109KC18J0.xlsx (Unknown): Insufficient NAV history (<3 years)\n"
          ]
        },
        {
          "output_type": "stream",
          "name": "stderr",
          "text": [
            "\r 62%|██████▏   | 2554/4144 [08:25<04:20,  6.11it/s]"
          ]
        },
        {
          "output_type": "stream",
          "name": "stdout",
          "text": [
            "❌ Error processing ICICIPrudentialPSUEquityGrowthDirectPlan_INF109KC12I5.xlsx (Unknown): Insufficient NAV history (<3 years)\n"
          ]
        },
        {
          "output_type": "stream",
          "name": "stderr",
          "text": [
            " 62%|██████▏   | 2567/4144 [08:28<05:15,  5.00it/s]"
          ]
        },
        {
          "output_type": "stream",
          "name": "stdout",
          "text": [
            "❌ Error processing ICICIPrudentialEnergyOpportunitiesGrowthDirectPlan_INF109KC12W6.xlsx (Unknown): Insufficient NAV history (<3 years)\n"
          ]
        },
        {
          "output_type": "stream",
          "name": "stderr",
          "text": [
            " 62%|██████▏   | 2575/4144 [08:31<07:16,  3.59it/s]"
          ]
        },
        {
          "output_type": "stream",
          "name": "stdout",
          "text": [
            "❌ Error processing ICICIPrudentialInnovationGrowthDirectPlan_INF109KC12T2.xlsx (Unknown): Insufficient NAV history (<3 years)\n"
          ]
        },
        {
          "output_type": "stream",
          "name": "stderr",
          "text": [
            " 62%|██████▏   | 2585/4144 [08:33<03:43,  6.99it/s]"
          ]
        },
        {
          "output_type": "stream",
          "name": "stdout",
          "text": [
            "❌ Error processing ICICIPrudentialNifty50EqualWeightIndexIDCWPayoutDirectPlan_INF109KC12J3.xlsx (Unknown): Insufficient NAV history (<3 years)\n"
          ]
        },
        {
          "output_type": "stream",
          "name": "stderr",
          "text": [
            " 63%|██████▎   | 2592/4144 [08:34<03:57,  6.53it/s]"
          ]
        },
        {
          "output_type": "stream",
          "name": "stdout",
          "text": [
            "❌ Error processing ICICIPrudentialNiftyPharmaIndexIDCWPayoutDirectPlan_INF109KC13M5.xlsx (Unknown): Insufficient NAV history (<3 years)\n"
          ]
        },
        {
          "output_type": "stream",
          "name": "stderr",
          "text": [
            " 63%|██████▎   | 2598/4144 [08:35<03:44,  6.90it/s]"
          ]
        },
        {
          "output_type": "stream",
          "name": "stdout",
          "text": [
            "❌ Error processing ICICIPrudentialNifty200Value30IndexIDCWPayoutDirectPlan_INF109KC14X0.xlsx (Unknown): Insufficient NAV history (<3 years)\n"
          ]
        },
        {
          "output_type": "stream",
          "name": "stderr",
          "text": [
            " 63%|██████▎   | 2603/4144 [08:36<03:17,  7.79it/s]"
          ]
        },
        {
          "output_type": "stream",
          "name": "stdout",
          "text": [
            "❌ Error processing ICICIPrudentialNifty50Value20IndexIDCWPayoutDirectPlan_INF109KC18T9.xlsx (Unknown): Insufficient NAV history (<3 years)\n"
          ]
        },
        {
          "output_type": "stream",
          "name": "stderr",
          "text": [
            " 63%|██████▎   | 2607/4144 [08:36<04:29,  5.71it/s]"
          ]
        },
        {
          "output_type": "stream",
          "name": "stdout",
          "text": [
            "❌ Error processing ICICIPrudentialNiftySDLSep2026IndexGrowthDirectPlan_INF109KC13P8.xlsx (Unknown): Insufficient NAV history (<3 years)\n"
          ]
        },
        {
          "output_type": "stream",
          "name": "stderr",
          "text": [
            " 63%|██████▎   | 2613/4144 [08:37<03:19,  7.68it/s]"
          ]
        },
        {
          "output_type": "stream",
          "name": "stdout",
          "text": [
            "❌ Error processing ICICIPrudentialNiftyAutoIndexGrowthDirectPlan_INF109KC16J4.xlsx (Unknown): Insufficient NAV history (<3 years)\n",
            "❌ Error processing ICICIPrudentialNiftyGSecDec2030IndexGrowthDirectPlan_INF109KC18K8.xlsx (Unknown): Insufficient NAV history (<3 years)\n",
            "⚠️ Skipping 'ICICI Prudential Overnight Growth Direct Plan' due to high CAGR (>50%): 129.29%\n"
          ]
        },
        {
          "output_type": "stream",
          "name": "stderr",
          "text": [
            "\r 63%|██████▎   | 2615/4144 [08:37<02:43,  9.33it/s]"
          ]
        },
        {
          "output_type": "stream",
          "name": "stdout",
          "text": [
            "❌ Error processing ICICIPrudentialNiftySDLDec2028IndexAnnualIDCWPayoutDirectPlan_INF109KC16L0.xlsx (Unknown): Insufficient NAV history (<3 years)\n",
            "❌ Error processing ICICIPrudentialNiftySDLDec2028IndexGrowthDirectPlan_INF109KC14L5.xlsx (Unknown): Insufficient NAV history (<3 years)\n",
            "❌ Error processing ICICIPrudentialInnovationIDCWPayoutDirectPlan_INF109KC14T8.xlsx (Unknown): Insufficient NAV history (<3 years)\n"
          ]
        },
        {
          "output_type": "stream",
          "name": "stderr",
          "text": [
            " 63%|██████▎   | 2619/4144 [08:38<02:24, 10.55it/s]"
          ]
        },
        {
          "output_type": "stream",
          "name": "stdout",
          "text": [
            "❌ Error processing ICICIPrudentialEquityMinimumVarianceGrowthDirectPlan_INF109KC10Y6.xlsx (Unknown): Insufficient NAV history (<3 years)\n"
          ]
        },
        {
          "output_type": "stream",
          "name": "stderr",
          "text": [
            " 63%|██████▎   | 2623/4144 [08:38<02:52,  8.84it/s]"
          ]
        },
        {
          "output_type": "stream",
          "name": "stdout",
          "text": [
            "❌ Error processing ICICIPrudentialNiftyITIndexGrowthDirectPlan_INF109KC13E2.xlsx (Unknown): Insufficient NAV history (<3 years)\n"
          ]
        },
        {
          "output_type": "stream",
          "name": "stderr",
          "text": [
            " 63%|██████▎   | 2625/4144 [08:38<03:30,  7.23it/s]"
          ]
        },
        {
          "output_type": "stream",
          "name": "stdout",
          "text": [
            "❌ Error processing ICICIPrudentialNifty50Value20IndexGrowthDirectPlan_INF109KC16T3.xlsx (Unknown): Insufficient NAV history (<3 years)\n"
          ]
        },
        {
          "output_type": "stream",
          "name": "stderr",
          "text": [
            " 63%|██████▎   | 2629/4144 [08:39<03:16,  7.72it/s]"
          ]
        },
        {
          "output_type": "stream",
          "name": "stdout",
          "text": [
            "❌ Error processing ICICIPrudentialEquityMinimumVarianceIDCWPayoutDirectPlan_INF109KC11Y4.xlsx (Unknown): Insufficient NAV history (<3 years)\n"
          ]
        },
        {
          "output_type": "stream",
          "name": "stderr",
          "text": [
            " 64%|██████▎   | 2639/4144 [08:42<12:52,  1.95it/s]"
          ]
        },
        {
          "output_type": "stream",
          "name": "stdout",
          "text": [
            "❌ Error processing ICICIPrudentialNifty50EqualWeightIndexGrowthDirectPlan_INF109KC10J7.xlsx (Unknown): Insufficient NAV history (<3 years)\n"
          ]
        },
        {
          "output_type": "stream",
          "name": "stderr",
          "text": [
            " 64%|██████▍   | 2643/4144 [08:44<09:59,  2.51it/s]"
          ]
        },
        {
          "output_type": "stream",
          "name": "stdout",
          "text": [
            "❌ Error processing ICICIPrudentialNifty200Value30IndexGrowthDirectPlan_INF109KC13X2.xlsx (Unknown): Insufficient NAV history (<3 years)\n",
            "❌ Error processing ICICIPrudentialNiftyPharmaIndexGrowthDirectPlan_INF109KC11M9.xlsx (Unknown): Insufficient NAV history (<3 years)\n"
          ]
        },
        {
          "output_type": "stream",
          "name": "stderr",
          "text": [
            " 64%|██████▍   | 2646/4144 [08:44<07:15,  3.44it/s]"
          ]
        },
        {
          "output_type": "stream",
          "name": "stdout",
          "text": [
            "⚠️ Skipping 'ICICI Prudential Overnight Daily IDCW Reinvest Direct Plan' due to high CAGR (>50%): 115.44%\n"
          ]
        },
        {
          "output_type": "stream",
          "name": "stderr",
          "text": [
            " 64%|██████▍   | 2649/4144 [08:45<05:01,  4.96it/s]"
          ]
        },
        {
          "output_type": "stream",
          "name": "stdout",
          "text": [
            "❌ Error processing ICICIPrudentialEnergyOpportunitiesIDCWPayoutDirectPlan_INF109KC14W2.xlsx (Unknown): Insufficient NAV history (<3 years)\n"
          ]
        },
        {
          "output_type": "stream",
          "name": "stderr",
          "text": [
            " 64%|██████▍   | 2663/4144 [08:47<04:05,  6.04it/s]"
          ]
        },
        {
          "output_type": "stream",
          "name": "stdout",
          "text": [
            "❌ Error processing ICICIPrudentialNifty200Momentum30IndexIDCWPayoutDirectPlan_INF109KC13D4.xlsx (Unknown): Insufficient NAV history (<3 years)\n"
          ]
        },
        {
          "output_type": "stream",
          "name": "stderr",
          "text": [
            " 64%|██████▍   | 2669/4144 [08:48<03:34,  6.87it/s]"
          ]
        },
        {
          "output_type": "stream",
          "name": "stdout",
          "text": [
            "❌ Error processing ICICIPrudentialNifty200Momentum30IndexGrowthDirectPlan_INF109KC11D8.xlsx (Unknown): Insufficient NAV history (<3 years)\n"
          ]
        },
        {
          "output_type": "stream",
          "name": "stderr",
          "text": [
            "\r 64%|██████▍   | 2670/4144 [08:49<03:51,  6.37it/s]"
          ]
        },
        {
          "output_type": "stream",
          "name": "stdout",
          "text": [
            "❌ Error processing ICICIPrudentialNifty500IndexIDCWPayoutDirectPlan_INF109KC17Y1.xlsx (Unknown): Insufficient NAV history (<3 years)\n"
          ]
        },
        {
          "output_type": "stream",
          "name": "stderr",
          "text": [
            " 65%|██████▍   | 2681/4144 [08:51<04:00,  6.08it/s]"
          ]
        },
        {
          "output_type": "stream",
          "name": "stdout",
          "text": [
            "❌ Error processing ICICIPrudentialNiftyLargemidcap250IndexIDCWPayoutDirectPlan_INF109KC14U6.xlsx (Unknown): Insufficient NAV history (<3 years)\n"
          ]
        },
        {
          "output_type": "stream",
          "name": "stderr",
          "text": [
            " 65%|██████▍   | 2684/4144 [08:51<03:58,  6.13it/s]"
          ]
        },
        {
          "output_type": "stream",
          "name": "stdout",
          "text": [
            "❌ Error processing ICICIPrudentialNiftyGSecDec2030IndexAnnualIDCWPayoutDirectPlan_INF109KC10L3.xlsx (Unknown): Insufficient NAV history (<3 years)\n"
          ]
        },
        {
          "output_type": "stream",
          "name": "stderr",
          "text": [
            " 65%|██████▍   | 2692/4144 [08:53<04:21,  5.55it/s]"
          ]
        },
        {
          "output_type": "stream",
          "name": "stdout",
          "text": [
            "❌ Error processing ICICIPrudentialNiftyITIndexIDCWPayoutDirectPlan_INF109KC15E7.xlsx (Unknown): Insufficient NAV history (<3 years)\n"
          ]
        },
        {
          "output_type": "stream",
          "name": "stderr",
          "text": [
            " 65%|██████▌   | 2700/4144 [08:54<04:11,  5.74it/s]"
          ]
        },
        {
          "output_type": "stream",
          "name": "stdout",
          "text": [
            "⚠️ Skipping 'ICICI Prudential Overnight Weekly IDCW Payout Direct Plan' due to high CAGR (>50%): 115.42%\n"
          ]
        },
        {
          "output_type": "stream",
          "name": "stderr",
          "text": [
            "\r 65%|██████▌   | 2701/4144 [08:54<06:00,  4.00it/s]"
          ]
        },
        {
          "output_type": "stream",
          "name": "stdout",
          "text": [
            "❌ Error processing ICICIPrudentialNifty500IndexGrowthDirectPlan_INF109KC16Y3.xlsx (Unknown): Insufficient NAV history (<3 years)\n"
          ]
        },
        {
          "output_type": "stream",
          "name": "stderr",
          "text": [
            " 66%|██████▌   | 2731/4144 [09:02<03:32,  6.65it/s]"
          ]
        },
        {
          "output_type": "stream",
          "name": "stdout",
          "text": [
            "❌ Error processing InvescoIndiaMultiAssetAllocationGrowthDirectPlan_INF205KA1AC1.xlsx (Unknown): Insufficient NAV history (<3 years)\n"
          ]
        },
        {
          "output_type": "stream",
          "name": "stderr",
          "text": [
            " 66%|██████▌   | 2736/4144 [09:03<03:54,  6.00it/s]"
          ]
        },
        {
          "output_type": "stream",
          "name": "stdout",
          "text": [
            "❌ Error processing InvescoIndiaMoneyMarketWeeklyIDCWPayoutDirectPlan_INF205KA1858.xlsx (Unknown): Insufficient NAV history (<3 years)\n"
          ]
        },
        {
          "output_type": "stream",
          "name": "stderr",
          "text": [
            " 67%|██████▋   | 2775/4144 [09:13<03:45,  6.06it/s]"
          ]
        },
        {
          "output_type": "stream",
          "name": "stdout",
          "text": [
            "❌ Error processing InvescoIndiaMultiAssetAllocationIDCWReinvestDirectPlan_INF205KA1AE7.xlsx (Unknown): Insufficient NAV history (<3 years)\n",
            "❌ Error processing InvescoIndiaMoneyMarketWeeklyIDCWReinvestDirectPlan_INF205KA1866.xlsx (Unknown): Insufficient NAV history (<3 years)\n"
          ]
        },
        {
          "output_type": "stream",
          "name": "stderr",
          "text": [
            " 67%|██████▋   | 2784/4144 [09:15<04:08,  5.46it/s]"
          ]
        },
        {
          "output_type": "stream",
          "name": "stdout",
          "text": [
            "❌ Error processing InvescoIndiaMultiAssetAllocationIDCWPayoutDirectPlan_INF205KA1AD9.xlsx (Unknown): Insufficient NAV history (<3 years)\n"
          ]
        },
        {
          "output_type": "stream",
          "name": "stderr",
          "text": [
            " 68%|██████▊   | 2811/4144 [09:20<04:06,  5.42it/s]"
          ]
        },
        {
          "output_type": "stream",
          "name": "stdout",
          "text": [
            "❌ Error processing InvescoIndiaManufacturingIDCWPayoutDirectPlan_INF205KA1916.xlsx (Unknown): Insufficient NAV history (<3 years)\n"
          ]
        },
        {
          "output_type": "stream",
          "name": "stderr",
          "text": [
            " 68%|██████▊   | 2820/4144 [09:24<10:15,  2.15it/s]"
          ]
        },
        {
          "output_type": "stream",
          "name": "stdout",
          "text": [
            "❌ Error processing InvescoIndiaInvescoEQQQNasdaq100ETFFoFGrowthDirectPlan_INF205KA1585.xlsx (Unknown): Insufficient NAV history (<3 years)\n"
          ]
        },
        {
          "output_type": "stream",
          "name": "stderr",
          "text": [
            " 68%|██████▊   | 2827/4144 [09:25<04:17,  5.12it/s]"
          ]
        },
        {
          "output_type": "stream",
          "name": "stdout",
          "text": [
            "❌ Error processing InvescoIndiaManufacturingIDCWReinvestDirectPlan_INF205KA1924.xlsx (Unknown): Insufficient NAV history (<3 years)\n"
          ]
        },
        {
          "output_type": "stream",
          "name": "stderr",
          "text": [
            " 68%|██████▊   | 2837/4144 [09:27<03:36,  6.04it/s]"
          ]
        },
        {
          "output_type": "stream",
          "name": "stdout",
          "text": [
            "❌ Error processing ICICIPrudentialTransportationLogisticsGrowthDirectPlan_INF109KC12K1.xlsx (Unknown): Insufficient NAV history (<3 years)\n"
          ]
        },
        {
          "output_type": "stream",
          "name": "stderr",
          "text": [
            " 69%|██████▊   | 2848/4144 [09:30<05:03,  4.27it/s]"
          ]
        },
        {
          "output_type": "stream",
          "name": "stdout",
          "text": [
            "❌ Error processing ICICIPrudentialTransportationLogisticsIDCWPayoutDirectPlan_INF109KC14K7.xlsx (Unknown): Insufficient NAV history (<3 years)\n"
          ]
        },
        {
          "output_type": "stream",
          "name": "stderr",
          "text": [
            "\r 69%|██████▉   | 2850/4144 [09:30<03:46,  5.72it/s]"
          ]
        },
        {
          "output_type": "stream",
          "name": "stdout",
          "text": [
            "❌ Error processing InvescoIndiaManufacturingGrowthDirectPlan_INF205KA1908.xlsx (Unknown): Insufficient NAV history (<3 years)\n"
          ]
        },
        {
          "output_type": "stream",
          "name": "stderr",
          "text": [
            " 69%|██████▉   | 2856/4144 [09:31<03:05,  6.95it/s]"
          ]
        },
        {
          "output_type": "stream",
          "name": "stdout",
          "text": [
            "❌ Error processing ITIUltraShortDurationMonthlyIDCWPayoutDirectPlan_INF00XX01AL7.xlsx (Unknown): Insufficient NAV history (<3 years)\n"
          ]
        },
        {
          "output_type": "stream",
          "name": "stderr",
          "text": [
            " 69%|██████▉   | 2870/4144 [09:34<03:18,  6.42it/s]"
          ]
        },
        {
          "output_type": "stream",
          "name": "stdout",
          "text": [
            "❌ Error processing ITIUltraShortDurationWeeklyIDCWReinvestDirectPlan_INF00XX01AG7.xlsx (Unknown): Insufficient NAV history (<3 years)\n"
          ]
        },
        {
          "output_type": "stream",
          "name": "stderr",
          "text": [
            " 70%|██████▉   | 2891/4144 [09:40<02:28,  8.46it/s]"
          ]
        },
        {
          "output_type": "stream",
          "name": "stdout",
          "text": [
            "❌ Error processing ITIFlexiCapIDCWReinvestDirectPlan_INF00XX01CQ2.xlsx (Unknown): Insufficient NAV history (<3 years)\n",
            "❌ Error processing InvescoIndiaTechnologyIDCWPayoutDirectPlan_INF205KA1973.xlsx (Unknown): Insufficient NAV history (<3 years)\n"
          ]
        },
        {
          "output_type": "stream",
          "name": "stderr",
          "text": [
            " 70%|██████▉   | 2894/4144 [09:41<02:54,  7.16it/s]"
          ]
        },
        {
          "output_type": "stream",
          "name": "stdout",
          "text": [
            "❌ Error processing InvescoIndiaNiftyGSecSep2032IndexIDCWPayoutDirectPlan_INF205KA1825.xlsx (Unknown): Insufficient NAV history (<3 years)\n"
          ]
        },
        {
          "output_type": "stream",
          "name": "stderr",
          "text": [
            " 70%|██████▉   | 2900/4144 [09:41<02:38,  7.85it/s]"
          ]
        },
        {
          "output_type": "stream",
          "name": "stdout",
          "text": [
            "❌ Error processing ITIFocusedEquityGrowthDirectPlan_INF00XX01CS8.xlsx (Unknown): Insufficient NAV history (<3 years)\n"
          ]
        },
        {
          "output_type": "stream",
          "name": "stderr",
          "text": [
            " 70%|███████   | 2916/4144 [09:44<02:56,  6.96it/s]"
          ]
        },
        {
          "output_type": "stream",
          "name": "stdout",
          "text": [
            "❌ Error processing InvescoIndiaTechnologyIDCWReinvestDirectPlan_INF205KA1981.xlsx (Unknown): Insufficient NAV history (<3 years)\n"
          ]
        },
        {
          "output_type": "stream",
          "name": "stderr",
          "text": [
            " 71%|███████   | 2929/4144 [09:46<02:52,  7.05it/s]"
          ]
        },
        {
          "output_type": "stream",
          "name": "stdout",
          "text": [
            "❌ Error processing ITILargeMidCapGrowthDirectPlan_INF00XX01DA4.xlsx (Unknown): Insufficient NAV history (<3 years)\n"
          ]
        },
        {
          "output_type": "stream",
          "name": "stderr",
          "text": [
            " 71%|███████   | 2935/4144 [09:48<08:46,  2.30it/s]"
          ]
        },
        {
          "output_type": "stream",
          "name": "stdout",
          "text": [
            "❌ Error processing ITIUltraShortDurationMonthlyIDCWReinvestDirectPlan_INF00XX01AI3.xlsx (Unknown): Insufficient NAV history (<3 years)\n"
          ]
        },
        {
          "output_type": "stream",
          "name": "stderr",
          "text": [
            " 71%|███████   | 2942/4144 [09:51<05:57,  3.36it/s]"
          ]
        },
        {
          "output_type": "stream",
          "name": "stdout",
          "text": [
            "❌ Error processing ITIUltraShortDurationFortnightlyIDCWReinvestDirectPlan_INF00XX01AH5.xlsx (Unknown): Insufficient NAV history (<3 years)\n",
            "❌ Error processing ITIFocusedEquityIDCWReinvestDirectPlan_INF00XX01CU4.xlsx (Unknown): Insufficient NAV history (<3 years)\n"
          ]
        },
        {
          "output_type": "stream",
          "name": "stderr",
          "text": [
            " 71%|███████▏  | 2953/4144 [09:53<02:43,  7.27it/s]"
          ]
        },
        {
          "output_type": "stream",
          "name": "stdout",
          "text": [
            "❌ Error processing ITIUltraShortDurationFortnightlyIDCWPayoutDirectPlan_INF00XX01AK9.xlsx (Unknown): Insufficient NAV history (<3 years)\n"
          ]
        },
        {
          "output_type": "stream",
          "name": "stderr",
          "text": [
            " 71%|███████▏  | 2957/4144 [09:53<02:42,  7.32it/s]"
          ]
        },
        {
          "output_type": "stream",
          "name": "stdout",
          "text": [
            "❌ Error processing InvescoIndiaNiftyGSecJul2027IndexIDCWPayoutDirectPlan_INF205KA1783.xlsx (Unknown): Insufficient NAV history (<3 years)\n"
          ]
        },
        {
          "output_type": "stream",
          "name": "stderr",
          "text": [
            " 72%|███████▏  | 2968/4144 [09:55<02:43,  7.18it/s]"
          ]
        },
        {
          "output_type": "stream",
          "name": "stdout",
          "text": [
            "❌ Error processing ITILargeMidCapIDCWReinvestDirectPlan_INF00XX01DC0.xlsx (Unknown): Insufficient NAV history (<3 years)\n",
            "❌ Error processing InvescoIndiaTechnologyGrowthDirectPlan_INF205KA1965.xlsx (Unknown): Insufficient NAV history (<3 years)\n"
          ]
        },
        {
          "output_type": "stream",
          "name": "stderr",
          "text": [
            " 72%|███████▏  | 2980/4144 [09:57<02:34,  7.52it/s]"
          ]
        },
        {
          "output_type": "stream",
          "name": "stdout",
          "text": [
            "❌ Error processing InvescoIndiaNiftyGSecSep2032IndexGrowthDirectPlan_INF205KA1817.xlsx (Unknown): Insufficient NAV history (<3 years)\n"
          ]
        },
        {
          "output_type": "stream",
          "name": "stderr",
          "text": [
            " 72%|███████▏  | 2991/4144 [09:59<02:18,  8.34it/s]"
          ]
        },
        {
          "output_type": "stream",
          "name": "stdout",
          "text": [
            "❌ Error processing InvescoIndiaNiftyGSecJul2027IndexGrowthDirectPlan_INF205KA1775.xlsx (Unknown): Insufficient NAV history (<3 years)\n"
          ]
        },
        {
          "output_type": "stream",
          "name": "stderr",
          "text": [
            " 72%|███████▏  | 2995/4144 [10:00<02:41,  7.10it/s]"
          ]
        },
        {
          "output_type": "stream",
          "name": "stdout",
          "text": [
            "❌ Error processing ITIFocusedEquityIDCWPayoutDirectPlan_INF00XX01CT6.xlsx (Unknown): Insufficient NAV history (<3 years)\n"
          ]
        },
        {
          "output_type": "stream",
          "name": "stderr",
          "text": [
            " 73%|███████▎  | 3007/4144 [10:04<05:10,  3.67it/s]"
          ]
        },
        {
          "output_type": "stream",
          "name": "stdout",
          "text": [
            "❌ Error processing AxisCrisilIbx5050GiltPlusSDLJune2028IndexIDCWReinvestDirectPlan_INF846K012N3.xlsx (Unknown): Insufficient NAV history (<3 years)\n",
            "❌ Error processing AxisCrisilIbxAaaBondFinancialServicesSep2027IndexIDCWPayoutDirectPlan_INF846K017Y9.xlsx (Unknown): Insufficient NAV history (<3 years)\n"
          ]
        },
        {
          "output_type": "stream",
          "name": "stderr",
          "text": [
            " 73%|███████▎  | 3012/4144 [10:05<02:59,  6.30it/s]"
          ]
        },
        {
          "output_type": "stream",
          "name": "stdout",
          "text": [
            "❌ Error processing AxisCrisilIbxAaaBondNbfcHfcJun2027IndexIDCWPayoutDirectPlan_INF846K018Z4.xlsx (Unknown): Insufficient NAV history (<3 years)\n"
          ]
        },
        {
          "output_type": "stream",
          "name": "stderr",
          "text": [
            " 73%|███████▎  | 3014/4144 [10:05<03:39,  5.16it/s]"
          ]
        },
        {
          "output_type": "stream",
          "name": "stdout",
          "text": [
            "❌ Error processing AxisBusinessCyclesIDCWPayoutDirectPlan_INF846K017N2.xlsx (Unknown): Insufficient NAV history (<3 years)\n"
          ]
        },
        {
          "output_type": "stream",
          "name": "stderr",
          "text": [
            " 73%|███████▎  | 3021/4144 [10:06<02:49,  6.63it/s]"
          ]
        },
        {
          "output_type": "stream",
          "name": "stdout",
          "text": [
            "❌ Error processing AxisCrisilIbxAaaBondNbfcHfcJun2027IndexGrowthDirectPlan_INF846KA1028.xlsx (Unknown): Insufficient NAV history (<3 years)\n",
            "❌ Error processing AdityaBirlaSunLifeUSTreasury13YearBondETFsFoFGrowthDirectPlan_INF209KB16W7.xlsx (Unknown): Insufficient NAV history (<3 years)\n"
          ]
        },
        {
          "output_type": "stream",
          "name": "stderr",
          "text": [
            " 73%|███████▎  | 3028/4144 [10:07<02:46,  6.72it/s]"
          ]
        },
        {
          "output_type": "stream",
          "name": "stdout",
          "text": [
            "❌ Error processing AxisConsumptionIDCWPayoutDirectPlan_INF846K014X8.xlsx (Unknown): Insufficient NAV history (<3 years)\n"
          ]
        },
        {
          "output_type": "stream",
          "name": "stderr",
          "text": [
            " 73%|███████▎  | 3036/4144 [10:09<02:46,  6.66it/s]"
          ]
        },
        {
          "output_type": "stream",
          "name": "stdout",
          "text": [
            "❌ Error processing AxisCrisilIbxAaaBondFinancialServicesSep2027IndexIDCWReinvestDirectPlan_INF846K019Y5.xlsx (Unknown): Insufficient NAV history (<3 years)\n"
          ]
        },
        {
          "output_type": "stream",
          "name": "stderr",
          "text": [
            "\r 73%|███████▎  | 3038/4144 [10:09<02:23,  7.69it/s]"
          ]
        },
        {
          "output_type": "stream",
          "name": "stdout",
          "text": [
            "❌ Error processing AdityaBirlaSunLifeMultiIndexFoFIDCWPayoutDirectPlan_INF209KB16M8.xlsx (Unknown): Insufficient NAV history (<3 years)\n"
          ]
        },
        {
          "output_type": "stream",
          "name": "stderr",
          "text": [
            " 73%|███████▎  | 3041/4144 [10:09<02:41,  6.84it/s]"
          ]
        },
        {
          "output_type": "stream",
          "name": "stdout",
          "text": [
            "❌ Error processing AdityaBirlaSunLifeQuantGrowthDirectPlan_INF209KC1118.xlsx (Unknown): Insufficient NAV history (<3 years)\n"
          ]
        },
        {
          "output_type": "stream",
          "name": "stderr",
          "text": [
            " 73%|███████▎  | 3044/4144 [10:10<03:08,  5.85it/s]"
          ]
        },
        {
          "output_type": "stream",
          "name": "stdout",
          "text": [
            "❌ Error processing AxisCrisilIbx5050GiltPlusSDLSeptember2027IndexGrowthDirectPlan_INF846K012O1.xlsx (Unknown): Insufficient NAV history (<3 years)\n",
            "❌ Error processing AxisCrisilIbxAaaBondNbfcJun2027IDCWPayoutDirectPlan_INF846K019X7.xlsx (Unknown): Insufficient NAV history (<3 years)\n"
          ]
        },
        {
          "output_type": "stream",
          "name": "stderr",
          "text": [
            " 74%|███████▎  | 3049/4144 [10:10<02:07,  8.58it/s]"
          ]
        },
        {
          "output_type": "stream",
          "name": "stdout",
          "text": [
            "❌ Error processing AdityaBirlaSunLifeUSTreasury13YearBondETFsFoFIDCWPayoutDirectPlan_INF209KB17W5.xlsx (Unknown): Insufficient NAV history (<3 years)\n",
            "❌ Error processing AdityaBirlaSunLifeNiftySDLSep2025IndexGrowthDirectPlan_INF209KB10M1.xlsx (Unknown): Insufficient NAV history (<3 years)\n"
          ]
        },
        {
          "output_type": "stream",
          "name": "stderr",
          "text": [
            "\r 74%|███████▎  | 3052/4144 [10:11<01:30, 12.00it/s]"
          ]
        },
        {
          "output_type": "stream",
          "name": "stdout",
          "text": [
            "❌ Error processing AxisCrisilIbxAaaBondNbfcHfcJun2027IndexIDCWReinvestDirectPlan_INF846KA1010.xlsx (Unknown): Insufficient NAV history (<3 years)\n",
            "❌ Error processing AxisBSESensexIndexIDCWReinvestDirectPlan_INF846K015V9.xlsx (Unknown): Insufficient NAV history (<3 years)\n"
          ]
        },
        {
          "output_type": "stream",
          "name": "stderr",
          "text": [
            "\r 74%|███████▎  | 3054/4144 [10:11<01:52,  9.73it/s]"
          ]
        },
        {
          "output_type": "stream",
          "name": "stdout",
          "text": [
            "❌ Error processing AxisCrisilIbx5050GiltPlusSDLSeptember2027IndexIDCWPayoutDirectPlan_INF846K013O9.xlsx (Unknown): Insufficient NAV history (<3 years)\n"
          ]
        },
        {
          "output_type": "stream",
          "name": "stderr",
          "text": [
            "\r 74%|███████▎  | 3056/4144 [10:11<02:06,  8.58it/s]"
          ]
        },
        {
          "output_type": "stream",
          "name": "stdout",
          "text": [
            "❌ Error processing AxisBSESensexIndexGrowthDirectPlan_INF846K012V6.xlsx (Unknown): Insufficient NAV history (<3 years)\n",
            "❌ Error processing AdityaBirlaSunLifeNiftySDLSep2027IndexGrowthDirectPlan_INF209KB16T3.xlsx (Unknown): Insufficient NAV history (<3 years)\n"
          ]
        },
        {
          "output_type": "stream",
          "name": "stderr",
          "text": [
            " 74%|███████▍  | 3067/4144 [10:13<02:32,  7.08it/s]"
          ]
        },
        {
          "output_type": "stream",
          "name": "stdout",
          "text": [
            "❌ Error processing AxisBusinessCyclesGrowthDirectPlan_INF846K016N4.xlsx (Unknown): Insufficient NAV history (<3 years)\n"
          ]
        },
        {
          "output_type": "stream",
          "name": "stderr",
          "text": [
            " 74%|███████▍  | 3071/4144 [10:13<02:26,  7.32it/s]"
          ]
        },
        {
          "output_type": "stream",
          "name": "stdout",
          "text": [
            "❌ Error processing AdityaBirlaSunLifeTransportationLogisticsGrowthDirectPlan_INF209KB15X7.xlsx (Unknown): Insufficient NAV history (<3 years)\n"
          ]
        },
        {
          "output_type": "stream",
          "name": "stderr",
          "text": [
            " 74%|███████▍  | 3073/4144 [10:15<07:38,  2.34it/s]"
          ]
        },
        {
          "output_type": "stream",
          "name": "stdout",
          "text": [
            "❌ Error processing AdityaBirlaSunLifeLongDurationIDCWPayoutDirectPlan_INF209KB18J0.xlsx (Unknown): Insufficient NAV history (<3 years)\n"
          ]
        },
        {
          "output_type": "stream",
          "name": "stderr",
          "text": [
            " 74%|███████▍  | 3087/4144 [10:19<03:57,  4.45it/s]"
          ]
        },
        {
          "output_type": "stream",
          "name": "stdout",
          "text": [
            "❌ Error processing AxisCrisilIbxAaaBondNbfcJun2027IDCWReinvestDirectPlan_INF846K011Y2.xlsx (Unknown): Insufficient NAV history (<3 years)\n",
            "❌ Error processing AxisBusinessCyclesIDCWReinvestDirectPlan_INF846K018N0.xlsx (Unknown): Insufficient NAV history (<3 years)\n"
          ]
        },
        {
          "output_type": "stream",
          "name": "stderr",
          "text": [
            " 75%|███████▍  | 3093/4144 [10:20<02:33,  6.87it/s]"
          ]
        },
        {
          "output_type": "stream",
          "name": "stdout",
          "text": [
            "❌ Error processing AdityaBirlaSunLifeMultiAssetAllocationIDCWPayoutDirectPlan_INF209KB16R7.xlsx (Unknown): Insufficient NAV history (<3 years)\n"
          ]
        },
        {
          "output_type": "stream",
          "name": "stderr",
          "text": [
            " 75%|███████▍  | 3096/4144 [10:20<02:33,  6.83it/s]"
          ]
        },
        {
          "output_type": "stream",
          "name": "stdout",
          "text": [
            "❌ Error processing AdityaBirlaSunLifeLongDurationGrowthDirectPlan_INF209KB17J2.xlsx (Unknown): Insufficient NAV history (<3 years)\n"
          ]
        },
        {
          "output_type": "stream",
          "name": "stderr",
          "text": [
            " 75%|███████▍  | 3102/4144 [10:21<02:04,  8.36it/s]"
          ]
        },
        {
          "output_type": "stream",
          "name": "stdout",
          "text": [
            "❌ Error processing AdityaBirlaSunLifeTransportationLogisticsIDCWPayoutDirectPlan_INF209KB16X5.xlsx (Unknown): Insufficient NAV history (<3 years)\n"
          ]
        },
        {
          "output_type": "stream",
          "name": "stderr",
          "text": [
            " 75%|███████▌  | 3113/4144 [10:23<02:21,  7.29it/s]"
          ]
        },
        {
          "output_type": "stream",
          "name": "stdout",
          "text": [
            "❌ Error processing AxisCrisilIbxAaaBondFinancialServicesSep2027IndexGrowthDirectPlan_INF846K015Y3.xlsx (Unknown): Insufficient NAV history (<3 years)\n"
          ]
        },
        {
          "output_type": "stream",
          "name": "stderr",
          "text": [
            " 75%|███████▌  | 3118/4144 [10:24<02:31,  6.76it/s]"
          ]
        },
        {
          "output_type": "stream",
          "name": "stdout",
          "text": [
            "❌ Error processing AdityaBirlaSunLifeQuantIDCWPayoutDirectPlan_INF209KC1126.xlsx (Unknown): Insufficient NAV history (<3 years)\n"
          ]
        },
        {
          "output_type": "stream",
          "name": "stderr",
          "text": [
            " 75%|███████▌  | 3126/4144 [10:25<02:01,  8.37it/s]"
          ]
        },
        {
          "output_type": "stream",
          "name": "stdout",
          "text": [
            "❌ Error processing AdityaBirlaSunLifeNiftyIndiaDefenceIndexGrowthDirectPlan_INF209KC1183.xlsx (Unknown): Insufficient NAV history (<3 years)\n",
            "❌ Error processing AdityaBirlaSunLifeUSTreasury310YearBondETFsFoFIDCWPayoutDirectPlan_INF209KB13X2.xlsx (Unknown): Insufficient NAV history (<3 years)\n"
          ]
        },
        {
          "output_type": "stream",
          "name": "stderr",
          "text": [
            " 76%|███████▌  | 3132/4144 [10:26<02:35,  6.51it/s]"
          ]
        },
        {
          "output_type": "stream",
          "name": "stdout",
          "text": [
            "❌ Error processing AdityaBirlaSunLifeNiftySDLSep2025IndexIDCWPayoutDirectPlan_INF209KB11M9.xlsx (Unknown): Insufficient NAV history (<3 years)\n"
          ]
        },
        {
          "output_type": "stream",
          "name": "stderr",
          "text": [
            "\r 76%|███████▌  | 3135/4144 [10:26<01:38, 10.26it/s]"
          ]
        },
        {
          "output_type": "stream",
          "name": "stdout",
          "text": [
            "❌ Error processing AxisConsumptionIDCWReinvestDirectPlan_INF846K015X5.xlsx (Unknown): Insufficient NAV history (<3 years)\n",
            "❌ Error processing AxisBSESensexIndexIDCWPayoutDirectPlan_INF846K013V4.xlsx (Unknown): Insufficient NAV history (<3 years)\n",
            "❌ Error processing AdityaBirlaSunLifeMultiIndexFoFGrowthDirectPlan_INF209KB15M0.xlsx (Unknown): Insufficient NAV history (<3 years)\n"
          ]
        },
        {
          "output_type": "stream",
          "name": "stderr",
          "text": [
            "\r 76%|███████▌  | 3137/4144 [10:26<01:35, 10.50it/s]"
          ]
        },
        {
          "output_type": "stream",
          "name": "stdout",
          "text": [
            "❌ Error processing AxisCrisilIbx5050GiltPlusSDLJune2028IndexGrowthDirectPlan_INF846K010N7.xlsx (Unknown): Insufficient NAV history (<3 years)\n"
          ]
        },
        {
          "output_type": "stream",
          "name": "stderr",
          "text": [
            " 76%|███████▌  | 3141/4144 [10:27<01:57,  8.51it/s]"
          ]
        },
        {
          "output_type": "stream",
          "name": "stdout",
          "text": [
            "❌ Error processing AxisConsumptionGrowthDirectPlan_INF846K013X0.xlsx (Unknown): Insufficient NAV history (<3 years)\n"
          ]
        },
        {
          "output_type": "stream",
          "name": "stderr",
          "text": [
            " 76%|███████▌  | 3156/4144 [10:32<02:44,  6.01it/s]"
          ]
        },
        {
          "output_type": "stream",
          "name": "stdout",
          "text": [
            "❌ Error processing AxisCrisilIbxSDLJune2034DebtIndexIDCWPayoutDirectPlan_INF846K010W8.xlsx (Unknown): Insufficient NAV history (<3 years)\n"
          ]
        },
        {
          "output_type": "stream",
          "name": "stderr",
          "text": [
            " 76%|███████▋  | 3166/4144 [10:34<02:15,  7.20it/s]"
          ]
        },
        {
          "output_type": "stream",
          "name": "stdout",
          "text": [
            "❌ Error processing AxisLongDurationMonthlyIDCWPayoutDirectPlan_INF846K019L2.xlsx (Unknown): Insufficient NAV history (<3 years)\n"
          ]
        },
        {
          "output_type": "stream",
          "name": "stderr",
          "text": [
            " 77%|███████▋  | 3179/4144 [10:36<02:02,  7.87it/s]"
          ]
        },
        {
          "output_type": "stream",
          "name": "stdout",
          "text": [
            "❌ Error processing AxisNiftySDLSeptember2026DebtIndexGrowthDirectPlan_INF846K018K6.xlsx (Unknown): Insufficient NAV history (<3 years)\n"
          ]
        },
        {
          "output_type": "stream",
          "name": "stderr",
          "text": [
            "\r 77%|███████▋  | 3180/4144 [10:36<02:51,  5.62it/s]"
          ]
        },
        {
          "output_type": "stream",
          "name": "stdout",
          "text": [
            "❌ Error processing AxisMomentumIDCWPayoutDirectPlan_INF846K013Z5.xlsx (Unknown): Insufficient NAV history (<3 years)\n"
          ]
        },
        {
          "output_type": "stream",
          "name": "stderr",
          "text": [
            " 77%|███████▋  | 3187/4144 [10:37<02:08,  7.45it/s]"
          ]
        },
        {
          "output_type": "stream",
          "name": "stdout",
          "text": [
            "❌ Error processing AxisNasdaq100FoFGrowthDirectPlan_INF846K012K9.xlsx (Unknown): Insufficient NAV history (<3 years)\n"
          ]
        },
        {
          "output_type": "stream",
          "name": "stderr",
          "text": [
            " 77%|███████▋  | 3199/4144 [10:39<01:52,  8.41it/s]"
          ]
        },
        {
          "output_type": "stream",
          "name": "stdout",
          "text": [
            "❌ Error processing AxisNifty500IndexGrowthDirectPlan_INF846K019W9.xlsx (Unknown): Insufficient NAV history (<3 years)\n"
          ]
        },
        {
          "output_type": "stream",
          "name": "stderr",
          "text": [
            "\r 77%|███████▋  | 3200/4144 [10:39<01:56,  8.14it/s]"
          ]
        },
        {
          "output_type": "stream",
          "name": "stdout",
          "text": [
            "❌ Error processing AxisLongDurationQuarterlyIDCWPayoutDirectPlan_INF846K013M3.xlsx (Unknown): Insufficient NAV history (<3 years)\n",
            "❌ Error processing AxisNiftyITIndexIDCWReinvestDirectPlan_INF846K019R9.xlsx (Unknown): Insufficient NAV history (<3 years)\n"
          ]
        },
        {
          "output_type": "stream",
          "name": "stderr",
          "text": [
            " 77%|███████▋  | 3206/4144 [10:39<01:27, 10.76it/s]"
          ]
        },
        {
          "output_type": "stream",
          "name": "stdout",
          "text": [
            "❌ Error processing AxisCrisilIbxSDLJune2034DebtIndexIDCWReinvestDirectPlan_INF846K011W6.xlsx (Unknown): Insufficient NAV history (<3 years)\n",
            "❌ Error processing AxisNiftySDLSeptember2026DebtIndexIDCWPayoutDirectPlan_INF846K019K4.xlsx (Unknown): Insufficient NAV history (<3 years)\n"
          ]
        },
        {
          "output_type": "stream",
          "name": "stderr",
          "text": [
            " 77%|███████▋  | 3210/4144 [10:40<01:39,  9.39it/s]"
          ]
        },
        {
          "output_type": "stream",
          "name": "stdout",
          "text": [
            "❌ Error processing AxisCrisilIbxSDLJune2034DebtIndexGrowthDirectPlan_INF846K019V1.xlsx (Unknown): Insufficient NAV history (<3 years)\n"
          ]
        },
        {
          "output_type": "stream",
          "name": "stderr",
          "text": [
            " 78%|███████▊  | 3213/4144 [10:40<01:49,  8.49it/s]"
          ]
        },
        {
          "output_type": "stream",
          "name": "stdout",
          "text": [
            "❌ Error processing AxisLongDurationGrowthDirectPlan_INF846K014L3.xlsx (Unknown): Insufficient NAV history (<3 years)\n"
          ]
        },
        {
          "output_type": "stream",
          "name": "stderr",
          "text": [
            "\r 78%|███████▊  | 3214/4144 [10:41<02:15,  6.87it/s]"
          ]
        },
        {
          "output_type": "stream",
          "name": "stdout",
          "text": [
            "❌ Error processing AxisMomentumGrowthDirectPlan_INF846K011Z9.xlsx (Unknown): Insufficient NAV history (<3 years)\n"
          ]
        },
        {
          "output_type": "stream",
          "name": "stderr",
          "text": [
            "\r 78%|███████▊  | 3216/4144 [10:41<03:16,  4.73it/s]"
          ]
        },
        {
          "output_type": "stream",
          "name": "stdout",
          "text": [
            "❌ Error processing AxisSilverFoFIDCWPayoutDirectPlan_INF846K016J2.xlsx (Unknown): Insufficient NAV history (<3 years)\n"
          ]
        },
        {
          "output_type": "stream",
          "name": "stderr",
          "text": [
            " 78%|███████▊  | 3223/4144 [10:44<04:34,  3.36it/s]"
          ]
        },
        {
          "output_type": "stream",
          "name": "stdout",
          "text": [
            "❌ Error processing AxisLongDurationAnnualIDCWPayoutDirectPlan_INF846K017M4.xlsx (Unknown): Insufficient NAV history (<3 years)\n",
            "❌ Error processing AxisIndiaManufacturingIDCWPayoutDirectPlan_INF846K017S1.xlsx (Unknown): Insufficient NAV history (<3 years)\n"
          ]
        },
        {
          "output_type": "stream",
          "name": "stderr",
          "text": [
            " 78%|███████▊  | 3233/4144 [10:45<01:46,  8.55it/s]"
          ]
        },
        {
          "output_type": "stream",
          "name": "stdout",
          "text": [
            "❌ Error processing AxisNiftyITIndexGrowthDirectPlan_INF846K017R3.xlsx (Unknown): Insufficient NAV history (<3 years)\n",
            "❌ Error processing AxisNiftyITIndexIDCWPayoutDirectPlan_INF846K018R1.xlsx (Unknown): Insufficient NAV history (<3 years)\n"
          ]
        },
        {
          "output_type": "stream",
          "name": "stderr",
          "text": [
            " 78%|███████▊  | 3239/4144 [10:46<02:29,  6.06it/s]"
          ]
        },
        {
          "output_type": "stream",
          "name": "stdout",
          "text": [
            "❌ Error processing AxisLongDurationQuarterlyIDCWReinvestDirectPlan_INF846K015M8.xlsx (Unknown): Insufficient NAV history (<3 years)\n"
          ]
        },
        {
          "output_type": "stream",
          "name": "stderr",
          "text": [
            " 78%|███████▊  | 3250/4144 [10:48<02:09,  6.89it/s]"
          ]
        },
        {
          "output_type": "stream",
          "name": "stdout",
          "text": [
            "❌ Error processing AxisIndiaManufacturingIDCWReinvestDirectPlan_INF846K018S9.xlsx (Unknown): Insufficient NAV history (<3 years)\n"
          ]
        },
        {
          "output_type": "stream",
          "name": "stderr",
          "text": [
            " 79%|███████▉  | 3268/4144 [10:51<02:04,  7.04it/s]"
          ]
        },
        {
          "output_type": "stream",
          "name": "stdout",
          "text": [
            "❌ Error processing AxisLongDurationAnnualIDCWReinvestDirectPlan_INF846K019M0.xlsx (Unknown): Insufficient NAV history (<3 years)\n"
          ]
        },
        {
          "output_type": "stream",
          "name": "stderr",
          "text": [
            " 79%|███████▉  | 3276/4144 [10:52<01:19, 10.92it/s]"
          ]
        },
        {
          "output_type": "stream",
          "name": "stdout",
          "text": [
            "❌ Error processing AxisSilverFoFGrowthDirectPlan_INF846K015J4.xlsx (Unknown): Insufficient NAV history (<3 years)\n",
            "❌ Error processing AxisNifty500Value50IndexGrowthDirectPlan_INF846K013Y8.xlsx (Unknown): Insufficient NAV history (<3 years)\n",
            "❌ Error processing AxisSilverFoFIDCWReinvestDirectPlan_INF846K017J0.xlsx (Unknown): Insufficient NAV history (<3 years)\n"
          ]
        },
        {
          "output_type": "stream",
          "name": "stderr",
          "text": [
            " 79%|███████▉  | 3284/4144 [10:53<01:58,  7.28it/s]"
          ]
        },
        {
          "output_type": "stream",
          "name": "stdout",
          "text": [
            "❌ Error processing AxisNiftyBankIndexIDCWReinvestDirectPlan_INF846K017W3.xlsx (Unknown): Insufficient NAV history (<3 years)\n"
          ]
        },
        {
          "output_type": "stream",
          "name": "stderr",
          "text": [
            " 79%|███████▉  | 3292/4144 [10:57<11:01,  1.29it/s]"
          ]
        },
        {
          "output_type": "stream",
          "name": "stdout",
          "text": [
            "❌ Error processing AxisNiftyBankIndexIDCWPayoutDirectPlan_INF846K016W5.xlsx (Unknown): Insufficient NAV history (<3 years)\n"
          ]
        },
        {
          "output_type": "stream",
          "name": "stderr",
          "text": [
            " 80%|███████▉  | 3304/4144 [10:59<02:14,  6.23it/s]"
          ]
        },
        {
          "output_type": "stream",
          "name": "stdout",
          "text": [
            "❌ Error processing AxisNiftySDLSeptember2026DebtIndexIDCWReinvestDirectPlan_INF846K010L1.xlsx (Unknown): Insufficient NAV history (<3 years)\n"
          ]
        },
        {
          "output_type": "stream",
          "name": "stderr",
          "text": [
            " 80%|███████▉  | 3308/4144 [10:59<01:55,  7.22it/s]"
          ]
        },
        {
          "output_type": "stream",
          "name": "stdout",
          "text": [
            "❌ Error processing AxisIndiaManufacturingGrowthDirectPlan_INF846K016S3.xlsx (Unknown): Insufficient NAV history (<3 years)\n"
          ]
        },
        {
          "output_type": "stream",
          "name": "stderr",
          "text": [
            " 80%|███████▉  | 3314/4144 [11:00<01:51,  7.45it/s]"
          ]
        },
        {
          "output_type": "stream",
          "name": "stdout",
          "text": [
            "❌ Error processing AxisNasdaq100FoFIDCWPayoutDirectPlan_INF846K013K7.xlsx (Unknown): Insufficient NAV history (<3 years)\n",
            "❌ Error processing AxisNiftyBankIndexGrowthDirectPlan_INF846K015W7.xlsx (Unknown): Insufficient NAV history (<3 years)\n"
          ]
        },
        {
          "output_type": "stream",
          "name": "stderr",
          "text": [
            "\r 80%|████████  | 3316/4144 [11:00<01:35,  8.65it/s]"
          ]
        },
        {
          "output_type": "stream",
          "name": "stdout",
          "text": [
            "❌ Error processing AxisLongDurationMonthlyIDCWReinvestDirectPlan_INF846K011M7.xlsx (Unknown): Insufficient NAV history (<3 years)\n"
          ]
        },
        {
          "output_type": "stream",
          "name": "stderr",
          "text": [
            " 80%|████████  | 3326/4144 [11:02<01:44,  7.82it/s]"
          ]
        },
        {
          "output_type": "stream",
          "name": "stdout",
          "text": [
            "❌ Error processing AxisNasdaq100FoFIDCWReinvestDirectPlan_INF846K014K5.xlsx (Unknown): Insufficient NAV history (<3 years)\n",
            "❌ Error processing AxisMomentumIDCWReinvestDirectPlan_INF846K015Z0.xlsx (Unknown): Insufficient NAV history (<3 years)\n"
          ]
        },
        {
          "output_type": "stream",
          "name": "stderr",
          "text": [
            " 80%|████████  | 3332/4144 [11:03<01:45,  7.67it/s]"
          ]
        },
        {
          "output_type": "stream",
          "name": "stdout",
          "text": [
            "❌ Error processing AxisLongDurationDailyIDCWReinvestDirectPlan_INF846K017L6.xlsx (Unknown): Insufficient NAV history (<3 years)\n"
          ]
        },
        {
          "output_type": "stream",
          "name": "stderr",
          "text": [
            " 81%|████████  | 3338/4144 [11:04<02:51,  4.71it/s]"
          ]
        },
        {
          "output_type": "stream",
          "name": "stdout",
          "text": [
            "❌ Error processing BajajFinservMoneyMarketMonthlyIDCWReinvestDirectPlan_INF0QA701425.xlsx (Unknown): Insufficient NAV history (<3 years)\n"
          ]
        },
        {
          "output_type": "stream",
          "name": "stderr",
          "text": [
            " 81%|████████  | 3346/4144 [11:05<01:36,  8.24it/s]"
          ]
        },
        {
          "output_type": "stream",
          "name": "stdout",
          "text": [
            "❌ Error processing BandhanCrisilIbxGiltApril2026IndexIDCWPayoutDirectPlan_INF194KB1EI2.xlsx (Unknown): Insufficient NAV history (<3 years)\n",
            "❌ Error processing BajajFinservLargeMidCapIDCWPayoutDirectPlan_INF0QA701771.xlsx (Unknown): Insufficient NAV history (<3 years)\n"
          ]
        },
        {
          "output_type": "stream",
          "name": "stderr",
          "text": [
            " 81%|████████  | 3349/4144 [11:06<01:41,  7.85it/s]"
          ]
        },
        {
          "output_type": "stream",
          "name": "stdout",
          "text": [
            "❌ Error processing BajajFinservOvernightDailyIDCWReinvestDirectPlan_INF0QA701185.xlsx (Unknown): Insufficient NAV history (<3 years)\n"
          ]
        },
        {
          "output_type": "stream",
          "name": "stderr",
          "text": [
            " 81%|████████  | 3354/4144 [11:06<01:27,  9.07it/s]"
          ]
        },
        {
          "output_type": "stream",
          "name": "stdout",
          "text": [
            "❌ Error processing BajajFinservFlexiCapGrowthDirectPlan_INF0QA701342.xlsx (Unknown): Insufficient NAV history (<3 years)\n",
            "❌ Error processing BajajFinservLiquidFortnightlyIDCWReinvestDirectPlan_INF0QA701045.xlsx (Unknown): Insufficient NAV history (<3 years)\n",
            "❌ Error processing BandhanCrisilIbx9010SDLPlusGiltApril2032IndexIDCWPayoutDirectPlan_INF194KB1EO0.xlsx (Unknown): Insufficient NAV history (<3 years)\n"
          ]
        },
        {
          "output_type": "stream",
          "name": "stderr",
          "text": [
            " 81%|████████  | 3359/4144 [11:07<01:38,  7.93it/s]"
          ]
        },
        {
          "output_type": "stream",
          "name": "stdout",
          "text": [
            "❌ Error processing BandhanCrisilIbx9010SDLPlusGiltNovember2026IndexIDCWPayoutDirectPlan_INF194KB1EU7.xlsx (Unknown): Insufficient NAV history (<3 years)\n"
          ]
        },
        {
          "output_type": "stream",
          "name": "stderr",
          "text": [
            " 81%|████████  | 3362/4144 [11:08<03:41,  3.52it/s]"
          ]
        },
        {
          "output_type": "stream",
          "name": "stdout",
          "text": [
            "❌ Error processing BandhanFinancialServicesIDCWPayoutDirectPlan_INF194KB1GC0.xlsx (Unknown): Insufficient NAV history (<3 years)\n"
          ]
        },
        {
          "output_type": "stream",
          "name": "stderr",
          "text": [
            " 81%|████████  | 3366/4144 [11:09<02:22,  5.47it/s]"
          ]
        },
        {
          "output_type": "stream",
          "name": "stdout",
          "text": [
            "❌ Error processing BajajFinservOvernightWeeklyIDCWReinvestDirectPlan_INF0QA701193.xlsx (Unknown): Insufficient NAV history (<3 years)\n",
            "❌ Error processing BandhanFloatingRatePeriodicIDCWPayoutDirectPlan_INF194KB1BH0.xlsx (Unknown): Insufficient NAV history (<3 years)\n",
            "❌ Error processing AxisUSTreasuryDynamicBondETFFoFIDCWReinvestDirectPlan_INF846K019T5.xlsx (Unknown): Insufficient NAV history (<3 years)\n"
          ]
        },
        {
          "output_type": "stream",
          "name": "stderr",
          "text": [
            " 81%|████████▏ | 3375/4144 [11:11<02:02,  6.28it/s]"
          ]
        },
        {
          "output_type": "stream",
          "name": "stdout",
          "text": [
            "❌ Error processing BajajFinservLiquidWeeklyIDCWPayoutDirectPlan_INF0QA701060.xlsx (Unknown): Insufficient NAV history (<3 years)\n",
            "❌ Error processing BandhanCrisilIbx9010SDLPlusGiltApril2032IndexGrowthDirectPlan_INF194KB1EN2.xlsx (Unknown): Insufficient NAV history (<3 years)\n",
            "❌ Error processing BajajFinservGiltIDCWPayoutDirectPlan_INF0QA701AQ7.xlsx (Unknown): Insufficient NAV history (<3 years)\n",
            "❌ Error processing BajajFinservBalancedAdvantageIDCWReinvestDirectPlan_INF0QA701672.xlsx (Unknown): Insufficient NAV history (<3 years)\n"
          ]
        },
        {
          "output_type": "stream",
          "name": "stderr",
          "text": [
            " 82%|████████▏ | 3385/4144 [11:13<01:09, 10.93it/s]"
          ]
        },
        {
          "output_type": "stream",
          "name": "stdout",
          "text": [
            "❌ Error processing BajajFinservOvernightGrowthDirectPlan_INF0QA701177.xlsx (Unknown): Insufficient NAV history (<3 years)\n",
            "❌ Error processing BajajFinservMultiAssetAllocationIDCWReinvestDirectPlan_INF0QA701847.xlsx (Unknown): Insufficient NAV history (<3 years)\n",
            "❌ Error processing BajajFinservConsumptionIDCWPayoutDirectPlan_INF0QA701953.xlsx (Unknown): Insufficient NAV history (<3 years)\n",
            "❌ Error processing BandhanBSEHealthcareIndexGrowthDirectPlan_INF194KB1IS2.xlsx (Unknown): Insufficient NAV history (<3 years)\n",
            "❌ Error processing BajajFinservHealthcareGrowthDirectPlan_INF0QA701AB9.xlsx (Unknown): Insufficient NAV history (<3 years)\n",
            "❌ Error processing BajajFinservLiquidGrowthDirectPlan_INF0QA701011.xlsx (Unknown): Insufficient NAV history (<3 years)\n",
            "❌ Error processing BajajFinservLiquidFortnightlyIDCWPayoutDirectPlan_INF0QA701078.xlsx (Unknown): Insufficient NAV history (<3 years)\n"
          ]
        },
        {
          "output_type": "stream",
          "name": "stderr",
          "text": [
            "\r 82%|████████▏ | 3388/4144 [11:13<00:56, 13.48it/s]"
          ]
        },
        {
          "output_type": "stream",
          "name": "stdout",
          "text": [
            "❌ Error processing BandhanCrisilIbxGiltApril2026IndexGrowthDirectPlan_INF194KB1EH4.xlsx (Unknown): Insufficient NAV history (<3 years)\n"
          ]
        },
        {
          "output_type": "stream",
          "name": "stderr",
          "text": [
            " 82%|████████▏ | 3398/4144 [11:15<01:56,  6.42it/s]"
          ]
        },
        {
          "output_type": "stream",
          "name": "stdout",
          "text": [
            "❌ Error processing BajajFinservLiquidDailyIDCWReinvestDirectPlan_INF0QA701029.xlsx (Unknown): Insufficient NAV history (<3 years)\n"
          ]
        },
        {
          "output_type": "stream",
          "name": "stderr",
          "text": [
            " 82%|████████▏ | 3401/4144 [11:15<02:06,  5.86it/s]"
          ]
        },
        {
          "output_type": "stream",
          "name": "stdout",
          "text": [
            "❌ Error processing BajajFinservBalancedAdvantageGrowthDirectPlan_INF0QA701656.xlsx (Unknown): Insufficient NAV history (<3 years)\n",
            "❌ Error processing BajajFinservLargeCapGrowthDirectPlan_INF0QA701896.xlsx (Unknown): Insufficient NAV history (<3 years)\n",
            "❌ Error processing BajajFinservLargeMidCapGrowthDirectPlan_INF0QA701763.xlsx (Unknown): Insufficient NAV history (<3 years)\n"
          ]
        },
        {
          "output_type": "stream",
          "name": "stderr",
          "text": [
            " 82%|████████▏ | 3408/4144 [11:16<01:19,  9.24it/s]"
          ]
        },
        {
          "output_type": "stream",
          "name": "stdout",
          "text": [
            "❌ Error processing BandhanCrisilIbx9010SDLPlusGiltSeptember2027IndexIDCWPayoutDirectPlan_INF194KB1FA6.xlsx (Unknown): Insufficient NAV history (<3 years)\n"
          ]
        },
        {
          "output_type": "stream",
          "name": "stderr",
          "text": [
            " 82%|████████▏ | 3416/4144 [11:17<01:40,  7.25it/s]"
          ]
        },
        {
          "output_type": "stream",
          "name": "stdout",
          "text": [
            "❌ Error processing BajajFinservBankingPSUMonthlyIDCWPayoutDirectPlan_INF0QA701649.xlsx (Unknown): Insufficient NAV history (<3 years)\n"
          ]
        },
        {
          "output_type": "stream",
          "name": "stderr",
          "text": [
            "\r 82%|████████▏ | 3417/4144 [11:17<01:50,  6.55it/s]"
          ]
        },
        {
          "output_type": "stream",
          "name": "stdout",
          "text": [
            "❌ Error processing BajajFinservOvernightWeeklyIDCWPayoutDirectPlan_INF0QA701227.xlsx (Unknown): Insufficient NAV history (<3 years)\n"
          ]
        },
        {
          "output_type": "stream",
          "name": "stderr",
          "text": [
            " 83%|████████▎ | 3422/4144 [11:18<02:23,  5.02it/s]"
          ]
        },
        {
          "output_type": "stream",
          "name": "stdout",
          "text": [
            "❌ Error processing BajajFinservConsumptionGrowthDirectPlan_INF0QA701946.xlsx (Unknown): Insufficient NAV history (<3 years)\n",
            "❌ Error processing BajajFinservBankingPSUIDCWPayoutDirectPlan_INF0QA701615.xlsx (Unknown): Insufficient NAV history (<3 years)\n",
            "❌ Error processing BajajFinservGiltIDCWReinvestDirectPlan_INF0QA701AR5.xlsx (Unknown): Insufficient NAV history (<3 years)\n"
          ]
        },
        {
          "output_type": "stream",
          "name": "stderr",
          "text": [
            " 83%|████████▎ | 3435/4144 [11:19<01:00, 11.70it/s]"
          ]
        },
        {
          "output_type": "stream",
          "name": "stdout",
          "text": [
            "❌ Error processing AxisUSTreasuryDynamicBondETFFoFGrowthDirectPlan_INF846K017T9.xlsx (Unknown): Insufficient NAV history (<3 years)\n",
            "❌ Error processing BandhanBusinessCycleIDCWPayoutDirectPlan_INF194KB1IL7.xlsx (Unknown): Insufficient NAV history (<3 years)\n",
            "❌ Error processing BandhanLongDurationGrowthDirectPlan_INF194KB1HY2.xlsx (Unknown): Insufficient NAV history (<3 years)\n",
            "❌ Error processing BajajFinservLiquidMonthlyIDCWReinvestDirectPlan_INF0QA701052.xlsx (Unknown): Insufficient NAV history (<3 years)\n"
          ]
        },
        {
          "output_type": "stream",
          "name": "stderr",
          "text": [
            "\r 83%|████████▎ | 3437/4144 [11:20<01:05, 10.83it/s]"
          ]
        },
        {
          "output_type": "stream",
          "name": "stdout",
          "text": [
            "❌ Error processing BandhanLongDurationIDCWPayoutDirectPlan_INF194KB1HZ9.xlsx (Unknown): Insufficient NAV history (<3 years)\n"
          ]
        },
        {
          "output_type": "stream",
          "name": "stderr",
          "text": [
            " 83%|████████▎ | 3440/4144 [11:20<01:49,  6.44it/s]"
          ]
        },
        {
          "output_type": "stream",
          "name": "stdout",
          "text": [
            "❌ Error processing BajajFinservLargeMidCapIDCWReinvestDirectPlan_INF0QA701789.xlsx (Unknown): Insufficient NAV history (<3 years)\n",
            "❌ Error processing BajajFinservMultiAssetAllocationGrowthDirectPlan_INF0QA701821.xlsx (Unknown): Insufficient NAV history (<3 years)\n",
            "❌ Error processing BandhanInnovationGrowthDirectPlan_INF194KB1IE2.xlsx (Unknown): Insufficient NAV history (<3 years)\n"
          ]
        },
        {
          "output_type": "stream",
          "name": "stderr",
          "text": [
            "\r 83%|████████▎ | 3444/4144 [11:21<01:16,  9.10it/s]"
          ]
        },
        {
          "output_type": "stream",
          "name": "stdout",
          "text": [
            "❌ Error processing BajajFinservArbitrageIDCWReinvestDirectPlan_INF0QA701540.xlsx (Unknown): Insufficient NAV history (<3 years)\n"
          ]
        },
        {
          "output_type": "stream",
          "name": "stderr",
          "text": [
            " 83%|████████▎ | 3451/4144 [11:24<04:39,  2.48it/s]"
          ]
        },
        {
          "output_type": "stream",
          "name": "stdout",
          "text": [
            "❌ Error processing BajajFinservBankingPSUMonthlyIDCWReinvestDirectPlan_INF0QA701631.xlsx (Unknown): Insufficient NAV history (<3 years)\n",
            "❌ Error processing BajajFinservMultiAssetAllocationIDCWPayoutDirectPlan_INF0QA701839.xlsx (Unknown): Insufficient NAV history (<3 years)\n"
          ]
        },
        {
          "output_type": "stream",
          "name": "stderr",
          "text": [
            " 83%|████████▎ | 3456/4144 [11:25<02:22,  4.81it/s]"
          ]
        },
        {
          "output_type": "stream",
          "name": "stdout",
          "text": [
            "❌ Error processing BandhanCrisilIbxGiltApril2032IndexIDCWPayoutDirectPlan_INF194KB1FG3.xlsx (Unknown): Insufficient NAV history (<3 years)\n"
          ]
        },
        {
          "output_type": "stream",
          "name": "stderr",
          "text": [
            "\r 83%|████████▎ | 3459/4144 [11:25<01:47,  6.38it/s]"
          ]
        },
        {
          "output_type": "stream",
          "name": "stdout",
          "text": [
            "❌ Error processing BajajFinservOvernightMonthlyIDCWPayoutDirectPlan_INF0QA701243.xlsx (Unknown): Insufficient NAV history (<3 years)\n",
            "❌ Error processing BajajFinservMoneyMarketIDCWPayoutDirectPlan_INF0QA701391.xlsx (Unknown): Insufficient NAV history (<3 years)\n"
          ]
        },
        {
          "output_type": "stream",
          "name": "stderr",
          "text": [
            " 84%|████████▎ | 3461/4144 [11:25<01:59,  5.73it/s]"
          ]
        },
        {
          "output_type": "stream",
          "name": "stdout",
          "text": [
            "❌ Error processing BandhanCrisilIbx9010SDLPlusGiltNovember2026IndexGrowthDirectPlan_INF194KB1ET9.xlsx (Unknown): Insufficient NAV history (<3 years)\n",
            "❌ Error processing BajajFinservMoneyMarketMonthlyIDCWPayoutDirectPlan_INF0QA701433.xlsx (Unknown): Insufficient NAV history (<3 years)\n"
          ]
        },
        {
          "output_type": "stream",
          "name": "stderr",
          "text": [
            " 84%|████████▎ | 3466/4144 [11:26<01:31,  7.42it/s]"
          ]
        },
        {
          "output_type": "stream",
          "name": "stdout",
          "text": [
            "❌ Error processing BandhanInnovationIDCWPayoutDirectPlan_INF194KB1IF9.xlsx (Unknown): Insufficient NAV history (<3 years)\n"
          ]
        },
        {
          "output_type": "stream",
          "name": "stderr",
          "text": [
            " 84%|████████▍ | 3476/4144 [11:27<00:59, 11.15it/s]"
          ]
        },
        {
          "output_type": "stream",
          "name": "stdout",
          "text": [
            "❌ Error processing BajajFinservHealthcareIDCWPayoutDirectPlan_INF0QA701AC7.xlsx (Unknown): Insufficient NAV history (<3 years)\n",
            "❌ Error processing BandhanFinancialServicesGrowthDirectPlan_INF194KB1GB2.xlsx (Unknown): Insufficient NAV history (<3 years)\n",
            "❌ Error processing BajajFinservLargeCapIDCWPayoutDirectPlan_INF0QA701904.xlsx (Unknown): Insufficient NAV history (<3 years)\n",
            "❌ Error processing BajajFinservMoneyMarketIDCWReinvestDirectPlan_INF0QA701375.xlsx (Unknown): Insufficient NAV history (<3 years)\n"
          ]
        },
        {
          "output_type": "stream",
          "name": "stderr",
          "text": [
            "\r 84%|████████▍ | 3478/4144 [11:28<01:03, 10.41it/s]"
          ]
        },
        {
          "output_type": "stream",
          "name": "stdout",
          "text": [
            "❌ Error processing BajajFinservHealthcareIDCWReinvestDirectPlan_INF0QA701AD5.xlsx (Unknown): Insufficient NAV history (<3 years)\n"
          ]
        },
        {
          "output_type": "stream",
          "name": "stderr",
          "text": [
            "\r 84%|████████▍ | 3480/4144 [11:28<01:23,  7.91it/s]"
          ]
        },
        {
          "output_type": "stream",
          "name": "stdout",
          "text": [
            "❌ Error processing BajajFinservOvernightMonthlyIDCWReinvestDirectPlan_INF0QA701219.xlsx (Unknown): Insufficient NAV history (<3 years)\n"
          ]
        },
        {
          "output_type": "stream",
          "name": "stderr",
          "text": [
            " 84%|████████▍ | 3485/4144 [11:29<01:29,  7.35it/s]"
          ]
        },
        {
          "output_type": "stream",
          "name": "stdout",
          "text": [
            "❌ Error processing BajajFinservLiquidWeeklyIDCWReinvestDirectPlan_INF0QA701037.xlsx (Unknown): Insufficient NAV history (<3 years)\n"
          ]
        },
        {
          "output_type": "stream",
          "name": "stderr",
          "text": [
            " 84%|████████▍ | 3489/4144 [11:29<01:32,  7.12it/s]"
          ]
        },
        {
          "output_type": "stream",
          "name": "stdout",
          "text": [
            "❌ Error processing BajajFinservConsumptionIDCWReinvestDirectPlan_INF0QA701961.xlsx (Unknown): Insufficient NAV history (<3 years)\n"
          ]
        },
        {
          "output_type": "stream",
          "name": "stderr",
          "text": [
            "\r 84%|████████▍ | 3491/4144 [11:30<01:27,  7.50it/s]"
          ]
        },
        {
          "output_type": "stream",
          "name": "stdout",
          "text": [
            "❌ Error processing AxisUSTreasuryDynamicBondETFFoFIDCWPayoutDirectPlan_INF846K018T7.xlsx (Unknown): Insufficient NAV history (<3 years)\n"
          ]
        },
        {
          "output_type": "stream",
          "name": "stderr",
          "text": [
            " 84%|████████▍ | 3493/4144 [11:30<01:40,  6.46it/s]"
          ]
        },
        {
          "output_type": "stream",
          "name": "stdout",
          "text": [
            "❌ Error processing BajajFinservFlexiCapIDCWReinvestDirectPlan_INF0QA701367.xlsx (Unknown): Insufficient NAV history (<3 years)\n"
          ]
        },
        {
          "output_type": "stream",
          "name": "stderr",
          "text": [
            " 84%|████████▍ | 3496/4144 [11:30<01:38,  6.58it/s]"
          ]
        },
        {
          "output_type": "stream",
          "name": "stdout",
          "text": [
            "❌ Error processing BajajFinservArbitrageGrowthDirectPlan_INF0QA701524.xlsx (Unknown): Insufficient NAV history (<3 years)\n",
            "❌ Error processing BajajFinservOvernightFortnightlyIDCWReinvestDirectPlan_INF0QA701201.xlsx (Unknown): Insufficient NAV history (<3 years)\n"
          ]
        },
        {
          "output_type": "stream",
          "name": "stderr",
          "text": [
            " 84%|████████▍ | 3501/4144 [11:31<01:38,  6.55it/s]"
          ]
        },
        {
          "output_type": "stream",
          "name": "stdout",
          "text": [
            "❌ Error processing BajajFinservBankingPSUIDCWReinvestDirectPlan_INF0QA701623.xlsx (Unknown): Insufficient NAV history (<3 years)\n",
            "❌ Error processing BajajFinservLiquidMonthlyIDCWPayoutDirectPlan_INF0QA701086.xlsx (Unknown): Insufficient NAV history (<3 years)\n"
          ]
        },
        {
          "output_type": "stream",
          "name": "stderr",
          "text": [
            " 85%|████████▍ | 3506/4144 [11:32<01:10,  9.07it/s]"
          ]
        },
        {
          "output_type": "stream",
          "name": "stdout",
          "text": [
            "❌ Error processing BajajFinservBankingPSUGrowthDirectPlan_INF0QA701607.xlsx (Unknown): Insufficient NAV history (<3 years)\n",
            "❌ Error processing BajajFinservArbitrageIDCWPayoutDirectPlan_INF0QA701532.xlsx (Unknown): Insufficient NAV history (<3 years)\n"
          ]
        },
        {
          "output_type": "stream",
          "name": "stderr",
          "text": [
            "\r 85%|████████▍ | 3509/4144 [11:32<01:06,  9.56it/s]"
          ]
        },
        {
          "output_type": "stream",
          "name": "stdout",
          "text": [
            "❌ Error processing BajajFinservOvernightFortnightlyIDCWPayoutDirectPlan_INF0QA701235.xlsx (Unknown): Insufficient NAV history (<3 years)\n"
          ]
        },
        {
          "output_type": "stream",
          "name": "stderr",
          "text": [
            "\r 85%|████████▍ | 3512/4144 [11:32<00:57, 11.01it/s]"
          ]
        },
        {
          "output_type": "stream",
          "name": "stdout",
          "text": [
            "❌ Error processing BajajFinservGiltGrowthDirectPlan_INF0QA701AP9.xlsx (Unknown): Insufficient NAV history (<3 years)\n",
            "❌ Error processing BajajFinservMoneyMarketGrowthDirectPlan_INF0QA701334.xlsx (Unknown): Insufficient NAV history (<3 years)\n",
            "❌ Error processing BajajFinservLargeCapIDCWReinvestDirectPlan_INF0QA701912.xlsx (Unknown): Insufficient NAV history (<3 years)\n"
          ]
        },
        {
          "output_type": "stream",
          "name": "stderr",
          "text": [
            "\r 85%|████████▍ | 3514/4144 [11:32<00:59, 10.50it/s]"
          ]
        },
        {
          "output_type": "stream",
          "name": "stdout",
          "text": [
            "❌ Error processing BajajFinservFlexiCapIDCWPayoutDirectPlan_INF0QA701359.xlsx (Unknown): Insufficient NAV history (<3 years)\n"
          ]
        },
        {
          "output_type": "stream",
          "name": "stderr",
          "text": [
            "\r 85%|████████▍ | 3516/4144 [11:32<00:57, 10.86it/s]"
          ]
        },
        {
          "output_type": "stream",
          "name": "stdout",
          "text": [
            "❌ Error processing BandhanBusinessCycleGrowthDirectPlan_INF194KB1IQ6.xlsx (Unknown): Insufficient NAV history (<3 years)\n"
          ]
        },
        {
          "output_type": "stream",
          "name": "stderr",
          "text": [
            " 85%|████████▌ | 3523/4144 [11:33<01:08,  9.11it/s]"
          ]
        },
        {
          "output_type": "stream",
          "name": "stdout",
          "text": [
            "❌ Error processing BandhanCrisilIbx9010SDLPlusGiltSeptember2027IndexGrowthDirectPlan_INF194KB1EZ6.xlsx (Unknown): Insufficient NAV history (<3 years)\n",
            "❌ Error processing BandhanCrisilIbxGiltApril2032IndexGrowthDirectPlan_INF194KB1FF5.xlsx (Unknown): Insufficient NAV history (<3 years)\n"
          ]
        },
        {
          "output_type": "stream",
          "name": "stderr",
          "text": [
            "\r 85%|████████▌ | 3526/4144 [11:34<00:59, 10.40it/s]"
          ]
        },
        {
          "output_type": "stream",
          "name": "stdout",
          "text": [
            "❌ Error processing BajajFinservBalancedAdvantageIDCWPayoutDirectPlan_INF0QA701664.xlsx (Unknown): Insufficient NAV history (<3 years)\n",
            "❌ Error processing BandhanNifty200Momentum30IndexGrowthDirectPlan_INF194KB1DP9.xlsx (Unknown): Insufficient NAV history (<3 years)\n"
          ]
        },
        {
          "output_type": "stream",
          "name": "stderr",
          "text": [
            " 85%|████████▌ | 3539/4144 [11:38<01:57,  5.13it/s]"
          ]
        },
        {
          "output_type": "stream",
          "name": "stdout",
          "text": [
            "❌ Error processing BandhanTransportationLogisticsIDCWPayoutDirectPlan_INF194KB1EC5.xlsx (Unknown): Insufficient NAV history (<3 years)\n"
          ]
        },
        {
          "output_type": "stream",
          "name": "stderr",
          "text": [
            " 86%|████████▌ | 3549/4144 [11:40<01:21,  7.30it/s]"
          ]
        },
        {
          "output_type": "stream",
          "name": "stdout",
          "text": [
            "❌ Error processing BandhanNifty200Momentum30IndexIDCWPayoutDirectPlan_INF194KB1DQ7.xlsx (Unknown): Insufficient NAV history (<3 years)\n"
          ]
        },
        {
          "output_type": "stream",
          "name": "stderr",
          "text": [
            " 86%|████████▌ | 3553/4144 [11:40<01:12,  8.20it/s]"
          ]
        },
        {
          "output_type": "stream",
          "name": "stdout",
          "text": [
            "❌ Error processing BandhanNiftySmallcap250IndexGrowthDirectPlan_INF194KB1HG9.xlsx (Unknown): Insufficient NAV history (<3 years)\n",
            "❌ Error processing BankOfIndiaMultiAssetAllocationGrowthDirectPlan_INF761K01FZ3.xlsx (Unknown): Insufficient NAV history (<3 years)\n"
          ]
        },
        {
          "output_type": "stream",
          "name": "stderr",
          "text": [
            " 86%|████████▌ | 3560/4144 [11:41<01:15,  7.70it/s]"
          ]
        },
        {
          "output_type": "stream",
          "name": "stdout",
          "text": [
            "❌ Error processing BandhanTransportationLogisticsGrowthDirectPlan_INF194KB1EB7.xlsx (Unknown): Insufficient NAV history (<3 years)\n",
            "❌ Error processing BandhanRetirementIDCWPayoutDirectPlan_INF194KB1GV0.xlsx (Unknown): Insufficient NAV history (<3 years)\n"
          ]
        },
        {
          "output_type": "stream",
          "name": "stderr",
          "text": [
            "\r 86%|████████▌ | 3563/4144 [11:42<00:58,  9.91it/s]"
          ]
        },
        {
          "output_type": "stream",
          "name": "stdout",
          "text": [
            "❌ Error processing BandhanNifty100LowVolatility30IndexIDCWPayoutDirectPlan_INF194KB1DW5.xlsx (Unknown): Insufficient NAV history (<3 years)\n"
          ]
        },
        {
          "output_type": "stream",
          "name": "stderr",
          "text": [
            " 86%|████████▌ | 3568/4144 [11:42<01:04,  8.90it/s]"
          ]
        },
        {
          "output_type": "stream",
          "name": "stdout",
          "text": [
            "❌ Error processing BarodaBNPParibasDynamicBondPlnHalfYrlyIDCWPayoutDirectPlan_INF251K01HD8.xlsx (Unknown): Insufficient NAV history (<3 years)\n"
          ]
        },
        {
          "output_type": "stream",
          "name": "stderr",
          "text": [
            " 86%|████████▋ | 3579/4144 [11:44<01:13,  7.72it/s]"
          ]
        },
        {
          "output_type": "stream",
          "name": "stdout",
          "text": [
            "❌ Error processing BandhanMultiAssetAllocationIDCWPayoutDirectPlan_INF194KB1HN5.xlsx (Unknown): Insufficient NAV history (<3 years)\n",
            "❌ Error processing BandhanMidcapIDCWPayoutDirectPlan_INF194KB1DK0.xlsx (Unknown): Insufficient NAV history (<3 years)\n"
          ]
        },
        {
          "output_type": "stream",
          "name": "stderr",
          "text": [
            " 87%|████████▋ | 3588/4144 [11:45<01:02,  8.94it/s]"
          ]
        },
        {
          "output_type": "stream",
          "name": "stdout",
          "text": [
            "❌ Error processing BandhanNiftyBankIndexGrowthDirectPlan_INF194KB1IO1.xlsx (Unknown): Insufficient NAV history (<3 years)\n",
            "❌ Error processing BankOfIndiaMultiAssetAllocationIDCWReinvestDirectPlan_INF761K01GB2.xlsx (Unknown): Insufficient NAV history (<3 years)\n"
          ]
        },
        {
          "output_type": "stream",
          "name": "stderr",
          "text": [
            " 87%|████████▋ | 3592/4144 [11:46<01:01,  9.04it/s]"
          ]
        },
        {
          "output_type": "stream",
          "name": "stdout",
          "text": [
            "❌ Error processing BarodaBNPParibasDynamicBondPlnHalfYrlyIDCWReinvestDirectPlan_INF251K01HE6.xlsx (Unknown): Insufficient NAV history (<3 years)\n"
          ]
        },
        {
          "output_type": "stream",
          "name": "stderr",
          "text": [
            " 87%|████████▋ | 3597/4144 [11:46<01:09,  7.83it/s]"
          ]
        },
        {
          "output_type": "stream",
          "name": "stdout",
          "text": [
            "❌ Error processing BandhanRetirementGrowthDirectPlan_INF194KB1GU2.xlsx (Unknown): Insufficient NAV history (<3 years)\n"
          ]
        },
        {
          "output_type": "stream",
          "name": "stderr",
          "text": [
            "\r 87%|████████▋ | 3599/4144 [11:47<01:05,  8.29it/s]"
          ]
        },
        {
          "output_type": "stream",
          "name": "stdout",
          "text": [
            "❌ Error processing BarodaBNPParibasFlexiCapIDCWReinvestDirectPlan_INF251K01RB1.xlsx (Unknown): Insufficient NAV history (<3 years)\n"
          ]
        },
        {
          "output_type": "stream",
          "name": "stderr",
          "text": [
            " 87%|████████▋ | 3602/4144 [11:47<01:08,  7.86it/s]"
          ]
        },
        {
          "output_type": "stream",
          "name": "stdout",
          "text": [
            "❌ Error processing BankOfIndiaBusinessCycleGrowthDirectPlan_INF761K01GF3.xlsx (Unknown): Insufficient NAV history (<3 years)\n"
          ]
        },
        {
          "output_type": "stream",
          "name": "stderr",
          "text": [
            " 87%|████████▋ | 3606/4144 [11:47<00:56,  9.44it/s]"
          ]
        },
        {
          "output_type": "stream",
          "name": "stdout",
          "text": [
            "❌ Error processing BarodaBNPParibasDividendYieldIDCWReinvestDirectPlan_INF251K01TX1.xlsx (Unknown): Insufficient NAV history (<3 years)\n"
          ]
        },
        {
          "output_type": "stream",
          "name": "stderr",
          "text": [
            " 87%|████████▋ | 3617/4144 [11:52<01:27,  6.05it/s]"
          ]
        },
        {
          "output_type": "stream",
          "name": "stdout",
          "text": [
            "❌ Error processing BankOfIndiaMulticapGrowthDirectPlan_INF761K01FR0.xlsx (Unknown): Insufficient NAV history (<3 years)\n",
            "❌ Error processing BarodaBNPParibasDividendYieldIDCWPayoutDirectPlan_INF251K01TW3.xlsx (Unknown): Insufficient NAV history (<3 years)\n"
          ]
        },
        {
          "output_type": "stream",
          "name": "stderr",
          "text": [
            " 87%|████████▋ | 3622/4144 [11:52<00:57,  9.11it/s]"
          ]
        },
        {
          "output_type": "stream",
          "name": "stdout",
          "text": [
            "❌ Error processing BankOfIndiaConsumptionGrowthDirectPlan_INF761K01GI7.xlsx (Unknown): Insufficient NAV history (<3 years)\n"
          ]
        },
        {
          "output_type": "stream",
          "name": "stderr",
          "text": [
            " 88%|████████▊ | 3634/4144 [11:54<01:10,  7.21it/s]"
          ]
        },
        {
          "output_type": "stream",
          "name": "stdout",
          "text": [
            "❌ Error processing BankOfIndiaBusinessCycleIDCWPayoutDirectPlan_INF761K01GG1.xlsx (Unknown): Insufficient NAV history (<3 years)\n",
            "❌ Error processing BandhanNiftyAlpha50IndexIDCWPayoutDirectPlan_INF194KB1HB0.xlsx (Unknown): Insufficient NAV history (<3 years)\n"
          ]
        },
        {
          "output_type": "stream",
          "name": "stderr",
          "text": [
            " 88%|████████▊ | 3644/4144 [11:56<00:56,  8.81it/s]"
          ]
        },
        {
          "output_type": "stream",
          "name": "stdout",
          "text": [
            "❌ Error processing BandhanNiftyMidcap150IndexGrowthDirectPlan_INF194KB1IT0.xlsx (Unknown): Insufficient NAV history (<3 years)\n"
          ]
        },
        {
          "output_type": "stream",
          "name": "stderr",
          "text": [
            " 88%|████████▊ | 3648/4144 [11:56<00:54,  9.08it/s]"
          ]
        },
        {
          "output_type": "stream",
          "name": "stdout",
          "text": [
            "❌ Error processing BandhanNiftyTotalMarketIndexGrowthDirectPlan_INF194KB1IK9.xlsx (Unknown): Insufficient NAV history (<3 years)\n"
          ]
        },
        {
          "output_type": "stream",
          "name": "stderr",
          "text": [
            " 88%|████████▊ | 3650/4144 [11:56<01:03,  7.79it/s]"
          ]
        },
        {
          "output_type": "stream",
          "name": "stdout",
          "text": [
            "❌ Error processing BandhanNifty100LowVolatility30IndexGrowthDirectPlan_INF194KB1DV7.xlsx (Unknown): Insufficient NAV history (<3 years)\n"
          ]
        },
        {
          "output_type": "stream",
          "name": "stderr",
          "text": [
            " 88%|████████▊ | 3662/4144 [11:58<01:00,  7.97it/s]"
          ]
        },
        {
          "output_type": "stream",
          "name": "stdout",
          "text": [
            "❌ Error processing BankOfIndiaMulticapIDCWReinvestDirectPlan_INF761K01FS8.xlsx (Unknown): Insufficient NAV history (<3 years)\n"
          ]
        },
        {
          "output_type": "stream",
          "name": "stderr",
          "text": [
            "\r 88%|████████▊ | 3663/4144 [11:58<01:04,  7.50it/s]"
          ]
        },
        {
          "output_type": "stream",
          "name": "stdout",
          "text": [
            "❌ Error processing BandhanNiftyAlphaLowVolatility30IndexGrowthDirectPlan_INF194KB1JC4.xlsx (Unknown): Insufficient NAV history (<3 years)\n",
            "❌ Error processing BandhanNifty500Momentum50IndexGrowthDirectPlan_INF194KB1IY0.xlsx (Unknown): Insufficient NAV history (<3 years)\n",
            "❌ Error processing BankOfIndiaConsumptionIDCWReinvestDirectPlan_INF761K01GK3.xlsx (Unknown): Insufficient NAV history (<3 years)\n"
          ]
        },
        {
          "output_type": "stream",
          "name": "stderr",
          "text": [
            " 89%|████████▊ | 3669/4144 [11:59<00:45, 10.49it/s]"
          ]
        },
        {
          "output_type": "stream",
          "name": "stdout",
          "text": [
            "❌ Error processing BandhanNiftySmallcap250IndexIDCWPayoutDirectPlan_INF194KB1HH7.xlsx (Unknown): Insufficient NAV history (<3 years)\n"
          ]
        },
        {
          "output_type": "stream",
          "name": "stderr",
          "text": [
            " 89%|████████▊ | 3673/4144 [12:00<01:01,  7.70it/s]"
          ]
        },
        {
          "output_type": "stream",
          "name": "stdout",
          "text": [
            "❌ Error processing BandhanNifty500Value50IndexGrowthDirectPlan_INF194KB1IW4.xlsx (Unknown): Insufficient NAV history (<3 years)\n"
          ]
        },
        {
          "output_type": "stream",
          "name": "stderr",
          "text": [
            " 89%|████████▊ | 3676/4144 [12:00<00:52,  8.85it/s]"
          ]
        },
        {
          "output_type": "stream",
          "name": "stdout",
          "text": [
            "❌ Error processing BankOfIndiaMultiAssetAllocationIDCWPayoutDirectPlan_INF761K01GA4.xlsx (Unknown): Insufficient NAV history (<3 years)\n"
          ]
        },
        {
          "output_type": "stream",
          "name": "stderr",
          "text": [
            " 89%|████████▉ | 3679/4144 [12:00<00:48,  9.57it/s]"
          ]
        },
        {
          "output_type": "stream",
          "name": "stdout",
          "text": [
            "❌ Error processing BankOfIndiaBusinessCycleIDCWReinvestDirectPlan_INF761K01GH9.xlsx (Unknown): Insufficient NAV history (<3 years)\n",
            "❌ Error processing BandhanNifty200Quality30IndexGrowthDirectPlan_INF194KB1JA8.xlsx (Unknown): Insufficient NAV history (<3 years)\n"
          ]
        },
        {
          "output_type": "stream",
          "name": "stderr",
          "text": [
            " 89%|████████▉ | 3692/4144 [12:05<02:17,  3.28it/s]"
          ]
        },
        {
          "output_type": "stream",
          "name": "stdout",
          "text": [
            "❌ Error processing BankOfIndiaMulticapIDCWPayoutDirectPlan_INF761K01FQ2.xlsx (Unknown): Insufficient NAV history (<3 years)\n",
            "❌ Error processing BarodaBNPParibasChildrensGrowthDirectPlan_INF251K01UE9.xlsx (Unknown): Insufficient NAV history (<3 years)\n",
            "❌ Error processing BarodaBNPParibasFlexiCapGrowthDirectPlan_INF251K01QZ2.xlsx (Unknown): Insufficient NAV history (<3 years)\n"
          ]
        },
        {
          "output_type": "stream",
          "name": "stderr",
          "text": [
            " 89%|████████▉ | 3698/4144 [12:05<01:07,  6.62it/s]"
          ]
        },
        {
          "output_type": "stream",
          "name": "stdout",
          "text": [
            "❌ Error processing BarodaBNPParibasDividendYieldGrowthDirectPlan_INF251K01TV5.xlsx (Unknown): Insufficient NAV history (<3 years)\n",
            "❌ Error processing BandhanNiftyAlpha50IndexGrowthDirectPlan_INF194KB1HA2.xlsx (Unknown): Insufficient NAV history (<3 years)\n"
          ]
        },
        {
          "output_type": "stream",
          "name": "stderr",
          "text": [
            " 89%|████████▉ | 3706/4144 [12:06<00:43, 10.07it/s]"
          ]
        },
        {
          "output_type": "stream",
          "name": "stdout",
          "text": [
            "❌ Error processing BandhanNiftyITIndexIDCWPayoutDirectPlan_INF194KB1GL1.xlsx (Unknown): Insufficient NAV history (<3 years)\n",
            "❌ Error processing BandhanMultiAssetAllocationGrowthDirectPlan_INF194KB1HM7.xlsx (Unknown): Insufficient NAV history (<3 years)\n",
            "❌ Error processing BandhanNiftyITIndexGrowthDirectPlan_INF194KB1GK3.xlsx (Unknown): Insufficient NAV history (<3 years)\n",
            "❌ Error processing BankOfIndiaConsumptionIDCWPayoutDirectPlan_INF761K01GJ5.xlsx (Unknown): Insufficient NAV history (<3 years)\n"
          ]
        },
        {
          "output_type": "stream",
          "name": "stderr",
          "text": [
            "\r 89%|████████▉ | 3708/4144 [12:06<00:42, 10.27it/s]"
          ]
        },
        {
          "output_type": "stream",
          "name": "stdout",
          "text": [
            "❌ Error processing BarodaBNPParibasFlexiCapIDCWPayoutDirectPlan_INF251K01RA3.xlsx (Unknown): Insufficient NAV history (<3 years)\n"
          ]
        },
        {
          "output_type": "stream",
          "name": "stderr",
          "text": [
            " 90%|████████▉ | 3717/4144 [12:07<00:46,  9.15it/s]"
          ]
        },
        {
          "output_type": "stream",
          "name": "stdout",
          "text": [
            "❌ Error processing BandhanMidcapGrowthDirectPlan_INF194KB1DJ2.xlsx (Unknown): Insufficient NAV history (<3 years)\n",
            "❌ Error processing DSPBankingFinancialServicesGrowthDirectPlan_INF740KA1TQ3.xlsx (Unknown): Insufficient NAV history (<3 years)\n",
            "❌ Error processing BarodaBNPParibasManufacturingIDCWReinvestDirectPlan_INF251K01TR3.xlsx (Unknown): Insufficient NAV history (<3 years)\n"
          ]
        },
        {
          "output_type": "stream",
          "name": "stderr",
          "text": [
            " 90%|████████▉ | 3726/4144 [12:09<01:17,  5.40it/s]"
          ]
        },
        {
          "output_type": "stream",
          "name": "stdout",
          "text": [
            "❌ Error processing BarodaBNPParibasNifty50IndexIDCWReinvestDirectPlan_INF251K01TA9.xlsx (Unknown): Insufficient NAV history (<3 years)\n",
            "❌ Error processing BarodaBNPParibasSmallCapIDCWPayoutDirectPlan_INF251K01SS3.xlsx (Unknown): Insufficient NAV history (<3 years)\n"
          ]
        },
        {
          "output_type": "stream",
          "name": "stderr",
          "text": [
            " 90%|█████████ | 3732/4144 [12:10<01:20,  5.12it/s]"
          ]
        },
        {
          "output_type": "stream",
          "name": "stdout",
          "text": [
            "❌ Error processing BarodaBNPParibasSmallCapGrowthDirectPlan_INF251K01SR5.xlsx (Unknown): Insufficient NAV history (<3 years)\n"
          ]
        },
        {
          "output_type": "stream",
          "name": "stderr",
          "text": [
            " 90%|█████████ | 3736/4144 [12:10<00:56,  7.17it/s]"
          ]
        },
        {
          "output_type": "stream",
          "name": "stdout",
          "text": [
            "❌ Error processing BharatBondETFFoFApril2033IDCWPayoutDirectPlan_INF754K01RD0.xlsx (Unknown): Insufficient NAV history (<3 years)\n"
          ]
        },
        {
          "output_type": "stream",
          "name": "stderr",
          "text": [
            " 90%|█████████ | 3743/4144 [12:12<01:01,  6.47it/s]"
          ]
        },
        {
          "output_type": "stream",
          "name": "stdout",
          "text": [
            "❌ Error processing CanaraRobecoManufacturingIDCWPayoutDirectPlan_INF760K01KY8.xlsx (Unknown): Insufficient NAV history (<3 years)\n",
            "❌ Error processing BarodaBNPParibasRetirementIDCWPayoutDirectPlan_INF251K01TK8.xlsx (Unknown): Insufficient NAV history (<3 years)\n"
          ]
        },
        {
          "output_type": "stream",
          "name": "stderr",
          "text": [
            " 91%|█████████ | 3756/4144 [12:13<00:48,  7.97it/s]"
          ]
        },
        {
          "output_type": "stream",
          "name": "stdout",
          "text": [
            "❌ Error processing CanaraRobecoManufacturingGrowthDirectPlan_INF760K01KZ5.xlsx (Unknown): Insufficient NAV history (<3 years)\n"
          ]
        },
        {
          "output_type": "stream",
          "name": "stderr",
          "text": [
            "\r 91%|█████████ | 3757/4144 [12:14<00:57,  6.71it/s]"
          ]
        },
        {
          "output_type": "stream",
          "name": "stdout",
          "text": [
            "❌ Error processing BarodaBNPParibasValueIDCWPayoutDirectPlan_INF251K01SE3.xlsx (Unknown): Insufficient NAV history (<3 years)\n"
          ]
        },
        {
          "output_type": "stream",
          "name": "stderr",
          "text": [
            "\r 91%|█████████ | 3759/4144 [12:14<01:03,  6.11it/s]"
          ]
        },
        {
          "output_type": "stream",
          "name": "stdout",
          "text": [
            "❌ Error processing BarodaBNPParibasMultiAssetIDCWReinvestDirectPlan_INF251K01RH8.xlsx (Unknown): Insufficient NAV history (<3 years)\n",
            "❌ Error processing CanaraRobecoMidCapGrowthDirectPlan_INF760K01KI1.xlsx (Unknown): Insufficient NAV history (<3 years)\n"
          ]
        },
        {
          "output_type": "stream",
          "name": "stderr",
          "text": [
            " 91%|█████████ | 3763/4144 [12:16<02:06,  3.00it/s]"
          ]
        },
        {
          "output_type": "stream",
          "name": "stdout",
          "text": [
            "❌ Error processing BarodaBNPParibasMultiAssetIDCWPayoutDirectPlan_INF251K01RG0.xlsx (Unknown): Insufficient NAV history (<3 years)\n"
          ]
        },
        {
          "output_type": "stream",
          "name": "stderr",
          "text": [
            " 91%|█████████ | 3768/4144 [12:18<02:12,  2.84it/s]"
          ]
        },
        {
          "output_type": "stream",
          "name": "stdout",
          "text": [
            "❌ Error processing BarodaBNPParibasValueGrowthDirectPlan_INF251K01SD5.xlsx (Unknown): Insufficient NAV history (<3 years)\n"
          ]
        },
        {
          "output_type": "stream",
          "name": "stderr",
          "text": [
            " 91%|█████████ | 3771/4144 [12:18<01:37,  3.81it/s]"
          ]
        },
        {
          "output_type": "stream",
          "name": "stdout",
          "text": [
            "❌ Error processing CanaraRobecoBankingPSUDebtIDCWReinvestDirectPlan_INF760K01KD2.xlsx (Unknown): Insufficient NAV history (<3 years)\n"
          ]
        },
        {
          "output_type": "stream",
          "name": "stderr",
          "text": [
            " 91%|█████████ | 3775/4144 [12:19<01:09,  5.29it/s]"
          ]
        },
        {
          "output_type": "stream",
          "name": "stdout",
          "text": [
            "❌ Error processing CanaraRobecoMidCapIDCWPayoutDirectPlan_INF760K01KK7.xlsx (Unknown): Insufficient NAV history (<3 years)\n"
          ]
        },
        {
          "output_type": "stream",
          "name": "stderr",
          "text": [
            " 91%|█████████▏| 3784/4144 [12:21<01:20,  4.45it/s]"
          ]
        },
        {
          "output_type": "stream",
          "name": "stdout",
          "text": [
            "❌ Error processing BarodaBNPParibasInnovationIDCWReinvestDirectPlan_INF251K01TG6.xlsx (Unknown): Insufficient NAV history (<3 years)\n"
          ]
        },
        {
          "output_type": "stream",
          "name": "stderr",
          "text": [
            " 91%|█████████▏| 3788/4144 [12:22<01:05,  5.45it/s]"
          ]
        },
        {
          "output_type": "stream",
          "name": "stdout",
          "text": [
            "❌ Error processing CanaraRobecoBalancedAdvantageIDCWReinvestDirectPlan_INF760K01LF5.xlsx (Unknown): Insufficient NAV history (<3 years)\n"
          ]
        },
        {
          "output_type": "stream",
          "name": "stderr",
          "text": [
            " 92%|█████████▏| 3792/4144 [12:22<00:52,  6.71it/s]"
          ]
        },
        {
          "output_type": "stream",
          "name": "stdout",
          "text": [
            "❌ Error processing BarodaBNPParibasNiftySDLDecember2028IndexGrowthDirectPlan_INF251K01RR7.xlsx (Unknown): Insufficient NAV history (<3 years)\n"
          ]
        },
        {
          "output_type": "stream",
          "name": "stderr",
          "text": [
            " 92%|█████████▏| 3794/4144 [12:22<00:49,  7.04it/s]"
          ]
        },
        {
          "output_type": "stream",
          "name": "stdout",
          "text": [
            "❌ Error processing BarodaBNPParibasMultiAssetGrowthDirectPlan_INF251K01RF2.xlsx (Unknown): Insufficient NAV history (<3 years)\n",
            "❌ Error processing DSPBankingFinancialServicesIDCWPayoutDirectPlan_INF740KA1TR1.xlsx (Unknown): Insufficient NAV history (<3 years)\n"
          ]
        },
        {
          "output_type": "stream",
          "name": "stderr",
          "text": [
            " 92%|█████████▏| 3806/4144 [12:24<00:45,  7.49it/s]"
          ]
        },
        {
          "output_type": "stream",
          "name": "stdout",
          "text": [
            "❌ Error processing BarodaBNPParibasInnovationIDCWPayoutDirectPlan_INF251K01TF8.xlsx (Unknown): Insufficient NAV history (<3 years)\n"
          ]
        },
        {
          "output_type": "stream",
          "name": "stderr",
          "text": [
            " 92%|█████████▏| 3810/4144 [12:25<00:47,  7.05it/s]"
          ]
        },
        {
          "output_type": "stream",
          "name": "stdout",
          "text": [
            "❌ Error processing CanaraRobecoMultiCapIDCWPayoutDirectPlan_INF760K01KQ4.xlsx (Unknown): Insufficient NAV history (<3 years)\n"
          ]
        },
        {
          "output_type": "stream",
          "name": "stderr",
          "text": [
            "\r 92%|█████████▏| 3812/4144 [12:25<00:44,  7.49it/s]"
          ]
        },
        {
          "output_type": "stream",
          "name": "stdout",
          "text": [
            "❌ Error processing CanaraRobecoMultiCapGrowthDirectPlan_INF760K01KO9.xlsx (Unknown): Insufficient NAV history (<3 years)\n",
            "❌ Error processing BarodaBNPParibasSmallCapIDCWReinvestDirectPlan_INF251K01ST1.xlsx (Unknown): Insufficient NAV history (<3 years)\n",
            "❌ Error processing BarodaBNPParibasInnovationGrowthDirectPlan_INF251K01TE1.xlsx (Unknown): Insufficient NAV history (<3 years)\n"
          ]
        },
        {
          "output_type": "stream",
          "name": "stderr",
          "text": [
            " 92%|█████████▏| 3821/4144 [12:26<00:49,  6.51it/s]"
          ]
        },
        {
          "output_type": "stream",
          "name": "stdout",
          "text": [
            "❌ Error processing CanaraRobecoMidCapIDCWReinvestDirectPlan_INF760K01KJ9.xlsx (Unknown): Insufficient NAV history (<3 years)\n",
            "❌ Error processing BarodaBNPParibasNiftyMidcap150IndexGrowthDirectPlan_INF251K01UA7.xlsx (Unknown): Insufficient NAV history (<3 years)\n",
            "❌ Error processing CanaraRobecoBalancedAdvantageIDCWPayoutDirectPlan_INF760K01LE8.xlsx (Unknown): Insufficient NAV history (<3 years)\n"
          ]
        },
        {
          "output_type": "stream",
          "name": "stderr",
          "text": [
            " 92%|█████████▏| 3827/4144 [12:27<00:29, 10.58it/s]"
          ]
        },
        {
          "output_type": "stream",
          "name": "stdout",
          "text": [
            "❌ Error processing CanaraRobecoManufacturingIDCWReinvestDirectPlan_INF760K01KX0.xlsx (Unknown): Insufficient NAV history (<3 years)\n",
            "❌ Error processing BharatBondETFFoFApril2033GrowthDirectPlan_INF754K01RC2.xlsx (Unknown): Insufficient NAV history (<3 years)\n"
          ]
        },
        {
          "output_type": "stream",
          "name": "stderr",
          "text": [
            " 93%|█████████▎| 3836/4144 [12:31<02:48,  1.83it/s]"
          ]
        },
        {
          "output_type": "stream",
          "name": "stdout",
          "text": [
            "❌ Error processing BarodaBNPParibasManufacturingIDCWPayoutDirectPlan_INF251K01TQ5.xlsx (Unknown): Insufficient NAV history (<3 years)\n"
          ]
        },
        {
          "output_type": "stream",
          "name": "stderr",
          "text": [
            " 93%|█████████▎| 3844/4144 [12:32<00:54,  5.47it/s]"
          ]
        },
        {
          "output_type": "stream",
          "name": "stdout",
          "text": [
            "❌ Error processing CanaraRobecoBankingPSUDebtIDCWPayoutDirectPlan_INF760K01KE0.xlsx (Unknown): Insufficient NAV history (<3 years)\n"
          ]
        },
        {
          "output_type": "stream",
          "name": "stderr",
          "text": [
            " 93%|█████████▎| 3847/4144 [12:33<00:49,  6.03it/s]"
          ]
        },
        {
          "output_type": "stream",
          "name": "stdout",
          "text": [
            "❌ Error processing BarodaBNPParibasNiftySDLDecember2026IndexIDCWPayoutDirectPlan_INF251K01RM8.xlsx (Unknown): Insufficient NAV history (<3 years)\n"
          ]
        },
        {
          "output_type": "stream",
          "name": "stderr",
          "text": [
            " 93%|█████████▎| 3852/4144 [12:33<00:42,  6.87it/s]"
          ]
        },
        {
          "output_type": "stream",
          "name": "stdout",
          "text": [
            "❌ Error processing CanaraRobecoBalancedAdvantageGrowthDirectPlan_INF760K01LD0.xlsx (Unknown): Insufficient NAV history (<3 years)\n"
          ]
        },
        {
          "output_type": "stream",
          "name": "stderr",
          "text": [
            " 93%|█████████▎| 3857/4144 [12:34<00:24, 11.53it/s]"
          ]
        },
        {
          "output_type": "stream",
          "name": "stdout",
          "text": [
            "❌ Error processing BarodaBNPParibasRetirementGrowthDirectPlan_INF251K01TJ0.xlsx (Unknown): Insufficient NAV history (<3 years)\n",
            "❌ Error processing CanaraRobecoMultiCapIDCWReinvestDirectPlan_INF760K01KP6.xlsx (Unknown): Insufficient NAV history (<3 years)\n",
            "❌ Error processing BarodaBNPParibasNifty200Momentum30IndexGrowthDirectPlan_INF251K01TY9.xlsx (Unknown): Insufficient NAV history (<3 years)\n",
            "❌ Error processing BarodaBNPParibasNiftySDLDecember2026IndexGrowthDirectPlan_INF251K01RL0.xlsx (Unknown): Insufficient NAV history (<3 years)\n"
          ]
        },
        {
          "output_type": "stream",
          "name": "stderr",
          "text": [
            " 93%|█████████▎| 3861/4144 [12:35<00:43,  6.48it/s]"
          ]
        },
        {
          "output_type": "stream",
          "name": "stdout",
          "text": [
            "❌ Error processing BarodaBNPParibasValueIDCWReinvestDirectPlan_INF251K01SF0.xlsx (Unknown): Insufficient NAV history (<3 years)\n",
            "❌ Error processing BarodaBNPParibasNiftySDLDecember2028IndexIDCWPayoutDirectPlan_INF251K01RS5.xlsx (Unknown): Insufficient NAV history (<3 years)\n"
          ]
        },
        {
          "output_type": "stream",
          "name": "stderr",
          "text": [
            " 93%|█████████▎| 3871/4144 [12:36<00:36,  7.41it/s]"
          ]
        },
        {
          "output_type": "stream",
          "name": "stdout",
          "text": [
            "❌ Error processing CanaraRobecoBankingPSUDebtGrowthDirectPlan_INF760K01KC4.xlsx (Unknown): Insufficient NAV history (<3 years)\n"
          ]
        },
        {
          "output_type": "stream",
          "name": "stderr",
          "text": [
            " 94%|█████████▎| 3878/4144 [12:37<00:39,  6.66it/s]"
          ]
        },
        {
          "output_type": "stream",
          "name": "stdout",
          "text": [
            "❌ Error processing BarodaBNPParibasNifty50IndexIDCWPayoutDirectPlan_INF251K01SZ8.xlsx (Unknown): Insufficient NAV history (<3 years)\n"
          ]
        },
        {
          "output_type": "stream",
          "name": "stderr",
          "text": [
            " 94%|█████████▍| 3887/4144 [12:39<00:43,  5.91it/s]"
          ]
        },
        {
          "output_type": "stream",
          "name": "stdout",
          "text": [
            "❌ Error processing BarodaBNPParibasNifty50IndexGrowthDirectPlan_INF251K01SY1.xlsx (Unknown): Insufficient NAV history (<3 years)\n"
          ]
        },
        {
          "output_type": "stream",
          "name": "stderr",
          "text": [
            " 94%|█████████▍| 3892/4144 [12:40<00:41,  6.11it/s]"
          ]
        },
        {
          "output_type": "stream",
          "name": "stdout",
          "text": [
            "❌ Error processing BarodaBNPParibasManufacturingGrowthDirectPlan_INF251K01TP7.xlsx (Unknown): Insufficient NAV history (<3 years)\n",
            "❌ Error processing BharatBondETFFoFApril2033IDCWReinvestDirectPlan_INF754K01RE8.xlsx (Unknown): Insufficient NAV history (<3 years)\n"
          ]
        },
        {
          "output_type": "stream",
          "name": "stderr",
          "text": [
            " 94%|█████████▍| 3909/4144 [12:45<01:12,  3.26it/s]"
          ]
        },
        {
          "output_type": "stream",
          "name": "stdout",
          "text": [
            "❌ Error processing DSPNiftyTop10EqualWeightIndexGrowthDirectPlan_INF740KA1UQ1.xlsx (Unknown): Insufficient NAV history (<3 years)\n"
          ]
        },
        {
          "output_type": "stream",
          "name": "stderr",
          "text": [
            " 95%|█████████▍| 3918/4144 [12:46<00:33,  6.69it/s]"
          ]
        },
        {
          "output_type": "stream",
          "name": "stdout",
          "text": [
            "❌ Error processing EdelweissBusinessCycleIDCWReinvestDirectPlan_INF754K01TC8.xlsx (Unknown): Insufficient NAV history (<3 years)\n",
            "❌ Error processing DSPNiftyMidcap150Quality50IndexGrowthDirectPlan_INF740KA1RB9.xlsx (Unknown): Insufficient NAV history (<3 years)\n"
          ]
        },
        {
          "output_type": "stream",
          "name": "stderr",
          "text": [
            " 95%|█████████▍| 3921/4144 [12:47<00:34,  6.49it/s]"
          ]
        },
        {
          "output_type": "stream",
          "name": "stdout",
          "text": [
            "❌ Error processing EdelweissGoldSilverETFFoFGrowthDirectPlan_INF754K01OX5.xlsx (Unknown): Insufficient NAV history (<3 years)\n",
            "❌ Error processing EdelweissCrisilIbx5050GiltPlusSDLShortDurationIndexGrowthDirectPlan_INF754K01RK5.xlsx (Unknown): Insufficient NAV history (<3 years)\n"
          ]
        },
        {
          "output_type": "stream",
          "name": "stderr",
          "text": [
            " 95%|█████████▍| 3936/4144 [12:50<00:39,  5.23it/s]"
          ]
        },
        {
          "output_type": "stream",
          "name": "stdout",
          "text": [
            "❌ Error processing EdelweissFocusedGrowthDirectPlan_INF754K01OP1.xlsx (Unknown): Insufficient NAV history (<3 years)\n"
          ]
        },
        {
          "output_type": "stream",
          "name": "stderr",
          "text": [
            " 95%|█████████▌| 3943/4144 [12:51<00:35,  5.68it/s]"
          ]
        },
        {
          "output_type": "stream",
          "name": "stdout",
          "text": [
            "❌ Error processing EdelweissCrisilIbx5050GiltPlusSDLApril2037IndexGrowthDirectPlan_INF754K01PF9.xlsx (Unknown): Insufficient NAV history (<3 years)\n"
          ]
        },
        {
          "output_type": "stream",
          "name": "stderr",
          "text": [
            "\r 95%|█████████▌| 3945/4144 [12:51<00:29,  6.86it/s]"
          ]
        },
        {
          "output_type": "stream",
          "name": "stdout",
          "text": [
            "❌ Error processing DSPNiftySDLPlusGSecSep20275050IndexGrowthDirectPlan_INF740KA1SH4.xlsx (Unknown): Insufficient NAV history (<3 years)\n"
          ]
        },
        {
          "output_type": "stream",
          "name": "stderr",
          "text": [
            " 95%|█████████▌| 3948/4144 [12:51<00:26,  7.41it/s]"
          ]
        },
        {
          "output_type": "stream",
          "name": "stdout",
          "text": [
            "❌ Error processing EdelweissCrisilIbx5050GiltPlusSDLSep2028IndexIDCWPayoutDirectPlan_INF754K01PW4.xlsx (Unknown): Insufficient NAV history (<3 years)\n"
          ]
        },
        {
          "output_type": "stream",
          "name": "stderr",
          "text": [
            " 95%|█████████▌| 3951/4144 [12:52<00:26,  7.35it/s]"
          ]
        },
        {
          "output_type": "stream",
          "name": "stdout",
          "text": [
            "❌ Error processing DSPBusinessCycleIDCWPayoutDirectPlan_INF740KA1UV1.xlsx (Unknown): Insufficient NAV history (<3 years)\n"
          ]
        },
        {
          "output_type": "stream",
          "name": "stderr",
          "text": [
            "\r 95%|█████████▌| 3953/4144 [12:52<00:22,  8.45it/s]"
          ]
        },
        {
          "output_type": "stream",
          "name": "stdout",
          "text": [
            "❌ Error processing EdelweissCrisilIbxAaaFinancialServicesBondJan2028IndexGrowthDirectPlan_INF754K01TP0.xlsx (Unknown): Insufficient NAV history (<3 years)\n"
          ]
        },
        {
          "output_type": "stream",
          "name": "stderr",
          "text": [
            " 96%|█████████▌| 3964/4144 [12:54<00:28,  6.39it/s]"
          ]
        },
        {
          "output_type": "stream",
          "name": "stdout",
          "text": [
            "❌ Error processing EdelweissCrisilIbxAaaFinancialServicesBondJan2028IndexIDCWReinvestDirectPlan_INF754K01TR6.xlsx (Unknown): Insufficient NAV history (<3 years)\n"
          ]
        },
        {
          "output_type": "stream",
          "name": "stderr",
          "text": [
            " 96%|█████████▌| 3969/4144 [12:57<01:29,  1.96it/s]"
          ]
        },
        {
          "output_type": "stream",
          "name": "stdout",
          "text": [
            "❌ Error processing EdelweissCrisilIbx5050GiltPlusSDLJun2027IndexIDCWReinvestDirectPlan_INF754K01PP8.xlsx (Unknown): Insufficient NAV history (<3 years)\n"
          ]
        },
        {
          "output_type": "stream",
          "name": "stderr",
          "text": [
            " 96%|█████████▌| 3972/4144 [12:58<01:23,  2.06it/s]"
          ]
        },
        {
          "output_type": "stream",
          "name": "stdout",
          "text": [
            "❌ Error processing DSPUSTreasuryFoFGrowthDirectPlan_INF740KA1UJ6.xlsx (Unknown): Insufficient NAV history (<3 years)\n"
          ]
        },
        {
          "output_type": "stream",
          "name": "stderr",
          "text": [
            " 96%|█████████▌| 3977/4144 [12:58<00:37,  4.42it/s]"
          ]
        },
        {
          "output_type": "stream",
          "name": "stdout",
          "text": [
            "❌ Error processing DSPMultiAssetAllocationIDCWPayoutDirectPlan_INF740KA1TF6.xlsx (Unknown): Insufficient NAV history (<3 years)\n"
          ]
        },
        {
          "output_type": "stream",
          "name": "stderr",
          "text": [
            " 96%|█████████▌| 3983/4144 [12:59<00:25,  6.44it/s]"
          ]
        },
        {
          "output_type": "stream",
          "name": "stdout",
          "text": [
            "❌ Error processing EdelweissCrisilIbx5050GiltPlusSDLShortDurationIndexIDCWPayoutDirectPlan_INF754K01RL3.xlsx (Unknown): Insufficient NAV history (<3 years)\n"
          ]
        },
        {
          "output_type": "stream",
          "name": "stderr",
          "text": [
            " 96%|█████████▌| 3986/4144 [13:00<00:20,  7.57it/s]"
          ]
        },
        {
          "output_type": "stream",
          "name": "stdout",
          "text": [
            "❌ Error processing EdelweissFocusedIDCWReinvestDirectPlan_INF754K01OR7.xlsx (Unknown): Insufficient NAV history (<3 years)\n"
          ]
        },
        {
          "output_type": "stream",
          "name": "stderr",
          "text": [
            "\r 96%|█████████▌| 3987/4144 [13:00<00:21,  7.28it/s]"
          ]
        },
        {
          "output_type": "stream",
          "name": "stdout",
          "text": [
            "❌ Error processing DSPNiftyMidcap150Quality50IndexIDCWPayoutDirectPlan_INF740KA1RC7.xlsx (Unknown): Insufficient NAV history (<3 years)\n",
            "❌ Error processing EdelweissFocusedIDCWPayoutDirectPlan_INF754K01OQ9.xlsx (Unknown): Insufficient NAV history (<3 years)\n"
          ]
        },
        {
          "output_type": "stream",
          "name": "stderr",
          "text": [
            " 96%|█████████▋| 3996/4144 [13:01<00:21,  6.94it/s]"
          ]
        },
        {
          "output_type": "stream",
          "name": "stdout",
          "text": [
            "❌ Error processing EdelweissCrisilIbx5050GiltPlusSDLShortDurationIndexIDCWReinvestDirectPlan_INF754K01RM1.xlsx (Unknown): Insufficient NAV history (<3 years)\n",
            "❌ Error processing DSPGoldETFFoFGrowthDirectPlan_INF740KA1TK6.xlsx (Unknown): Insufficient NAV history (<3 years)\n"
          ]
        },
        {
          "output_type": "stream",
          "name": "stderr",
          "text": [
            " 97%|█████████▋| 4005/4144 [13:03<00:21,  6.46it/s]"
          ]
        },
        {
          "output_type": "stream",
          "name": "stdout",
          "text": [
            "❌ Error processing 360OneFlexicapIDCWPayoutDirectPlan_INF579M01AT9.xlsx (Unknown): Insufficient NAV history (<3 years)\n"
          ]
        },
        {
          "output_type": "stream",
          "name": "stderr",
          "text": [
            " 97%|█████████▋| 4008/4144 [13:03<00:25,  5.40it/s]"
          ]
        },
        {
          "output_type": "stream",
          "name": "stdout",
          "text": [
            "❌ Error processing AdityaBirlaSunLifeCrisilIbxGiltJune2027IndexIDCWPayoutDirectPlan_INF209KC1084.xlsx (Unknown): Insufficient NAV history (<3 years)\n",
            "❌ Error processing 360OneFlexicapGrowthDirectPlan_INF579M01AS1.xlsx (Unknown): Insufficient NAV history (<3 years)\n"
          ]
        },
        {
          "output_type": "stream",
          "name": "stderr",
          "text": [
            " 97%|█████████▋| 4016/4144 [13:04<00:17,  7.21it/s]"
          ]
        },
        {
          "output_type": "stream",
          "name": "stdout",
          "text": [
            "❌ Error processing AdityaBirlaSunLifeCrisilIbxFinancialServices3To6MonthsDebtIndexIDCWPayoutDirectPlan_INF209KC1464.xlsx (Unknown): Insufficient NAV history (<3 years)\n"
          ]
        },
        {
          "output_type": "stream",
          "name": "stderr",
          "text": [
            "\r 97%|█████████▋| 4017/4144 [13:05<00:19,  6.62it/s]"
          ]
        },
        {
          "output_type": "stream",
          "name": "stdout",
          "text": [
            "❌ Error processing AdityaBirlaSunLifeCrisilIbxSDLJun2032IndexGrowthDirectPlan_INF209KB14S0.xlsx (Unknown): Insufficient NAV history (<3 years)\n"
          ]
        },
        {
          "output_type": "stream",
          "name": "stderr",
          "text": [
            " 97%|█████████▋| 4021/4144 [13:05<00:17,  6.85it/s]"
          ]
        },
        {
          "output_type": "stream",
          "name": "stdout",
          "text": [
            "❌ Error processing AdityaBirlaSunLifeCrisilIbx5050GiltPlusSDLApr2028IndexIDCWPayoutDirectPlan_INF209KB15N8.xlsx (Unknown): Insufficient NAV history (<3 years)\n"
          ]
        },
        {
          "output_type": "stream",
          "name": "stderr",
          "text": [
            "\r 97%|█████████▋| 4022/4144 [13:05<00:18,  6.71it/s]"
          ]
        },
        {
          "output_type": "stream",
          "name": "stdout",
          "text": [
            "❌ Error processing AdityaBirlaSunLifeCrisilIbxAaaNbfcHfcIndexDec2025IDCWPayoutDirectPlan_INF209KC1266.xlsx (Unknown): Insufficient NAV history (<3 years)\n",
            "❌ Error processing AdityaBirlaSunLifeCrisilIbx6040SDLAaaPSUApr2026IndexIDCWPayoutDirectPlan_INF209KB11P2.xlsx (Unknown): Insufficient NAV history (<3 years)\n"
          ]
        },
        {
          "output_type": "stream",
          "name": "stderr",
          "text": [
            " 97%|█████████▋| 4028/4144 [13:06<00:11,  9.98it/s]"
          ]
        },
        {
          "output_type": "stream",
          "name": "stdout",
          "text": [
            "❌ Error processing AdityaBirlaSunLifeCrisilIbxGiltApr2029IndexGrowthDirectPlan_INF209KB12O3.xlsx (Unknown): Insufficient NAV history (<3 years)\n",
            "❌ Error processing 360OneELSSTaxSaverNifty50IndexGrowthDirectPlan_INF579M01AN2.xlsx (Unknown): Insufficient NAV history (<3 years)\n"
          ]
        },
        {
          "output_type": "stream",
          "name": "stderr",
          "text": [
            "\r 97%|█████████▋| 4029/4144 [13:06<00:12,  8.97it/s]"
          ]
        },
        {
          "output_type": "stream",
          "name": "stdout",
          "text": [
            "❌ Error processing AdityaBirlaSunLifeBSEIndiaInfrastructureIndexGrowthDirectPlan_INF209KC1332.xlsx (Unknown): Insufficient NAV history (<3 years)\n",
            "❌ Error processing AdityaBirlaSunLifeCrisilIbxSDLJun2032IndexIDCWPayoutDirectPlan_INF209KB15S7.xlsx (Unknown): Insufficient NAV history (<3 years)\n"
          ]
        },
        {
          "output_type": "stream",
          "name": "stderr",
          "text": [
            "\r 97%|█████████▋| 4032/4144 [13:06<00:11,  9.73it/s]"
          ]
        },
        {
          "output_type": "stream",
          "name": "stdout",
          "text": [
            "❌ Error processing 360OneFlexicapIDCWReinvestDirectPlan_INF579M01AU7.xlsx (Unknown): Insufficient NAV history (<3 years)\n"
          ]
        },
        {
          "output_type": "stream",
          "name": "stderr",
          "text": [
            " 97%|█████████▋| 4040/4144 [13:07<00:08, 11.96it/s]"
          ]
        },
        {
          "output_type": "stream",
          "name": "stdout",
          "text": [
            "❌ Error processing 360OneELSSTaxSaverNifty50IndexIDCWPayoutDirectPlan_INF579M01AO0.xlsx (Unknown): Insufficient NAV history (<3 years)\n",
            "❌ Error processing 360OneBalancedHybridIDCWPayoutDirectPlan_INF579M01AZ6.xlsx (Unknown): Insufficient NAV history (<3 years)\n",
            "❌ Error processing 360OneBalancedHybridGrowthDirectPlan_INF579M01AY9.xlsx (Unknown): Insufficient NAV history (<3 years)\n",
            "❌ Error processing AdityaBirlaSunLifeCrisilIbxGiltJune2027IndexGrowthDirectPlan_INF209KC1076.xlsx (Unknown): Insufficient NAV history (<3 years)\n"
          ]
        },
        {
          "output_type": "stream",
          "name": "stderr",
          "text": [
            " 98%|█████████▊| 4054/4144 [13:12<00:20,  4.42it/s]"
          ]
        },
        {
          "output_type": "stream",
          "name": "stdout",
          "text": [
            "❌ Error processing AdityaBirlaSunLifeCrisilIbx5050GiltPlusSDLApr2028IndexGrowthDirectPlan_INF209KB14N1.xlsx (Unknown): Insufficient NAV history (<3 years)\n"
          ]
        },
        {
          "output_type": "stream",
          "name": "stderr",
          "text": [
            " 98%|█████████▊| 4064/4144 [13:14<00:11,  7.24it/s]"
          ]
        },
        {
          "output_type": "stream",
          "name": "stdout",
          "text": [
            "❌ Error processing AdityaBirlaSunLifeConglomerateGrowthDirectPlan_INF209KC1373.xlsx (Unknown): Insufficient NAV history (<3 years)\n",
            "❌ Error processing AdityaBirlaSunLifeBSEIndiaInfrastructureIndexIDCWPayoutDirectPlan_INF209KC1340.xlsx (Unknown): Insufficient NAV history (<3 years)\n"
          ]
        },
        {
          "output_type": "stream",
          "name": "stderr",
          "text": [
            " 98%|█████████▊| 4071/4144 [13:15<00:06, 10.68it/s]"
          ]
        },
        {
          "output_type": "stream",
          "name": "stdout",
          "text": [
            "❌ Error processing ABSLCrisilIbxAaaNbfcHfcIndexSep2026IDCWPayoutDirectPlan_INF209KC1225.xlsx (Unknown): Insufficient NAV history (<3 years)\n",
            "❌ Error processing AdityaBirlaSunLifeCrisilIbxGiltApr2029IndexIDCWPayoutDirectPlan_INF209KB13O1.xlsx (Unknown): Insufficient NAV history (<3 years)\n",
            "❌ Error processing AdityaBirlaSunLifeCrisilIbxGiltApr2028IndexGrowthDirectPlan_INF209KB11U2.xlsx (Unknown): Insufficient NAV history (<3 years)\n",
            "❌ Error processing ABSLCrisilIbxAaaNbfcHfcIndexSep2026GrowthDirectPlan_INF209KC1217.xlsx (Unknown): Insufficient NAV history (<3 years)\n",
            "❌ Error processing AdityaBirlaSunLifeCrisilIbxAaaNbfcHfcIndexDec2025GrowthDirectPlan_INF209KC1258.xlsx (Unknown): Insufficient NAV history (<3 years)\n"
          ]
        },
        {
          "output_type": "stream",
          "name": "stderr",
          "text": [
            " 98%|█████████▊| 4078/4144 [13:15<00:08,  7.75it/s]"
          ]
        },
        {
          "output_type": "stream",
          "name": "stdout",
          "text": [
            "❌ Error processing AdityaBirlaSunLifeCrisilIbxGiltApril2026IndexGrowthDirectPlan_INF209KB10N9.xlsx (Unknown): Insufficient NAV history (<3 years)\n",
            "❌ Error processing AdityaBirlaSunLifeCrisilIbxAaaFinancialServicesIndexSep2027GrowthDirectPlan_INF209KC1290.xlsx (Unknown): Insufficient NAV history (<3 years)\n"
          ]
        },
        {
          "output_type": "stream",
          "name": "stderr",
          "text": [
            " 99%|█████████▊| 4086/4144 [13:17<00:07,  7.26it/s]"
          ]
        },
        {
          "output_type": "stream",
          "name": "stdout",
          "text": [
            "❌ Error processing AdityaBirlaSunLifeCrisilIbxGiltApril2033IndexGrowthDirectPlan_INF209KB19Y7.xlsx (Unknown): Insufficient NAV history (<3 years)\n"
          ]
        },
        {
          "output_type": "stream",
          "name": "stderr",
          "text": [
            " 99%|█████████▊| 4089/4144 [13:17<00:07,  7.45it/s]"
          ]
        },
        {
          "output_type": "stream",
          "name": "stdout",
          "text": [
            "❌ Error processing AdityaBirlaSunLifeCrisilIbxFinancialServices3To6MonthsDebtIndexGrowthDirectPlan_INF209KC1456.xlsx (Unknown): Insufficient NAV history (<3 years)\n",
            "❌ Error processing AdityaBirlaSunLifeCrisilIbxAaaFinancialServicesIndexSep2027IDCWPayoutDirectPlan_INF209KC1308.xlsx (Unknown): Insufficient NAV history (<3 years)\n",
            "❌ Error processing 360OneBalancedHybridIDCWReinvestDirectPlan_INF579M01BA7.xlsx (Unknown): Insufficient NAV history (<3 years)\n"
          ]
        },
        {
          "output_type": "stream",
          "name": "stderr",
          "text": [
            " 99%|█████████▉| 4094/4144 [13:17<00:05,  9.76it/s]"
          ]
        },
        {
          "output_type": "stream",
          "name": "stdout",
          "text": [
            "❌ Error processing AdityaBirlaSunLifeConglomerateIDCWPayoutDirectPlan_INF209KC1381.xlsx (Unknown): Insufficient NAV history (<3 years)\n",
            "❌ Error processing AdityaBirlaSunLifeCrisilIbx6040SDLAaaPSUApr2026IndexGrowthDirectPlan_INF209KB10P4.xlsx (Unknown): Insufficient NAV history (<3 years)\n"
          ]
        },
        {
          "output_type": "stream",
          "name": "stderr",
          "text": [
            " 99%|█████████▉| 4099/4144 [13:18<00:05,  7.74it/s]"
          ]
        },
        {
          "output_type": "stream",
          "name": "stdout",
          "text": [
            "❌ Error processing AdityaBirlaSunLifeCrisilIbxGiltApr2028IndexIDCWPayoutDirectPlan_INF209KB12U0.xlsx (Unknown): Insufficient NAV history (<3 years)\n"
          ]
        },
        {
          "output_type": "stream",
          "name": "stderr",
          "text": [
            "\r 99%|█████████▉| 4101/4144 [13:18<00:05,  7.86it/s]"
          ]
        },
        {
          "output_type": "stream",
          "name": "stdout",
          "text": [
            "❌ Error processing AdityaBirlaSunLifeCrisilIbxGiltApril2026IndexIDCWPayoutDirectPlan_INF209KB11N7.xlsx (Unknown): Insufficient NAV history (<3 years)\n"
          ]
        },
        {
          "output_type": "stream",
          "name": "stderr",
          "text": [
            "\r 99%|█████████▉| 4102/4144 [13:19<00:05,  7.10it/s]"
          ]
        },
        {
          "output_type": "stream",
          "name": "stdout",
          "text": [
            "❌ Error processing AdityaBirlaSunLifeCrisilIbxGiltApril2033IndexIDCWPayoutDirectPlan_INF209KB10Z3.xlsx (Unknown): Insufficient NAV history (<3 years)\n"
          ]
        },
        {
          "output_type": "stream",
          "name": "stderr",
          "text": [
            " 99%|█████████▉| 4110/4144 [13:20<00:04,  7.00it/s]"
          ]
        },
        {
          "output_type": "stream",
          "name": "stdout",
          "text": [
            "❌ Error processing AxisCrisilIbx5050GiltPlusSDLSeptember2027IndexIDCWReinvestDirectPlan_INF846K014O7.xlsx (Unknown): Insufficient NAV history (<3 years)\n"
          ]
        },
        {
          "output_type": "stream",
          "name": "stderr",
          "text": [
            " 99%|█████████▉| 4114/4144 [13:20<00:03,  8.50it/s]"
          ]
        },
        {
          "output_type": "stream",
          "name": "stdout",
          "text": [
            "❌ Error processing AdityaBirlaSunLifeMultiAssetAllocationGrowthDirectPlan_INF209KB15R9.xlsx (Unknown): Insufficient NAV history (<3 years)\n",
            "❌ Error processing AdityaBirlaSunLifeNiftySDLSep2027IndexIDCWPayoutDirectPlan_INF209KB17T1.xlsx (Unknown): Insufficient NAV history (<3 years)\n"
          ]
        },
        {
          "output_type": "stream",
          "name": "stderr",
          "text": [
            " 99%|█████████▉| 4118/4144 [13:21<00:03,  7.28it/s]"
          ]
        },
        {
          "output_type": "stream",
          "name": "stdout",
          "text": [
            "❌ Error processing AxisCrisilIbx5050GiltPlusSDLJune2028IndexIDCWPayoutDirectPlan_INF846K011N5.xlsx (Unknown): Insufficient NAV history (<3 years)\n"
          ]
        },
        {
          "output_type": "stream",
          "name": "stderr",
          "text": [
            "100%|█████████▉| 4129/4144 [13:25<00:03,  4.97it/s]"
          ]
        },
        {
          "output_type": "stream",
          "name": "stdout",
          "text": [
            "❌ Error processing AdityaBirlaSunLifeNiftyIndiaDefenceIndexIDCWPayoutDirectPlan_INF209KC1191.xlsx (Unknown): Insufficient NAV history (<3 years)\n"
          ]
        },
        {
          "output_type": "stream",
          "name": "stderr",
          "text": [
            "100%|█████████▉| 4137/4144 [13:27<00:01,  5.45it/s]"
          ]
        },
        {
          "output_type": "stream",
          "name": "stdout",
          "text": [
            "❌ Error processing AxisCrisilIbxAaaBondNbfcJun2027GrowthDirectPlan_INF846K017X1.xlsx (Unknown): Insufficient NAV history (<3 years)\n"
          ]
        },
        {
          "output_type": "stream",
          "name": "stderr",
          "text": [
            "100%|██████████| 4144/4144 [13:28<00:00,  5.13it/s]\n"
          ]
        },
        {
          "output_type": "stream",
          "name": "stdout",
          "text": [
            "❌ Error processing AdityaBirlaSunLifeUSTreasury310YearBondETFsFoFGrowthDirectPlan_INF209KB12X4.xlsx (Unknown): Insufficient NAV history (<3 years)\n",
            "\n",
            "✅ Done! 3104 funds processed and filtered. Results saved to: mutual_fund_predictions_filtered.csv\n"
          ]
        }
      ],
      "source": [
        "import os\n",
        "import pandas as pd\n",
        "import numpy as np\n",
        "#import numpy_financial as npf\n",
        "from tqdm import tqdm\n",
        "from xgboost import XGBRegressor\n",
        "from sklearn.metrics import mean_squared_error\n",
        "\n",
        "import scipy.optimize\n",
        "\n",
        "def my_xirr(values, dates):\n",
        "    \"\"\"\n",
        "    A manual implementation of XIRR to bypass library issues.\n",
        "    \"\"\"\n",
        "    if not all(isinstance(d, pd.Timestamp) for d in dates):\n",
        "        dates = [pd.to_datetime(d) for d in dates]\n",
        "\n",
        "    if len(values) != len(dates):\n",
        "        raise ValueError(\"values and dates must have the same length\")\n",
        "\n",
        "    if abs(sum(values)) < 1e-6:\n",
        "        return 0.0\n",
        "\n",
        "    # Find the time difference in years from the first date\n",
        "    years = np.array([(d - dates[0]).days / 365.0 for d in dates])\n",
        "\n",
        "    # Net Present Value (NPV) function\n",
        "    def npv(rate):\n",
        "        return np.sum(values / ((1 + rate) ** years))\n",
        "\n",
        "    try:\n",
        "        # Use a numerical solver to find the rate where NPV is zero\n",
        "        return scipy.optimize.newton(npv, 0.1) # 0.1 is an initial guess\n",
        "    except RuntimeError:\n",
        "        # If the solver fails to converge, try another guess\n",
        "        try:\n",
        "            return scipy.optimize.newton(npv, -0.1)\n",
        "        except RuntimeError:\n",
        "            return 0.0 # Return 0 if it still fails\n",
        "\n",
        "# === CONFIG ===\n",
        "FOLDER_PATH = \"/content/drive/MyDrive/Mutual Funds Data/Output folder\"\n",
        "OUTPUT_CSV = \"mutual_fund_predictions_filtered.csv\" # Changed output filename\n",
        "MIN_YEARS_REQUIRED = 3\n",
        "MIN_OBS = 252 * MIN_YEARS_REQUIRED\n",
        "\n",
        "# === Result collector\n",
        "results = []\n",
        "\n",
        "# === Loop through all files\n",
        "for file in tqdm(os.listdir(FOLDER_PATH)):\n",
        "    if not file.endswith(\".xlsx\"):\n",
        "        continue\n",
        "\n",
        "    fund_name = 'Unknown'\n",
        "    try:\n",
        "        path = os.path.join(FOLDER_PATH, file)\n",
        "\n",
        "        # === Read NAV\n",
        "        nav_df = pd.read_excel(path, sheet_name=\"NAV\")\n",
        "        nav_df.columns = [col.strip().lower() for col in nav_df.columns]\n",
        "\n",
        "        if not any(\"date\" in col for col in nav_df.columns) or not any(\"nav\" in col for col in nav_df.columns):\n",
        "            raise ValueError(\"Required 'Date' or 'NAV' column not found\")\n",
        "\n",
        "        nav_df.rename(columns={col: 'Date' for col in nav_df.columns if 'date' in col}, inplace=True)\n",
        "        nav_df.rename(columns={col: 'NAV' for col in nav_df.columns if 'nav' in col}, inplace=True)\n",
        "\n",
        "        nav_df.dropna(subset=['Date', 'NAV'], inplace=True)\n",
        "        nav_df['Date'] = pd.to_datetime(nav_df['Date'])\n",
        "        nav_df.sort_values('Date', inplace=True)\n",
        "        nav_df.drop_duplicates(subset='Date', keep='first', inplace=True)\n",
        "\n",
        "        if nav_df.shape[0] < MIN_OBS:\n",
        "            raise ValueError(f\"Insufficient NAV history (<{MIN_YEARS_REQUIRED} years)\")\n",
        "\n",
        "        # === Feature Engineering\n",
        "        nav_df['Return_1w'] = nav_df['NAV'].pct_change(5)\n",
        "        nav_df['Return_1m'] = nav_df['NAV'].pct_change(21)\n",
        "        nav_df['Return_6m'] = nav_df['NAV'].pct_change(126)\n",
        "        nav_df['Volatility_21d'] = nav_df['NAV'].rolling(21).std()\n",
        "        nav_df.dropna(inplace=True)\n",
        "\n",
        "        # === Read Metadata\n",
        "        meta_df = pd.read_excel(path, sheet_name='Metadata')\n",
        "        non_numeric_metadata_df = meta_df.select_dtypes(exclude=[np.number])\n",
        "        numeric_metadata_df = meta_df.select_dtypes(include=[np.number])\n",
        "\n",
        "        if non_numeric_metadata_df.empty or numeric_metadata_df.empty:\n",
        "            raise ValueError(\"Metadata missing numeric/non-numeric rows\")\n",
        "\n",
        "        non_numeric_metadata = non_numeric_metadata_df.iloc[0].to_dict()\n",
        "        fund_name = non_numeric_metadata.get('fund_name', 'Unknown')\n",
        "        isin = non_numeric_metadata.get('isin', 'NA')\n",
        "        category = non_numeric_metadata.get('category', 'NA')\n",
        "        fund_category = non_numeric_metadata.get('fund_category', 'NA')\n",
        "        amc = non_numeric_metadata.get('amc', 'NA')\n",
        "\n",
        "        # === Prepare Model Input\n",
        "        feature_cols = ['Return_1w', 'Return_1m', 'Return_6m', 'Volatility_21d']\n",
        "        X = nav_df[feature_cols]\n",
        "        y = nav_df['NAV']\n",
        "\n",
        "        model = XGBRegressor(n_estimators=100, learning_rate=0.1, max_depth=3)\n",
        "        model.fit(X, y)\n",
        "        preds = model.predict(X)\n",
        "        rmse = np.sqrt(mean_squared_error(y, preds))\n",
        "        rmse_percent = (rmse / y.mean()) * 100\n",
        "\n",
        "        # === Calculate years of NAV data\n",
        "        total_days = (nav_df['Date'].iloc[-1] - nav_df['Date'].iloc[0]).days\n",
        "        years_of_data = round(total_days / 365.25, 2)\n",
        "\n",
        "        # === Lump-Sum CAGR\n",
        "        cagr_start_date = nav_df['Date'].iloc[-1] - pd.DateOffset(years=MIN_YEARS_REQUIRED)\n",
        "        cagr_df = nav_df[nav_df['Date'] >= cagr_start_date]\n",
        "\n",
        "        if len(cagr_df) < 2:\n",
        "            raise ValueError(f\"Not enough data for {MIN_YEARS_REQUIRED}-year CAGR\")\n",
        "\n",
        "        initial_nav = cagr_df['NAV'].iloc[0]\n",
        "        final_nav = cagr_df['NAV'].iloc[-1]\n",
        "        cagr = ((final_nav / initial_nav) ** (1 / MIN_YEARS_REQUIRED)) - 1\n",
        "\n",
        "        # === SIP CAGR (using XIRR)\n",
        "        sip_cagr = np.nan\n",
        "        sip_start_date = nav_df['Date'].iloc[-1] - pd.DateOffset(years=MIN_YEARS_REQUIRED)\n",
        "        monthly_investments = nav_df[nav_df['Date'] >= sip_start_date].set_index('Date').resample('MS').first().dropna()\n",
        "\n",
        "        if not monthly_investments.empty:\n",
        "            amount_per_month = 1000\n",
        "            dates = monthly_investments.index.to_list()\n",
        "            cash_flows = [-amount_per_month] * len(dates)\n",
        "\n",
        "            units_purchased = amount_per_month / monthly_investments['NAV']\n",
        "            final_value = units_purchased.sum() * final_nav\n",
        "\n",
        "            dates.append(cagr_df['Date'].iloc[-1])\n",
        "            cash_flows.append(final_value)\n",
        "\n",
        "            try:\n",
        "                sip_cagr = my_xirr(cash_flows, dates)\n",
        "            except Exception as e:\n",
        "                print(f\"      - XIRR calculation failed for {fund_name}: {e}\")\n",
        "                sip_cagr = 0.0\n",
        "\n",
        "        # === Calculate Annualized Volatility & Risk\n",
        "        daily_returns = nav_df['NAV'].pct_change()\n",
        "        annualized_volatility = daily_returns.std() * np.sqrt(252) * 100\n",
        "        if annualized_volatility < 15:\n",
        "            risk_band = \"Low\"\n",
        "        elif annualized_volatility < 25:\n",
        "            risk_band = \"Medium\"\n",
        "        else:\n",
        "            risk_band = \"High\"\n",
        "\n",
        "        # ==========================================================\n",
        "        # === NEW: FILTER OUT EXTREME VALUES BEFORE APPENDING\n",
        "        # ==========================================================\n",
        "        # Note: We check the raw decimal value (e.g., 0.5 for 50%)\n",
        "\n",
        "        # Condition 1: Skip if Lump-Sum CAGR is > 50%\n",
        "        if cagr > 0.50:\n",
        "            print(f\"⚠️ Skipping '{fund_name}' due to high CAGR (>50%): {round(cagr * 100, 2)}%\")\n",
        "            continue # This skips adding the fund to results and moves to the next file\n",
        "\n",
        "        # Condition 2: Skip if SIP CAGR is > 40%\n",
        "        if not np.isnan(sip_cagr) and sip_cagr > 0.40:\n",
        "            print(f\"⚠️ Skipping '{fund_name}' due to high SIP CAGR (>40%): {round(sip_cagr * 100, 2)}%\")\n",
        "            continue # This skips adding the fund to results and moves to the next file\n",
        "\n",
        "        # === Append Result (only if the fund passes the checks above)\n",
        "        results.append({\n",
        "            'file': file,\n",
        "            'isin': isin,\n",
        "            'fund_name': fund_name,\n",
        "            'amc': amc,\n",
        "            'category': category,\n",
        "            'fund_category': fund_category,\n",
        "            'years_of_prediction': years_of_data,\n",
        "            'rmse': round(rmse, 4),\n",
        "            'rmse_percent': round(rmse_percent, 2),\n",
        "            'cagr': round(cagr * 100, 2),\n",
        "            'sip_cagr': round(sip_cagr * 100, 2) if not np.isnan(sip_cagr) else np.nan,\n",
        "            'annualized_volatility': round(annualized_volatility, 2),\n",
        "            'risk_band': risk_band,\n",
        "        })\n",
        "\n",
        "    except Exception as e:\n",
        "        print(f\"❌ Error processing {file} ({fund_name}): {e}\")\n",
        "        continue\n",
        "\n",
        "# === Save\n",
        "pd.DataFrame(results).to_csv(OUTPUT_CSV, index=False)\n",
        "print(f\"\\n✅ Done! {len(results)} funds processed and filtered. Results saved to: {OUTPUT_CSV}\")"
      ]
    }
  ],
  "metadata": {
    "accelerator": "GPU",
    "colab": {
      "gpuType": "T4",
      "provenance": []
    },
    "kernelspec": {
      "display_name": "Python 3",
      "name": "python3"
    },
    "language_info": {
      "name": "python"
    },
    "widgets": {
      "application/vnd.jupyter.widget-state+json": {
        "1ae797306733401896a7112176fd963d": {
          "model_module": "@jupyter-widgets/base",
          "model_module_version": "1.2.0",
          "model_name": "LayoutModel",
          "state": {
            "_model_module": "@jupyter-widgets/base",
            "_model_module_version": "1.2.0",
            "_model_name": "LayoutModel",
            "_view_count": null,
            "_view_module": "@jupyter-widgets/base",
            "_view_module_version": "1.2.0",
            "_view_name": "LayoutView",
            "align_content": null,
            "align_items": null,
            "align_self": null,
            "border": null,
            "bottom": null,
            "display": null,
            "flex": null,
            "flex_flow": null,
            "grid_area": null,
            "grid_auto_columns": null,
            "grid_auto_flow": null,
            "grid_auto_rows": null,
            "grid_column": null,
            "grid_gap": null,
            "grid_row": null,
            "grid_template_areas": null,
            "grid_template_columns": null,
            "grid_template_rows": null,
            "height": null,
            "justify_content": null,
            "justify_items": null,
            "left": null,
            "margin": null,
            "max_height": null,
            "max_width": null,
            "min_height": null,
            "min_width": null,
            "object_fit": null,
            "object_position": null,
            "order": null,
            "overflow": null,
            "overflow_x": null,
            "overflow_y": null,
            "padding": null,
            "right": null,
            "top": null,
            "visibility": null,
            "width": null
          }
        },
        "1eb8bdade59e46fbbfbb6447cf46352b": {
          "model_module": "@jupyter-widgets/controls",
          "model_module_version": "1.5.0",
          "model_name": "FloatProgressModel",
          "state": {
            "_dom_classes": [],
            "_model_module": "@jupyter-widgets/controls",
            "_model_module_version": "1.5.0",
            "_model_name": "FloatProgressModel",
            "_view_count": null,
            "_view_module": "@jupyter-widgets/controls",
            "_view_module_version": "1.5.0",
            "_view_name": "ProgressView",
            "bar_style": "",
            "description": "",
            "description_tooltip": null,
            "layout": "IPY_MODEL_1ae797306733401896a7112176fd963d",
            "max": 2092,
            "min": 0,
            "orientation": "horizontal",
            "style": "IPY_MODEL_459351162a3d4f64adec80ed0c477e61",
            "value": 592
          }
        },
        "2013b9cdfab14344a181b62acaa8d144": {
          "model_module": "@jupyter-widgets/controls",
          "model_module_version": "1.5.0",
          "model_name": "HTMLModel",
          "state": {
            "_dom_classes": [],
            "_model_module": "@jupyter-widgets/controls",
            "_model_module_version": "1.5.0",
            "_model_name": "HTMLModel",
            "_view_count": null,
            "_view_module": "@jupyter-widgets/controls",
            "_view_module_version": "1.5.0",
            "_view_name": "HTMLView",
            "description": "",
            "description_tooltip": null,
            "layout": "IPY_MODEL_473feced5cc541aca731271706e6eee8",
            "placeholder": "​",
            "style": "IPY_MODEL_87b62131d8f0431e99207e82ff938318",
            "value": " 591/2092 [07:29&lt;33:10,  1.33s/it]"
          }
        },
        "459351162a3d4f64adec80ed0c477e61": {
          "model_module": "@jupyter-widgets/controls",
          "model_module_version": "1.5.0",
          "model_name": "ProgressStyleModel",
          "state": {
            "_model_module": "@jupyter-widgets/controls",
            "_model_module_version": "1.5.0",
            "_model_name": "ProgressStyleModel",
            "_view_count": null,
            "_view_module": "@jupyter-widgets/base",
            "_view_module_version": "1.2.0",
            "_view_name": "StyleView",
            "bar_color": null,
            "description_width": ""
          }
        },
        "473feced5cc541aca731271706e6eee8": {
          "model_module": "@jupyter-widgets/base",
          "model_module_version": "1.2.0",
          "model_name": "LayoutModel",
          "state": {
            "_model_module": "@jupyter-widgets/base",
            "_model_module_version": "1.2.0",
            "_model_name": "LayoutModel",
            "_view_count": null,
            "_view_module": "@jupyter-widgets/base",
            "_view_module_version": "1.2.0",
            "_view_name": "LayoutView",
            "align_content": null,
            "align_items": null,
            "align_self": null,
            "border": null,
            "bottom": null,
            "display": null,
            "flex": null,
            "flex_flow": null,
            "grid_area": null,
            "grid_auto_columns": null,
            "grid_auto_flow": null,
            "grid_auto_rows": null,
            "grid_column": null,
            "grid_gap": null,
            "grid_row": null,
            "grid_template_areas": null,
            "grid_template_columns": null,
            "grid_template_rows": null,
            "height": null,
            "justify_content": null,
            "justify_items": null,
            "left": null,
            "margin": null,
            "max_height": null,
            "max_width": null,
            "min_height": null,
            "min_width": null,
            "object_fit": null,
            "object_position": null,
            "order": null,
            "overflow": null,
            "overflow_x": null,
            "overflow_y": null,
            "padding": null,
            "right": null,
            "top": null,
            "visibility": null,
            "width": null
          }
        },
        "51d4df17547c4fda97337337b383774f": {
          "model_module": "@jupyter-widgets/base",
          "model_module_version": "1.2.0",
          "model_name": "LayoutModel",
          "state": {
            "_model_module": "@jupyter-widgets/base",
            "_model_module_version": "1.2.0",
            "_model_name": "LayoutModel",
            "_view_count": null,
            "_view_module": "@jupyter-widgets/base",
            "_view_module_version": "1.2.0",
            "_view_name": "LayoutView",
            "align_content": null,
            "align_items": null,
            "align_self": null,
            "border": null,
            "bottom": null,
            "display": null,
            "flex": null,
            "flex_flow": null,
            "grid_area": null,
            "grid_auto_columns": null,
            "grid_auto_flow": null,
            "grid_auto_rows": null,
            "grid_column": null,
            "grid_gap": null,
            "grid_row": null,
            "grid_template_areas": null,
            "grid_template_columns": null,
            "grid_template_rows": null,
            "height": null,
            "justify_content": null,
            "justify_items": null,
            "left": null,
            "margin": null,
            "max_height": null,
            "max_width": null,
            "min_height": null,
            "min_width": null,
            "object_fit": null,
            "object_position": null,
            "order": null,
            "overflow": null,
            "overflow_x": null,
            "overflow_y": null,
            "padding": null,
            "right": null,
            "top": null,
            "visibility": null,
            "width": null
          }
        },
        "5c6f8f39cd4b4b0d9479b302a16b92f8": {
          "model_module": "@jupyter-widgets/controls",
          "model_module_version": "1.5.0",
          "model_name": "DescriptionStyleModel",
          "state": {
            "_model_module": "@jupyter-widgets/controls",
            "_model_module_version": "1.5.0",
            "_model_name": "DescriptionStyleModel",
            "_view_count": null,
            "_view_module": "@jupyter-widgets/base",
            "_view_module_version": "1.2.0",
            "_view_name": "StyleView",
            "description_width": ""
          }
        },
        "7b285b358b4c42b1aeacb39bc1889a3a": {
          "model_module": "@jupyter-widgets/controls",
          "model_module_version": "1.5.0",
          "model_name": "HTMLModel",
          "state": {
            "_dom_classes": [],
            "_model_module": "@jupyter-widgets/controls",
            "_model_module_version": "1.5.0",
            "_model_name": "HTMLModel",
            "_view_count": null,
            "_view_module": "@jupyter-widgets/controls",
            "_view_module_version": "1.5.0",
            "_view_name": "HTMLView",
            "description": "",
            "description_tooltip": null,
            "layout": "IPY_MODEL_eeba003744ac4f43bac1f591c2a8614b",
            "placeholder": "​",
            "style": "IPY_MODEL_5c6f8f39cd4b4b0d9479b302a16b92f8",
            "value": "⏳ Processing files:  28%"
          }
        },
        "87b62131d8f0431e99207e82ff938318": {
          "model_module": "@jupyter-widgets/controls",
          "model_module_version": "1.5.0",
          "model_name": "DescriptionStyleModel",
          "state": {
            "_model_module": "@jupyter-widgets/controls",
            "_model_module_version": "1.5.0",
            "_model_name": "DescriptionStyleModel",
            "_view_count": null,
            "_view_module": "@jupyter-widgets/base",
            "_view_module_version": "1.2.0",
            "_view_name": "StyleView",
            "description_width": ""
          }
        },
        "b8c03367235045b395c3f5ca6bcc747f": {
          "model_module": "@jupyter-widgets/controls",
          "model_module_version": "1.5.0",
          "model_name": "HBoxModel",
          "state": {
            "_dom_classes": [],
            "_model_module": "@jupyter-widgets/controls",
            "_model_module_version": "1.5.0",
            "_model_name": "HBoxModel",
            "_view_count": null,
            "_view_module": "@jupyter-widgets/controls",
            "_view_module_version": "1.5.0",
            "_view_name": "HBoxView",
            "box_style": "",
            "children": [
              "IPY_MODEL_7b285b358b4c42b1aeacb39bc1889a3a",
              "IPY_MODEL_1eb8bdade59e46fbbfbb6447cf46352b",
              "IPY_MODEL_2013b9cdfab14344a181b62acaa8d144"
            ],
            "layout": "IPY_MODEL_51d4df17547c4fda97337337b383774f"
          }
        },
        "eeba003744ac4f43bac1f591c2a8614b": {
          "model_module": "@jupyter-widgets/base",
          "model_module_version": "1.2.0",
          "model_name": "LayoutModel",
          "state": {
            "_model_module": "@jupyter-widgets/base",
            "_model_module_version": "1.2.0",
            "_model_name": "LayoutModel",
            "_view_count": null,
            "_view_module": "@jupyter-widgets/base",
            "_view_module_version": "1.2.0",
            "_view_name": "LayoutView",
            "align_content": null,
            "align_items": null,
            "align_self": null,
            "border": null,
            "bottom": null,
            "display": null,
            "flex": null,
            "flex_flow": null,
            "grid_area": null,
            "grid_auto_columns": null,
            "grid_auto_flow": null,
            "grid_auto_rows": null,
            "grid_column": null,
            "grid_gap": null,
            "grid_row": null,
            "grid_template_areas": null,
            "grid_template_columns": null,
            "grid_template_rows": null,
            "height": null,
            "justify_content": null,
            "justify_items": null,
            "left": null,
            "margin": null,
            "max_height": null,
            "max_width": null,
            "min_height": null,
            "min_width": null,
            "object_fit": null,
            "object_position": null,
            "order": null,
            "overflow": null,
            "overflow_x": null,
            "overflow_y": null,
            "padding": null,
            "right": null,
            "top": null,
            "visibility": null,
            "width": null
          }
        }
      }
    }
  },
  "nbformat": 4,
  "nbformat_minor": 0
}